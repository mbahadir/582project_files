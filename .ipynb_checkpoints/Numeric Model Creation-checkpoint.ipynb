{
 "cells": [
  {
   "cell_type": "markdown",
   "metadata": {},
   "source": [
    "# Submission Code"
   ]
  },
  {
   "cell_type": "code",
   "execution_count": 2,
   "metadata": {},
   "outputs": [],
   "source": [
    "# install the required packages first\n",
    "require(jsonlite)\n",
    "require(httr)\n",
    "require(data.table)\n",
    "\n",
    "get_token <- function(username, password, url_site){\n",
    "    \n",
    "    post_body = list(username=username,password=password)\n",
    "    post_url_string = paste0(url_site,'/token/')\n",
    "    result = POST(post_url_string, body = post_body)\n",
    "\n",
    "    # error handling (wrong credentials)\n",
    "    if(result$status_code==400){\n",
    "        print('Check your credentials')\n",
    "        return(0)\n",
    "    }\n",
    "    else if (result$status_code==201){\n",
    "        output = content(result)\n",
    "        token = output$key\n",
    "    }\n",
    "\n",
    "    return(token)\n",
    "}\n",
    "\n",
    "\n",
    "\n",
    "send_submission <- function(predictions, token, url_site, submit_now=F){\n",
    "    \n",
    "    format_check=check_format(predictions)\n",
    "    if(!format_check){\n",
    "        return(FALSE)\n",
    "    }\n",
    "    \n",
    "    post_string=\"list(\"\n",
    "    for(i in 1:length(predictions)){\n",
    "        if(i<length(predictions)){\n",
    "            post_string=sprintf(\"%s%s,\",post_string,predictions[i])\n",
    "        } else {\n",
    "            post_string=sprintf(\"%s%s)\",post_string,predictions[i])\n",
    "        }\n",
    "    }\n",
    "    \n",
    "    submission = eval(parse(text=post_string))\n",
    "    json_body = jsonlite::toJSON(submission, auto_unbox = TRUE)\n",
    "    submission=list(submission=json_body)\n",
    "    print(submission)\n",
    "\n",
    "    if(!submit_now){\n",
    "        print(\"You did not submit.\")\n",
    "        return(FALSE)      \n",
    "    }\n",
    "    \n",
    "\n",
    "    header = add_headers(c(Authorization=paste('Token',token,sep=' ')))\n",
    "    post_url_string = paste0(url_site,'/submission/')\n",
    "    result = POST(post_url_string, header, body=submission)\n",
    "    \n",
    "    if (result$status_code==201){\n",
    "        print(\"Successfully submitted. Below you can see the details of your submission\")\n",
    "    } else {\n",
    "        print(\"Could not submit. Please check the error message below, contact the assistant if needed.\")\n",
    "    }\n",
    "    \n",
    "    print(content(result))\n",
    "    \n",
    "}\n",
    "\n",
    "check_format <- function(predictions){\n",
    "    \n",
    "    if(all(is.numeric(predictions)) & all(predictions<=1)){\n",
    "        print(\"Format OK\")\n",
    "        return(TRUE)\n",
    "    } else {\n",
    "        print(\"Wrong format\")\n",
    "        return(FALSE)\n",
    "    }\n",
    "    \n",
    "}\n",
    "\n",
    "# this part is main code\n",
    "subm_url = 'http://46.101.121.83'\n",
    "\n",
    "u_name = \"Miners\"\n",
    "p_word = \"NsY7hhlU9zjl8DH3\"\n",
    "submit_now = TRUE\n",
    "\n",
    "username = u_name\n",
    "password = p_word\n",
    "\n",
    "token = get_token(username=u_name, password=p_word, url=subm_url)\n",
    "# this part is where you need to provide your prediction method/function or set of R codes\n"
   ]
  },
  {
   "cell_type": "markdown",
   "metadata": {},
   "source": [
    "# Model"
   ]
  },
  {
   "cell_type": "code",
   "execution_count": 4,
   "metadata": {},
   "outputs": [],
   "source": [
    "library(ggplot2)\n",
    "library(dplyr)\n",
    "library(tidyverse)\n",
    "library(Information)\n",
    "library(FactoMineR)\n",
    "library(caTools)"
   ]
  },
  {
   "cell_type": "code",
   "execution_count": 5,
   "metadata": {},
   "outputs": [],
   "source": [
    "TrainData<-read.csv(\"IE582_Fall20_ProjectTrain.csv\")\n",
    "\n",
    "TrainData<-TrainData[,-c(50,52)]"
   ]
  },
  {
   "cell_type": "code",
   "execution_count": 6,
   "metadata": {},
   "outputs": [],
   "source": [
    "TrainData$y=as.numeric(TrainData$y)-1"
   ]
  },
  {
   "cell_type": "code",
   "execution_count": 7,
   "metadata": {},
   "outputs": [
    {
     "name": "stdout",
     "output_type": "stream",
     "text": [
      "'data.frame':\t1659 obs. of  59 variables:\n",
      " $ x1 : int  27 30 37 33 33 29 27 28 27 29 ...\n",
      " $ x2 : int  1 0 0 1 0 1 1 1 0 1 ...\n",
      " $ x3 : int  1 1 1 1 0 0 1 1 1 0 ...\n",
      " $ x4 : int  1 1 1 0 1 1 1 1 0 0 ...\n",
      " $ x5 : int  18 18 1 2 5 16 13 0 8 3 ...\n",
      " $ x6 : int  3 13 3 15 5 1 4 0 18 14 ...\n",
      " $ x7 : int  1 3 14 12 12 2 17 2 18 1 ...\n",
      " $ x8 : int  28 19 33 39 26 24 34 40 26 24 ...\n",
      " $ x9 : num  119.9 86.7 174 55 144.7 ...\n",
      " $ x10: num  154 133 128 188 151 ...\n",
      " $ x11: num  121.4 129 100.2 156.6 57.7 ...\n",
      " $ x12: int  1 0 0 1 0 0 0 0 1 0 ...\n",
      " $ x13: int  0 0 0 0 0 0 0 0 0 0 ...\n",
      " $ x14: int  404 303 454 404 404 404 30 202 404 454 ...\n",
      " $ x15: int  1 1 1 0 1 0 1 1 1 1 ...\n",
      " $ x16: int  0 0 0 0 0 0 0 1 0 0 ...\n",
      " $ x17: int  0 0 0 0 0 0 0 0 0 0 ...\n",
      " $ x18: int  0 0 0 0 0 0 0 0 0 0 ...\n",
      " $ x19: int  0 0 0 0 0 0 0 0 0 0 ...\n",
      " $ x20: int  0 0 0 0 0 0 0 0 0 0 ...\n",
      " $ x21: int  0 0 0 0 0 0 0 0 0 0 ...\n",
      " $ x22: int  0 1 0 0 0 0 0 0 0 0 ...\n",
      " $ x23: int  1 1 1 1 0 1 0 0 0 1 ...\n",
      " $ x24: int  0 0 0 0 0 0 1 1 0 0 ...\n",
      " $ x25: int  0 0 0 0 1 0 0 0 0 0 ...\n",
      " $ x26: int  0 0 0 1 0 0 0 0 0 0 ...\n",
      " $ x27: int  115 129 173 220 173 103 102 99 112 142 ...\n",
      " $ x28: int  0 0 0 0 0 1 0 0 0 0 ...\n",
      " $ x29: int  0 0 0 0 0 0 0 0 0 0 ...\n",
      " $ x30: int  562 624 562 562 812 812 375 187 624 687 ...\n",
      " $ x31: int  0 0 0 0 0 0 0 0 0 0 ...\n",
      " $ x32: int  389 266 411 289 255 466 200 910 244 611 ...\n",
      " $ x33: int  0 0 0 0 0 0 0 0 0 0 ...\n",
      " $ x34: int  0 0 1 1 0 0 0 0 0 0 ...\n",
      " $ x35: int  0 0 0 0 0 0 0 0 0 0 ...\n",
      " $ x36: int  0 0 0 0 512 0 0 0 0 0 ...\n",
      " $ x37: int  0 0 0 0 0 0 0 0 0 0 ...\n",
      " $ x38: int  0 0 0 0 0 0 0 0 0 0 ...\n",
      " $ x39: int  0 0 0 0 0 0 0 0 0 0 ...\n",
      " $ x40: int  0 0 0 0 0 0 0 0 1 0 ...\n",
      " $ x41: int  1 1 0 1 0 1 1 1 1 1 ...\n",
      " $ x42: int  0 0 0 0 0 0 0 0 0 0 ...\n",
      " $ x43: int  0 0 0 0 0 0 0 1 0 0 ...\n",
      " $ x44: int  1 1 1 1 1 1 0 1 1 1 ...\n",
      " $ x45: int  1 0 0 0 0 0 0 0 0 1 ...\n",
      " $ x46: int  0 0 0 0 0 0 0 0 0 0 ...\n",
      " $ x47: int  0 0 0 0 0 1 0 0 0 0 ...\n",
      " $ x48: int  0 0 0 0 0 0 0 0 0 0 ...\n",
      " $ x49: int  0 0 0 0 0 0 0 0 0 0 ...\n",
      " $ x51: int  0 0 1 0 0 0 0 0 0 0 ...\n",
      " $ x53: int  0 0 1 0 1 0 0 0 0 0 ...\n",
      " $ x54: int  0 0 0 0 1 0 1 0 1 0 ...\n",
      " $ x55: int  0 0 0 0 0 0 0 0 0 0 ...\n",
      " $ x56: int  1 1 1 1 0 1 0 0 0 1 ...\n",
      " $ x57: int  0 0 0 0 0 0 0 0 0 0 ...\n",
      " $ x58: int  0 0 0 0 1 0 1 0 1 0 ...\n",
      " $ x59: int  0 0 0 0 0 0 0 0 0 0 ...\n",
      " $ x60: int  0 0 0 0 0 0 0 0 0 0 ...\n",
      " $ y  : num  0 0 1 0 1 1 0 0 0 0 ...\n"
     ]
    }
   ],
   "source": [
    "spl=sample.split(TrainData$y, SplitRatio = 0.8)\n",
    "train=subset(TrainData,spl==TRUE)\n",
    "test=subset(TrainData,spl==FALSE)\n",
    "str(train)"
   ]
  },
  {
   "cell_type": "markdown",
   "metadata": {},
   "source": [
    "### Performance Function"
   ]
  },
  {
   "cell_type": "code",
   "execution_count": 8,
   "metadata": {},
   "outputs": [],
   "source": [
    "perf_dt=function(type,actual,forecast){\n",
    "    name=type\n",
    "    n=length(actual)\n",
    "    error=actual-forecast\n",
    "    mean=mean(actual)\n",
    "    sd=sd(actual)\n",
    "    FBias=sum(error)/sum(actual)\n",
    "    MPE=sum(error/actual)/n\n",
    "    MAPE=sum(abs(error/actual))/n\n",
    "    RMSE=sqrt(sum(error^2))/n\n",
    "    MAD=sum(abs(error))/n\n",
    "    WMAPE=MAD/mean\n",
    "    l=data.frame(name,n,mean,sd,FBias,MAPE,RMSE,MAD,WMAPE)\n",
    "    return(l)\n",
    "}"
   ]
  },
  {
   "cell_type": "markdown",
   "metadata": {},
   "source": [
    "# Prediction & Control with Train Dataset"
   ]
  },
  {
   "cell_type": "code",
   "execution_count": 9,
   "metadata": {},
   "outputs": [],
   "source": [
    "library(caret)\n",
    "library(e1071)"
   ]
  },
  {
   "cell_type": "code",
   "execution_count": 10,
   "metadata": {},
   "outputs": [],
   "source": [
    "fitControl=trainControl(method = \"repeatedcv\",\n",
    "                           number = 10)"
   ]
  },
  {
   "cell_type": "code",
   "execution_count": 11,
   "metadata": {},
   "outputs": [],
   "source": [
    "gbmGrid=expand.grid(interaction.depth = c(1, 3, 5), \n",
    "                        n.trees = (1:5)*25, \n",
    "                        shrinkage = c(0.1, 0.3, 0.5),\n",
    "                        n.minobsinnode = 20)"
   ]
  },
  {
   "cell_type": "code",
   "execution_count": 13,
   "metadata": {
    "scrolled": true
   },
   "outputs": [
    {
     "name": "stderr",
     "output_type": "stream",
     "text": [
      "Warning message in train.default(x, y, weights = w, ...):\n",
      "\"You are trying to do regression and your outcome only has two possible values Are you trying to do classification? If so, use a 2 level factor as your outcome column.\"Warning message in (function (x, y, offset = NULL, misc = NULL, distribution = \"bernoulli\", :\n",
      "\"variable 37: x37 has no variation.\"Warning message in (function (x, y, offset = NULL, misc = NULL, distribution = \"bernoulli\", :\n",
      "\"variable 37: x37 has no variation.\"Warning message in (function (x, y, offset = NULL, misc = NULL, distribution = \"bernoulli\", :\n",
      "\"variable 37: x37 has no variation.\"Warning message in (function (x, y, offset = NULL, misc = NULL, distribution = \"bernoulli\", :\n",
      "\"variable 37: x37 has no variation.\"Warning message in (function (x, y, offset = NULL, misc = NULL, distribution = \"bernoulli\", :\n",
      "\"variable 37: x37 has no variation.\"Warning message in (function (x, y, offset = NULL, misc = NULL, distribution = \"bernoulli\", :\n",
      "\"variable 37: x37 has no variation.\"Warning message in (function (x, y, offset = NULL, misc = NULL, distribution = \"bernoulli\", :\n",
      "\"variable 37: x37 has no variation.\"Warning message in (function (x, y, offset = NULL, misc = NULL, distribution = \"bernoulli\", :\n",
      "\"variable 37: x37 has no variation.\"Warning message in (function (x, y, offset = NULL, misc = NULL, distribution = \"bernoulli\", :\n",
      "\"variable 37: x37 has no variation.\""
     ]
    },
    {
     "data": {
      "text/plain": [
       "Stochastic Gradient Boosting \n",
       "\n",
       "1659 samples\n",
       "  58 predictor\n",
       "\n",
       "No pre-processing\n",
       "Resampling: Cross-Validated (10 fold, repeated 1 times) \n",
       "Summary of sample sizes: 1493, 1493, 1493, 1493, 1493, 1493, ... \n",
       "Resampling results across tuning parameters:\n",
       "\n",
       "  shrinkage  interaction.depth  n.trees  RMSE       Rsquared   MAE      \n",
       "  0.1        1                   25      0.3631635  0.3348576  0.2918203\n",
       "  0.1        1                   50      0.3490925  0.3555248  0.2660736\n",
       "  0.1        1                   75      0.3462647  0.3604126  0.2631520\n",
       "  0.1        1                  100      0.3439776  0.3650268  0.2619948\n",
       "  0.1        1                  125      0.3432441  0.3669014  0.2619235\n",
       "  0.1        3                   25      0.3447244  0.3749143  0.2590548\n",
       "  0.1        3                   50      0.3393189  0.3819554  0.2456946\n",
       "  0.1        3                   75      0.3390448  0.3818354  0.2451722\n",
       "  0.1        3                  100      0.3406929  0.3761213  0.2471882\n",
       "  0.1        3                  125      0.3419759  0.3718779  0.2479881\n",
       "  0.1        5                   25      0.3416591  0.3794287  0.2505057\n",
       "  0.1        5                   50      0.3383468  0.3842879  0.2398347\n",
       "  0.1        5                   75      0.3374676  0.3883143  0.2398858\n",
       "  0.1        5                  100      0.3382146  0.3867302  0.2413554\n",
       "  0.1        5                  125      0.3399147  0.3812733  0.2434366\n",
       "  0.3        1                   25      0.3461037  0.3600849  0.2631034\n",
       "  0.3        1                   50      0.3463668  0.3552624  0.2653857\n",
       "  0.3        1                   75      0.3468682  0.3542172  0.2668017\n",
       "  0.3        1                  100      0.3471504  0.3522264  0.2681251\n",
       "  0.3        1                  125      0.3475023  0.3513175  0.2693615\n",
       "  0.3        3                   25      0.3420303  0.3703055  0.2483260\n",
       "  0.3        3                   50      0.3465748  0.3589851  0.2545235\n",
       "  0.3        3                   75      0.3518467  0.3441253  0.2589199\n",
       "  0.3        3                  100      0.3536353  0.3411404  0.2620317\n",
       "  0.3        3                  125      0.3567144  0.3342076  0.2638140\n",
       "  0.3        5                   25      0.3463358  0.3604352  0.2485847\n",
       "  0.3        5                   50      0.3534424  0.3414743  0.2554526\n",
       "  0.3        5                   75      0.3578040  0.3314733  0.2605938\n",
       "  0.3        5                  100      0.3613151  0.3262016  0.2632598\n",
       "  0.3        5                  125      0.3656297  0.3159819  0.2678087\n",
       "  0.5        1                   25      0.3484784  0.3465200  0.2677390\n",
       "  0.5        1                   50      0.3500981  0.3434759  0.2710750\n",
       "  0.5        1                   75      0.3514102  0.3394483  0.2721638\n",
       "  0.5        1                  100      0.3535143  0.3340063  0.2751330\n",
       "  0.5        1                  125      0.3538254  0.3334411  0.2757865\n",
       "  0.5        3                   25      0.3524712  0.3419767  0.2598116\n",
       "  0.5        3                   50      0.3612574  0.3259990  0.2704582\n",
       "  0.5        3                   75      0.3667053  0.3137484  0.2758297\n",
       "  0.5        3                  100      0.3753197  0.2974183  0.2843748\n",
       "  0.5        3                  125      0.3825653  0.2821478  0.2899812\n",
       "  0.5        5                   25      0.3608176  0.3277306  0.2671695\n",
       "  0.5        5                   50      0.3782630  0.2878383  0.2854115\n",
       "  0.5        5                   75      0.3897097  0.2663062  0.2943783\n",
       "  0.5        5                  100      0.3964512  0.2571456  0.2999894\n",
       "  0.5        5                  125      0.4077224  0.2398859  0.3115911\n",
       "\n",
       "Tuning parameter 'n.minobsinnode' was held constant at a value of 20\n",
       "RMSE was used to select the optimal model using the smallest value.\n",
       "The final values used for the model were n.trees = 75, interaction.depth =\n",
       " 5, shrinkage = 0.1 and n.minobsinnode = 20."
      ]
     },
     "metadata": {},
     "output_type": "display_data"
    },
    {
     "data": {
      "image/png": "[encoded data removed]",
      "text/plain": [
       "plot without title"
      ]
     },
     "metadata": {},
     "output_type": "display_data"
    }
   ],
   "source": [
    "gbm_fit=train(y ~ .-x57, data = train, \n",
    "                 method = \"gbm\", \n",
    "                 trControl = fitControl,  \n",
    "                 tuneGrid = gbmGrid,\n",
    "                 verbose=F)\n",
    "\n",
    "gbm_fit\n",
    "plot(gbm_fit)"
   ]
  },
  {
   "cell_type": "code",
   "execution_count": 14,
   "metadata": {},
   "outputs": [],
   "source": [
    "predictions_train=predict(gbm_fit,test)"
   ]
  },
  {
   "cell_type": "code",
   "execution_count": 16,
   "metadata": {},
   "outputs": [
    {
     "data": {
      "text/html": [
       "415"
      ],
      "text/latex": [
       "415"
      ],
      "text/markdown": [
       "415"
      ],
      "text/plain": [
       "[1] 415"
      ]
     },
     "metadata": {},
     "output_type": "display_data"
    }
   ],
   "source": [
    "length(predictions_train)"
   ]
  },
  {
   "cell_type": "code",
   "execution_count": 17,
   "metadata": {
    "scrolled": true
   },
   "outputs": [
    {
     "data": {
      "text/html": [
       "<table>\n",
       "<thead><tr><th scope=col>name</th><th scope=col>n</th><th scope=col>mean</th><th scope=col>sd</th><th scope=col>FBias</th><th scope=col>MAPE</th><th scope=col>RMSE</th><th scope=col>MAD</th><th scope=col>WMAPE</th></tr></thead>\n",
       "<tbody>\n",
       "\t<tr><td>Performance Measure</td><td>415                </td><td>0.2474569          </td><td>0.2904989          </td><td>0.006763794        </td><td>1.215049           </td><td>0.01606674         </td><td>0.2321444          </td><td>0.9381206          </td></tr>\n",
       "</tbody>\n",
       "</table>\n"
      ],
      "text/latex": [
       "\\begin{tabular}{r|lllllllll}\n",
       " name & n & mean & sd & FBias & MAPE & RMSE & MAD & WMAPE\\\\\n",
       "\\hline\n",
       "\t Performance Measure & 415                 & 0.2474569           & 0.2904989           & 0.006763794         & 1.215049            & 0.01606674          & 0.2321444           & 0.9381206          \\\\\n",
       "\\end{tabular}\n"
      ],
      "text/markdown": [
       "\n",
       "| name | n | mean | sd | FBias | MAPE | RMSE | MAD | WMAPE |\n",
       "|---|---|---|---|---|---|---|---|---|\n",
       "| Performance Measure | 415                 | 0.2474569           | 0.2904989           | 0.006763794         | 1.215049            | 0.01606674          | 0.2321444           | 0.9381206           |\n",
       "\n"
      ],
      "text/plain": [
       "  name                n   mean      sd        FBias       MAPE     RMSE      \n",
       "1 Performance Measure 415 0.2474569 0.2904989 0.006763794 1.215049 0.01606674\n",
       "  MAD       WMAPE    \n",
       "1 0.2321444 0.9381206"
      ]
     },
     "metadata": {},
     "output_type": "display_data"
    }
   ],
   "source": [
    "perf_dt(\"Performance Measure\", as.numeric(predictions_train), as.numeric(test$y))"
   ]
  },
  {
   "cell_type": "markdown",
   "metadata": {},
   "source": [
    "# Final Model"
   ]
  },
  {
   "cell_type": "code",
   "execution_count": 18,
   "metadata": {},
   "outputs": [],
   "source": [
    "final_test=read.csv(\"IE582_Fall20_ProjectTest.csv\")\n",
    "\n",
    "final_test<-final_test[,-c(50,52)]"
   ]
  },
  {
   "cell_type": "code",
   "execution_count": 19,
   "metadata": {},
   "outputs": [
    {
     "name": "stderr",
     "output_type": "stream",
     "text": [
      "Warning message in train.default(x, y, weights = w, ...):\n",
      "\"You are trying to do regression and your outcome only has two possible values Are you trying to do classification? If so, use a 2 level factor as your outcome column.\""
     ]
    },
    {
     "data": {
      "text/plain": [
       "Stochastic Gradient Boosting \n",
       "\n",
       "2074 samples\n",
       "  58 predictor\n",
       "\n",
       "No pre-processing\n",
       "Resampling: Cross-Validated (10 fold, repeated 1 times) \n",
       "Summary of sample sizes: 1867, 1867, 1867, 1867, 1866, 1866, ... \n",
       "Resampling results across tuning parameters:\n",
       "\n",
       "  shrinkage  interaction.depth  n.trees  RMSE       Rsquared   MAE      \n",
       "  0.1        1                   25      0.3611998  0.3355793  0.2893274\n",
       "  0.1        1                   50      0.3477126  0.3570390  0.2641263\n",
       "  0.1        1                   75      0.3440242  0.3636919  0.2609666\n",
       "  0.1        1                  100      0.3428839  0.3660510  0.2607485\n",
       "  0.1        1                  125      0.3419912  0.3681401  0.2604385\n",
       "  0.1        3                   25      0.3417630  0.3839875  0.2567630\n",
       "  0.1        3                   50      0.3355875  0.3928565  0.2415857\n",
       "  0.1        3                   75      0.3354655  0.3924780  0.2413285\n",
       "  0.1        3                  100      0.3359547  0.3904799  0.2423320\n",
       "  0.1        3                  125      0.3362329  0.3891073  0.2427290\n",
       "  0.1        5                   25      0.3394395  0.3856862  0.2486939\n",
       "  0.1        5                   50      0.3356289  0.3915204  0.2372208\n",
       "  0.1        5                   75      0.3351580  0.3920050  0.2363791\n",
       "  0.1        5                  100      0.3358800  0.3899632  0.2382159\n",
       "  0.1        5                  125      0.3377058  0.3839507  0.2400676\n",
       "  0.3        1                   25      0.3458234  0.3563044  0.2615419\n",
       "  0.3        1                   50      0.3442248  0.3582754  0.2623470\n",
       "  0.3        1                   75      0.3451973  0.3558059  0.2648915\n",
       "  0.3        1                  100      0.3462275  0.3529541  0.2657592\n",
       "  0.3        1                  125      0.3464691  0.3526209  0.2660333\n",
       "  0.3        3                   25      0.3399469  0.3747598  0.2447118\n",
       "  0.3        3                   50      0.3451000  0.3590177  0.2503279\n",
       "  0.3        3                   75      0.3490701  0.3470725  0.2558690\n",
       "  0.3        3                  100      0.3514990  0.3408197  0.2563268\n",
       "  0.3        3                  125      0.3534605  0.3374734  0.2584621\n",
       "  0.3        5                   25      0.3456886  0.3567319  0.2459545\n",
       "  0.3        5                   50      0.3502900  0.3455189  0.2531915\n",
       "  0.3        5                   75      0.3565113  0.3288848  0.2605499\n",
       "  0.3        5                  100      0.3572409  0.3304780  0.2618211\n",
       "  0.3        5                  125      0.3624569  0.3173086  0.2673030\n",
       "  0.5        1                   25      0.3446670  0.3572821  0.2639537\n",
       "  0.5        1                   50      0.3477724  0.3497736  0.2696108\n",
       "  0.5        1                   75      0.3480362  0.3474035  0.2683977\n",
       "  0.5        1                  100      0.3477776  0.3495839  0.2696749\n",
       "  0.5        1                  125      0.3477615  0.3488862  0.2695368\n",
       "  0.5        3                   25      0.3504340  0.3451557  0.2540226\n",
       "  0.5        3                   50      0.3633772  0.3133742  0.2634341\n",
       "  0.5        3                   75      0.3685225  0.3015815  0.2698758\n",
       "  0.5        3                  100      0.3750803  0.2952184  0.2753091\n",
       "  0.5        3                  125      0.3778752  0.2916297  0.2794301\n",
       "  0.5        5                   25      0.3533117  0.3459739  0.2550764\n",
       "  0.5        5                   50      0.3683932  0.3075971  0.2709009\n",
       "  0.5        5                   75      0.3830629  0.2777656  0.2838736\n",
       "  0.5        5                  100      0.3930753  0.2610830  0.2926190\n",
       "  0.5        5                  125      0.3991139  0.2522272  0.2993083\n",
       "\n",
       "Tuning parameter 'n.minobsinnode' was held constant at a value of 20\n",
       "RMSE was used to select the optimal model using the smallest value.\n",
       "The final values used for the model were n.trees = 75, interaction.depth =\n",
       " 5, shrinkage = 0.1 and n.minobsinnode = 20."
      ]
     },
     "metadata": {},
     "output_type": "display_data"
    },
    {
     "data": {
      "image/png": "[encoded data removed]",
      "text/plain": [
       "plot without title"
      ]
     },
     "metadata": {},
     "output_type": "display_data"
    }
   ],
   "source": [
    "gbm_fit=train(y ~ .-x37, data = TrainData, \n",
    "                 method = \"gbm\", \n",
    "                 trControl = fitControl,  \n",
    "                 tuneGrid = gbmGrid,\n",
    "                 verbose=F)\n",
    "\n",
    "gbm_fit\n",
    "plot(gbm_fit)"
   ]
  },
  {
   "cell_type": "code",
   "execution_count": 20,
   "metadata": {},
   "outputs": [],
   "source": [
    "final_prediction=predict(gbm_fit,final_test)"
   ]
  },
  {
   "cell_type": "markdown",
   "metadata": {},
   "source": [
    "# Random Forest"
   ]
  },
  {
   "cell_type": "code",
   "execution_count": 21,
   "metadata": {},
   "outputs": [
    {
     "name": "stderr",
     "output_type": "stream",
     "text": [
      "Warning message:\n",
      "\"package 'randomForest' was built under R version 3.6.3\"randomForest 4.6-14\n",
      "Type rfNews() to see new features/changes/bug fixes.\n",
      "\n",
      "Attaching package: 'randomForest'\n",
      "\n",
      "The following object is masked from 'package:dplyr':\n",
      "\n",
      "    combine\n",
      "\n",
      "The following object is masked from 'package:ggplot2':\n",
      "\n",
      "    margin\n",
      "\n"
     ]
    }
   ],
   "source": [
    "library(randomForest)"
   ]
  },
  {
   "cell_type": "code",
   "execution_count": 20,
   "metadata": {},
   "outputs": [
    {
     "name": "stderr",
     "output_type": "stream",
     "text": [
      "Warning message in randomForest.default(m, y, ...):\n",
      "\"The response has five or fewer unique values.  Are you sure you want to do regression?\""
     ]
    },
    {
     "data": {
      "text/plain": [
       "\n",
       "Call:\n",
       " randomForest(formula = y ~ ., data = train, ntree = 500, nodesize = 20) \n",
       "               Type of random forest: regression\n",
       "                     Number of trees: 500\n",
       "No. of variables tried at each split: 19\n",
       "\n",
       "          Mean of squared residuals: 0.1161138\n",
       "                    % Var explained: 37.28"
      ]
     },
     "metadata": {},
     "output_type": "display_data"
    }
   ],
   "source": [
    "random_forest=randomForest(y~.,data=train,ntree=500,nodesize=20)\n",
    "random_forest"
   ]
  },
  {
   "cell_type": "code",
   "execution_count": 21,
   "metadata": {},
   "outputs": [],
   "source": [
    "PredictRandomForest=predict(random_forest,newdata=test)"
   ]
  },
  {
   "cell_type": "code",
   "execution_count": 22,
   "metadata": {},
   "outputs": [
    {
     "data": {
      "text/html": [
       "<table>\n",
       "<thead><tr><th scope=col>name</th><th scope=col>n</th><th scope=col>mean</th><th scope=col>sd</th><th scope=col>FBias</th><th scope=col>MAPE</th><th scope=col>RMSE</th><th scope=col>MAD</th><th scope=col>WMAPE</th></tr></thead>\n",
       "<tbody>\n",
       "\t<tr><td>Random Forest</td><td>415          </td><td>0.2457831    </td><td>0.4310702    </td><td>-0.01785097  </td><td>Inf          </td><td>0.01662572   </td><td>0.2378666    </td><td>0.9677904    </td></tr>\n",
       "</tbody>\n",
       "</table>\n"
      ],
      "text/latex": [
       "\\begin{tabular}{r|lllllllll}\n",
       " name & n & mean & sd & FBias & MAPE & RMSE & MAD & WMAPE\\\\\n",
       "\\hline\n",
       "\t Random Forest & 415           & 0.2457831     & 0.4310702     & -0.01785097   & Inf           & 0.01662572    & 0.2378666     & 0.9677904    \\\\\n",
       "\\end{tabular}\n"
      ],
      "text/markdown": [
       "\n",
       "| name | n | mean | sd | FBias | MAPE | RMSE | MAD | WMAPE |\n",
       "|---|---|---|---|---|---|---|---|---|\n",
       "| Random Forest | 415           | 0.2457831     | 0.4310702     | -0.01785097   | Inf           | 0.01662572    | 0.2378666     | 0.9677904     |\n",
       "\n"
      ],
      "text/plain": [
       "  name          n   mean      sd        FBias       MAPE RMSE       MAD      \n",
       "1 Random Forest 415 0.2457831 0.4310702 -0.01785097 Inf  0.01662572 0.2378666\n",
       "  WMAPE    \n",
       "1 0.9677904"
      ]
     },
     "metadata": {},
     "output_type": "display_data"
    }
   ],
   "source": [
    "perf_dt(\"Random Forest\",as.numeric(test$y),as.numeric(PredictRandomForest))"
   ]
  },
  {
   "cell_type": "code",
   "execution_count": 22,
   "metadata": {},
   "outputs": [
    {
     "name": "stderr",
     "output_type": "stream",
     "text": [
      "Warning message in randomForest.default(m, y, ...):\n",
      "\"The response has five or fewer unique values.  Are you sure you want to do regression?\""
     ]
    },
    {
     "data": {
      "text/plain": [
       "\n",
       "Call:\n",
       " randomForest(formula = y ~ ., data = TrainData, ntree = 500,      nodesize = 20) \n",
       "               Type of random forest: regression\n",
       "                     Number of trees: 500\n",
       "No. of variables tried at each split: 19\n",
       "\n",
       "          Mean of squared residuals: 0.1135454\n",
       "                    % Var explained: 38.69"
      ]
     },
     "metadata": {},
     "output_type": "display_data"
    }
   ],
   "source": [
    "random_forest_final=randomForest(y~.,data=TrainData,ntree=500,nodesize=20)\n",
    "random_forest_final"
   ]
  },
  {
   "cell_type": "code",
   "execution_count": 23,
   "metadata": {},
   "outputs": [],
   "source": [
    "predictions_rf_final=predict(random_forest_final,final_test)"
   ]
  },
  {
   "cell_type": "markdown",
   "metadata": {},
   "source": [
    "# Penalized Version"
   ]
  },
  {
   "cell_type": "code",
   "execution_count": 24,
   "metadata": {},
   "outputs": [
    {
     "name": "stderr",
     "output_type": "stream",
     "text": [
      "Warning message:\n",
      "\"package 'GGally' was built under R version 3.6.3\"Registered S3 method overwritten by 'GGally':\n",
      "  method from   \n",
      "  +.gg   ggplot2\n",
      "Warning message:\n",
      "\"package 'rattle' was built under R version 3.6.3\"Loading required package: bitops\n",
      "Rattle: A free graphical interface for data science with R.\n",
      "Version 5.4.0 Copyright (c) 2006-2020 Togaware Pty Ltd.\n",
      "Type 'rattle()' to shake, rattle, and roll your data.\n",
      "\n",
      "Attaching package: 'rattle'\n",
      "\n",
      "The following object is masked from 'package:randomForest':\n",
      "\n",
      "    importance\n",
      "\n"
     ]
    }
   ],
   "source": [
    "library(rpart)\n",
    "library(GGally, quietly=TRUE)\n",
    "library(rattle)"
   ]
  },
  {
   "cell_type": "code",
   "execution_count": 25,
   "metadata": {},
   "outputs": [
    {
     "data": {
      "text/html": [
       "<table>\n",
       "<tbody>\n",
       "\t<tr><td>0  </td><td>1.5</td></tr>\n",
       "\t<tr><td>3  </td><td>0.0</td></tr>\n",
       "</tbody>\n",
       "</table>\n"
      ],
      "text/latex": [
       "\\begin{tabular}{ll}\n",
       "\t 0   & 1.5\\\\\n",
       "\t 3   & 0.0\\\\\n",
       "\\end{tabular}\n"
      ],
      "text/markdown": [
       "\n",
       "| 0   | 1.5 |\n",
       "| 3   | 0.0 |\n",
       "\n"
      ],
      "text/plain": [
       "     [,1] [,2]\n",
       "[1,] 0    1.5 \n",
       "[2,] 3    0.0 "
      ]
     },
     "metadata": {},
     "output_type": "display_data"
    }
   ],
   "source": [
    "PenaltyMatrix = matrix(c(0,1.5,3,0), byrow=TRUE, nrow=2)\n",
    "PenaltyMatrix"
   ]
  },
  {
   "cell_type": "code",
   "execution_count": 26,
   "metadata": {},
   "outputs": [
    {
     "data": {
      "text/html": [
       "<dl class=dl-horizontal>\n",
       "\t<dt>x23</dt>\n",
       "\t\t<dd>55.7636433503025</dd>\n",
       "\t<dt>x56</dt>\n",
       "\t\t<dd>49.3053384541902</dd>\n",
       "\t<dt>x54</dt>\n",
       "\t\t<dd>33.1248541445757</dd>\n",
       "\t<dt>x30</dt>\n",
       "\t\t<dd>25.2871779917849</dd>\n",
       "\t<dt>x17</dt>\n",
       "\t\t<dd>23.8887837017485</dd>\n",
       "\t<dt>x42</dt>\n",
       "\t\t<dd>23.2796369039288</dd>\n",
       "\t<dt>x44</dt>\n",
       "\t\t<dd>19.3749146883367</dd>\n",
       "\t<dt>x32</dt>\n",
       "\t\t<dd>18.3771626217501</dd>\n",
       "\t<dt>x48</dt>\n",
       "\t\t<dd>7.61240306327089</dd>\n",
       "\t<dt>x36</dt>\n",
       "\t\t<dd>7.30047718863267</dd>\n",
       "\t<dt>x38</dt>\n",
       "\t\t<dd>1.39998217255556</dd>\n",
       "\t<dt>x35</dt>\n",
       "\t\t<dd>1.13748551520139</dd>\n",
       "\t<dt>x19</dt>\n",
       "\t\t<dd>0.874988857847232</dd>\n",
       "</dl>\n"
      ],
      "text/latex": [
       "\\begin{description*}\n",
       "\\item[x23] 55.7636433503025\n",
       "\\item[x56] 49.3053384541902\n",
       "\\item[x54] 33.1248541445757\n",
       "\\item[x30] 25.2871779917849\n",
       "\\item[x17] 23.8887837017485\n",
       "\\item[x42] 23.2796369039288\n",
       "\\item[x44] 19.3749146883367\n",
       "\\item[x32] 18.3771626217501\n",
       "\\item[x48] 7.61240306327089\n",
       "\\item[x36] 7.30047718863267\n",
       "\\item[x38] 1.39998217255556\n",
       "\\item[x35] 1.13748551520139\n",
       "\\item[x19] 0.874988857847232\n",
       "\\end{description*}\n"
      ],
      "text/markdown": [
       "x23\n",
       ":   55.7636433503025x56\n",
       ":   49.3053384541902x54\n",
       ":   33.1248541445757x30\n",
       ":   25.2871779917849x17\n",
       ":   23.8887837017485x42\n",
       ":   23.2796369039288x44\n",
       ":   19.3749146883367x32\n",
       ":   18.3771626217501x48\n",
       ":   7.61240306327089x36\n",
       ":   7.30047718863267x38\n",
       ":   1.39998217255556x35\n",
       ":   1.13748551520139x19\n",
       ":   0.874988857847232\n",
       "\n"
      ],
      "text/plain": [
       "       x23        x56        x54        x30        x17        x42        x44 \n",
       "55.7636434 49.3053385 33.1248541 25.2871780 23.8887837 23.2796369 19.3749147 \n",
       "       x32        x48        x36        x38        x35        x19 \n",
       "18.3771626  7.6124031  7.3004772  1.3999822  1.1374855  0.8749889 "
      ]
     },
     "metadata": {},
     "output_type": "display_data"
    },
    {
     "data": {
      "image/png": "[encoded data removed]",
      "text/plain": [
       "Plot with title \"\""
      ]
     },
     "metadata": {},
     "output_type": "display_data"
    }
   ],
   "source": [
    "DecTree_pen = rpart(y ~ .,\n",
    "                   data=train, parms=list(loss=PenaltyMatrix),\n",
    "                   cp=0.01)\n",
    "fancyRpartPlot(DecTree_pen)\n",
    "DecTree_pen$variable.importance"
   ]
  },
  {
   "cell_type": "code",
   "execution_count": 27,
   "metadata": {},
   "outputs": [],
   "source": [
    "penalized_tree=predict(DecTree_pen,newdata=test)"
   ]
  },
  {
   "cell_type": "markdown",
   "metadata": {},
   "source": [
    "### Performanca Measure"
   ]
  },
  {
   "cell_type": "code",
   "execution_count": 28,
   "metadata": {},
   "outputs": [],
   "source": [
    "DecTree_pen = rpart(y ~ .,\n",
    "                   data=TrainData, parms=list(loss=PenaltyMatrix),\n",
    "                   cp=0.01)"
   ]
  },
  {
   "cell_type": "code",
   "execution_count": 29,
   "metadata": {},
   "outputs": [],
   "source": [
    "penalized_tree_final=predict(DecTree_pen,newdata=final_test)"
   ]
  },
  {
   "cell_type": "markdown",
   "metadata": {},
   "source": [
    "# Linear Regression"
   ]
  },
  {
   "cell_type": "code",
   "execution_count": 30,
   "metadata": {},
   "outputs": [
    {
     "name": "stderr",
     "output_type": "stream",
     "text": [
      "Loading required package: Matrix\n",
      "\n",
      "Attaching package: 'Matrix'\n",
      "\n",
      "The following objects are masked from 'package:tidyr':\n",
      "\n",
      "    expand, pack, unpack\n",
      "\n",
      "Loading required package: foreach\n",
      "\n",
      "Attaching package: 'foreach'\n",
      "\n",
      "The following objects are masked from 'package:purrr':\n",
      "\n",
      "    accumulate, when\n",
      "\n",
      "Loaded glmnet 2.0-16\n",
      "\n"
     ]
    }
   ],
   "source": [
    "library(glmnet)"
   ]
  },
  {
   "cell_type": "code",
   "execution_count": 31,
   "metadata": {},
   "outputs": [],
   "source": [
    "TrainData=as.data.table(TrainData)\n",
    "final_test=as.data.table(final_test)"
   ]
  },
  {
   "cell_type": "code",
   "execution_count": 32,
   "metadata": {},
   "outputs": [],
   "source": [
    "train=as.data.table(train)\n",
    "test=as.data.table(test)"
   ]
  },
  {
   "cell_type": "markdown",
   "metadata": {},
   "source": [
    "### Train"
   ]
  },
  {
   "cell_type": "code",
   "execution_count": 34,
   "metadata": {},
   "outputs": [],
   "source": [
    "train_mat_spam=data.matrix(train[complete.cases(train),-c(\"y\"),with=F])\n",
    "\n",
    "result_vec_spam=as.vector(t(train[complete.cases(train),\"y\"]))\n",
    "\n",
    "cvfit_spam=cv.glmnet(train_mat_spam,result_vec_spam,nfolds = 10,type.measure = \"mse\")\n",
    "\n",
    "test_mat_spam=data.matrix(test[,-c(\"y\")])\n",
    "\n",
    "lasso_model <- glmnet(train_mat_spam,result_vec_spam, alpha = 1, lambda = cvfit_spam$lambda.min, standardize = FALSE)"
   ]
  },
  {
   "cell_type": "code",
   "execution_count": 35,
   "metadata": {},
   "outputs": [],
   "source": [
    "lasso_predicts_train <- predict(lasso_model, s = cvfit_spam$lambda.min, newx = test_mat_spam)"
   ]
  },
  {
   "cell_type": "markdown",
   "metadata": {},
   "source": [
    "### Test"
   ]
  },
  {
   "cell_type": "code",
   "execution_count": 36,
   "metadata": {},
   "outputs": [],
   "source": [
    "train_mat_spam=data.matrix(TrainData[complete.cases(TrainData),-c(\"y\"),with=F])\n",
    "\n",
    "result_vec_spam=as.vector(t(TrainData[complete.cases(TrainData),\"y\"]))\n",
    "\n",
    "cvfit_spam=cv.glmnet(train_mat_spam,result_vec_spam,nfolds = 10,type.measure = \"mse\")\n",
    "\n",
    "test_mat_spam=data.matrix(final_test[,-c(\"y\")])\n",
    "\n",
    "lasso_model <- glmnet(train_mat_spam,result_vec_spam, alpha = 1, lambda = cvfit_spam$lambda.min, standardize = FALSE)"
   ]
  },
  {
   "cell_type": "code",
   "execution_count": 37,
   "metadata": {},
   "outputs": [],
   "source": [
    "lasso_predicts <- predict(lasso_model, s = cvfit_spam$lambda.min, newx = test_mat_spam)"
   ]
  },
  {
   "cell_type": "markdown",
   "metadata": {},
   "source": [
    "# Numbers"
   ]
  },
  {
   "cell_type": "code",
   "execution_count": 38,
   "metadata": {},
   "outputs": [],
   "source": [
    "final_prediction_bin=ifelse(final_prediction<0.485,0,1)"
   ]
  },
  {
   "cell_type": "code",
   "execution_count": 39,
   "metadata": {},
   "outputs": [],
   "source": [
    "predictions_rf_final_bin=ifelse(predictions_rf_final<0.485,0,1)"
   ]
  },
  {
   "cell_type": "code",
   "execution_count": 40,
   "metadata": {},
   "outputs": [],
   "source": [
    "penalized_tree_final_bin=ifelse(penalized_tree_final<0.485,0,1)"
   ]
  },
  {
   "cell_type": "code",
   "execution_count": 41,
   "metadata": {},
   "outputs": [],
   "source": [
    "lasso_predicts_bin=ifelse(lasso_predicts<0.485,0,1)"
   ]
  },
  {
   "cell_type": "code",
   "execution_count": 42,
   "metadata": {},
   "outputs": [],
   "source": [
    "avg_num=(final_prediction+predictions_rf_final+lasso_predicts)/3"
   ]
  },
  {
   "cell_type": "code",
   "execution_count": 43,
   "metadata": {},
   "outputs": [],
   "source": [
    "avg_num_bin=ifelse(avg_num<0.485,0,1)"
   ]
  },
  {
   "cell_type": "code",
   "execution_count": 45,
   "metadata": {},
   "outputs": [],
   "source": [
    "cus_avg=(ifelse(final_prediction>0.5,(final_prediction+(final_prediction-0.5)*3),final_prediction)+\n",
    "    ifelse(predictions_rf_final>0.5,(predictions_rf_final+(predictions_rf_final-0.5)*3),predictions_rf_final)+\n",
    "    ifelse(lasso_predicts>0.5,(lasso_predicts+(lasso_predicts-0.5)*3),lasso_predicts))/3"
   ]
  },
  {
   "cell_type": "code",
   "execution_count": 46,
   "metadata": {},
   "outputs": [],
   "source": [
    "cus_avg_bin=ifelse(cus_avg<0.485,0,1)"
   ]
  },
  {
   "cell_type": "code",
   "execution_count": 47,
   "metadata": {},
   "outputs": [],
   "source": [
    "two_avg=ifelse(final_prediction_bin==1|predictions_rf_final_bin==1,1,0)"
   ]
  },
  {
   "cell_type": "code",
   "execution_count": 36,
   "metadata": {},
   "outputs": [],
   "source": [
    "a=(final_prediction+predictions_rf_final)/2"
   ]
  },
  {
   "cell_type": "code",
   "execution_count": 41,
   "metadata": {},
   "outputs": [
    {
     "data": {
      "text/html": [
       "<strong>4:</strong> -0.00384322864428102"
      ],
      "text/latex": [
       "\\textbf{4:} -0.00384322864428102"
      ],
      "text/markdown": [
       "**4:** -0.00384322864428102"
      ],
      "text/plain": [
       "           4 \n",
       "-0.003843229 "
      ]
     },
     "metadata": {},
     "output_type": "display_data"
    }
   ],
   "source": [
    "a[4]"
   ]
  },
  {
   "cell_type": "code",
   "execution_count": 39,
   "metadata": {},
   "outputs": [
    {
     "name": "stdout",
     "output_type": "stream",
     "text": [
      " Named num 0.0482\n",
      " - attr(*, \"names\")= chr \"1\"\n"
     ]
    }
   ],
   "source": [
    "str(a[1])"
   ]
  },
  {
   "cell_type": "code",
   "execution_count": 53,
   "metadata": {},
   "outputs": [],
   "source": [
    "for(i in 1:length(a)){\n",
    "    if(a[i]<0){\n",
    "        a[i]=0\n",
    "    }\n",
    "    if(a[i]>1){\n",
    "        a[i]=1\n",
    "    }\n",
    "}"
   ]
  },
  {
   "cell_type": "markdown",
   "metadata": {},
   "source": [
    "# General convert"
   ]
  },
  {
   "cell_type": "code",
   "execution_count": 48,
   "metadata": {},
   "outputs": [],
   "source": [
    "last_num=array(1:2073)"
   ]
  },
  {
   "cell_type": "code",
   "execution_count": 49,
   "metadata": {},
   "outputs": [],
   "source": [
    "for(i in 1:length(final_prediction)){\n",
    "    if(two_avg[i]==1 | cus_avg_bin[i]==1 | avg_num[i]==1){\n",
    "        last_num[i]=1\n",
    "    }\n",
    "    else{\n",
    "        last_num[i]=0\n",
    "    }\n",
    "}"
   ]
  },
  {
   "cell_type": "markdown",
   "metadata": {},
   "source": [
    "# SVM"
   ]
  },
  {
   "cell_type": "code",
   "execution_count": 13,
   "metadata": {},
   "outputs": [],
   "source": [
    "library(kernlab)"
   ]
  },
  {
   "cell_type": "code",
   "execution_count": 14,
   "metadata": {},
   "outputs": [
    {
     "name": "stderr",
     "output_type": "stream",
     "text": [
      "Warning message in preProcess.default(thresh = 0.95, k = 5, freqCut = 19, uniqueCut = 10, :\n",
      "\"These variables have zero variances: x37\"Warning message in .local(x, ...):\n",
      "\"Variable(s) `' constant. Cannot scale data.\""
     ]
    },
    {
     "data": {
      "text/plain": [
       "Support Vector Machines with Linear Kernel \n",
       "\n",
       "1659 samples\n",
       "  58 predictor\n",
       "   2 classes: '0', '1' \n",
       "\n",
       "Pre-processing: centered (58), scaled (58) \n",
       "Resampling: Cross-Validated (10 fold, repeated 1 times) \n",
       "Summary of sample sizes: 1494, 1494, 1492, 1493, 1493, 1493, ... \n",
       "Resampling results:\n",
       "\n",
       "  Accuracy   Kappa    \n",
       "  0.8306363  0.5047685\n",
       "\n",
       "Tuning parameter 'C' was held constant at a value of 1"
      ]
     },
     "metadata": {},
     "output_type": "display_data"
    }
   ],
   "source": [
    "svm1 <- train(as.factor(y) ~., data = train, method = \"svmLinear\",\n",
    "              trControl = fitControl,  preProcess = c(\"center\",\"scale\"))\n",
    "#View the model\n",
    "svm1"
   ]
  },
  {
   "cell_type": "code",
   "execution_count": 15,
   "metadata": {},
   "outputs": [],
   "source": [
    "svm1_pred_train=predict(svm1,test)"
   ]
  },
  {
   "cell_type": "code",
   "execution_count": 16,
   "metadata": {},
   "outputs": [
    {
     "data": {
      "text/plain": [
       "Confusion Matrix and Statistics\n",
       "\n",
       "          Reference\n",
       "Prediction   0   1\n",
       "         0 289  42\n",
       "         1  24  60\n",
       "                                          \n",
       "               Accuracy : 0.841           \n",
       "                 95% CI : (0.8022, 0.8748)\n",
       "    No Information Rate : 0.7542          \n",
       "    P-Value [Acc > NIR] : 1.167e-05       \n",
       "                                          \n",
       "                  Kappa : 0.5439          \n",
       "                                          \n",
       " Mcnemar's Test P-Value : 0.03639         \n",
       "                                          \n",
       "              Precision : 0.8731          \n",
       "                 Recall : 0.9233          \n",
       "                     F1 : 0.8975          \n",
       "             Prevalence : 0.7542          \n",
       "         Detection Rate : 0.6964          \n",
       "   Detection Prevalence : 0.7976          \n",
       "      Balanced Accuracy : 0.7558          \n",
       "                                          \n",
       "       'Positive' Class : 0               \n",
       "                                          "
      ]
     },
     "metadata": {},
     "output_type": "display_data"
    }
   ],
   "source": [
    "confusionMatrix(data = as.factor(svm1_pred_train), reference = as.factor(test$y), mode = \"prec_recall\")"
   ]
  },
  {
   "cell_type": "code",
   "execution_count": 17,
   "metadata": {},
   "outputs": [
    {
     "name": "stderr",
     "output_type": "stream",
     "text": [
      "Warning message in preProcess.default(thresh = 0.95, k = 5, freqCut = 19, uniqueCut = 10, :\n",
      "\"These variables have zero variances: x37\"Warning message in .local(x, ...):\n",
      "\"Variable(s) `' constant. Cannot scale data.\"Warning message in preProcess.default(thresh = 0.95, k = 5, freqCut = 19, uniqueCut = 10, :\n",
      "\"These variables have zero variances: x37\"Warning message in .local(x, ...):\n",
      "\"Variable(s) `' constant. Cannot scale data.\"Warning message in preProcess.default(thresh = 0.95, k = 5, freqCut = 19, uniqueCut = 10, :\n",
      "\"These variables have zero variances: x37\"Warning message in .local(x, ...):\n",
      "\"Variable(s) `' constant. Cannot scale data.\"Warning message in preProcess.default(thresh = 0.95, k = 5, freqCut = 19, uniqueCut = 10, :\n",
      "\"These variables have zero variances: x37\"Warning message in .local(x, ...):\n",
      "\"Variable(s) `' constant. Cannot scale data.\"Warning message in preProcess.default(thresh = 0.95, k = 5, freqCut = 19, uniqueCut = 10, :\n",
      "\"These variables have zero variances: x37\"Warning message in .local(x, ...):\n",
      "\"Variable(s) `' constant. Cannot scale data.\"Warning message in preProcess.default(thresh = 0.95, k = 5, freqCut = 19, uniqueCut = 10, :\n",
      "\"These variables have zero variances: x37\"Warning message in .local(x, ...):\n",
      "\"Variable(s) `' constant. Cannot scale data.\"Warning message in preProcess.default(thresh = 0.95, k = 5, freqCut = 19, uniqueCut = 10, :\n",
      "\"These variables have zero variances: x37\"Warning message in .local(x, ...):\n",
      "\"Variable(s) `' constant. Cannot scale data.\"Warning message in preProcess.default(thresh = 0.95, k = 5, freqCut = 19, uniqueCut = 10, :\n",
      "\"These variables have zero variances: x37\"Warning message in .local(x, ...):\n",
      "\"Variable(s) `' constant. Cannot scale data.\"Warning message in preProcess.default(thresh = 0.95, k = 5, freqCut = 19, uniqueCut = 10, :\n",
      "\"These variables have zero variances: x37\"Warning message in .local(x, ...):\n",
      "\"Variable(s) `' constant. Cannot scale data.\"Warning message in preProcess.default(thresh = 0.95, k = 5, freqCut = 19, uniqueCut = 10, :\n",
      "\"These variables have zero variances: x37\"Warning message in .local(x, ...):\n",
      "\"Variable(s) `' constant. Cannot scale data.\""
     ]
    },
    {
     "data": {
      "text/plain": [
       "Support Vector Machines with Radial Basis Function Kernel \n",
       "\n",
       "1659 samples\n",
       "  58 predictor\n",
       "   2 classes: '0', '1' \n",
       "\n",
       "Pre-processing: centered (58), scaled (58) \n",
       "Resampling: Cross-Validated (10 fold, repeated 1 times) \n",
       "Summary of sample sizes: 1493, 1494, 1493, 1494, 1493, 1493, ... \n",
       "Resampling results across tuning parameters:\n",
       "\n",
       "  C       Accuracy   Kappa    \n",
       "    0.25  0.8100959  0.3656509\n",
       "    0.50  0.8178873  0.4373516\n",
       "    1.00  0.8233345  0.4656688\n",
       "    2.00  0.8185007  0.4617226\n",
       "    4.00  0.8197128  0.4728209\n",
       "    8.00  0.8004245  0.4352917\n",
       "   16.00  0.7865944  0.4031460\n",
       "   32.00  0.7811944  0.3976901\n",
       "   64.00  0.7757726  0.3887708\n",
       "  128.00  0.7757618  0.3972768\n",
       "\n",
       "Tuning parameter 'sigma' was held constant at a value of 0.01059891\n",
       "Accuracy was used to select the optimal model using the largest value.\n",
       "The final values used for the model were sigma = 0.01059891 and C = 1."
      ]
     },
     "metadata": {},
     "output_type": "display_data"
    }
   ],
   "source": [
    "svm3 <- train(as.factor(y) ~., data = train, method = \"svmRadial\",\n",
    "              trControl = fitControl, preProcess = c(\"center\",\"scale\"), tuneLength = 10)\n",
    "# Print the best tuning parameter sigma and C that maximizes model accuracy\n",
    "svm3"
   ]
  },
  {
   "cell_type": "code",
   "execution_count": 18,
   "metadata": {},
   "outputs": [],
   "source": [
    "svm3_pred_train=predict(svm3,test)"
   ]
  },
  {
   "cell_type": "code",
   "execution_count": 19,
   "metadata": {},
   "outputs": [
    {
     "data": {
      "text/plain": [
       "Confusion Matrix and Statistics\n",
       "\n",
       "          Reference\n",
       "Prediction   0   1\n",
       "         0 296  46\n",
       "         1  17  56\n",
       "                                        \n",
       "               Accuracy : 0.8482        \n",
       "                 95% CI : (0.81, 0.8813)\n",
       "    No Information Rate : 0.7542        \n",
       "    P-Value [Acc > NIR] : 2.005e-06     \n",
       "                                        \n",
       "                  Kappa : 0.5471        \n",
       "                                        \n",
       " Mcnemar's Test P-Value : 0.0004192     \n",
       "                                        \n",
       "              Precision : 0.8655        \n",
       "                 Recall : 0.9457        \n",
       "                     F1 : 0.9038        \n",
       "             Prevalence : 0.7542        \n",
       "         Detection Rate : 0.7133        \n",
       "   Detection Prevalence : 0.8241        \n",
       "      Balanced Accuracy : 0.7474        \n",
       "                                        \n",
       "       'Positive' Class : 0             \n",
       "                                        "
      ]
     },
     "metadata": {},
     "output_type": "display_data"
    }
   ],
   "source": [
    "confusionMatrix(data = as.factor(svm3_pred_train), reference = as.factor(test$y), mode = \"prec_recall\")"
   ]
  },
  {
   "cell_type": "code",
   "execution_count": 20,
   "metadata": {},
   "outputs": [
    {
     "name": "stderr",
     "output_type": "stream",
     "text": [
      "Warning message in preProcess.default(thresh = 0.95, k = 5, freqCut = 19, uniqueCut = 10, :\n",
      "\"These variables have zero variances: x37\"Warning message in .local(x, ...):\n",
      "\"Variable(s) `' constant. Cannot scale data.\"Warning message in preProcess.default(thresh = 0.95, k = 5, freqCut = 19, uniqueCut = 10, :\n",
      "\"These variables have zero variances: x37\"Warning message in .local(x, ...):\n",
      "\"Variable(s) `' constant. Cannot scale data.\"Warning message in preProcess.default(thresh = 0.95, k = 5, freqCut = 19, uniqueCut = 10, :\n",
      "\"These variables have zero variances: x37\"Warning message in .local(x, ...):\n",
      "\"Variable(s) `' constant. Cannot scale data.\"Warning message in preProcess.default(thresh = 0.95, k = 5, freqCut = 19, uniqueCut = 10, :\n",
      "\"These variables have zero variances: x37\"Warning message in .local(x, ...):\n",
      "\"Variable(s) `' constant. Cannot scale data.\"Warning message in preProcess.default(thresh = 0.95, k = 5, freqCut = 19, uniqueCut = 10, :\n",
      "\"These variables have zero variances: x37\"Warning message in .local(x, ...):\n",
      "\"Variable(s) `' constant. Cannot scale data.\"Warning message in preProcess.default(thresh = 0.95, k = 5, freqCut = 19, uniqueCut = 10, :\n",
      "\"These variables have zero variances: x37\"Warning message in .local(x, ...):\n",
      "\"Variable(s) `' constant. Cannot scale data.\"Warning message in preProcess.default(thresh = 0.95, k = 5, freqCut = 19, uniqueCut = 10, :\n",
      "\"These variables have zero variances: x37\"Warning message in .local(x, ...):\n",
      "\"Variable(s) `' constant. Cannot scale data.\"Warning message in preProcess.default(thresh = 0.95, k = 5, freqCut = 19, uniqueCut = 10, :\n",
      "\"These variables have zero variances: x37\"Warning message in .local(x, ...):\n",
      "\"Variable(s) `' constant. Cannot scale data.\"Warning message in preProcess.default(thresh = 0.95, k = 5, freqCut = 19, uniqueCut = 10, :\n",
      "\"These variables have zero variances: x37\"Warning message in .local(x, ...):\n",
      "\"Variable(s) `' constant. Cannot scale data.\"Warning message in preProcess.default(thresh = 0.95, k = 5, freqCut = 19, uniqueCut = 10, :\n",
      "\"These variables have zero variances: x37\"Warning message in .local(x, ...):\n",
      "\"Variable(s) `' constant. Cannot scale data.\"Warning message in preProcess.default(thresh = 0.95, k = 5, freqCut = 19, uniqueCut = 10, :\n",
      "\"These variables have zero variances: x37\"Warning message in .local(x, ...):\n",
      "\"Variable(s) `' constant. Cannot scale data.\"Warning message in preProcess.default(thresh = 0.95, k = 5, freqCut = 19, uniqueCut = 10, :\n",
      "\"These variables have zero variances: x37\"Warning message in .local(x, ...):\n",
      "\"Variable(s) `' constant. Cannot scale data.\"Warning message in preProcess.default(thresh = 0.95, k = 5, freqCut = 19, uniqueCut = 10, :\n",
      "\"These variables have zero variances: x37\"Warning message in .local(x, ...):\n",
      "\"Variable(s) `' constant. Cannot scale data.\"Warning message in preProcess.default(thresh = 0.95, k = 5, freqCut = 19, uniqueCut = 10, :\n",
      "\"These variables have zero variances: x37\"Warning message in .local(x, ...):\n",
      "\"Variable(s) `' constant. Cannot scale data.\"Warning message in preProcess.default(thresh = 0.95, k = 5, freqCut = 19, uniqueCut = 10, :\n",
      "\"These variables have zero variances: x37\"Warning message in .local(x, ...):\n",
      "\"Variable(s) `' constant. Cannot scale data.\"Warning message in preProcess.default(thresh = 0.95, k = 5, freqCut = 19, uniqueCut = 10, :\n",
      "\"These variables have zero variances: x37\"Warning message in .local(x, ...):\n",
      "\"Variable(s) `' constant. Cannot scale data.\"Warning message in preProcess.default(thresh = 0.95, k = 5, freqCut = 19, uniqueCut = 10, :\n",
      "\"These variables have zero variances: x37\"Warning message in .local(x, ...):\n",
      "\"Variable(s) `' constant. Cannot scale data.\"Warning message in preProcess.default(thresh = 0.95, k = 5, freqCut = 19, uniqueCut = 10, :\n",
      "\"These variables have zero variances: x37\"Warning message in .local(x, ...):\n",
      "\"Variable(s) `' constant. Cannot scale data.\"Warning message in preProcess.default(thresh = 0.95, k = 5, freqCut = 19, uniqueCut = 10, :\n",
      "\"These variables have zero variances: x37\"Warning message in .local(x, ...):\n",
      "\"Variable(s) `' constant. Cannot scale data.\"Warning message in preProcess.default(thresh = 0.95, k = 5, freqCut = 19, uniqueCut = 10, :\n",
      "\"These variables have zero variances: x37\"Warning message in .local(x, ...):\n",
      "\"Variable(s) `' constant. Cannot scale data.\"Warning message in preProcess.default(thresh = 0.95, k = 5, freqCut = 19, uniqueCut = 10, :\n",
      "\"These variables have zero variances: x37\"Warning message in .local(x, ...):\n",
      "\"Variable(s) `' constant. Cannot scale data.\"Warning message in preProcess.default(thresh = 0.95, k = 5, freqCut = 19, uniqueCut = 10, :\n",
      "\"These variables have zero variances: x37\"Warning message in .local(x, ...):\n",
      "\"Variable(s) `' constant. Cannot scale data.\"Warning message in preProcess.default(thresh = 0.95, k = 5, freqCut = 19, uniqueCut = 10, :\n",
      "\"These variables have zero variances: x37\"Warning message in .local(x, ...):\n",
      "\"Variable(s) `' constant. Cannot scale data.\"Warning message in preProcess.default(thresh = 0.95, k = 5, freqCut = 19, uniqueCut = 10, :\n",
      "\"These variables have zero variances: x37\"Warning message in .local(x, ...):\n",
      "\"Variable(s) `' constant. Cannot scale data.\"Warning message in preProcess.default(thresh = 0.95, k = 5, freqCut = 19, uniqueCut = 10, :\n",
      "\"These variables have zero variances: x37\"Warning message in .local(x, ...):\n",
      "\"Variable(s) `' constant. Cannot scale data.\"Warning message in preProcess.default(thresh = 0.95, k = 5, freqCut = 19, uniqueCut = 10, :\n",
      "\"These variables have zero variances: x37\"Warning message in .local(x, ...):\n",
      "\"Variable(s) `' constant. Cannot scale data.\"Warning message in preProcess.default(thresh = 0.95, k = 5, freqCut = 19, uniqueCut = 10, :\n",
      "\"These variables have zero variances: x37\"Warning message in .local(x, ...):\n",
      "\"Variable(s) `' constant. Cannot scale data.\"Warning message in preProcess.default(thresh = 0.95, k = 5, freqCut = 19, uniqueCut = 10, :\n",
      "\"These variables have zero variances: x37\"Warning message in .local(x, ...):\n",
      "\"Variable(s) `' constant. Cannot scale data.\"Warning message in preProcess.default(thresh = 0.95, k = 5, freqCut = 19, uniqueCut = 10, :\n",
      "\"These variables have zero variances: x37\"Warning message in .local(x, ...):\n",
      "\"Variable(s) `' constant. Cannot scale data.\"Warning message in preProcess.default(thresh = 0.95, k = 5, freqCut = 19, uniqueCut = 10, :\n",
      "\"These variables have zero variances: x37\"Warning message in .local(x, ...):\n",
      "\"Variable(s) `' constant. Cannot scale data.\"Warning message in preProcess.default(thresh = 0.95, k = 5, freqCut = 19, uniqueCut = 10, :\n",
      "\"These variables have zero variances: x37\"Warning message in .local(x, ...):\n",
      "\"Variable(s) `' constant. Cannot scale data.\"Warning message in preProcess.default(thresh = 0.95, k = 5, freqCut = 19, uniqueCut = 10, :\n",
      "\"These variables have zero variances: x37\"Warning message in .local(x, ...):\n",
      "\"Variable(s) `' constant. Cannot scale data.\"Warning message in preProcess.default(thresh = 0.95, k = 5, freqCut = 19, uniqueCut = 10, :\n",
      "\"These variables have zero variances: x37\"Warning message in .local(x, ...):\n",
      "\"Variable(s) `' constant. Cannot scale data.\"Warning message in preProcess.default(thresh = 0.95, k = 5, freqCut = 19, uniqueCut = 10, :\n",
      "\"These variables have zero variances: x37\"Warning message in .local(x, ...):\n",
      "\"Variable(s) `' constant. Cannot scale data.\"Warning message in preProcess.default(thresh = 0.95, k = 5, freqCut = 19, uniqueCut = 10, :\n",
      "\"These variables have zero variances: x37\"Warning message in .local(x, ...):\n",
      "\"Variable(s) `' constant. Cannot scale data.\"Warning message in preProcess.default(thresh = 0.95, k = 5, freqCut = 19, uniqueCut = 10, :\n",
      "\"These variables have zero variances: x37\"Warning message in .local(x, ...):\n",
      "\"Variable(s) `' constant. Cannot scale data.\"Warning message in preProcess.default(thresh = 0.95, k = 5, freqCut = 19, uniqueCut = 10, :\n",
      "\"These variables have zero variances: x37\"Warning message in .local(x, ...):\n",
      "\"Variable(s) `' constant. Cannot scale data.\"Warning message in preProcess.default(thresh = 0.95, k = 5, freqCut = 19, uniqueCut = 10, :\n",
      "\"These variables have zero variances: x37\"Warning message in .local(x, ...):\n",
      "\"Variable(s) `' constant. Cannot scale data.\"Warning message in preProcess.default(thresh = 0.95, k = 5, freqCut = 19, uniqueCut = 10, :\n"
     ]
    },
    {
     "name": "stderr",
     "output_type": "stream",
     "text": [
      "\"These variables have zero variances: x37\"Warning message in .local(x, ...):\n",
      "\"Variable(s) `' constant. Cannot scale data.\"Warning message in preProcess.default(thresh = 0.95, k = 5, freqCut = 19, uniqueCut = 10, :\n",
      "\"These variables have zero variances: x37\"Warning message in .local(x, ...):\n",
      "\"Variable(s) `' constant. Cannot scale data.\"Warning message in preProcess.default(thresh = 0.95, k = 5, freqCut = 19, uniqueCut = 10, :\n",
      "\"These variables have zero variances: x37\"Warning message in .local(x, ...):\n",
      "\"Variable(s) `' constant. Cannot scale data.\"Warning message in preProcess.default(thresh = 0.95, k = 5, freqCut = 19, uniqueCut = 10, :\n",
      "\"These variables have zero variances: x37\"Warning message in .local(x, ...):\n",
      "\"Variable(s) `' constant. Cannot scale data.\"Warning message in preProcess.default(thresh = 0.95, k = 5, freqCut = 19, uniqueCut = 10, :\n",
      "\"These variables have zero variances: x37\"Warning message in .local(x, ...):\n",
      "\"Variable(s) `' constant. Cannot scale data.\"Warning message in preProcess.default(thresh = 0.95, k = 5, freqCut = 19, uniqueCut = 10, :\n",
      "\"These variables have zero variances: x37\"Warning message in .local(x, ...):\n",
      "\"Variable(s) `' constant. Cannot scale data.\"Warning message in preProcess.default(thresh = 0.95, k = 5, freqCut = 19, uniqueCut = 10, :\n",
      "\"These variables have zero variances: x37\"Warning message in .local(x, ...):\n",
      "\"Variable(s) `' constant. Cannot scale data.\"Warning message in preProcess.default(thresh = 0.95, k = 5, freqCut = 19, uniqueCut = 10, :\n",
      "\"These variables have zero variances: x37\"Warning message in .local(x, ...):\n",
      "\"Variable(s) `' constant. Cannot scale data.\"Warning message in preProcess.default(thresh = 0.95, k = 5, freqCut = 19, uniqueCut = 10, :\n",
      "\"These variables have zero variances: x37\"Warning message in .local(x, ...):\n",
      "\"Variable(s) `' constant. Cannot scale data.\"Warning message in preProcess.default(thresh = 0.95, k = 5, freqCut = 19, uniqueCut = 10, :\n",
      "\"These variables have zero variances: x37\"Warning message in .local(x, ...):\n",
      "\"Variable(s) `' constant. Cannot scale data.\""
     ]
    },
    {
     "data": {
      "text/plain": [
       "Support Vector Machines with Polynomial Kernel \n",
       "\n",
       "1659 samples\n",
       "  58 predictor\n",
       "   2 classes: '0', '1' \n",
       "\n",
       "Pre-processing: centered (58), scaled (58) \n",
       "Resampling: Cross-Validated (10 fold, repeated 1 times) \n",
       "Summary of sample sizes: 1493, 1493, 1493, 1494, 1493, 1492, ... \n",
       "Resampling results across tuning parameters:\n",
       "\n",
       "  degree  scale  C     Accuracy   Kappa     \n",
       "  1       0.001  0.25  0.7546751  0.00000000\n",
       "  1       0.001  0.50  0.7588993  0.02555856\n",
       "  1       0.001  1.00  0.7582969  0.02433686\n",
       "  1       0.001  2.00  0.8004514  0.29789436\n",
       "  1       0.010  0.25  0.8076766  0.35849954\n",
       "  1       0.010  0.50  0.8299950  0.47680729\n",
       "  1       0.010  1.00  0.8293781  0.48848251\n",
       "  1       0.010  2.00  0.8305829  0.49357417\n",
       "  1       0.100  0.25  0.8281769  0.48854614\n",
       "  1       0.100  0.50  0.8263841  0.49018388\n",
       "  1       0.100  1.00  0.8269792  0.49535709\n",
       "  1       0.100  2.00  0.8318094  0.50819817\n",
       "  1       1.000  0.25  0.8312106  0.50650138\n",
       "  1       1.000  0.50  0.8300057  0.50367569\n",
       "  1       1.000  1.00  0.8282021  0.49882334\n",
       "  1       1.000  2.00  0.8300203  0.50516792\n",
       "  2       0.001  0.25  0.7582969  0.02433686\n",
       "  2       0.001  0.50  0.7582969  0.02433686\n",
       "  2       0.001  1.00  0.8034707  0.31374153\n",
       "  2       0.001  2.00  0.8299769  0.47085852\n",
       "  2       0.010  0.25  0.8269684  0.46483252\n",
       "  2       0.010  0.50  0.8239636  0.46782366\n",
       "  2       0.010  1.00  0.8215467  0.47010769\n",
       "  2       0.010  2.00  0.8227479  0.47801497\n",
       "  2       0.100  0.25  0.7859932  0.41274319\n",
       "  2       0.100  0.50  0.7721486  0.38504578\n",
       "  2       0.100  1.00  0.7631087  0.36654607\n",
       "  2       0.100  2.00  0.7498738  0.34731789\n",
       "  2       1.000  0.25  0.7335579  0.31886038\n",
       "  2       1.000  0.50  0.7335579  0.31886038\n",
       "  2       1.000  1.00  0.7335579  0.31886038\n",
       "  2       1.000  2.00  0.7335579  0.31886038\n",
       "  3       0.001  0.25  0.7582969  0.02433686\n",
       "  3       0.001  0.50  0.7805934  0.15938548\n",
       "  3       0.001  1.00  0.8191225  0.41832828\n",
       "  3       0.001  2.00  0.8311853  0.48397552\n",
       "  3       0.010  0.25  0.8227552  0.46326111\n",
       "  3       0.010  0.50  0.8179140  0.45793591\n",
       "  3       0.010  1.00  0.8173115  0.46678849\n",
       "  3       0.010  2.00  0.8149092  0.47598181\n",
       "  3       0.100  0.25  0.7775922  0.39122544\n",
       "  3       0.100  0.50  0.7745765  0.38360399\n",
       "  3       0.100  1.00  0.7745765  0.38360399\n",
       "  3       0.100  2.00  0.7745765  0.38360399\n",
       "  3       1.000  0.25  0.7854092  0.41210640\n",
       "  3       1.000  0.50  0.7854092  0.41210640\n",
       "  3       1.000  1.00  0.7854092  0.41210640\n",
       "  3       1.000  2.00  0.7854092  0.41210640\n",
       "\n",
       "Accuracy was used to select the optimal model using the largest value.\n",
       "The final values used for the model were degree = 1, scale = 0.1 and C = 2."
      ]
     },
     "metadata": {},
     "output_type": "display_data"
    }
   ],
   "source": [
    "svm4 <- train(as.factor(y) ~., data = train, method = \"svmPoly\", \n",
    "              trControl = fitControl, preProcess = c(\"center\",\"scale\"), tuneLength = 4)\n",
    "# Print the best tuning parameter sigma and C that maximizes model accuracy\n",
    "svm4"
   ]
  },
  {
   "cell_type": "code",
   "execution_count": 21,
   "metadata": {},
   "outputs": [],
   "source": [
    "svm4_pred_train=predict(svm4,test)"
   ]
  },
  {
   "cell_type": "code",
   "execution_count": 22,
   "metadata": {
    "scrolled": false
   },
   "outputs": [
    {
     "data": {
      "text/plain": [
       "Confusion Matrix and Statistics\n",
       "\n",
       "          Reference\n",
       "Prediction   0   1\n",
       "         0 289  45\n",
       "         1  24  57\n",
       "                                          \n",
       "               Accuracy : 0.8337          \n",
       "                 95% CI : (0.7944, 0.8683)\n",
       "    No Information Rate : 0.7542          \n",
       "    P-Value [Acc > NIR] : 5.813e-05       \n",
       "                                          \n",
       "                  Kappa : 0.5181          \n",
       "                                          \n",
       " Mcnemar's Test P-Value : 0.01605         \n",
       "                                          \n",
       "              Precision : 0.8653          \n",
       "                 Recall : 0.9233          \n",
       "                     F1 : 0.8934          \n",
       "             Prevalence : 0.7542          \n",
       "         Detection Rate : 0.6964          \n",
       "   Detection Prevalence : 0.8048          \n",
       "      Balanced Accuracy : 0.7411          \n",
       "                                          \n",
       "       'Positive' Class : 0               \n",
       "                                          "
      ]
     },
     "metadata": {},
     "output_type": "display_data"
    }
   ],
   "source": [
    "confusionMatrix(data = as.factor(svm4_pred_train), reference = as.factor(test$y), mode = \"prec_recall\")"
   ]
  },
  {
   "cell_type": "markdown",
   "metadata": {},
   "source": [
    "# Submission"
   ]
  },
  {
   "cell_type": "code",
   "execution_count": 55,
   "metadata": {
    "scrolled": false
   },
   "outputs": [
    {
     "name": "stdout",
     "output_type": "stream",
     "text": [
      "[1] \"Format OK\"\n",
      "$submission\n",
      "[0.0482,0.214,0.3955,0,0.6298,0.1584,0.3045,0.3882,0.0407,0.0055,0.2162,0.1585,0.0056,1,0.1376,0,0,0.0915,0.1455,0,0.0009,0.327,1,0,0.44,0.0599,0.4553,0.4898,0.3435,0.2986,0.3442,0.6634,0.0034,0.3871,0.5236,0.1608,0.736,0.9031,1,0,0.1057,0.1373,0.1096,0.6867,0.187,0.7439,0.1615,0,0.1513,0.119,0.035,0,0.167,0.3832,0.9395,0.5403,0.6464,0.5604,0.0565,0.3418,1,0,0.0201,0.1558,0.0638,0.0184,0,0.0113,0.6973,0.0683,0.69,0,0.0049,0.751,0.0075,0.1671,0.5253,0.0371,0.3303,0.0385,0.9652,0.0438,0,0.6751,0.1414,0.2047,0,0.0225,0.8999,0.2619,0.0168,0.0427,0.0867,0.7775,0.1308,0.2284,0.0389,0.0643,0.3007,0.4063,0.5801,0.0506,0.4715,0.2647,0.2868,0.42,0.0318,0.2261,0.1457,0.0277,0,0.733,0.0949,0.5972,0.2843,0.0046,0,0.3248,0.0109,0.0043,0.0278,0.0489,0.02,0.06,0.0846,0,0.0243,0.2301,0.6733,0.0588,0.4491,0.2258,0.3663,0.1489,0.3321,0.4299,0.0748,0.582,0.0442,0.549,0.2516,0.1656,0.3884,0.3711,0.2514,0.198,0.4864,0.1479,0.167,0.039,0,0.2998,0.1204,0.0328,0.0029,0.1713,0.0031,0.3952,0.1602,0.8162,0.1412,0.0612,0.046,0.0714,0.0102,0.5502,0.0443,0.5751,0,0.1097,0.5752,0.233,0.3035,0.023,0.3594,0,0.1726,0.1899,0.3687,0.9643,0.7077,0.6479,0.3824,0,0.7185,0,0,0.0566,0.1107,0.1744,0,0.4247,0.6133,0.1245,0.0007,0,0.0479,0.0152,0,0.6794,0.3774,0.1044,0.0851,0.4974,0.2317,0.4469,0,0.8869,0.0374,0.6276,0.063,0,0.0785,0.5228,0.1837,0.5589,0.084,0,0,0.0469,0.0729,0.0045,0.2045,0.5163,0.0621,0.0093,0.0849,0.814,0.2955,0,0.8479,0.0179,0.3615,0.0098,0.0042,0.0386,0.5891,0.1163,0.4481,0.5619,0.099,0.027,0.0273,0.0277,0.0173,0.014,0.6465,0.6972,0.6624,0.0135,0.0414,0.8089,0.6071,0.308,0.026,0.435,0.7266,0.1549,0.0511,0.0592,0.573,0.2295,0.0274,0.2556,0.4964,0.3253,0,0.0805,0.046,0.1222,0.2331,0.1159,0.2251,0.1803,0.0016,0.1273,0.4147,0.0297,0.2473,0.1111,0.1714,0.0323,0.1824,0.1307,0.5604,0.2893,0.062,0.3439,0.487,0.2705,0.3332,0.0366,0.3758,0.3103,0.241,0.9678,0.6605,0.0775,0.0021,0.0328,0.6776,0.0028,0.0002,0,0.0264,0,0.0577,0.1145,0.0489,0.0147,0.1444,0.3299,0.4118,0.0054,0.0001,0.6925,0.2114,0.1508,0.3966,0.5159,0.025,0.1573,0,0.1703,0.1872,0.3234,0.6262,0.4236,0.0213,0.2191,0.3744,0.1294,0.742,0.4293,0.6913,0.1307,0.3829,0.8174,0.0045,0.0692,0.0567,0.0219,0.06,0.2409,0.3127,0.0044,0.1587,0.2015,0.0371,0.0484,0.0273,0,0.082,0.8972,0.1286,0.3078,0.8127,0.0759,0.0938,0.1515,0.1294,0.0195,0.0563,0.1364,0.451,0.2291,0.6318,0,0,0.0818,0.9381,0.0522,0,0.0648,0.1185,0.772,0.0473,0.0092,0,0.1904,0.161,0.2789,0.033,0.7192,0.1112,0.0569,0.0171,0.3105,0.1237,0.3823,0,0.0464,0.6777,0.1639,0.0393,0.3046,0.0826,0,0,0,0.0504,0.9138,0.0398,0.7551,0.0561,0.3719,0.0515,0.1749,0.6113,0.0669,0.1866,0.0369,0.4315,0,0.4032,0.417,0.1475,0.9183,0.5652,0.4464,0.2556,0.5162,0.0029,0.028,0.1451,0.2494,0.0999,0.4038,0.0917,0.3608,0.5124,0.0477,0.4124,0.1891,0.6433,0.2141,0,0.1617,0.6388,0.2494,0.1438,0.1282,0.1145,0.98,0.0769,0.5725,0,0,0.6921,0.0672,0.4205,0.2055,0.0161,0.79,0.175,0,0.3986,0.32,0.8985,0.5253,0.0055,0.0603,0.1623,0.8713,0.0517,0.2927,0.1032,0.0038,0.0393,0.4811,0.2668,0.6019,0.0905,0.0482,0.4413,0,0.201,0.8654,0.3393,0,0,0.1119,0.9803,0.056,0,0.0525,0.6637,0.0346,0.3649,0.1135,0.5758,0.2821,0.6941,0.6355,0.0268,0.0065,0.8012,0,0.7074,0.0393,0.1177,0.0986,0,0,0.0703,0,0.2358,0.337,0.1177,0.0133,0.4283,0.2415,0.0334,0.0083,0,0.18,0,0.0559,0.536,0.4775,0,0.0174,0.2662,0,0.2177,0.2326,0,0.7306,0.1323,0,0.138,0,0.4228,0.6392,0.3916,0,1,0.5773,0.2685,0.1603,0.1031,0.9425,0.0104,0.1471,0.0694,0.0284,0.6362,0.6578,0.0058,0.4913,0.0135,0.0135,0.0379,0.7933,0.6364,0.3403,0.0513,0,0.0293,0.2777,0.0151,0.0414,0.0078,0.1339,0.252,0.0052,0.238,0,0.5173,0.2826,0.0078,0.193,0.2257,0.3053,0.2522,0.3816,0.4095,0.2046,0.1042,0.0436,0.005,0,0.2742,0.3515,0.1957,0.4579,0,0.1129,0.1613,0.0312,0.6835,0.2201,0,0,0,0.6871,0,0.034,0.0104,0.4346,0.0168,0.1956,0.4743,0.0008,0.1271,0.2787,1,0.1278,0.0657,0.0466,0.1787,0.3583,0.5943,0.1268,0.0121,0.6154,0,0.2717,0.1764,0.9702,0.1396,0.456,0.872,0.7065,0.2862,0.2682,0.0894,0,0.1446,0.1266,0.2086,0.0993,0.5895,0.1295,0.1967,0,0.3138,0.1236,0.0153,0.2139,0.2283,0.028,0,0.0982,0.1095,0.0011,0.1247,0.0665,0.5931,0.2206,0.0124,0.031,0.4858,0.3809,0.2544,0.1011,0.5128,0.5198,0.382,0.1517,0.5513,0,0.012,0.5459,0.1965,0.1455,0.5313,0.0704,0,0.6918,0.3869,0.092,0,0.7499,0.2983,0.4342,0,0.5921,0.3647,0.3481,0.0119,0.9301,0.089,0.14,0.1291,0.5805,0.2001,0.3117,0.0921,0.1723,0.0679,0.0786,0.3721,0.2927,0,0.4379,0.0502,0.0435,0.0284,0.1993,0.0328,0.1944,0.6534,0.1286,0.5108,0.6319,0.4508,0.0179,0.1964,0.0201,0.3668,1,0.0027,0,0.1269,0.3024,0.3103,0.7127,0.9246,0.0273,0.1502,0.2893,0.5658,0.0918,0.0007,0.0046,0.3659,0.4398,0.5446,0.01,0.2701,0.5645,0.1805,0.1332,0,0.1006,0,0.3843,0,0.0179,0,0.0755,0.4787,0.1315,0.7812,0.0623,0.5245,0.5542,0,0.0884,0.0196,0.0962,0.078,0.112,0.0114,0.6927,0.1319,0.01,0,0,0.1464,0.6152,0.0796,0.2628,0.8642,0.0754,0,0.0369,0.3996,0.3117,0,0.0183,0.5135,0.8024,0.5542,0.0414,0.938,0.2138,0.041,0.3224,0.1419,0.0016,0.319,0.0158,0,0.2834,0.4904,0.3157,0.035,0.312,0,0.1991,0.729,0,0.1527,0.0003,0.0098,0.0078,0,0.2204,0.0863,0.0083,0.1914,0.1616,0.2186,0.0028,0.444,0.0082,0.0784,0.5858,0.2375,0.0773,0,0.0295,0.3262,0.3533,0.1765,0.2656,0.4739,0.018,0.1784,0.0616,0.7858,0.4107,0.057,0.0131,0.5978,0.0147,0.1515,0.5296,0.0265,0,0.6351,0.4387,0.9796,0.3766,0.0853,0.367,0.0237,0.5512,0.168,0.887,0.012,0.5673,0.7718,0.6435,0,0.0672,0.0143,0.3906,0.0002,0.5979,0.7681,0,0.8176,0.2145,0.0299,0.0079,0,0.4967,0,0.0276,0.0084,0.2793,0.5279,0.0418,0.1707,0.3673,0.3423,0.0396,0.0556,0,0,0.2022,0.1789,0.4543,0.0681,0.3066,0.4954,0.7664,1,0.2598,0.3237,0.1612,0.0429,0.0972,0.0151,0.9915,0.22,0.523,0.5208,0.5746,0.2231,0.1738,0.2508,0.1118,0.135,0.3122,0.1026,0.1235,0.0887,0.5772,0.0026,0.39,0.5932,0.089,0.0789,0.019,0.3854,0.519,0,0.7084,0.7733,0.3999,0.03,0.0032,0.5165,0.4615,0.7992,0.0519,0.009,0.8717,0.5351,1,0.0323,0.0259,0.3414,0.1397,0.1806,0.627,1,0.0934,0.0354,0.7177,0.2195,0.0643,0.273,0.1079,0.0462,0.2156,0.3399,0.4483,0.3116,0,0.1606,0.0167,0.0079,1,0.9391,0.6811,0.1776,0.3728,0.1364,0.7638,0.1228,0.4026,0.017,0,0.7167,0.0697,0.0016,0.1062,0.0027,0,0.0303,0.3502,0.1349,0.0415,0.3207,0.6018,0.0422,0.3274,0.7961,0.3816,0.1277,0,0.9704,0.2713,0.1746,0.6605,0.8627,0.6154,0.3174,0.475,0.7282,0.2817,0.1752,0.4206,0.2837,0,0,0.0378,0.0488,0.1992,0.104,0.8713,0.2928,0.0253,0,0.667,0.0077,0.2185,0.3333,0.3169,0.2236,0.9242,0.8981,0.0067,0,0.0267,0.2356,0.1164,0.0668,0.645,0.0348,0.6929,0.2365,0.2618,0.1503,0.643,0.1667,0,0,0,0,0.1046,0.1478,0.36,0.5734,0,0.0504,0.6028,0.9704,0.2874,0.3819,0.0196,0.0879,0.5413,0.078,0.1027,0.9717,0.4519,0.6502,0.0542,0.0163,0.0951,0.1156,0.0793,0.7514,0.3324,0.4344,0.0579,0.2976,0,0.0209,0.4025,0.0089,0,0.3411,0.0198,0,0.0823,0.3171,0.1575,0.2702,0.1795,0.2553,0,0.4568,0.9414,0.2452,0.5832,0.6403,0.1315,0.0318,0.0583,0.2936,0,0.309,0.5964,0.5373,0.0446,0.0252,0.4485,0.5657,0,0.2994,0.2792,1,0.1366,0.5813,0.78,0.7903,0.056,0.1883,0.1346,0.2383,0.4321,0,0.9754,0.2536,0,0.0995,0.5312,0.1087,0.1308,0.3262,0.1274,0.0753,0.6281,0,0.1441,0.0953,0.2746,0.369,0.3699,0.7382,0.0176,0.4196,0.0386,0.2239,0.1253,0.0181,0.7386,0.4404,0.1628,0.0055,0.0464,0.0429,0.0406,1,0.2577,0.1115,0.1624,0.0034,0.1606,0.1025,0.0081,0.281,0.1609,0.4583,0,0.5432,0.0866,0.0016,0.6172,0.6366,0.1516,0.1201,0.005,0.0435,0.3752,0.0242,0.2349,0.0722,0,0.02,0.4248,0.1006,0.6038,0.7822,0.1619,0.5912,0.1879,0.4677,0.5432,0.0762,0.4001,0.2092,0.1395,0.1434,0.5904,0.3587,0.229,0.3289,0,0.224,0.4018,0.0972,0.2886,0.0195,0.3774,0.0121,0.518,0.0639,0.2422,0.0981,0.0196,0,0.0452,0.1014,0.3987,0.134,0,0,0.0313,0.3162,0.1095,0.1205,0.1448,0.346,0.1187,0.2933,0.0952,0.1195,0,0.1898,0.048,0.0646,0.0882,0.0258,0.4532,0.0847,0.0338,0.6625,0.7022,0.8215,0.1329,0.2073,0.1149,0.315,0,0,0.2855,0.0689,0,0.3942,0.4552,0.2881,0.0112,0.0356,0.6237,0.4179,0.0194,0.0802,0.1489,0.2232,0.9645,0.6229,0.264,0.1611,0.0045,0,0.6198,0.4293,0.0778,0.3939,0.0072,0.2467,0.1815,0.6861,1,0.3455,0.3329,0.1817,0.9867,0,0,0.3216,0,0.2421,0.3146,0.022,0.0239,0.3572,0.0701,0.1333,0.2967,0.0323,0.4438,0.0262,0.0374,0.4415,0.0711,0.2374,0.881,0.2258,0.3355,0.0068,0.0424,0,0.3976,0,0.0722,0.0731,0,0.3554,0.0642,0.7183,0.0814,0.1932,0.9433,0.258,0.6015,0.05,0.8513,0.8221,0.1969,0,0.1448,0.3862,0,0.1479,0.3769,0.1933,0.6239,0.0159,0,0.5878,0,0.1192,0.1067,0.1376,0.0072,0.4394,0.3831,0,0.1043,0.41,0.5898,0.6643,0.1498,0.3831,0.1824,0,0.4178,0.1883,0.0378,0.2279,0.1465,0.0349,0.3188,0.5293,0.2862,0.0881,0.8394,0.3101,0.0336,0,0.0889,0.1031,0.2168,0,0.1207,0.4013,0.1877,0,0.2652,0,0.1419,0.3238,0.0159,0,0.2332,0.0484,0.6414,0.5863,0.1909,0.1999,0.2389,0,0.508,0.387,0.2661,0.3387,0.342,0.0187,0.2715,0.1412,0.0706,0.1744,0.2033,0.4435,0.1722,0.0421,0.1085,0.1576,0,0.9393,0.216,0.3768,0.2604,0.2802,0.3821,0.1516,0.4156,0.337,0.4147,0.367,0.3245,0.1062,0.0081,0,0.0466,0.1842,0.2277,0.0875,0.3046,0.0591,0.0066,0.0025,0.1714,0.3583,0,0.4444,0.9523,0.0638,0.3579,0.1246,0.0933,0.1554,0.6471,0,0.7787,0.2196,0.0462,0.5636,0.6972,0.0031,0,0.5539,0.2369,0.6791,0.1904,0.2891,0.4365,0.4339,0.2841,0.0089,0.6173,0,0.2509,0.0432,0.7703,0.0423,0.1729,0.1722,0,0.2217,0.4601,0.12,0,0.6572,0.0899,0.1996,0.4934,0.001,0.1779,0.5226,0.0856,0,0.2499,0.3023,0.2186,0.6621,0.2306,0.1961,0,0.2406,0.3043,0,0.5362,0.2938,0.8456,0.1038,0.8375,0.0381,0.0872,0,0.9686,0.4231,0,0.0543,0,0.0863,0.1198,0.4615,0.4531,0.1111,1,0,0.1451,0.8174,0,0.1768,0.3301,0.223,0.1886,0.2511,0.4284,0.6844,0.616,0.3419,0.2203,0.1582,0.1305,0,0.007,0.0631,0.6918,0.1866,0.1657,0.0757,0.4957,0.1008,0.0657,0.8718,0.7112,0.4717,0.395,0.2875,0.0193,0.1319,0.0737,0.8926,0,0.0884,0.3059,0.3695,0,0,0.2646,0.4035,0.7287,0.3821,0.012,0.2491,0.3355,0.8159,0.0489,0.2373,0.5769,0.4988,0.1796,0.8859,0.0283,0.1194,0.8183,0.1368,0,0.3148,0.1265,0.0165,0.5323,0.1258,0.2978,0.0005,0.159,0,0.0307,0.067,0.1379,0.0437,0.0342,0.0345,0.1152,0.0014,0.0212,0.0275,0.003,0,0,0.2741,1,0.1683,0.0124,0.0236,0.4799,0.3534,0.1062,0.619,0.7254,0.0547,0.4963,0.0571,0,0.7392,0.162,0.3911,0.1868,0.3295,0.2019,0.0093,0.4086,0.0923,0.019,0.1897,0.3732,0.4236,0.1162,0.7131,0.3887,0.1466,0.0778,0.1109,0.4232,0.0174,0,0.3107,0.1971,0.1895,0.001,0.0489,0.3911,0.1556,0.7956,0.0482,0.7657,0.0622,0.9777,0,0.0027,0.1956,0.9315,0.8307,0,0.0187,0.0179,0.2051,0.4715,0,1,0.716,0.6541,0.306,0.5878,0.101,0.5564,0.3306,0.0359,0.1232,0.2771,0.4297,0.0881,0.3545,0.2696,0,0.0762,0.0004,0.4035,0.3171,0.0704,0.6093,0.0579,0.1277,0.3875,0.0411,0.235,0.0514,0,0.639,0.1613,0.0444,0.0976,0.2883,0.2915,0,0.2875,0.6354,0,0.4299,0.0118,0.034,0.1738,0.1779,0.2126,0,0.2086,0.1025,0.3378,0.1817,0.0096,0.0255,0.2212,0.4169,0.9217,0.0307,0.1393,0,0.4982,0.1168,0.2467,0.094,0.6319,0.1984,0.0176,0.0074,0.2253,0.1683,0,0.0449,0.6242,0.542,0.1231,0.0225,0,0.3804,0.1115,0.1903,0.1285,0.4599,0.0697,0.155,0.0306,0.7253,0.1006,0.0307,0.6726,0.9251,0.0461,0.3854,0.113,0,0.0145,0.1956,0.2561,0.4266,0.2429,0.4415,0.001,0.1659,0.6677,1,0.1432,0.0458,0.0156,0.391,0,0.004,0.7726,0.109,0.1516,0.3394,0.7821,0.1567,0.0109,0.2129,0.0416,0.2862,0.4812,0.757,0.173,0.2236,0,0.0734,0,0.6125,0.3377,0.022,0.2689,0.0778,0.645,0.2514,0.8484,0.0234,0.6381,0.5086,0.1547,0,0.2745,0.0505,0.1287,0.7401,0.0841,0,0.1971,0.2356,0.0855,0.0406,0.6279,0.2136,0.1349,0,0.1968,0.191,0.4427,0.24,0.0395,0.373,0.2973,0.5829,0.0101,0.0842,0.0228,0,0,0.1108,0.1439,0.7752,0.0704,0.1329,0.0053,0.9072,0.0288,0.8202,0,0.0245,0.0851,0.7471,0.5141,0.3998,1,0.0008,0.3706,0.6154,0.1174,0.0734,0.7497,0,0.0959,0.2772,0.008,0.3243,0.0463,0.3034,0.5858,0.0133,0.7146,0.0941,0.5147,0.2233,0.3456,0.6953,0,0,0,0.8099,1,0.0129,0.0061,0.0065,0.0274,0.0047,0.0815,0.0522,0.5708,0.114,0,0.7136,0.8118,0.1076,0.0714,0.6964,0.0112,0.2432,0,0.1057,0,0.2149,0.4294,0.119,0.2124,0,0.4612,0.2292,0,0.7774,0.0735,0.6311,0.6098,0.2523,0.0519,0.8866,0.0898,0.0458,0.3736,0.0064,0.2786,0.6051,0.1863,0.0221,0.3289,0,0.2054,0,0.3692,0.4332,0.439,0.0702,0,0.015,0.9722,0,0.3505,0.069,0,0.1554,0,0.2959,0.0393,0.6537,0.4246,0.555,0.0327,0,0.1899,0.008,0.4124,0.0063,0.8855,0.7462,0.9008,0.102,0.145,0.199,0.181,0.7925,0.0101,0,1,0.1186,0.684,0.5399,0,0.3679,0.0518,0.397,0.4764,0.2226,0.119,0.3613,0.3352,0.0228,0,0.5599,0.3865,0.2954,0.1531,0.1647,0.4433,0.2268,0.6706,0.183,0.1684,0.3492,0.0985,0.0209,0.7433,0,0,0.39,0.5392,0,0.0438,0.1657,0.003,1,0.0541,0.4053,0,0.1036,0.1224,0.8687,0.7707,0.5843,0,0.2929,0.0112,0.1033,0.2696,0.4529,0.8494,0.4326,0.0235,0.2001,0.1013,0.194,0,0.7184,0.8409,0.2039,0.3966,0.2567,0.0291,0.3012,0.0432,0.2282,0.2169,0.2731,0.251,0.0428,0.666,0.1801,0.0521,0.1065,0.929,0.2726,0.2246,0.1372,0.3204,0.0138,0.5542,0.9321,0.5092,0.6075,0,0.4182,0.0777,0.0315,0.6716,0.1649,0.2808,0.0037,0.0793,0.4414,0.1311,0.1327,0.2236,0.2076,0.0244,0.2928,0.2142,0.1581,0.3988,0.1984,0.3114,0.0085,0.8148,0.1737,0.3282,0.1155,0.4673,0.1686,0.4806,0.1912,0.2015,0.2177,0.5643,0.4524,0.3108,0,0.0318,0.6333,0.1056,0,0,0.1796,0.0026,0.3113,0.4165,0,0.0398,0,0.0451,0.0716,0.0391,0.15,0.1005,0.2821,0.037,0,0.3353,0.091,0.1075,0.7735,0.2979,0.8222,0.189,0,0.0592,0.2094,0.1208,0,0.2138,0.0083,0.906,0,0.1292,0.187,0.0123,0.1642,0.0363,0.1322] \n",
      "\n",
      "[1] \"Successfully submitted. Below you can see the details of your submission\"\n",
      "$url\n",
      "[1] \"http://46.101.121.83/submission/363/\"\n",
      "\n",
      "$submission\n",
      "[1] \"[0.0482, 0.214, 0.3955, 0, 0.6298, 0.1584, 0.3045, 0.3882, 0.0407, 0.0055, 0.2162, 0.1585, 0.0056, 1, 0.1376, 0, 0, 0.0915, 0.1455, 0, 0.0009, 0.327, 1, 0, 0.44, 0.0599, 0.4553, 0.4898, 0.3435, 0.2986, 0.3442, 0.6634, 0.0034, 0.3871, 0.5236, 0.1608, 0.736, 0.9031, 1, 0, 0.1057, 0.1373, 0.1096, 0.6867, 0.187, 0.7439, 0.1615, 0, 0.1513, 0.119, 0.035, 0, 0.167, 0.3832, 0.9395, 0.5403, 0.6464, 0.5604, 0.0565, 0.3418, 1, 0, 0.0201, 0.1558, 0.0638, 0.0184, 0, 0.0113, 0.6973, 0.0683, 0.69, 0, 0.0049, 0.751, 0.0075, 0.1671, 0.5253, 0.0371, 0.3303, 0.0385, 0.9652, 0.0438, 0, 0.6751, 0.1414, 0.2047, 0, 0.0225, 0.8999, 0.2619, 0.0168, 0.0427, 0.0867, 0.7775, 0.1308, 0.2284, 0.0389, 0.0643, 0.3007, 0.4063, 0.5801, 0.0506, 0.4715, 0.2647, 0.2868, 0.42, 0.0318, 0.2261, 0.1457, 0.0277, 0, 0.733, 0.0949, 0.5972, 0.2843, 0.0046, 0, 0.3248, 0.0109, 0.0043, 0.0278, 0.0489, 0.02, 0.06, 0.0846, 0, 0.0243, 0.2301, 0.6733, 0.0588, 0.4491, 0.2258, 0.3663, 0.1489, 0.3321, 0.4299, 0.0748, 0.582, 0.0442, 0.549, 0.2516, 0.1656, 0.3884, 0.3711, 0.2514, 0.198, 0.4864, 0.1479, 0.167, 0.039, 0, 0.2998, 0.1204, 0.0328, 0.0029, 0.1713, 0.0031, 0.3952, 0.1602, 0.8162, 0.1412, 0.0612, 0.046, 0.0714, 0.0102, 0.5502, 0.0443, 0.5751, 0, 0.1097, 0.5752, 0.233, 0.3035, 0.023, 0.3594, 0, 0.1726, 0.1899, 0.3687, 0.9643, 0.7077, 0.6479, 0.3824, 0, 0.7185, 0, 0, 0.0566, 0.1107, 0.1744, 0, 0.4247, 0.6133, 0.1245, 0.0007, 0, 0.0479, 0.0152, 0, 0.6794, 0.3774, 0.1044, 0.0851, 0.4974, 0.2317, 0.4469, 0, 0.8869, 0.0374, 0.6276, 0.063, 0, 0.0785, 0.5228, 0.1837, 0.5589, 0.084, 0, 0, 0.0469, 0.0729, 0.0045, 0.2045, 0.5163, 0.0621, 0.0093, 0.0849, 0.814, 0.2955, 0, 0.8479, 0.0179, 0.3615, 0.0098, 0.0042, 0.0386, 0.5891, 0.1163, 0.4481, 0.5619, 0.099, 0.027, 0.0273, 0.0277, 0.0173, 0.014, 0.6465, 0.6972, 0.6624, 0.0135, 0.0414, 0.8089, 0.6071, 0.308, 0.026, 0.435, 0.7266, 0.1549, 0.0511, 0.0592, 0.573, 0.2295, 0.0274, 0.2556, 0.4964, 0.3253, 0, 0.0805, 0.046, 0.1222, 0.2331, 0.1159, 0.2251, 0.1803, 0.0016, 0.1273, 0.4147, 0.0297, 0.2473, 0.1111, 0.1714, 0.0323, 0.1824, 0.1307, 0.5604, 0.2893, 0.062, 0.3439, 0.487, 0.2705, 0.3332, 0.0366, 0.3758, 0.3103, 0.241, 0.9678, 0.6605, 0.0775, 0.0021, 0.0328, 0.6776, 0.0028, 0.0002, 0, 0.0264, 0, 0.0577, 0.1145, 0.0489, 0.0147, 0.1444, 0.3299, 0.4118, 0.0054, 0.0001, 0.6925, 0.2114, 0.1508, 0.3966, 0.5159, 0.025, 0.1573, 0, 0.1703, 0.1872, 0.3234, 0.6262, 0.4236, 0.0213, 0.2191, 0.3744, 0.1294, 0.742, 0.4293, 0.6913, 0.1307, 0.3829, 0.8174, 0.0045, 0.0692, 0.0567, 0.0219, 0.06, 0.2409, 0.3127, 0.0044, 0.1587, 0.2015, 0.0371, 0.0484, 0.0273, 0, 0.082, 0.8972, 0.1286, 0.3078, 0.8127, 0.0759, 0.0938, 0.1515, 0.1294, 0.0195, 0.0563, 0.1364, 0.451, 0.2291, 0.6318, 0, 0, 0.0818, 0.9381, 0.0522, 0, 0.0648, 0.1185, 0.772, 0.0473, 0.0092, 0, 0.1904, 0.161, 0.2789, 0.033, 0.7192, 0.1112, 0.0569, 0.0171, 0.3105, 0.1237, 0.3823, 0, 0.0464, 0.6777, 0.1639, 0.0393, 0.3046, 0.0826, 0, 0, 0, 0.0504, 0.9138, 0.0398, 0.7551, 0.0561, 0.3719, 0.0515, 0.1749, 0.6113, 0.0669, 0.1866, 0.0369, 0.4315, 0, 0.4032, 0.417, 0.1475, 0.9183, 0.5652, 0.4464, 0.2556, 0.5162, 0.0029, 0.028, 0.1451, 0.2494, 0.0999, 0.4038, 0.0917, 0.3608, 0.5124, 0.0477, 0.4124, 0.1891, 0.6433, 0.2141, 0, 0.1617, 0.6388, 0.2494, 0.1438, 0.1282, 0.1145, 0.98, 0.0769, 0.5725, 0, 0, 0.6921, 0.0672, 0.4205, 0.2055, 0.0161, 0.79, 0.175, 0, 0.3986, 0.32, 0.8985, 0.5253, 0.0055, 0.0603, 0.1623, 0.8713, 0.0517, 0.2927, 0.1032, 0.0038, 0.0393, 0.4811, 0.2668, 0.6019, 0.0905, 0.0482, 0.4413, 0, 0.201, 0.8654, 0.3393, 0, 0, 0.1119, 0.9803, 0.056, 0, 0.0525, 0.6637, 0.0346, 0.3649, 0.1135, 0.5758, 0.2821, 0.6941, 0.6355, 0.0268, 0.0065, 0.8012, 0, 0.7074, 0.0393, 0.1177, 0.0986, 0, 0, 0.0703, 0, 0.2358, 0.337, 0.1177, 0.0133, 0.4283, 0.2415, 0.0334, 0.0083, 0, 0.18, 0, 0.0559, 0.536, 0.4775, 0, 0.0174, 0.2662, 0, 0.2177, 0.2326, 0, 0.7306, 0.1323, 0, 0.138, 0, 0.4228, 0.6392, 0.3916, 0, 1, 0.5773, 0.2685, 0.1603, 0.1031, 0.9425, 0.0104, 0.1471, 0.0694, 0.0284, 0.6362, 0.6578, 0.0058, 0.4913, 0.0135, 0.0135, 0.0379, 0.7933, 0.6364, 0.3403, 0.0513, 0, 0.0293, 0.2777, 0.0151, 0.0414, 0.0078, 0.1339, 0.252, 0.0052, 0.238, 0, 0.5173, 0.2826, 0.0078, 0.193, 0.2257, 0.3053, 0.2522, 0.3816, 0.4095, 0.2046, 0.1042, 0.0436, 0.005, 0, 0.2742, 0.3515, 0.1957, 0.4579, 0, 0.1129, 0.1613, 0.0312, 0.6835, 0.2201, 0, 0, 0, 0.6871, 0, 0.034, 0.0104, 0.4346, 0.0168, 0.1956, 0.4743, 0.0008, 0.1271, 0.2787, 1, 0.1278, 0.0657, 0.0466, 0.1787, 0.3583, 0.5943, 0.1268, 0.0121, 0.6154, 0, 0.2717, 0.1764, 0.9702, 0.1396, 0.456, 0.872, 0.7065, 0.2862, 0.2682, 0.0894, 0, 0.1446, 0.1266, 0.2086, 0.0993, 0.5895, 0.1295, 0.1967, 0, 0.3138, 0.1236, 0.0153, 0.2139, 0.2283, 0.028, 0, 0.0982, 0.1095, 0.0011, 0.1247, 0.0665, 0.5931, 0.2206, 0.0124, 0.031, 0.4858, 0.3809, 0.2544, 0.1011, 0.5128, 0.5198, 0.382, 0.1517, 0.5513, 0, 0.012, 0.5459, 0.1965, 0.1455, 0.5313, 0.0704, 0, 0.6918, 0.3869, 0.092, 0, 0.7499, 0.2983, 0.4342, 0, 0.5921, 0.3647, 0.3481, 0.0119, 0.9301, 0.089, 0.14, 0.1291, 0.5805, 0.2001, 0.3117, 0.0921, 0.1723, 0.0679, 0.0786, 0.3721, 0.2927, 0, 0.4379, 0.0502, 0.0435, 0.0284, 0.1993, 0.0328, 0.1944, 0.6534, 0.1286, 0.5108, 0.6319, 0.4508, 0.0179, 0.1964, 0.0201, 0.3668, 1, 0.0027, 0, 0.1269, 0.3024, 0.3103, 0.7127, 0.9246, 0.0273, 0.1502, 0.2893, 0.5658, 0.0918, 0.0007, 0.0046, 0.3659, 0.4398, 0.5446, 0.01, 0.2701, 0.5645, 0.1805, 0.1332, 0, 0.1006, 0, 0.3843, 0, 0.0179, 0, 0.0755, 0.4787, 0.1315, 0.7812, 0.0623, 0.5245, 0.5542, 0, 0.0884, 0.0196, 0.0962, 0.078, 0.112, 0.0114, 0.6927, 0.1319, 0.01, 0, 0, 0.1464, 0.6152, 0.0796, 0.2628, 0.8642, 0.0754, 0, 0.0369, 0.3996, 0.3117, 0, 0.0183, 0.5135, 0.8024, 0.5542, 0.0414, 0.938, 0.2138, 0.041, 0.3224, 0.1419, 0.0016, 0.319, 0.0158, 0, 0.2834, 0.4904, 0.3157, 0.035, 0.312, 0, 0.1991, 0.729, 0, 0.1527, 0.0003, 0.0098, 0.0078, 0, 0.2204, 0.0863, 0.0083, 0.1914, 0.1616, 0.2186, 0.0028, 0.444, 0.0082, 0.0784, 0.5858, 0.2375, 0.0773, 0, 0.0295, 0.3262, 0.3533, 0.1765, 0.2656, 0.4739, 0.018, 0.1784, 0.0616, 0.7858, 0.4107, 0.057, 0.0131, 0.5978, 0.0147, 0.1515, 0.5296, 0.0265, 0, 0.6351, 0.4387, 0.9796, 0.3766, 0.0853, 0.367, 0.0237, 0.5512, 0.168, 0.887, 0.012, 0.5673, 0.7718, 0.6435, 0, 0.0672, 0.0143, 0.3906, 0.0002, 0.5979, 0.7681, 0, 0.8176, 0.2145, 0.0299, 0.0079, 0, 0.4967, 0, 0.0276, 0.0084, 0.2793, 0.5279, 0.0418, 0.1707, 0.3673, 0.3423, 0.0396, 0.0556, 0, 0, 0.2022, 0.1789, 0.4543, 0.0681, 0.3066, 0.4954, 0.7664, 1, 0.2598, 0.3237, 0.1612, 0.0429, 0.0972, 0.0151, 0.9915, 0.22, 0.523, 0.5208, 0.5746, 0.2231, 0.1738, 0.2508, 0.1118, 0.135, 0.3122, 0.1026, 0.1235, 0.0887, 0.5772, 0.0026, 0.39, 0.5932, 0.089, 0.0789, 0.019, 0.3854, 0.519, 0, 0.7084, 0.7733, 0.3999, 0.03, 0.0032, 0.5165, 0.4615, 0.7992, 0.0519, 0.009, 0.8717, 0.5351, 1, 0.0323, 0.0259, 0.3414, 0.1397, 0.1806, 0.627, 1, 0.0934, 0.0354, 0.7177, 0.2195, 0.0643, 0.273, 0.1079, 0.0462, 0.2156, 0.3399, 0.4483, 0.3116, 0, 0.1606, 0.0167, 0.0079, 1, 0.9391, 0.6811, 0.1776, 0.3728, 0.1364, 0.7638, 0.1228, 0.4026, 0.017, 0, 0.7167, 0.0697, 0.0016, 0.1062, 0.0027, 0, 0.0303, 0.3502, 0.1349, 0.0415, 0.3207, 0.6018, 0.0422, 0.3274, 0.7961, 0.3816, 0.1277, 0, 0.9704, 0.2713, 0.1746, 0.6605, 0.8627, 0.6154, 0.3174, 0.475, 0.7282, 0.2817, 0.1752, 0.4206, 0.2837, 0, 0, 0.0378, 0.0488, 0.1992, 0.104, 0.8713, 0.2928, 0.0253, 0, 0.667, 0.0077, 0.2185, 0.3333, 0.3169, 0.2236, 0.9242, 0.8981, 0.0067, 0, 0.0267, 0.2356, 0.1164, 0.0668, 0.645, 0.0348, 0.6929, 0.2365, 0.2618, 0.1503, 0.643, 0.1667, 0, 0, 0, 0, 0.1046, 0.1478, 0.36, 0.5734, 0, 0.0504, 0.6028, 0.9704, 0.2874, 0.3819, 0.0196, 0.0879, 0.5413, 0.078, 0.1027, 0.9717, 0.4519, 0.6502, 0.0542, 0.0163, 0.0951, 0.1156, 0.0793, 0.7514, 0.3324, 0.4344, 0.0579, 0.2976, 0, 0.0209, 0.4025, 0.0089, 0, 0.3411, 0.0198, 0, 0.0823, 0.3171, 0.1575, 0.2702, 0.1795, 0.2553, 0, 0.4568, 0.9414, 0.2452, 0.5832, 0.6403, 0.1315, 0.0318, 0.0583, 0.2936, 0, 0.309, 0.5964, 0.5373, 0.0446, 0.0252, 0.4485, 0.5657, 0, 0.2994, 0.2792, 1, 0.1366, 0.5813, 0.78, 0.7903, 0.056, 0.1883, 0.1346, 0.2383, 0.4321, 0, 0.9754, 0.2536, 0, 0.0995, 0.5312, 0.1087, 0.1308, 0.3262, 0.1274, 0.0753, 0.6281, 0, 0.1441, 0.0953, 0.2746, 0.369, 0.3699, 0.7382, 0.0176, 0.4196, 0.0386, 0.2239, 0.1253, 0.0181, 0.7386, 0.4404, 0.1628, 0.0055, 0.0464, 0.0429, 0.0406, 1, 0.2577, 0.1115, 0.1624, 0.0034, 0.1606, 0.1025, 0.0081, 0.281, 0.1609, 0.4583, 0, 0.5432, 0.0866, 0.0016, 0.6172, 0.6366, 0.1516, 0.1201, 0.005, 0.0435, 0.3752, 0.0242, 0.2349, 0.0722, 0, 0.02, 0.4248, 0.1006, 0.6038, 0.7822, 0.1619, 0.5912, 0.1879, 0.4677, 0.5432, 0.0762, 0.4001, 0.2092, 0.1395, 0.1434, 0.5904, 0.3587, 0.229, 0.3289, 0, 0.224, 0.4018, 0.0972, 0.2886, 0.0195, 0.3774, 0.0121, 0.518, 0.0639, 0.2422, 0.0981, 0.0196, 0, 0.0452, 0.1014, 0.3987, 0.134, 0, 0, 0.0313, 0.3162, 0.1095, 0.1205, 0.1448, 0.346, 0.1187, 0.2933, 0.0952, 0.1195, 0, 0.1898, 0.048, 0.0646, 0.0882, 0.0258, 0.4532, 0.0847, 0.0338, 0.6625, 0.7022, 0.8215, 0.1329, 0.2073, 0.1149, 0.315, 0, 0, 0.2855, 0.0689, 0, 0.3942, 0.4552, 0.2881, 0.0112, 0.0356, 0.6237, 0.4179, 0.0194, 0.0802, 0.1489, 0.2232, 0.9645, 0.6229, 0.264, 0.1611, 0.0045, 0, 0.6198, 0.4293, 0.0778, 0.3939, 0.0072, 0.2467, 0.1815, 0.6861, 1, 0.3455, 0.3329, 0.1817, 0.9867, 0, 0, 0.3216, 0, 0.2421, 0.3146, 0.022, 0.0239, 0.3572, 0.0701, 0.1333, 0.2967, 0.0323, 0.4438, 0.0262, 0.0374, 0.4415, 0.0711, 0.2374, 0.881, 0.2258, 0.3355, 0.0068, 0.0424, 0, 0.3976, 0, 0.0722, 0.0731, 0, 0.3554, 0.0642, 0.7183, 0.0814, 0.1932, 0.9433, 0.258, 0.6015, 0.05, 0.8513, 0.8221, 0.1969, 0, 0.1448, 0.3862, 0, 0.1479, 0.3769, 0.1933, 0.6239, 0.0159, 0, 0.5878, 0, 0.1192, 0.1067, 0.1376, 0.0072, 0.4394, 0.3831, 0, 0.1043, 0.41, 0.5898, 0.6643, 0.1498, 0.3831, 0.1824, 0, 0.4178, 0.1883, 0.0378, 0.2279, 0.1465, 0.0349, 0.3188, 0.5293, 0.2862, 0.0881, 0.8394, 0.3101, 0.0336, 0, 0.0889, 0.1031, 0.2168, 0, 0.1207, 0.4013, 0.1877, 0, 0.2652, 0, 0.1419, 0.3238, 0.0159, 0, 0.2332, 0.0484, 0.6414, 0.5863, 0.1909, 0.1999, 0.2389, 0, 0.508, 0.387, 0.2661, 0.3387, 0.342, 0.0187, 0.2715, 0.1412, 0.0706, 0.1744, 0.2033, 0.4435, 0.1722, 0.0421, 0.1085, 0.1576, 0, 0.9393, 0.216, 0.3768, 0.2604, 0.2802, 0.3821, 0.1516, 0.4156, 0.337, 0.4147, 0.367, 0.3245, 0.1062, 0.0081, 0, 0.0466, 0.1842, 0.2277, 0.0875, 0.3046, 0.0591, 0.0066, 0.0025, 0.1714, 0.3583, 0, 0.4444, 0.9523, 0.0638, 0.3579, 0.1246, 0.0933, 0.1554, 0.6471, 0, 0.7787, 0.2196, 0.0462, 0.5636, 0.6972, 0.0031, 0, 0.5539, 0.2369, 0.6791, 0.1904, 0.2891, 0.4365, 0.4339, 0.2841, 0.0089, 0.6173, 0, 0.2509, 0.0432, 0.7703, 0.0423, 0.1729, 0.1722, 0, 0.2217, 0.4601, 0.12, 0, 0.6572, 0.0899, 0.1996, 0.4934, 0.001, 0.1779, 0.5226, 0.0856, 0, 0.2499, 0.3023, 0.2186, 0.6621, 0.2306, 0.1961, 0, 0.2406, 0.3043, 0, 0.5362, 0.2938, 0.8456, 0.1038, 0.8375, 0.0381, 0.0872, 0, 0.9686, 0.4231, 0, 0.0543, 0, 0.0863, 0.1198, 0.4615, 0.4531, 0.1111, 1, 0, 0.1451, 0.8174, 0, 0.1768, 0.3301, 0.223, 0.1886, 0.2511, 0.4284, 0.6844, 0.616, 0.3419, 0.2203, 0.1582, 0.1305, 0, 0.007, 0.0631, 0.6918, 0.1866, 0.1657, 0.0757, 0.4957, 0.1008, 0.0657, 0.8718, 0.7112, 0.4717, 0.395, 0.2875, 0.0193, 0.1319, 0.0737, 0.8926, 0, 0.0884, 0.3059, 0.3695, 0, 0, 0.2646, 0.4035, 0.7287, 0.3821, 0.012, 0.2491, 0.3355, 0.8159, 0.0489, 0.2373, 0.5769, 0.4988, 0.1796, 0.8859, 0.0283, 0.1194, 0.8183, 0.1368, 0, 0.3148, 0.1265, 0.0165, 0.5323, 0.1258, 0.2978, 0.0005, 0.159, 0, 0.0307, 0.067, 0.1379, 0.0437, 0.0342, 0.0345, 0.1152, 0.0014, 0.0212, 0.0275, 0.003, 0, 0, 0.2741, 1, 0.1683, 0.0124, 0.0236, 0.4799, 0.3534, 0.1062, 0.619, 0.7254, 0.0547, 0.4963, 0.0571, 0, 0.7392, 0.162, 0.3911, 0.1868, 0.3295, 0.2019, 0.0093, 0.4086, 0.0923, 0.019, 0.1897, 0.3732, 0.4236, 0.1162, 0.7131, 0.3887, 0.1466, 0.0778, 0.1109, 0.4232, 0.0174, 0, 0.3107, 0.1971, 0.1895, 0.001, 0.0489, 0.3911, 0.1556, 0.7956, 0.0482, 0.7657, 0.0622, 0.9777, 0, 0.0027, 0.1956, 0.9315, 0.8307, 0, 0.0187, 0.0179, 0.2051, 0.4715, 0, 1, 0.716, 0.6541, 0.306, 0.5878, 0.101, 0.5564, 0.3306, 0.0359, 0.1232, 0.2771, 0.4297, 0.0881, 0.3545, 0.2696, 0, 0.0762, 0.0004, 0.4035, 0.3171, 0.0704, 0.6093, 0.0579, 0.1277, 0.3875, 0.0411, 0.235, 0.0514, 0, 0.639, 0.1613, 0.0444, 0.0976, 0.2883, 0.2915, 0, 0.2875, 0.6354, 0, 0.4299, 0.0118, 0.034, 0.1738, 0.1779, 0.2126, 0, 0.2086, 0.1025, 0.3378, 0.1817, 0.0096, 0.0255, 0.2212, 0.4169, 0.9217, 0.0307, 0.1393, 0, 0.4982, 0.1168, 0.2467, 0.094, 0.6319, 0.1984, 0.0176, 0.0074, 0.2253, 0.1683, 0, 0.0449, 0.6242, 0.542, 0.1231, 0.0225, 0, 0.3804, 0.1115, 0.1903, 0.1285, 0.4599, 0.0697, 0.155, 0.0306, 0.7253, 0.1006, 0.0307, 0.6726, 0.9251, 0.0461, 0.3854, 0.113, 0, 0.0145, 0.1956, 0.2561, 0.4266, 0.2429, 0.4415, 0.001, 0.1659, 0.6677, 1, 0.1432, 0.0458, 0.0156, 0.391, 0, 0.004, 0.7726, 0.109, 0.1516, 0.3394, 0.7821, 0.1567, 0.0109, 0.2129, 0.0416, 0.2862, 0.4812, 0.757, 0.173, 0.2236, 0, 0.0734, 0, 0.6125, 0.3377, 0.022, 0.2689, 0.0778, 0.645, 0.2514, 0.8484, 0.0234, 0.6381, 0.5086, 0.1547, 0, 0.2745, 0.0505, 0.1287, 0.7401, 0.0841, 0, 0.1971, 0.2356, 0.0855, 0.0406, 0.6279, 0.2136, 0.1349, 0, 0.1968, 0.191, 0.4427, 0.24, 0.0395, 0.373, 0.2973, 0.5829, 0.0101, 0.0842, 0.0228, 0, 0, 0.1108, 0.1439, 0.7752, 0.0704, 0.1329, 0.0053, 0.9072, 0.0288, 0.8202, 0, 0.0245, 0.0851, 0.7471, 0.5141, 0.3998, 1, 0.0008, 0.3706, 0.6154, 0.1174, 0.0734, 0.7497, 0, 0.0959, 0.2772, 0.008, 0.3243, 0.0463, 0.3034, 0.5858, 0.0133, 0.7146, 0.0941, 0.5147, 0.2233, 0.3456, 0.6953, 0, 0, 0, 0.8099, 1, 0.0129, 0.0061, 0.0065, 0.0274, 0.0047, 0.0815, 0.0522, 0.5708, 0.114, 0, 0.7136, 0.8118, 0.1076, 0.0714, 0.6964, 0.0112, 0.2432, 0, 0.1057, 0, 0.2149, 0.4294, 0.119, 0.2124, 0, 0.4612, 0.2292, 0, 0.7774, 0.0735, 0.6311, 0.6098, 0.2523, 0.0519, 0.8866, 0.0898, 0.0458, 0.3736, 0.0064, 0.2786, 0.6051, 0.1863, 0.0221, 0.3289, 0, 0.2054, 0, 0.3692, 0.4332, 0.439, 0.0702, 0, 0.015, 0.9722, 0, 0.3505, 0.069, 0, 0.1554, 0, 0.2959, 0.0393, 0.6537, 0.4246, 0.555, 0.0327, 0, 0.1899, 0.008, 0.4124, 0.0063, 0.8855, 0.7462, 0.9008, 0.102, 0.145, 0.199, 0.181, 0.7925, 0.0101, 0, 1, 0.1186, 0.684, 0.5399, 0, 0.3679, 0.0518, 0.397, 0.4764, 0.2226, 0.119, 0.3613, 0.3352, 0.0228, 0, 0.5599, 0.3865, 0.2954, 0.1531, 0.1647, 0.4433, 0.2268, 0.6706, 0.183, 0.1684, 0.3492, 0.0985, 0.0209, 0.7433, 0, 0, 0.39, 0.5392, 0, 0.0438, 0.1657, 0.003, 1, 0.0541, 0.4053, 0, 0.1036, 0.1224, 0.8687, 0.7707, 0.5843, 0, 0.2929, 0.0112, 0.1033, 0.2696, 0.4529, 0.8494, 0.4326, 0.0235, 0.2001, 0.1013, 0.194, 0, 0.7184, 0.8409, 0.2039, 0.3966, 0.2567, 0.0291, 0.3012, 0.0432, 0.2282, 0.2169, 0.2731, 0.251, 0.0428, 0.666, 0.1801, 0.0521, 0.1065, 0.929, 0.2726, 0.2246, 0.1372, 0.3204, 0.0138, 0.5542, 0.9321, 0.5092, 0.6075, 0, 0.4182, 0.0777, 0.0315, 0.6716, 0.1649, 0.2808, 0.0037, 0.0793, 0.4414, 0.1311, 0.1327, 0.2236, 0.2076, 0.0244, 0.2928, 0.2142, 0.1581, 0.3988, 0.1984, 0.3114, 0.0085, 0.8148, 0.1737, 0.3282, 0.1155, 0.4673, 0.1686, 0.4806, 0.1912, 0.2015, 0.2177, 0.5643, 0.4524, 0.3108, 0, 0.0318, 0.6333, 0.1056, 0, 0, 0.1796, 0.0026, 0.3113, 0.4165, 0, 0.0398, 0, 0.0451, 0.0716, 0.0391, 0.15, 0.1005, 0.2821, 0.037, 0, 0.3353, 0.091, 0.1075, 0.7735, 0.2979, 0.8222, 0.189, 0, 0.0592, 0.2094, 0.1208, 0, 0.2138, 0.0083, 0.906, 0, 0.1292, 0.187, 0.0123, 0.1642, 0.0363, 0.1322]\"\n",
      "\n",
      "$user\n",
      "$user$url\n",
      "[1] \"http://46.101.121.83/group/12/\"\n",
      "\n",
      "$user$username\n",
      "[1] \"Miners\"\n",
      "\n",
      "$user$best_score\n",
      "[1] 0.8621\n",
      "\n",
      "$user$students\n",
      "[1] \"2016402000;2016402150;2017402060\"\n",
      "\n",
      "\n",
      "$competition\n",
      "[1] \"IE582-Test Data\"\n",
      "\n",
      "$auc\n",
      "[1] 0.9265549\n",
      "\n",
      "$ber\n",
      "[1] 0.7975984\n",
      "\n",
      "$score\n",
      "[1] 0.8620767\n",
      "\n",
      "$date\n",
      "[1] \"2021-02-09T12:47:03.000148+03:00\"\n",
      "\n"
     ]
    }
   ],
   "source": [
    "send_submission(a, token, url=subm_url, submit_now= submit_now)"
   ]
  },
  {
   "cell_type": "code",
   "execution_count": null,
   "metadata": {},
   "outputs": [],
   "source": []
  }
 ],
 "metadata": {
  "kernelspec": {
   "display_name": "R",
   "language": "R",
   "name": "ir"
  },
  "language_info": {
   "codemirror_mode": "r",
   "file_extension": ".r",
   "mimetype": "text/x-r-source",
   "name": "R",
   "pygments_lexer": "r",
   "version": "3.6.1"
  }
 },
 "nbformat": 4,
 "nbformat_minor": 4
}
