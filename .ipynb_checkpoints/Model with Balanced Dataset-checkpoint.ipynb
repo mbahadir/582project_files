{
 "cells": [
  {
   "cell_type": "markdown",
   "metadata": {},
   "source": [
    "# Submission Code"
   ]
  },
  {
   "cell_type": "code",
   "execution_count": 1,
   "metadata": {},
   "outputs": [
    {
     "name": "stderr",
     "output_type": "stream",
     "text": [
      "Loading required package: jsonlite\n",
      "Loading required package: httr\n",
      "Warning message:\n",
      "\"package 'httr' was built under R version 3.6.3\"Loading required package: data.table\n"
     ]
    }
   ],
   "source": [
    "# install the required packages first\n",
    "require(jsonlite)\n",
    "require(httr)\n",
    "require(data.table)\n",
    "\n",
    "get_token <- function(username, password, url_site){\n",
    "    \n",
    "    post_body = list(username=username,password=password)\n",
    "    post_url_string = paste0(url_site,'/token/')\n",
    "    result = POST(post_url_string, body = post_body)\n",
    "\n",
    "    # error handling (wrong credentials)\n",
    "    if(result$status_code==400){\n",
    "        print('Check your credentials')\n",
    "        return(0)\n",
    "    }\n",
    "    else if (result$status_code==201){\n",
    "        output = content(result)\n",
    "        token = output$key\n",
    "    }\n",
    "\n",
    "    return(token)\n",
    "}\n",
    "\n",
    "\n",
    "\n",
    "send_submission <- function(predictions, token, url_site, submit_now=F){\n",
    "    \n",
    "    format_check=check_format(predictions)\n",
    "    if(!format_check){\n",
    "        return(FALSE)\n",
    "    }\n",
    "    \n",
    "    post_string=\"list(\"\n",
    "    for(i in 1:length(predictions)){\n",
    "        if(i<length(predictions)){\n",
    "            post_string=sprintf(\"%s%s,\",post_string,predictions[i])\n",
    "        } else {\n",
    "            post_string=sprintf(\"%s%s)\",post_string,predictions[i])\n",
    "        }\n",
    "    }\n",
    "    \n",
    "    submission = eval(parse(text=post_string))\n",
    "    json_body = jsonlite::toJSON(submission, auto_unbox = TRUE)\n",
    "    submission=list(submission=json_body)\n",
    "    print(submission)\n",
    "\n",
    "    if(!submit_now){\n",
    "        print(\"You did not submit.\")\n",
    "        return(FALSE)      \n",
    "    }\n",
    "    \n",
    "\n",
    "    header = add_headers(c(Authorization=paste('Token',token,sep=' ')))\n",
    "    post_url_string = paste0(url_site,'/submission/')\n",
    "    result = POST(post_url_string, header, body=submission)\n",
    "    \n",
    "    if (result$status_code==201){\n",
    "        print(\"Successfully submitted. Below you can see the details of your submission\")\n",
    "    } else {\n",
    "        print(\"Could not submit. Please check the error message below, contact the assistant if needed.\")\n",
    "    }\n",
    "    \n",
    "    print(content(result))\n",
    "    \n",
    "}\n",
    "\n",
    "check_format <- function(predictions){\n",
    "    \n",
    "    if(all(is.numeric(predictions)) & all(predictions<=1)){\n",
    "        print(\"Format OK\")\n",
    "        return(TRUE)\n",
    "    } else {\n",
    "        print(\"Wrong format\")\n",
    "        return(FALSE)\n",
    "    }\n",
    "    \n",
    "}\n",
    "\n",
    "# this part is main code\n",
    "subm_url = 'http://46.101.121.83'\n",
    "\n",
    "u_name = \"Miners\"\n",
    "p_word = \"NsY7hhlU9zjl8DH3\"\n",
    "submit_now = TRUE\n",
    "\n",
    "username = u_name\n",
    "password = p_word\n",
    "\n",
    "token = get_token(username=u_name, password=p_word, url=subm_url)\n",
    "# this part is where you need to provide your prediction method/function or set of R codes\n"
   ]
  },
  {
   "cell_type": "markdown",
   "metadata": {},
   "source": [
    "# Model"
   ]
  },
  {
   "cell_type": "code",
   "execution_count": 2,
   "metadata": {},
   "outputs": [
    {
     "name": "stderr",
     "output_type": "stream",
     "text": [
      "Warning message:\n",
      "\"package 'ggplot2' was built under R version 3.6.3\"Warning message:\n",
      "\"package 'dplyr' was built under R version 3.6.3\"\n",
      "Attaching package: 'dplyr'\n",
      "\n",
      "The following objects are masked from 'package:data.table':\n",
      "\n",
      "    between, first, last\n",
      "\n",
      "The following objects are masked from 'package:stats':\n",
      "\n",
      "    filter, lag\n",
      "\n",
      "The following objects are masked from 'package:base':\n",
      "\n",
      "    intersect, setdiff, setequal, union\n",
      "\n",
      "Registered S3 method overwritten by 'rvest':\n",
      "  method            from\n",
      "  read_xml.response xml2\n",
      "-- Attaching packages ------------------------------------------------------------------------------- tidyverse 1.2.1 --\n",
      "<U+221A> tibble  3.0.4     <U+221A> purrr   0.3.2\n",
      "<U+221A> tidyr   1.1.2     <U+221A> stringr 1.4.0\n",
      "<U+221A> readr   1.3.1     <U+221A> forcats 0.4.0\n",
      "Warning message:\n",
      "\"package 'tibble' was built under R version 3.6.3\"Warning message:\n",
      "\"package 'tidyr' was built under R version 3.6.3\"-- Conflicts ---------------------------------------------------------------------------------- tidyverse_conflicts() --\n",
      "x dplyr::between()   masks data.table::between()\n",
      "x dplyr::filter()    masks stats::filter()\n",
      "x dplyr::first()     masks data.table::first()\n",
      "x purrr::flatten()   masks jsonlite::flatten()\n",
      "x dplyr::lag()       masks stats::lag()\n",
      "x dplyr::last()      masks data.table::last()\n",
      "x purrr::transpose() masks data.table::transpose()\n",
      "Warning message:\n",
      "\"package 'Information' was built under R version 3.6.3\"Warning message:\n",
      "\"package 'FactoMineR' was built under R version 3.6.3\""
     ]
    }
   ],
   "source": [
    "library(ggplot2)\n",
    "library(dplyr)\n",
    "library(tidyverse)\n",
    "library(Information)\n",
    "library(FactoMineR)\n",
    "library(caTools)"
   ]
  },
  {
   "cell_type": "code",
   "execution_count": 3,
   "metadata": {},
   "outputs": [],
   "source": [
    "TrainData<-read.csv(\"IE582_Fall20_ProjectTrain.csv\")\n",
    "\n",
    "TrainData<-TrainData[,-c(50,52)]"
   ]
  },
  {
   "cell_type": "code",
   "execution_count": 4,
   "metadata": {},
   "outputs": [],
   "source": [
    "TrainData=as.data.table(TrainData)"
   ]
  },
  {
   "cell_type": "code",
   "execution_count": 5,
   "metadata": {},
   "outputs": [],
   "source": [
    "set.seed(35)\n",
    "ind_a=sample(1:1565, 400, replace=FALSE)\n",
    "ind_b=sample(1:509, 400, replace=FALSE)"
   ]
  },
  {
   "cell_type": "code",
   "execution_count": 6,
   "metadata": {},
   "outputs": [],
   "source": [
    "dt_new_sub_a=TrainData[TrainData[,y==\"a\"]][ind_a]\n",
    "dt_new_sub_b=TrainData[TrainData[,y==\"b\"]][ind_b]"
   ]
  },
  {
   "cell_type": "code",
   "execution_count": 7,
   "metadata": {},
   "outputs": [],
   "source": [
    "dt_new_sub_a_test=TrainData[TrainData[,y==\"a\"]][!ind_a]\n",
    "dt_new_sub_b_test=TrainData[TrainData[,y==\"b\"]][!ind_b]"
   ]
  },
  {
   "cell_type": "code",
   "execution_count": 9,
   "metadata": {},
   "outputs": [],
   "source": [
    "dt_new_train=rbind(dt_new_sub_a,dt_new_sub_b)\n",
    "dt_new_test=rbind(dt_new_sub_a_test,dt_new_sub_b_test)"
   ]
  },
  {
   "cell_type": "code",
   "execution_count": 10,
   "metadata": {},
   "outputs": [
    {
     "name": "stdout",
     "output_type": "stream",
     "text": [
      "Classes 'data.table' and 'data.frame':\t640 obs. of  59 variables:\n",
      " $ x1 : int  38 30 33 30 29 33 33 36 26 29 ...\n",
      " $ x2 : int  0 1 1 1 1 1 1 1 0 1 ...\n",
      " $ x3 : int  1 1 0 0 1 0 1 1 1 0 ...\n",
      " $ x4 : int  0 1 0 1 0 1 1 1 1 1 ...\n",
      " $ x5 : int  5 11 10 7 7 17 13 14 15 13 ...\n",
      " $ x6 : int  10 12 4 17 12 6 18 2 4 13 ...\n",
      " $ x7 : int  12 1 2 15 0 17 11 11 18 15 ...\n",
      " $ x8 : int  28 40 41 34 25 42 26 29 22 29 ...\n",
      " $ x9 : num  101.1 68.6 77.9 114.9 184.9 ...\n",
      " $ x10: num  173 113 115 144 102 ...\n",
      " $ x11: num  41.6 160.2 132.1 166.2 79.2 ...\n",
      " $ x12: int  0 0 0 1 1 0 1 0 0 0 ...\n",
      " $ x13: int  1 0 0 0 0 0 0 1 0 0 ...\n",
      " $ x14: int  404 404 555 404 404 252 404 404 404 353 ...\n",
      " $ x15: int  0 1 1 1 1 0 1 0 1 1 ...\n",
      " $ x16: int  0 0 1 0 0 0 0 0 0 0 ...\n",
      " $ x17: int  0 0 0 1 0 0 0 1 1 0 ...\n",
      " $ x18: int  0 0 0 0 0 0 0 0 0 0 ...\n",
      " $ x19: int  0 0 0 0 0 0 0 0 0 0 ...\n",
      " $ x20: int  0 0 0 0 1 0 0 0 0 0 ...\n",
      " $ x21: int  0 0 0 0 0 0 0 0 0 0 ...\n",
      " $ x22: int  0 0 0 0 0 0 0 0 0 0 ...\n",
      " $ x23: int  1 1 0 0 1 0 1 0 0 0 ...\n",
      " $ x24: int  0 0 0 0 0 1 0 0 0 0 ...\n",
      " $ x25: int  0 1 0 0 1 0 0 1 0 0 ...\n",
      " $ x26: int  0 0 0 0 0 0 0 0 0 0 ...\n",
      " $ x27: int  40 135 106 124 139 122 194 57 87 132 ...\n",
      " $ x28: int  1 0 0 0 0 1 0 0 0 0 ...\n",
      " $ x29: int  0 0 0 0 0 0 0 0 0 0 ...\n",
      " $ x30: int  562 812 687 375 624 562 437 562 312 624 ...\n",
      " $ x31: int  0 0 0 0 0 0 0 1 0 0 ...\n",
      " $ x32: int  588 255 278 366 333 255 389 289 311 222 ...\n",
      " $ x33: int  0 0 1 0 0 0 0 0 0 0 ...\n",
      " $ x34: int  0 0 1 0 0 0 0 0 0 0 ...\n",
      " $ x35: int  0 0 0 0 0 0 0 0 0 0 ...\n",
      " $ x36: int  0 0 0 0 0 0 0 0 0 0 ...\n",
      " $ x37: int  0 0 0 0 0 0 0 0 0 0 ...\n",
      " $ x38: int  0 0 0 0 0 0 0 0 0 0 ...\n",
      " $ x39: int  0 0 0 1 0 0 0 0 0 0 ...\n",
      " $ x40: int  0 0 0 0 0 0 0 0 1 0 ...\n",
      " $ x41: int  0 1 0 1 1 1 1 0 1 1 ...\n",
      " $ x42: int  50 0 0 0 0 0 0 0 0 0 ...\n",
      " $ x43: int  0 0 0 0 0 0 0 0 0 0 ...\n",
      " $ x44: int  1 0 1 0 0 1 1 1 1 1 ...\n",
      " $ x45: int  0 0 0 1 0 0 1 0 0 0 ...\n",
      " $ x46: int  0 0 0 0 0 0 0 0 0 0 ...\n",
      " $ x47: int  1 0 0 0 0 0 0 0 0 1 ...\n",
      " $ x48: int  0 0 0 0 0 0 0 0 0 0 ...\n",
      " $ x49: int  0 0 0 0 0 0 0 0 0 0 ...\n",
      " $ x51: int  0 0 0 0 0 0 0 0 1 0 ...\n",
      " $ x53: int  0 0 0 0 0 0 0 0 0 0 ...\n",
      " $ x54: int  0 0 1 0 0 1 0 1 1 1 ...\n",
      " $ x55: int  0 0 0 0 0 0 0 0 0 0 ...\n",
      " $ x56: int  1 0 0 0 0 0 1 0 0 0 ...\n",
      " $ x57: int  0 0 0 0 0 0 0 0 0 0 ...\n",
      " $ x58: int  0 0 0 0 0 1 0 0 0 1 ...\n",
      " $ x59: int  0 0 0 0 0 0 0 0 0 0 ...\n",
      " $ x60: int  0 1 0 0 0 0 0 0 0 0 ...\n",
      " $ y  : Factor w/ 2 levels \"a\",\"b\": 1 1 1 1 1 1 1 1 1 1 ...\n",
      " - attr(*, \".internal.selfref\")=<externalptr> \n"
     ]
    }
   ],
   "source": [
    "set.seed(150)\n",
    "spl=sample.split(dt_new_train$y, SplitRatio = 0.8)\n",
    "train=subset(dt_new_train,spl==TRUE)\n",
    "test=subset(dt_new_train,spl==FALSE)\n",
    "str(train)"
   ]
  },
  {
   "cell_type": "markdown",
   "metadata": {},
   "source": [
    "### Performance Function"
   ]
  },
  {
   "cell_type": "code",
   "execution_count": 11,
   "metadata": {},
   "outputs": [],
   "source": [
    "perf_dt=function(type,actual,forecast){\n",
    "    name=type\n",
    "    n=length(actual)\n",
    "    error=actual-forecast\n",
    "    mean=mean(actual)\n",
    "    sd=sd(actual)\n",
    "    FBias=sum(error)/sum(actual)\n",
    "    MPE=sum(error/actual)/n\n",
    "    MAPE=sum(abs(error/actual))/n\n",
    "    RMSE=sqrt(sum(error^2))/n\n",
    "    MAD=sum(abs(error))/n\n",
    "    WMAPE=MAD/mean\n",
    "    l=data.frame(name,n,mean,sd,FBias,MAPE,RMSE,MAD,WMAPE)\n",
    "    return(l)\n",
    "}"
   ]
  },
  {
   "cell_type": "markdown",
   "metadata": {},
   "source": [
    "# Prediction & Control with Train Dataset"
   ]
  },
  {
   "cell_type": "code",
   "execution_count": 12,
   "metadata": {},
   "outputs": [
    {
     "name": "stderr",
     "output_type": "stream",
     "text": [
      "Loading required package: lattice\n",
      "\n",
      "Attaching package: 'caret'\n",
      "\n",
      "The following object is masked from 'package:purrr':\n",
      "\n",
      "    lift\n",
      "\n",
      "The following object is masked from 'package:httr':\n",
      "\n",
      "    progress\n",
      "\n",
      "Warning message:\n",
      "\"package 'e1071' was built under R version 3.6.3\""
     ]
    }
   ],
   "source": [
    "library(caret)\n",
    "library(e1071)"
   ]
  },
  {
   "cell_type": "code",
   "execution_count": 13,
   "metadata": {},
   "outputs": [],
   "source": [
    "fitControl=trainControl(method = \"repeatedcv\",\n",
    "                           number = 10)"
   ]
  },
  {
   "cell_type": "code",
   "execution_count": 14,
   "metadata": {},
   "outputs": [],
   "source": [
    "gbmGrid=expand.grid(interaction.depth = c(1, 3, 5), \n",
    "                        n.trees = (1:5)*10, \n",
    "                        shrinkage = c(0.1, 0.3, 0.5),\n",
    "                        n.minobsinnode = 20)"
   ]
  },
  {
   "cell_type": "code",
   "execution_count": 16,
   "metadata": {
    "scrolled": true
   },
   "outputs": [
    {
     "name": "stderr",
     "output_type": "stream",
     "text": [
      "Warning message in (function (x, y, offset = NULL, misc = NULL, distribution = \"bernoulli\", :\n",
      "\"variable 37: x37 has no variation.\"Warning message in (function (x, y, offset = NULL, misc = NULL, distribution = \"bernoulli\", :\n",
      "\"variable 37: x37 has no variation.\"Warning message in (function (x, y, offset = NULL, misc = NULL, distribution = \"bernoulli\", :\n",
      "\"variable 37: x37 has no variation.\"Warning message in (function (x, y, offset = NULL, misc = NULL, distribution = \"bernoulli\", :\n",
      "\"variable 37: x37 has no variation.\"Warning message in (function (x, y, offset = NULL, misc = NULL, distribution = \"bernoulli\", :\n",
      "\"variable 37: x37 has no variation.\"Warning message in (function (x, y, offset = NULL, misc = NULL, distribution = \"bernoulli\", :\n",
      "\"variable 37: x37 has no variation.\"Warning message in (function (x, y, offset = NULL, misc = NULL, distribution = \"bernoulli\", :\n",
      "\"variable 37: x37 has no variation.\"Warning message in (function (x, y, offset = NULL, misc = NULL, distribution = \"bernoulli\", :\n",
      "\"variable 37: x37 has no variation.\"Warning message in (function (x, y, offset = NULL, misc = NULL, distribution = \"bernoulli\", :\n",
      "\"variable 37: x37 has no variation.\"Warning message in (function (x, y, offset = NULL, misc = NULL, distribution = \"bernoulli\", :\n",
      "\"variable 37: x37 has no variation.\"Warning message in (function (x, y, offset = NULL, misc = NULL, distribution = \"bernoulli\", :\n",
      "\"variable 37: x37 has no variation.\"Warning message in (function (x, y, offset = NULL, misc = NULL, distribution = \"bernoulli\", :\n",
      "\"variable 37: x37 has no variation.\"Warning message in (function (x, y, offset = NULL, misc = NULL, distribution = \"bernoulli\", :\n",
      "\"variable 37: x37 has no variation.\"Warning message in (function (x, y, offset = NULL, misc = NULL, distribution = \"bernoulli\", :\n",
      "\"variable 37: x37 has no variation.\"Warning message in (function (x, y, offset = NULL, misc = NULL, distribution = \"bernoulli\", :\n",
      "\"variable 37: x37 has no variation.\"Warning message in (function (x, y, offset = NULL, misc = NULL, distribution = \"bernoulli\", :\n",
      "\"variable 37: x37 has no variation.\"Warning message in (function (x, y, offset = NULL, misc = NULL, distribution = \"bernoulli\", :\n",
      "\"variable 37: x37 has no variation.\"Warning message in (function (x, y, offset = NULL, misc = NULL, distribution = \"bernoulli\", :\n",
      "\"variable 37: x37 has no variation.\"Warning message in (function (x, y, offset = NULL, misc = NULL, distribution = \"bernoulli\", :\n",
      "\"variable 37: x37 has no variation.\"Warning message in (function (x, y, offset = NULL, misc = NULL, distribution = \"bernoulli\", :\n",
      "\"variable 37: x37 has no variation.\"Warning message in (function (x, y, offset = NULL, misc = NULL, distribution = \"bernoulli\", :\n",
      "\"variable 37: x37 has no variation.\"Warning message in (function (x, y, offset = NULL, misc = NULL, distribution = \"bernoulli\", :\n",
      "\"variable 37: x37 has no variation.\"Warning message in (function (x, y, offset = NULL, misc = NULL, distribution = \"bernoulli\", :\n",
      "\"variable 37: x37 has no variation.\"Warning message in (function (x, y, offset = NULL, misc = NULL, distribution = \"bernoulli\", :\n",
      "\"variable 37: x37 has no variation.\"Warning message in (function (x, y, offset = NULL, misc = NULL, distribution = \"bernoulli\", :\n",
      "\"variable 37: x37 has no variation.\"Warning message in (function (x, y, offset = NULL, misc = NULL, distribution = \"bernoulli\", :\n",
      "\"variable 37: x37 has no variation.\"Warning message in (function (x, y, offset = NULL, misc = NULL, distribution = \"bernoulli\", :\n",
      "\"variable 37: x37 has no variation.\"Warning message in (function (x, y, offset = NULL, misc = NULL, distribution = \"bernoulli\", :\n",
      "\"variable 37: x37 has no variation.\"Warning message in (function (x, y, offset = NULL, misc = NULL, distribution = \"bernoulli\", :\n",
      "\"variable 37: x37 has no variation.\"Warning message in (function (x, y, offset = NULL, misc = NULL, distribution = \"bernoulli\", :\n",
      "\"variable 37: x37 has no variation.\"Warning message in (function (x, y, offset = NULL, misc = NULL, distribution = \"bernoulli\", :\n",
      "\"variable 37: x37 has no variation.\"Warning message in (function (x, y, offset = NULL, misc = NULL, distribution = \"bernoulli\", :\n",
      "\"variable 37: x37 has no variation.\"Warning message in (function (x, y, offset = NULL, misc = NULL, distribution = \"bernoulli\", :\n",
      "\"variable 37: x37 has no variation.\"Warning message in (function (x, y, offset = NULL, misc = NULL, distribution = \"bernoulli\", :\n",
      "\"variable 37: x37 has no variation.\"Warning message in (function (x, y, offset = NULL, misc = NULL, distribution = \"bernoulli\", :\n",
      "\"variable 37: x37 has no variation.\"Warning message in (function (x, y, offset = NULL, misc = NULL, distribution = \"bernoulli\", :\n",
      "\"variable 37: x37 has no variation.\"Warning message in (function (x, y, offset = NULL, misc = NULL, distribution = \"bernoulli\", :\n",
      "\"variable 37: x37 has no variation.\"Warning message in (function (x, y, offset = NULL, misc = NULL, distribution = \"bernoulli\", :\n",
      "\"variable 37: x37 has no variation.\"Warning message in (function (x, y, offset = NULL, misc = NULL, distribution = \"bernoulli\", :\n",
      "\"variable 37: x37 has no variation.\"Warning message in (function (x, y, offset = NULL, misc = NULL, distribution = \"bernoulli\", :\n",
      "\"variable 37: x37 has no variation.\"Warning message in (function (x, y, offset = NULL, misc = NULL, distribution = \"bernoulli\", :\n",
      "\"variable 37: x37 has no variation.\"Warning message in (function (x, y, offset = NULL, misc = NULL, distribution = \"bernoulli\", :\n",
      "\"variable 37: x37 has no variation.\"Warning message in (function (x, y, offset = NULL, misc = NULL, distribution = \"bernoulli\", :\n",
      "\"variable 37: x37 has no variation.\"Warning message in (function (x, y, offset = NULL, misc = NULL, distribution = \"bernoulli\", :\n",
      "\"variable 37: x37 has no variation.\"Warning message in (function (x, y, offset = NULL, misc = NULL, distribution = \"bernoulli\", :\n",
      "\"variable 37: x37 has no variation.\"Warning message in (function (x, y, offset = NULL, misc = NULL, distribution = \"bernoulli\", :\n",
      "\"variable 37: x37 has no variation.\"Warning message in (function (x, y, offset = NULL, misc = NULL, distribution = \"bernoulli\", :\n",
      "\"variable 55: x57 has no variation.\"Warning message in (function (x, y, offset = NULL, misc = NULL, distribution = \"bernoulli\", :\n",
      "\"variable 37: x37 has no variation.\"Warning message in (function (x, y, offset = NULL, misc = NULL, distribution = \"bernoulli\", :\n",
      "\"variable 55: x57 has no variation.\"Warning message in (function (x, y, offset = NULL, misc = NULL, distribution = \"bernoulli\", :\n",
      "\"variable 37: x37 has no variation.\"Warning message in (function (x, y, offset = NULL, misc = NULL, distribution = \"bernoulli\", :\n",
      "\"variable 55: x57 has no variation.\"Warning message in (function (x, y, offset = NULL, misc = NULL, distribution = \"bernoulli\", :\n",
      "\"variable 37: x37 has no variation.\"Warning message in (function (x, y, offset = NULL, misc = NULL, distribution = \"bernoulli\", :\n",
      "\"variable 55: x57 has no variation.\"Warning message in (function (x, y, offset = NULL, misc = NULL, distribution = \"bernoulli\", :\n",
      "\"variable 37: x37 has no variation.\"Warning message in (function (x, y, offset = NULL, misc = NULL, distribution = \"bernoulli\", :\n",
      "\"variable 55: x57 has no variation.\"Warning message in (function (x, y, offset = NULL, misc = NULL, distribution = \"bernoulli\", :\n",
      "\"variable 37: x37 has no variation.\"Warning message in (function (x, y, offset = NULL, misc = NULL, distribution = \"bernoulli\", :\n",
      "\"variable 55: x57 has no variation.\"Warning message in (function (x, y, offset = NULL, misc = NULL, distribution = \"bernoulli\", :\n",
      "\"variable 37: x37 has no variation.\"Warning message in (function (x, y, offset = NULL, misc = NULL, distribution = \"bernoulli\", :\n",
      "\"variable 55: x57 has no variation.\"Warning message in (function (x, y, offset = NULL, misc = NULL, distribution = \"bernoulli\", :\n",
      "\"variable 37: x37 has no variation.\"Warning message in (function (x, y, offset = NULL, misc = NULL, distribution = \"bernoulli\", :\n",
      "\"variable 55: x57 has no variation.\"Warning message in (function (x, y, offset = NULL, misc = NULL, distribution = \"bernoulli\", :\n",
      "\"variable 37: x37 has no variation.\"Warning message in (function (x, y, offset = NULL, misc = NULL, distribution = \"bernoulli\", :\n",
      "\"variable 55: x57 has no variation.\"Warning message in (function (x, y, offset = NULL, misc = NULL, distribution = \"bernoulli\", :\n"
     ]
    },
    {
     "name": "stderr",
     "output_type": "stream",
     "text": [
      "\"variable 37: x37 has no variation.\"Warning message in (function (x, y, offset = NULL, misc = NULL, distribution = \"bernoulli\", :\n",
      "\"variable 37: x37 has no variation.\"Warning message in (function (x, y, offset = NULL, misc = NULL, distribution = \"bernoulli\", :\n",
      "\"variable 37: x37 has no variation.\"Warning message in (function (x, y, offset = NULL, misc = NULL, distribution = \"bernoulli\", :\n",
      "\"variable 37: x37 has no variation.\"Warning message in (function (x, y, offset = NULL, misc = NULL, distribution = \"bernoulli\", :\n",
      "\"variable 37: x37 has no variation.\"Warning message in (function (x, y, offset = NULL, misc = NULL, distribution = \"bernoulli\", :\n",
      "\"variable 37: x37 has no variation.\"Warning message in (function (x, y, offset = NULL, misc = NULL, distribution = \"bernoulli\", :\n",
      "\"variable 37: x37 has no variation.\"Warning message in (function (x, y, offset = NULL, misc = NULL, distribution = \"bernoulli\", :\n",
      "\"variable 37: x37 has no variation.\"Warning message in (function (x, y, offset = NULL, misc = NULL, distribution = \"bernoulli\", :\n",
      "\"variable 37: x37 has no variation.\"Warning message in (function (x, y, offset = NULL, misc = NULL, distribution = \"bernoulli\", :\n",
      "\"variable 37: x37 has no variation.\"Warning message in (function (x, y, offset = NULL, misc = NULL, distribution = \"bernoulli\", :\n",
      "\"variable 37: x37 has no variation.\"Warning message in (function (x, y, offset = NULL, misc = NULL, distribution = \"bernoulli\", :\n",
      "\"variable 37: x37 has no variation.\"Warning message in (function (x, y, offset = NULL, misc = NULL, distribution = \"bernoulli\", :\n",
      "\"variable 37: x37 has no variation.\"Warning message in (function (x, y, offset = NULL, misc = NULL, distribution = \"bernoulli\", :\n",
      "\"variable 37: x37 has no variation.\"Warning message in (function (x, y, offset = NULL, misc = NULL, distribution = \"bernoulli\", :\n",
      "\"variable 37: x37 has no variation.\"Warning message in (function (x, y, offset = NULL, misc = NULL, distribution = \"bernoulli\", :\n",
      "\"variable 37: x37 has no variation.\"Warning message in (function (x, y, offset = NULL, misc = NULL, distribution = \"bernoulli\", :\n",
      "\"variable 37: x37 has no variation.\"Warning message in (function (x, y, offset = NULL, misc = NULL, distribution = \"bernoulli\", :\n",
      "\"variable 37: x37 has no variation.\"Warning message in (function (x, y, offset = NULL, misc = NULL, distribution = \"bernoulli\", :\n",
      "\"variable 37: x37 has no variation.\"Warning message in (function (x, y, offset = NULL, misc = NULL, distribution = \"bernoulli\", :\n",
      "\"variable 37: x37 has no variation.\"Warning message in (function (x, y, offset = NULL, misc = NULL, distribution = \"bernoulli\", :\n",
      "\"variable 37: x37 has no variation.\"Warning message in (function (x, y, offset = NULL, misc = NULL, distribution = \"bernoulli\", :\n",
      "\"variable 37: x37 has no variation.\"Warning message in (function (x, y, offset = NULL, misc = NULL, distribution = \"bernoulli\", :\n",
      "\"variable 37: x37 has no variation.\"Warning message in (function (x, y, offset = NULL, misc = NULL, distribution = \"bernoulli\", :\n",
      "\"variable 37: x37 has no variation.\"Warning message in (function (x, y, offset = NULL, misc = NULL, distribution = \"bernoulli\", :\n",
      "\"variable 37: x37 has no variation.\"Warning message in (function (x, y, offset = NULL, misc = NULL, distribution = \"bernoulli\", :\n",
      "\"variable 37: x37 has no variation.\"Warning message in (function (x, y, offset = NULL, misc = NULL, distribution = \"bernoulli\", :\n",
      "\"variable 37: x37 has no variation.\"Warning message in (function (x, y, offset = NULL, misc = NULL, distribution = \"bernoulli\", :\n",
      "\"variable 37: x37 has no variation.\"Warning message in (function (x, y, offset = NULL, misc = NULL, distribution = \"bernoulli\", :\n",
      "\"variable 37: x37 has no variation.\"Warning message in (function (x, y, offset = NULL, misc = NULL, distribution = \"bernoulli\", :\n",
      "\"variable 37: x37 has no variation.\"Warning message in (function (x, y, offset = NULL, misc = NULL, distribution = \"bernoulli\", :\n",
      "\"variable 37: x37 has no variation.\"Warning message in (function (x, y, offset = NULL, misc = NULL, distribution = \"bernoulli\", :\n",
      "\"variable 37: x37 has no variation.\"Warning message in (function (x, y, offset = NULL, misc = NULL, distribution = \"bernoulli\", :\n",
      "\"variable 37: x37 has no variation.\"Warning message in (function (x, y, offset = NULL, misc = NULL, distribution = \"bernoulli\", :\n",
      "\"variable 37: x37 has no variation.\"Warning message in (function (x, y, offset = NULL, misc = NULL, distribution = \"bernoulli\", :\n",
      "\"variable 37: x37 has no variation.\"Warning message in (function (x, y, offset = NULL, misc = NULL, distribution = \"bernoulli\", :\n",
      "\"variable 37: x37 has no variation.\"Warning message in (function (x, y, offset = NULL, misc = NULL, distribution = \"bernoulli\", :\n",
      "\"variable 37: x37 has no variation.\""
     ]
    },
    {
     "data": {
      "text/plain": [
       "Stochastic Gradient Boosting \n",
       "\n",
       "800 samples\n",
       " 58 predictor\n",
       "  2 classes: 'a', 'b' \n",
       "\n",
       "No pre-processing\n",
       "Resampling: Cross-Validated (10 fold, repeated 1 times) \n",
       "Summary of sample sizes: 720, 720, 720, 720, 720, 720, ... \n",
       "Resampling results across tuning parameters:\n",
       "\n",
       "  shrinkage  interaction.depth  n.trees  Accuracy  Kappa \n",
       "  0.1        1                  10       0.76500   0.5300\n",
       "  0.1        1                  20       0.77250   0.5450\n",
       "  0.1        1                  30       0.78750   0.5750\n",
       "  0.1        1                  40       0.78500   0.5700\n",
       "  0.1        1                  50       0.79375   0.5875\n",
       "  0.1        3                  10       0.78000   0.5600\n",
       "  0.1        3                  20       0.79250   0.5850\n",
       "  0.1        3                  30       0.80000   0.6000\n",
       "  0.1        3                  40       0.79625   0.5925\n",
       "  0.1        3                  50       0.79750   0.5950\n",
       "  0.1        5                  10       0.78875   0.5775\n",
       "  0.1        5                  20       0.78125   0.5625\n",
       "  0.1        5                  30       0.79125   0.5825\n",
       "  0.1        5                  40       0.79250   0.5850\n",
       "  0.1        5                  50       0.79250   0.5850\n",
       "  0.3        1                  10       0.77000   0.5400\n",
       "  0.3        1                  20       0.78375   0.5675\n",
       "  0.3        1                  30       0.79000   0.5800\n",
       "  0.3        1                  40       0.78375   0.5675\n",
       "  0.3        1                  50       0.78125   0.5625\n",
       "  0.3        3                  10       0.78500   0.5700\n",
       "  0.3        3                  20       0.78750   0.5750\n",
       "  0.3        3                  30       0.79000   0.5800\n",
       "  0.3        3                  40       0.78375   0.5675\n",
       "  0.3        3                  50       0.78875   0.5775\n",
       "  0.3        5                  10       0.79375   0.5875\n",
       "  0.3        5                  20       0.78375   0.5675\n",
       "  0.3        5                  30       0.78250   0.5650\n",
       "  0.3        5                  40       0.77375   0.5475\n",
       "  0.3        5                  50       0.77750   0.5550\n",
       "  0.5        1                  10       0.77125   0.5425\n",
       "  0.5        1                  20       0.79000   0.5800\n",
       "  0.5        1                  30       0.79625   0.5925\n",
       "  0.5        1                  40       0.78500   0.5700\n",
       "  0.5        1                  50       0.78875   0.5775\n",
       "  0.5        3                  10       0.78000   0.5600\n",
       "  0.5        3                  20       0.78000   0.5600\n",
       "  0.5        3                  30       0.76375   0.5275\n",
       "  0.5        3                  40       0.75625   0.5125\n",
       "  0.5        3                  50       0.76000   0.5200\n",
       "  0.5        5                  10       0.78125   0.5625\n",
       "  0.5        5                  20       0.77125   0.5425\n",
       "  0.5        5                  30       0.75500   0.5100\n",
       "  0.5        5                  40       0.75375   0.5075\n",
       "  0.5        5                  50       0.75250   0.5050\n",
       "\n",
       "Tuning parameter 'n.minobsinnode' was held constant at a value of 20\n",
       "Accuracy was used to select the optimal model using the largest value.\n",
       "The final values used for the model were n.trees = 30, interaction.depth =\n",
       " 3, shrinkage = 0.1 and n.minobsinnode = 20."
      ]
     },
     "metadata": {},
     "output_type": "display_data"
    },
    {
     "data": {
      "image/png": "[encoded data removed]",
      "text/plain": [
       "plot without title"
      ]
     },
     "metadata": {},
     "output_type": "display_data"
    }
   ],
   "source": [
    "gbm_fit=train(y ~ ., data = dt_new_train, \n",
    "                 method = \"gbm\", \n",
    "                 trControl = fitControl,  \n",
    "                 tuneGrid = gbmGrid,\n",
    "                 verbose=F)\n",
    "\n",
    "gbm_fit\n",
    "plot(gbm_fit)"
   ]
  },
  {
   "cell_type": "code",
   "execution_count": 17,
   "metadata": {},
   "outputs": [],
   "source": [
    "predictions_train=predict(gbm_fit,dt_new_test)"
   ]
  },
  {
   "cell_type": "code",
   "execution_count": 18,
   "metadata": {},
   "outputs": [
    {
     "data": {
      "text/plain": [
       "Confusion Matrix and Statistics\n",
       "\n",
       "          Reference\n",
       "Prediction   a   b\n",
       "         a 862  17\n",
       "         b 303  92\n",
       "                                          \n",
       "               Accuracy : 0.7488          \n",
       "                 95% CI : (0.7241, 0.7724)\n",
       "    No Information Rate : 0.9144          \n",
       "    P-Value [Acc > NIR] : 1               \n",
       "                                          \n",
       "                  Kappa : 0.2667          \n",
       "                                          \n",
       " Mcnemar's Test P-Value : <2e-16          \n",
       "                                          \n",
       "              Precision : 0.9807          \n",
       "                 Recall : 0.7399          \n",
       "                     F1 : 0.8434          \n",
       "             Prevalence : 0.9144          \n",
       "         Detection Rate : 0.6766          \n",
       "   Detection Prevalence : 0.6900          \n",
       "      Balanced Accuracy : 0.7920          \n",
       "                                          \n",
       "       'Positive' Class : a               \n",
       "                                          "
      ]
     },
     "metadata": {},
     "output_type": "display_data"
    }
   ],
   "source": [
    "confusionMatrix(data = as.factor(predictions_train), reference = as.factor(dt_new_test$y), mode = \"prec_recall\")"
   ]
  },
  {
   "cell_type": "code",
   "execution_count": 19,
   "metadata": {
    "scrolled": true
   },
   "outputs": [
    {
     "name": "stderr",
     "output_type": "stream",
     "text": [
      "Warning message in actual - forecast:\n",
      "\"uzun olan nesne uzunluğu kısa olan nesne uzunluğunun bir katı değil \""
     ]
    },
    {
     "data": {
      "text/html": [
       "<table>\n",
       "<thead><tr><th scope=col>name</th><th scope=col>n</th><th scope=col>mean</th><th scope=col>sd</th><th scope=col>FBias</th><th scope=col>MAPE</th><th scope=col>RMSE</th><th scope=col>MAD</th><th scope=col>WMAPE</th></tr></thead>\n",
       "<tbody>\n",
       "\t<tr><td>Performance Measure</td><td>1274               </td><td>1.310047           </td><td>0.4626942          </td><td>-0.1431995         </td><td>0.4089482          </td><td>0.01946562         </td><td>0.4827316          </td><td>0.3684841          </td></tr>\n",
       "</tbody>\n",
       "</table>\n"
      ],
      "text/latex": [
       "\\begin{tabular}{r|lllllllll}\n",
       " name & n & mean & sd & FBias & MAPE & RMSE & MAD & WMAPE\\\\\n",
       "\\hline\n",
       "\t Performance Measure & 1274                & 1.310047            & 0.4626942           & -0.1431995          & 0.4089482           & 0.01946562          & 0.4827316           & 0.3684841          \\\\\n",
       "\\end{tabular}\n"
      ],
      "text/markdown": [
       "\n",
       "| name | n | mean | sd | FBias | MAPE | RMSE | MAD | WMAPE |\n",
       "|---|---|---|---|---|---|---|---|---|\n",
       "| Performance Measure | 1274                | 1.310047            | 0.4626942           | -0.1431995          | 0.4089482           | 0.01946562          | 0.4827316           | 0.3684841           |\n",
       "\n"
      ],
      "text/plain": [
       "  name                n    mean     sd        FBias      MAPE      RMSE      \n",
       "1 Performance Measure 1274 1.310047 0.4626942 -0.1431995 0.4089482 0.01946562\n",
       "  MAD       WMAPE    \n",
       "1 0.4827316 0.3684841"
      ]
     },
     "metadata": {},
     "output_type": "display_data"
    }
   ],
   "source": [
    "perf_dt(\"Performance Measure\", as.numeric(predictions_train), as.numeric(test$y))"
   ]
  },
  {
   "cell_type": "code",
   "execution_count": 21,
   "metadata": {},
   "outputs": [
    {
     "data": {
      "text/plain": [
       "   predictions_train\n",
       "      a   b\n",
       "  a 862 303\n",
       "  b  17  92"
      ]
     },
     "metadata": {},
     "output_type": "display_data"
    }
   ],
   "source": [
    "table(dt_new_test$y,predictions_train)"
   ]
  },
  {
   "cell_type": "markdown",
   "metadata": {},
   "source": [
    "# Final Model"
   ]
  },
  {
   "cell_type": "code",
   "execution_count": 22,
   "metadata": {},
   "outputs": [],
   "source": [
    "final_test=read.csv(\"IE582_Fall20_ProjectTest.csv\")\n",
    "\n",
    "final_test<-final_test[,-c(50,52)]"
   ]
  },
  {
   "cell_type": "code",
   "execution_count": 23,
   "metadata": {
    "scrolled": true
   },
   "outputs": [
    {
     "name": "stderr",
     "output_type": "stream",
     "text": [
      "Warning message in (function (x, y, offset = NULL, misc = NULL, distribution = \"bernoulli\", :\n",
      "\"variable 37: x37 has no variation.\"Warning message in (function (x, y, offset = NULL, misc = NULL, distribution = \"bernoulli\", :\n",
      "\"variable 37: x37 has no variation.\"Warning message in (function (x, y, offset = NULL, misc = NULL, distribution = \"bernoulli\", :\n",
      "\"variable 37: x37 has no variation.\"Warning message in (function (x, y, offset = NULL, misc = NULL, distribution = \"bernoulli\", :\n",
      "\"variable 37: x37 has no variation.\"Warning message in (function (x, y, offset = NULL, misc = NULL, distribution = \"bernoulli\", :\n",
      "\"variable 37: x37 has no variation.\"Warning message in (function (x, y, offset = NULL, misc = NULL, distribution = \"bernoulli\", :\n",
      "\"variable 37: x37 has no variation.\"Warning message in (function (x, y, offset = NULL, misc = NULL, distribution = \"bernoulli\", :\n",
      "\"variable 37: x37 has no variation.\"Warning message in (function (x, y, offset = NULL, misc = NULL, distribution = \"bernoulli\", :\n",
      "\"variable 37: x37 has no variation.\"Warning message in (function (x, y, offset = NULL, misc = NULL, distribution = \"bernoulli\", :\n",
      "\"variable 37: x37 has no variation.\"Warning message in (function (x, y, offset = NULL, misc = NULL, distribution = \"bernoulli\", :\n",
      "\"variable 37: x37 has no variation.\"Warning message in (function (x, y, offset = NULL, misc = NULL, distribution = \"bernoulli\", :\n",
      "\"variable 55: x57 has no variation.\"Warning message in (function (x, y, offset = NULL, misc = NULL, distribution = \"bernoulli\", :\n",
      "\"variable 37: x37 has no variation.\"Warning message in (function (x, y, offset = NULL, misc = NULL, distribution = \"bernoulli\", :\n",
      "\"variable 55: x57 has no variation.\"Warning message in (function (x, y, offset = NULL, misc = NULL, distribution = \"bernoulli\", :\n",
      "\"variable 37: x37 has no variation.\"Warning message in (function (x, y, offset = NULL, misc = NULL, distribution = \"bernoulli\", :\n",
      "\"variable 55: x57 has no variation.\"Warning message in (function (x, y, offset = NULL, misc = NULL, distribution = \"bernoulli\", :\n",
      "\"variable 37: x37 has no variation.\"Warning message in (function (x, y, offset = NULL, misc = NULL, distribution = \"bernoulli\", :\n",
      "\"variable 55: x57 has no variation.\"Warning message in (function (x, y, offset = NULL, misc = NULL, distribution = \"bernoulli\", :\n",
      "\"variable 37: x37 has no variation.\"Warning message in (function (x, y, offset = NULL, misc = NULL, distribution = \"bernoulli\", :\n",
      "\"variable 55: x57 has no variation.\"Warning message in (function (x, y, offset = NULL, misc = NULL, distribution = \"bernoulli\", :\n",
      "\"variable 37: x37 has no variation.\"Warning message in (function (x, y, offset = NULL, misc = NULL, distribution = \"bernoulli\", :\n",
      "\"variable 55: x57 has no variation.\"Warning message in (function (x, y, offset = NULL, misc = NULL, distribution = \"bernoulli\", :\n",
      "\"variable 37: x37 has no variation.\"Warning message in (function (x, y, offset = NULL, misc = NULL, distribution = \"bernoulli\", :\n",
      "\"variable 55: x57 has no variation.\"Warning message in (function (x, y, offset = NULL, misc = NULL, distribution = \"bernoulli\", :\n",
      "\"variable 37: x37 has no variation.\"Warning message in (function (x, y, offset = NULL, misc = NULL, distribution = \"bernoulli\", :\n",
      "\"variable 55: x57 has no variation.\"Warning message in (function (x, y, offset = NULL, misc = NULL, distribution = \"bernoulli\", :\n",
      "\"variable 37: x37 has no variation.\"Warning message in (function (x, y, offset = NULL, misc = NULL, distribution = \"bernoulli\", :\n",
      "\"variable 55: x57 has no variation.\"Warning message in (function (x, y, offset = NULL, misc = NULL, distribution = \"bernoulli\", :\n",
      "\"variable 37: x37 has no variation.\"Warning message in (function (x, y, offset = NULL, misc = NULL, distribution = \"bernoulli\", :\n",
      "\"variable 37: x37 has no variation.\"Warning message in (function (x, y, offset = NULL, misc = NULL, distribution = \"bernoulli\", :\n",
      "\"variable 37: x37 has no variation.\"Warning message in (function (x, y, offset = NULL, misc = NULL, distribution = \"bernoulli\", :\n",
      "\"variable 37: x37 has no variation.\"Warning message in (function (x, y, offset = NULL, misc = NULL, distribution = \"bernoulli\", :\n",
      "\"variable 37: x37 has no variation.\"Warning message in (function (x, y, offset = NULL, misc = NULL, distribution = \"bernoulli\", :\n",
      "\"variable 37: x37 has no variation.\"Warning message in (function (x, y, offset = NULL, misc = NULL, distribution = \"bernoulli\", :\n",
      "\"variable 37: x37 has no variation.\"Warning message in (function (x, y, offset = NULL, misc = NULL, distribution = \"bernoulli\", :\n",
      "\"variable 37: x37 has no variation.\"Warning message in (function (x, y, offset = NULL, misc = NULL, distribution = \"bernoulli\", :\n",
      "\"variable 37: x37 has no variation.\"Warning message in (function (x, y, offset = NULL, misc = NULL, distribution = \"bernoulli\", :\n",
      "\"variable 37: x37 has no variation.\"Warning message in (function (x, y, offset = NULL, misc = NULL, distribution = \"bernoulli\", :\n",
      "\"variable 37: x37 has no variation.\"Warning message in (function (x, y, offset = NULL, misc = NULL, distribution = \"bernoulli\", :\n",
      "\"variable 37: x37 has no variation.\"Warning message in (function (x, y, offset = NULL, misc = NULL, distribution = \"bernoulli\", :\n",
      "\"variable 37: x37 has no variation.\"Warning message in (function (x, y, offset = NULL, misc = NULL, distribution = \"bernoulli\", :\n",
      "\"variable 37: x37 has no variation.\"Warning message in (function (x, y, offset = NULL, misc = NULL, distribution = \"bernoulli\", :\n",
      "\"variable 37: x37 has no variation.\"Warning message in (function (x, y, offset = NULL, misc = NULL, distribution = \"bernoulli\", :\n",
      "\"variable 37: x37 has no variation.\"Warning message in (function (x, y, offset = NULL, misc = NULL, distribution = \"bernoulli\", :\n",
      "\"variable 37: x37 has no variation.\"Warning message in (function (x, y, offset = NULL, misc = NULL, distribution = \"bernoulli\", :\n",
      "\"variable 37: x37 has no variation.\"Warning message in (function (x, y, offset = NULL, misc = NULL, distribution = \"bernoulli\", :\n",
      "\"variable 37: x37 has no variation.\"Warning message in (function (x, y, offset = NULL, misc = NULL, distribution = \"bernoulli\", :\n",
      "\"variable 37: x37 has no variation.\"Warning message in (function (x, y, offset = NULL, misc = NULL, distribution = \"bernoulli\", :\n",
      "\"variable 37: x37 has no variation.\"Warning message in (function (x, y, offset = NULL, misc = NULL, distribution = \"bernoulli\", :\n",
      "\"variable 37: x37 has no variation.\"Warning message in (function (x, y, offset = NULL, misc = NULL, distribution = \"bernoulli\", :\n",
      "\"variable 37: x37 has no variation.\"Warning message in (function (x, y, offset = NULL, misc = NULL, distribution = \"bernoulli\", :\n",
      "\"variable 37: x37 has no variation.\"Warning message in (function (x, y, offset = NULL, misc = NULL, distribution = \"bernoulli\", :\n",
      "\"variable 37: x37 has no variation.\"Warning message in (function (x, y, offset = NULL, misc = NULL, distribution = \"bernoulli\", :\n",
      "\"variable 37: x37 has no variation.\"Warning message in (function (x, y, offset = NULL, misc = NULL, distribution = \"bernoulli\", :\n",
      "\"variable 37: x37 has no variation.\"Warning message in (function (x, y, offset = NULL, misc = NULL, distribution = \"bernoulli\", :\n",
      "\"variable 37: x37 has no variation.\"Warning message in (function (x, y, offset = NULL, misc = NULL, distribution = \"bernoulli\", :\n",
      "\"variable 37: x37 has no variation.\"Warning message in (function (x, y, offset = NULL, misc = NULL, distribution = \"bernoulli\", :\n",
      "\"variable 37: x37 has no variation.\"Warning message in (function (x, y, offset = NULL, misc = NULL, distribution = \"bernoulli\", :\n",
      "\"variable 37: x37 has no variation.\"Warning message in (function (x, y, offset = NULL, misc = NULL, distribution = \"bernoulli\", :\n",
      "\"variable 37: x37 has no variation.\"Warning message in (function (x, y, offset = NULL, misc = NULL, distribution = \"bernoulli\", :\n",
      "\"variable 37: x37 has no variation.\"Warning message in (function (x, y, offset = NULL, misc = NULL, distribution = \"bernoulli\", :\n",
      "\"variable 37: x37 has no variation.\"Warning message in (function (x, y, offset = NULL, misc = NULL, distribution = \"bernoulli\", :\n",
      "\"variable 37: x37 has no variation.\"Warning message in (function (x, y, offset = NULL, misc = NULL, distribution = \"bernoulli\", :\n",
      "\"variable 37: x37 has no variation.\"Warning message in (function (x, y, offset = NULL, misc = NULL, distribution = \"bernoulli\", :\n"
     ]
    },
    {
     "name": "stderr",
     "output_type": "stream",
     "text": [
      "\"variable 37: x37 has no variation.\"Warning message in (function (x, y, offset = NULL, misc = NULL, distribution = \"bernoulli\", :\n",
      "\"variable 37: x37 has no variation.\"Warning message in (function (x, y, offset = NULL, misc = NULL, distribution = \"bernoulli\", :\n",
      "\"variable 37: x37 has no variation.\"Warning message in (function (x, y, offset = NULL, misc = NULL, distribution = \"bernoulli\", :\n",
      "\"variable 37: x37 has no variation.\"Warning message in (function (x, y, offset = NULL, misc = NULL, distribution = \"bernoulli\", :\n",
      "\"variable 37: x37 has no variation.\"Warning message in (function (x, y, offset = NULL, misc = NULL, distribution = \"bernoulli\", :\n",
      "\"variable 37: x37 has no variation.\"Warning message in (function (x, y, offset = NULL, misc = NULL, distribution = \"bernoulli\", :\n",
      "\"variable 37: x37 has no variation.\"Warning message in (function (x, y, offset = NULL, misc = NULL, distribution = \"bernoulli\", :\n",
      "\"variable 37: x37 has no variation.\"Warning message in (function (x, y, offset = NULL, misc = NULL, distribution = \"bernoulli\", :\n",
      "\"variable 37: x37 has no variation.\"Warning message in (function (x, y, offset = NULL, misc = NULL, distribution = \"bernoulli\", :\n",
      "\"variable 37: x37 has no variation.\"Warning message in (function (x, y, offset = NULL, misc = NULL, distribution = \"bernoulli\", :\n",
      "\"variable 37: x37 has no variation.\"Warning message in (function (x, y, offset = NULL, misc = NULL, distribution = \"bernoulli\", :\n",
      "\"variable 37: x37 has no variation.\"Warning message in (function (x, y, offset = NULL, misc = NULL, distribution = \"bernoulli\", :\n",
      "\"variable 37: x37 has no variation.\"Warning message in (function (x, y, offset = NULL, misc = NULL, distribution = \"bernoulli\", :\n",
      "\"variable 37: x37 has no variation.\"Warning message in (function (x, y, offset = NULL, misc = NULL, distribution = \"bernoulli\", :\n",
      "\"variable 37: x37 has no variation.\"Warning message in (function (x, y, offset = NULL, misc = NULL, distribution = \"bernoulli\", :\n",
      "\"variable 37: x37 has no variation.\"Warning message in (function (x, y, offset = NULL, misc = NULL, distribution = \"bernoulli\", :\n",
      "\"variable 37: x37 has no variation.\"Warning message in (function (x, y, offset = NULL, misc = NULL, distribution = \"bernoulli\", :\n",
      "\"variable 37: x37 has no variation.\"Warning message in (function (x, y, offset = NULL, misc = NULL, distribution = \"bernoulli\", :\n",
      "\"variable 37: x37 has no variation.\"Warning message in (function (x, y, offset = NULL, misc = NULL, distribution = \"bernoulli\", :\n",
      "\"variable 37: x37 has no variation.\"Warning message in (function (x, y, offset = NULL, misc = NULL, distribution = \"bernoulli\", :\n",
      "\"variable 37: x37 has no variation.\"Warning message in (function (x, y, offset = NULL, misc = NULL, distribution = \"bernoulli\", :\n",
      "\"variable 37: x37 has no variation.\"Warning message in (function (x, y, offset = NULL, misc = NULL, distribution = \"bernoulli\", :\n",
      "\"variable 37: x37 has no variation.\"Warning message in (function (x, y, offset = NULL, misc = NULL, distribution = \"bernoulli\", :\n",
      "\"variable 37: x37 has no variation.\"Warning message in (function (x, y, offset = NULL, misc = NULL, distribution = \"bernoulli\", :\n",
      "\"variable 37: x37 has no variation.\"Warning message in (function (x, y, offset = NULL, misc = NULL, distribution = \"bernoulli\", :\n",
      "\"variable 37: x37 has no variation.\"Warning message in (function (x, y, offset = NULL, misc = NULL, distribution = \"bernoulli\", :\n",
      "\"variable 37: x37 has no variation.\"Warning message in (function (x, y, offset = NULL, misc = NULL, distribution = \"bernoulli\", :\n",
      "\"variable 37: x37 has no variation.\"Warning message in (function (x, y, offset = NULL, misc = NULL, distribution = \"bernoulli\", :\n",
      "\"variable 37: x37 has no variation.\"Warning message in (function (x, y, offset = NULL, misc = NULL, distribution = \"bernoulli\", :\n",
      "\"variable 37: x37 has no variation.\"Warning message in (function (x, y, offset = NULL, misc = NULL, distribution = \"bernoulli\", :\n",
      "\"variable 37: x37 has no variation.\"Warning message in (function (x, y, offset = NULL, misc = NULL, distribution = \"bernoulli\", :\n",
      "\"variable 37: x37 has no variation.\"Warning message in (function (x, y, offset = NULL, misc = NULL, distribution = \"bernoulli\", :\n",
      "\"variable 37: x37 has no variation.\"Warning message in (function (x, y, offset = NULL, misc = NULL, distribution = \"bernoulli\", :\n",
      "\"variable 37: x37 has no variation.\"Warning message in (function (x, y, offset = NULL, misc = NULL, distribution = \"bernoulli\", :\n",
      "\"variable 37: x37 has no variation.\"Warning message in (function (x, y, offset = NULL, misc = NULL, distribution = \"bernoulli\", :\n",
      "\"variable 37: x37 has no variation.\"Warning message in (function (x, y, offset = NULL, misc = NULL, distribution = \"bernoulli\", :\n",
      "\"variable 37: x37 has no variation.\""
     ]
    },
    {
     "data": {
      "text/plain": [
       "Stochastic Gradient Boosting \n",
       "\n",
       "800 samples\n",
       " 58 predictor\n",
       "  2 classes: 'a', 'b' \n",
       "\n",
       "No pre-processing\n",
       "Resampling: Cross-Validated (10 fold, repeated 1 times) \n",
       "Summary of sample sizes: 720, 720, 720, 720, 720, 720, ... \n",
       "Resampling results across tuning parameters:\n",
       "\n",
       "  shrinkage  interaction.depth  n.trees  Accuracy  Kappa \n",
       "  0.1        1                  10       0.76500   0.5300\n",
       "  0.1        1                  20       0.77500   0.5500\n",
       "  0.1        1                  30       0.78750   0.5750\n",
       "  0.1        1                  40       0.78875   0.5775\n",
       "  0.1        1                  50       0.79250   0.5850\n",
       "  0.1        3                  10       0.77000   0.5400\n",
       "  0.1        3                  20       0.78500   0.5700\n",
       "  0.1        3                  30       0.79000   0.5800\n",
       "  0.1        3                  40       0.78875   0.5775\n",
       "  0.1        3                  50       0.78375   0.5675\n",
       "  0.1        5                  10       0.78750   0.5750\n",
       "  0.1        5                  20       0.79125   0.5825\n",
       "  0.1        5                  30       0.79000   0.5800\n",
       "  0.1        5                  40       0.79250   0.5850\n",
       "  0.1        5                  50       0.78375   0.5675\n",
       "  0.3        1                  10       0.79000   0.5800\n",
       "  0.3        1                  20       0.78625   0.5725\n",
       "  0.3        1                  30       0.78000   0.5600\n",
       "  0.3        1                  40       0.77500   0.5500\n",
       "  0.3        1                  50       0.78125   0.5625\n",
       "  0.3        3                  10       0.78750   0.5750\n",
       "  0.3        3                  20       0.78625   0.5725\n",
       "  0.3        3                  30       0.76875   0.5375\n",
       "  0.3        3                  40       0.77000   0.5400\n",
       "  0.3        3                  50       0.76250   0.5250\n",
       "  0.3        5                  10       0.78500   0.5700\n",
       "  0.3        5                  20       0.77500   0.5500\n",
       "  0.3        5                  30       0.78000   0.5600\n",
       "  0.3        5                  40       0.76375   0.5275\n",
       "  0.3        5                  50       0.77125   0.5425\n",
       "  0.5        1                  10       0.77500   0.5500\n",
       "  0.5        1                  20       0.77625   0.5525\n",
       "  0.5        1                  30       0.78500   0.5700\n",
       "  0.5        1                  40       0.77750   0.5550\n",
       "  0.5        1                  50       0.78375   0.5675\n",
       "  0.5        3                  10       0.77875   0.5575\n",
       "  0.5        3                  20       0.76750   0.5350\n",
       "  0.5        3                  30       0.77250   0.5450\n",
       "  0.5        3                  40       0.75500   0.5100\n",
       "  0.5        3                  50       0.74750   0.4950\n",
       "  0.5        5                  10       0.78125   0.5625\n",
       "  0.5        5                  20       0.76000   0.5200\n",
       "  0.5        5                  30       0.75625   0.5125\n",
       "  0.5        5                  40       0.76875   0.5375\n",
       "  0.5        5                  50       0.76750   0.5350\n",
       "\n",
       "Tuning parameter 'n.minobsinnode' was held constant at a value of 20\n",
       "Accuracy was used to select the optimal model using the largest value.\n",
       "The final values used for the model were n.trees = 40, interaction.depth =\n",
       " 5, shrinkage = 0.1 and n.minobsinnode = 20."
      ]
     },
     "metadata": {},
     "output_type": "display_data"
    },
    {
     "data": {
      "image/png": "[encoded data removed]",
      "text/plain": [
       "plot without title"
      ]
     },
     "metadata": {},
     "output_type": "display_data"
    }
   ],
   "source": [
    "gbm_fit=train(y ~ ., data = dt_new_train, \n",
    "                 method = \"gbm\", \n",
    "                 trControl = fitControl,  \n",
    "                 tuneGrid = gbmGrid,\n",
    "                 verbose=F)\n",
    "\n",
    "gbm_fit\n",
    "plot(gbm_fit)"
   ]
  },
  {
   "cell_type": "code",
   "execution_count": 24,
   "metadata": {},
   "outputs": [],
   "source": [
    "predictions=predict(gbm_fit,dt_new_test)"
   ]
  },
  {
   "cell_type": "code",
   "execution_count": 25,
   "metadata": {},
   "outputs": [],
   "source": [
    "final_prediction=as.numeric(predictions)-1"
   ]
  },
  {
   "cell_type": "markdown",
   "metadata": {},
   "source": [
    "# Random Forest"
   ]
  },
  {
   "cell_type": "code",
   "execution_count": 27,
   "metadata": {},
   "outputs": [],
   "source": [
    "library(randomForest)"
   ]
  },
  {
   "cell_type": "code",
   "execution_count": 28,
   "metadata": {},
   "outputs": [
    {
     "data": {
      "text/plain": [
       "\n",
       "Call:\n",
       " randomForest(formula = as.factor(y) ~ ., data = dt_new_train,      ntree = 500, nodesize = 20) \n",
       "               Type of random forest: classification\n",
       "                     Number of trees: 500\n",
       "No. of variables tried at each split: 7\n",
       "\n",
       "        OOB estimate of  error rate: 21.75%\n",
       "Confusion matrix:\n",
       "    a   b class.error\n",
       "a 295 105      0.2625\n",
       "b  69 331      0.1725"
      ]
     },
     "metadata": {},
     "output_type": "display_data"
    }
   ],
   "source": [
    "random_forest=randomForest(as.factor(y)~.,data=dt_new_train,ntree=500,nodesize=20)\n",
    "random_forest"
   ]
  },
  {
   "cell_type": "code",
   "execution_count": 29,
   "metadata": {},
   "outputs": [
    {
     "data": {
      "image/png": "[encoded data removed]",
      "text/plain": [
       "Plot with title \"random_forest\""
      ]
     },
     "metadata": {},
     "output_type": "display_data"
    }
   ],
   "source": [
    "varImpPlot(random_forest)"
   ]
  },
  {
   "cell_type": "code",
   "execution_count": 30,
   "metadata": {},
   "outputs": [
    {
     "data": {
      "text/plain": [
       "   PredictRandomForest\n",
       "     a  b\n",
       "  a 69 11\n",
       "  b  8 72"
      ]
     },
     "metadata": {},
     "output_type": "display_data"
    }
   ],
   "source": [
    "PredictRandomForest=predict(random_forest,newdata=test)\n",
    "table(test$y,PredictRandomForest)"
   ]
  },
  {
   "cell_type": "code",
   "execution_count": 31,
   "metadata": {},
   "outputs": [
    {
     "data": {
      "text/plain": [
       "Confusion Matrix and Statistics\n",
       "\n",
       "          Reference\n",
       "Prediction  a  b\n",
       "         a 69  8\n",
       "         b 11 72\n",
       "                                         \n",
       "               Accuracy : 0.8812         \n",
       "                 95% CI : (0.8208, 0.927)\n",
       "    No Information Rate : 0.5            \n",
       "    P-Value [Acc > NIR] : <2e-16         \n",
       "                                         \n",
       "                  Kappa : 0.7625         \n",
       "                                         \n",
       " Mcnemar's Test P-Value : 0.6464         \n",
       "                                         \n",
       "              Precision : 0.8961         \n",
       "                 Recall : 0.8625         \n",
       "                     F1 : 0.8790         \n",
       "             Prevalence : 0.5000         \n",
       "         Detection Rate : 0.4313         \n",
       "   Detection Prevalence : 0.4813         \n",
       "      Balanced Accuracy : 0.8813         \n",
       "                                         \n",
       "       'Positive' Class : a              \n",
       "                                         "
      ]
     },
     "metadata": {},
     "output_type": "display_data"
    }
   ],
   "source": [
    "confusionMatrix(data = PredictRandomForest, reference = as.factor(test$y), mode = \"prec_recall\")"
   ]
  },
  {
   "cell_type": "code",
   "execution_count": 32,
   "metadata": {},
   "outputs": [
    {
     "data": {
      "text/html": [
       "<table>\n",
       "<thead><tr><th scope=col>name</th><th scope=col>n</th><th scope=col>mean</th><th scope=col>sd</th><th scope=col>FBias</th><th scope=col>MAPE</th><th scope=col>RMSE</th><th scope=col>MAD</th><th scope=col>WMAPE</th></tr></thead>\n",
       "<tbody>\n",
       "\t<tr><td>Random Forest</td><td>160          </td><td>1.5          </td><td>0.5015699    </td><td>-0.0125      </td><td>0.09375      </td><td>0.02724312   </td><td>0.11875      </td><td>0.07916667   </td></tr>\n",
       "</tbody>\n",
       "</table>\n"
      ],
      "text/latex": [
       "\\begin{tabular}{r|lllllllll}\n",
       " name & n & mean & sd & FBias & MAPE & RMSE & MAD & WMAPE\\\\\n",
       "\\hline\n",
       "\t Random Forest & 160           & 1.5           & 0.5015699     & -0.0125       & 0.09375       & 0.02724312    & 0.11875       & 0.07916667   \\\\\n",
       "\\end{tabular}\n"
      ],
      "text/markdown": [
       "\n",
       "| name | n | mean | sd | FBias | MAPE | RMSE | MAD | WMAPE |\n",
       "|---|---|---|---|---|---|---|---|---|\n",
       "| Random Forest | 160           | 1.5           | 0.5015699     | -0.0125       | 0.09375       | 0.02724312    | 0.11875       | 0.07916667    |\n",
       "\n"
      ],
      "text/plain": [
       "  name          n   mean sd        FBias   MAPE    RMSE       MAD    \n",
       "1 Random Forest 160 1.5  0.5015699 -0.0125 0.09375 0.02724312 0.11875\n",
       "  WMAPE     \n",
       "1 0.07916667"
      ]
     },
     "metadata": {},
     "output_type": "display_data"
    }
   ],
   "source": [
    "perf_dt(\"Random Forest\",as.numeric(test$y),as.numeric(PredictRandomForest))"
   ]
  },
  {
   "cell_type": "code",
   "execution_count": 33,
   "metadata": {},
   "outputs": [
    {
     "data": {
      "text/plain": [
       "\n",
       "Call:\n",
       " randomForest(formula = as.factor(y) ~ ., data = TrainData, ntree = 500,      nodesize = 20) \n",
       "               Type of random forest: classification\n",
       "                     Number of trees: 500\n",
       "No. of variables tried at each split: 7\n",
       "\n",
       "        OOB estimate of  error rate: 15.48%\n",
       "Confusion matrix:\n",
       "     a   b class.error\n",
       "a 1491  74  0.04728435\n",
       "b  247 262  0.48526523"
      ]
     },
     "metadata": {},
     "output_type": "display_data"
    }
   ],
   "source": [
    "random_forest_final=randomForest(as.factor(y)~.,data=TrainData,ntree=500,nodesize=20)\n",
    "random_forest_final"
   ]
  },
  {
   "cell_type": "code",
   "execution_count": 34,
   "metadata": {},
   "outputs": [],
   "source": [
    "predictions_rf=predict(random_forest_final,final_test)\n",
    "predictions_rf_final=as.numeric(predictions_rf)-1"
   ]
  },
  {
   "cell_type": "markdown",
   "metadata": {},
   "source": [
    "# Penalized Version"
   ]
  },
  {
   "cell_type": "code",
   "execution_count": 38,
   "metadata": {},
   "outputs": [
    {
     "name": "stderr",
     "output_type": "stream",
     "text": [
      "Warning message:\n",
      "\"package 'GGally' was built under R version 3.6.3\"Registered S3 method overwritten by 'GGally':\n",
      "  method from   \n",
      "  +.gg   ggplot2\n",
      "Warning message:\n",
      "\"package 'rattle' was built under R version 3.6.3\"Loading required package: bitops\n",
      "Rattle: A free graphical interface for data science with R.\n",
      "Version 5.4.0 Copyright (c) 2006-2020 Togaware Pty Ltd.\n",
      "Type 'rattle()' to shake, rattle, and roll your data.\n",
      "\n",
      "Attaching package: 'rattle'\n",
      "\n",
      "The following object is masked from 'package:randomForest':\n",
      "\n",
      "    importance\n",
      "\n"
     ]
    }
   ],
   "source": [
    "library(rpart)\n",
    "library(GGally, quietly=TRUE)\n",
    "library(rattle)"
   ]
  },
  {
   "cell_type": "code",
   "execution_count": 39,
   "metadata": {},
   "outputs": [
    {
     "data": {
      "text/html": [
       "<table>\n",
       "<tbody>\n",
       "\t<tr><td>0  </td><td>1.5</td></tr>\n",
       "\t<tr><td>5  </td><td>0.0</td></tr>\n",
       "</tbody>\n",
       "</table>\n"
      ],
      "text/latex": [
       "\\begin{tabular}{ll}\n",
       "\t 0   & 1.5\\\\\n",
       "\t 5   & 0.0\\\\\n",
       "\\end{tabular}\n"
      ],
      "text/markdown": [
       "\n",
       "| 0   | 1.5 |\n",
       "| 5   | 0.0 |\n",
       "\n"
      ],
      "text/plain": [
       "     [,1] [,2]\n",
       "[1,] 0    1.5 \n",
       "[2,] 5    0.0 "
      ]
     },
     "metadata": {},
     "output_type": "display_data"
    }
   ],
   "source": [
    "PenaltyMatrix = matrix(c(0,1.5,5,0), byrow=TRUE, nrow=2)\n",
    "PenaltyMatrix"
   ]
  },
  {
   "cell_type": "code",
   "execution_count": 40,
   "metadata": {},
   "outputs": [
    {
     "data": {
      "text/html": [
       "<dl class=dl-horizontal>\n",
       "\t<dt>x23</dt>\n",
       "\t\t<dd>58.5633673936237</dd>\n",
       "\t<dt>x56</dt>\n",
       "\t\t<dd>50.1320654731409</dd>\n",
       "\t<dt>x54</dt>\n",
       "\t\t<dd>36.4596839804661</dd>\n",
       "\t<dt>x17</dt>\n",
       "\t\t<dd>31.4203076420263</dd>\n",
       "\t<dt>x32</dt>\n",
       "\t\t<dd>28.3797777518648</dd>\n",
       "\t<dt>x44</dt>\n",
       "\t\t<dd>22.5594294629134</dd>\n",
       "\t<dt>x14</dt>\n",
       "\t\t<dd>20.4873322330405</dd>\n",
       "\t<dt>x30</dt>\n",
       "\t\t<dd>9.82145633626192</dd>\n",
       "\t<dt>x53</dt>\n",
       "\t\t<dd>6.32667372264957</dd>\n",
       "\t<dt>x27</dt>\n",
       "\t\t<dd>5.99491024604564</dd>\n",
       "\t<dt>x42</dt>\n",
       "\t\t<dd>2.31795621433132</dd>\n",
       "\t<dt>x38</dt>\n",
       "\t\t<dd>2.30112913248364</dd>\n",
       "\t<dt>x39</dt>\n",
       "\t\t<dd>2.22398769535843</dd>\n",
       "\t<dt>x10</dt>\n",
       "\t\t<dd>2.11773648648649</dd>\n",
       "\t<dt>x9</dt>\n",
       "\t\t<dd>2.0949076526739</dd>\n",
       "\t<dt>x48</dt>\n",
       "\t\t<dd>2.01348799092318</dd>\n",
       "\t<dt>x16</dt>\n",
       "\t\t<dd>1.72584684936273</dd>\n",
       "\t<dt>x36</dt>\n",
       "\t\t<dd>1.47986323100874</dd>\n",
       "\t<dt>x8</dt>\n",
       "\t\t<dd>1.44766254812075</dd>\n",
       "\t<dt>x6</dt>\n",
       "\t\t<dd>1.39263659427823</dd>\n",
       "\t<dt>x5</dt>\n",
       "\t\t<dd>1.3287761967135</dd>\n",
       "\t<dt>x7</dt>\n",
       "\t\t<dd>1.26201923076923</dd>\n",
       "\t<dt>x1</dt>\n",
       "\t\t<dd>1.13987096567943</dd>\n",
       "\t<dt>x28</dt>\n",
       "\t\t<dd>1.06964656964657</dd>\n",
       "\t<dt>x11</dt>\n",
       "\t\t<dd>0.855717255717256</dd>\n",
       "\t<dt>x15</dt>\n",
       "\t\t<dd>0.855717255717256</dd>\n",
       "\t<dt>x41</dt>\n",
       "\t\t<dd>0.762086211002617</dd>\n",
       "\t<dt>x58</dt>\n",
       "\t\t<dd>0.762086211002617</dd>\n",
       "\t<dt>x43</dt>\n",
       "\t\t<dd>0.492295381838147</dd>\n",
       "</dl>\n"
      ],
      "text/latex": [
       "\\begin{description*}\n",
       "\\item[x23] 58.5633673936237\n",
       "\\item[x56] 50.1320654731409\n",
       "\\item[x54] 36.4596839804661\n",
       "\\item[x17] 31.4203076420263\n",
       "\\item[x32] 28.3797777518648\n",
       "\\item[x44] 22.5594294629134\n",
       "\\item[x14] 20.4873322330405\n",
       "\\item[x30] 9.82145633626192\n",
       "\\item[x53] 6.32667372264957\n",
       "\\item[x27] 5.99491024604564\n",
       "\\item[x42] 2.31795621433132\n",
       "\\item[x38] 2.30112913248364\n",
       "\\item[x39] 2.22398769535843\n",
       "\\item[x10] 2.11773648648649\n",
       "\\item[x9] 2.0949076526739\n",
       "\\item[x48] 2.01348799092318\n",
       "\\item[x16] 1.72584684936273\n",
       "\\item[x36] 1.47986323100874\n",
       "\\item[x8] 1.44766254812075\n",
       "\\item[x6] 1.39263659427823\n",
       "\\item[x5] 1.3287761967135\n",
       "\\item[x7] 1.26201923076923\n",
       "\\item[x1] 1.13987096567943\n",
       "\\item[x28] 1.06964656964657\n",
       "\\item[x11] 0.855717255717256\n",
       "\\item[x15] 0.855717255717256\n",
       "\\item[x41] 0.762086211002617\n",
       "\\item[x58] 0.762086211002617\n",
       "\\item[x43] 0.492295381838147\n",
       "\\end{description*}\n"
      ],
      "text/markdown": [
       "x23\n",
       ":   58.5633673936237x56\n",
       ":   50.1320654731409x54\n",
       ":   36.4596839804661x17\n",
       ":   31.4203076420263x32\n",
       ":   28.3797777518648x44\n",
       ":   22.5594294629134x14\n",
       ":   20.4873322330405x30\n",
       ":   9.82145633626192x53\n",
       ":   6.32667372264957x27\n",
       ":   5.99491024604564x42\n",
       ":   2.31795621433132x38\n",
       ":   2.30112913248364x39\n",
       ":   2.22398769535843x10\n",
       ":   2.11773648648649x9\n",
       ":   2.0949076526739x48\n",
       ":   2.01348799092318x16\n",
       ":   1.72584684936273x36\n",
       ":   1.47986323100874x8\n",
       ":   1.44766254812075x6\n",
       ":   1.39263659427823x5\n",
       ":   1.3287761967135x7\n",
       ":   1.26201923076923x1\n",
       ":   1.13987096567943x28\n",
       ":   1.06964656964657x11\n",
       ":   0.855717255717256x15\n",
       ":   0.855717255717256x41\n",
       ":   0.762086211002617x58\n",
       ":   0.762086211002617x43\n",
       ":   0.492295381838147\n",
       "\n"
      ],
      "text/plain": [
       "       x23        x56        x54        x17        x32        x44        x14 \n",
       "58.5633674 50.1320655 36.4596840 31.4203076 28.3797778 22.5594295 20.4873322 \n",
       "       x30        x53        x27        x42        x38        x39        x10 \n",
       " 9.8214563  6.3266737  5.9949102  2.3179562  2.3011291  2.2239877  2.1177365 \n",
       "        x9        x48        x16        x36         x8         x6         x5 \n",
       " 2.0949077  2.0134880  1.7258468  1.4798632  1.4476625  1.3926366  1.3287762 \n",
       "        x7         x1        x28        x11        x15        x41        x58 \n",
       " 1.2620192  1.1398710  1.0696466  0.8557173  0.8557173  0.7620862  0.7620862 \n",
       "       x43 \n",
       " 0.4922954 "
      ]
     },
     "metadata": {},
     "output_type": "display_data"
    },
    {
     "data": {
      "image/png": "[encoded data removed]",
      "text/plain": [
       "Plot with title \"\""
      ]
     },
     "metadata": {},
     "output_type": "display_data"
    }
   ],
   "source": [
    "DecTree_pen = rpart(y ~ .,\n",
    "                   data=train, method=\"class\", parms=list(loss=PenaltyMatrix),\n",
    "                   cp=0.01)\n",
    "fancyRpartPlot(DecTree_pen)\n",
    "DecTree_pen$variable.importance"
   ]
  },
  {
   "cell_type": "code",
   "execution_count": 41,
   "metadata": {},
   "outputs": [
    {
     "data": {
      "text/plain": [
       "   penalized_tree\n",
       "     a  b\n",
       "  a 47 33\n",
       "  b  5 75"
      ]
     },
     "metadata": {},
     "output_type": "display_data"
    }
   ],
   "source": [
    "penalized_tree=predict(DecTree_pen,newdata=test,type=\"class\")\n",
    "table(test$y,penalized_tree)"
   ]
  },
  {
   "cell_type": "code",
   "execution_count": 42,
   "metadata": {
    "scrolled": false
   },
   "outputs": [
    {
     "data": {
      "text/plain": [
       "Confusion Matrix and Statistics\n",
       "\n",
       "          Reference\n",
       "Prediction  a  b\n",
       "         a 47  5\n",
       "         b 33 75\n",
       "                                          \n",
       "               Accuracy : 0.7625          \n",
       "                 95% CI : (0.6889, 0.8261)\n",
       "    No Information Rate : 0.5             \n",
       "    P-Value [Acc > NIR] : 8.980e-12       \n",
       "                                          \n",
       "                  Kappa : 0.525           \n",
       "                                          \n",
       " Mcnemar's Test P-Value : 1.187e-05       \n",
       "                                          \n",
       "              Precision : 0.9038          \n",
       "                 Recall : 0.5875          \n",
       "                     F1 : 0.7121          \n",
       "             Prevalence : 0.5000          \n",
       "         Detection Rate : 0.2938          \n",
       "   Detection Prevalence : 0.3250          \n",
       "      Balanced Accuracy : 0.7625          \n",
       "                                          \n",
       "       'Positive' Class : a               \n",
       "                                          "
      ]
     },
     "metadata": {},
     "output_type": "display_data"
    }
   ],
   "source": [
    "confusionMatrix(data = penalized_tree, reference = as.factor(test$y), mode = \"prec_recall\")"
   ]
  },
  {
   "cell_type": "markdown",
   "metadata": {},
   "source": [
    "### Performanca Measure"
   ]
  },
  {
   "cell_type": "code",
   "execution_count": 43,
   "metadata": {},
   "outputs": [],
   "source": [
    "DecTree_pen = rpart(y ~ .,\n",
    "                   data=TrainData, method=\"class\", parms=list(loss=PenaltyMatrix),\n",
    "                   cp=0.01)"
   ]
  },
  {
   "cell_type": "code",
   "execution_count": 44,
   "metadata": {},
   "outputs": [],
   "source": [
    "penalized_tree_final=predict(DecTree_pen,newdata=final_test,type=\"class\")\n",
    "penalized_tree_fin_nm=as.numeric(penalized_tree_final)-1"
   ]
  },
  {
   "cell_type": "code",
   "execution_count": 45,
   "metadata": {},
   "outputs": [
    {
     "data": {
      "text/html": [
       "2073"
      ],
      "text/latex": [
       "2073"
      ],
      "text/markdown": [
       "2073"
      ],
      "text/plain": [
       "[1] 2073"
      ]
     },
     "metadata": {},
     "output_type": "display_data"
    }
   ],
   "source": [
    "length(penalized_tree_fin_nm)"
   ]
  },
  {
   "cell_type": "markdown",
   "metadata": {},
   "source": [
    "# General Table"
   ]
  },
  {
   "cell_type": "markdown",
   "metadata": {},
   "source": [
    "## Training"
   ]
  },
  {
   "cell_type": "code",
   "execution_count": 46,
   "metadata": {},
   "outputs": [
    {
     "data": {
      "text/plain": [
       "\n",
       " a  b \n",
       "80 80 "
      ]
     },
     "metadata": {},
     "output_type": "display_data"
    }
   ],
   "source": [
    "table(test$y)"
   ]
  },
  {
   "cell_type": "code",
   "execution_count": 53,
   "metadata": {},
   "outputs": [
    {
     "data": {
      "text/plain": [
       "   penalized_tree\n",
       "     a  b\n",
       "  a 47 33\n",
       "  b  5 75"
      ]
     },
     "metadata": {},
     "output_type": "display_data"
    }
   ],
   "source": [
    "table(test$y,penalized_tree)"
   ]
  },
  {
   "cell_type": "code",
   "execution_count": 54,
   "metadata": {},
   "outputs": [
    {
     "data": {
      "text/plain": [
       ", , penalized_tree = a\n",
       "\n",
       "   PredictRandomForest\n",
       "     a  b\n",
       "  a 47  0\n",
       "  b  4  1\n",
       "\n",
       ", , penalized_tree = b\n",
       "\n",
       "   PredictRandomForest\n",
       "     a  b\n",
       "  a 22 11\n",
       "  b  4 71\n"
      ]
     },
     "metadata": {},
     "output_type": "display_data"
    }
   ],
   "source": [
    "table(test$y,PredictRandomForest,penalized_tree)"
   ]
  },
  {
   "cell_type": "code",
   "execution_count": 55,
   "metadata": {},
   "outputs": [],
   "source": [
    "y_num=as.numeric(test$y)-1\n",
    "rf_num=as.numeric(PredictRandomForest)-1\n",
    "pr_num=as.numeric(penalized_tree)-1\n",
    "sb_num=as.numeric(predictions_train)-1"
   ]
  },
  {
   "cell_type": "code",
   "execution_count": 56,
   "metadata": {},
   "outputs": [
    {
     "data": {
      "text/html": [
       "160"
      ],
      "text/latex": [
       "160"
      ],
      "text/markdown": [
       "160"
      ],
      "text/plain": [
       "[1] 160"
      ]
     },
     "metadata": {},
     "output_type": "display_data"
    }
   ],
   "source": [
    "length(test$y)"
   ]
  },
  {
   "cell_type": "code",
   "execution_count": 57,
   "metadata": {},
   "outputs": [],
   "source": [
    "last_num=array(1:2073)"
   ]
  },
  {
   "cell_type": "code",
   "execution_count": 58,
   "metadata": {},
   "outputs": [],
   "source": [
    "for(i in 1:length(final_prediction)){\n",
    "    if(final_prediction[i]==1 | predictions_rf_final[i]==1){\n",
    "        last_num[i]=1\n",
    "    }\n",
    "    else{\n",
    "        last_num[i]=0\n",
    "    }\n",
    "}"
   ]
  },
  {
   "cell_type": "code",
   "execution_count": 59,
   "metadata": {},
   "outputs": [
    {
     "data": {
      "text/html": [
       "<ol class=list-inline>\n",
       "\t<li>0</li>\n",
       "\t<li>0</li>\n",
       "\t<li>0</li>\n",
       "\t<li>0</li>\n",
       "\t<li>1</li>\n",
       "\t<li>1</li>\n",
       "\t<li>1</li>\n",
       "\t<li>0</li>\n",
       "\t<li>0</li>\n",
       "\t<li>1</li>\n",
       "\t<li>1</li>\n",
       "\t<li>1</li>\n",
       "\t<li>1</li>\n",
       "\t<li>1</li>\n",
       "\t<li>1</li>\n",
       "\t<li>0</li>\n",
       "\t<li>1</li>\n",
       "\t<li>0</li>\n",
       "\t<li>0</li>\n",
       "\t<li>1</li>\n",
       "\t<li>0</li>\n",
       "\t<li>1</li>\n",
       "\t<li>1</li>\n",
       "\t<li>1</li>\n",
       "\t<li>1</li>\n",
       "\t<li>0</li>\n",
       "\t<li>1</li>\n",
       "\t<li>1</li>\n",
       "\t<li>0</li>\n",
       "\t<li>1</li>\n",
       "\t<li>1</li>\n",
       "\t<li>1</li>\n",
       "\t<li>0</li>\n",
       "\t<li>0</li>\n",
       "\t<li>0</li>\n",
       "\t<li>0</li>\n",
       "\t<li>1</li>\n",
       "\t<li>1</li>\n",
       "\t<li>1</li>\n",
       "\t<li>1</li>\n",
       "\t<li>0</li>\n",
       "\t<li>0</li>\n",
       "\t<li>0</li>\n",
       "\t<li>1</li>\n",
       "\t<li>0</li>\n",
       "\t<li>1</li>\n",
       "\t<li>1</li>\n",
       "\t<li>0</li>\n",
       "\t<li>0</li>\n",
       "\t<li>1</li>\n",
       "\t<li>0</li>\n",
       "\t<li>0</li>\n",
       "\t<li>0</li>\n",
       "\t<li>0</li>\n",
       "\t<li>1</li>\n",
       "\t<li>1</li>\n",
       "\t<li>1</li>\n",
       "\t<li>1</li>\n",
       "\t<li>0</li>\n",
       "\t<li>0</li>\n",
       "</ol>\n"
      ],
      "text/latex": [
       "\\begin{enumerate*}\n",
       "\\item 0\n",
       "\\item 0\n",
       "\\item 0\n",
       "\\item 0\n",
       "\\item 1\n",
       "\\item 1\n",
       "\\item 1\n",
       "\\item 0\n",
       "\\item 0\n",
       "\\item 1\n",
       "\\item 1\n",
       "\\item 1\n",
       "\\item 1\n",
       "\\item 1\n",
       "\\item 1\n",
       "\\item 0\n",
       "\\item 1\n",
       "\\item 0\n",
       "\\item 0\n",
       "\\item 1\n",
       "\\item 0\n",
       "\\item 1\n",
       "\\item 1\n",
       "\\item 1\n",
       "\\item 1\n",
       "\\item 0\n",
       "\\item 1\n",
       "\\item 1\n",
       "\\item 0\n",
       "\\item 1\n",
       "\\item 1\n",
       "\\item 1\n",
       "\\item 0\n",
       "\\item 0\n",
       "\\item 0\n",
       "\\item 0\n",
       "\\item 1\n",
       "\\item 1\n",
       "\\item 1\n",
       "\\item 1\n",
       "\\item 0\n",
       "\\item 0\n",
       "\\item 0\n",
       "\\item 1\n",
       "\\item 0\n",
       "\\item 1\n",
       "\\item 1\n",
       "\\item 0\n",
       "\\item 0\n",
       "\\item 1\n",
       "\\item 0\n",
       "\\item 0\n",
       "\\item 0\n",
       "\\item 0\n",
       "\\item 1\n",
       "\\item 1\n",
       "\\item 1\n",
       "\\item 1\n",
       "\\item 0\n",
       "\\item 0\n",
       "\\end{enumerate*}\n"
      ],
      "text/markdown": [
       "1. 0\n",
       "2. 0\n",
       "3. 0\n",
       "4. 0\n",
       "5. 1\n",
       "6. 1\n",
       "7. 1\n",
       "8. 0\n",
       "9. 0\n",
       "10. 1\n",
       "11. 1\n",
       "12. 1\n",
       "13. 1\n",
       "14. 1\n",
       "15. 1\n",
       "16. 0\n",
       "17. 1\n",
       "18. 0\n",
       "19. 0\n",
       "20. 1\n",
       "21. 0\n",
       "22. 1\n",
       "23. 1\n",
       "24. 1\n",
       "25. 1\n",
       "26. 0\n",
       "27. 1\n",
       "28. 1\n",
       "29. 0\n",
       "30. 1\n",
       "31. 1\n",
       "32. 1\n",
       "33. 0\n",
       "34. 0\n",
       "35. 0\n",
       "36. 0\n",
       "37. 1\n",
       "38. 1\n",
       "39. 1\n",
       "40. 1\n",
       "41. 0\n",
       "42. 0\n",
       "43. 0\n",
       "44. 1\n",
       "45. 0\n",
       "46. 1\n",
       "47. 1\n",
       "48. 0\n",
       "49. 0\n",
       "50. 1\n",
       "51. 0\n",
       "52. 0\n",
       "53. 0\n",
       "54. 0\n",
       "55. 1\n",
       "56. 1\n",
       "57. 1\n",
       "58. 1\n",
       "59. 0\n",
       "60. 0\n",
       "\n",
       "\n"
      ],
      "text/plain": [
       " [1] 0 0 0 0 1 1 1 0 0 1 1 1 1 1 1 0 1 0 0 1 0 1 1 1 1 0 1 1 0 1 1 1 0 0 0 0 1 1\n",
       "[39] 1 1 0 0 0 1 0 1 1 0 0 1 0 0 0 0 1 1 1 1 0 0"
      ]
     },
     "metadata": {},
     "output_type": "display_data"
    }
   ],
   "source": [
    "head(last_num,60)"
   ]
  },
  {
   "cell_type": "code",
   "execution_count": 60,
   "metadata": {},
   "outputs": [
    {
     "data": {
      "text/html": [
       "<ol class=list-inline>\n",
       "\t<li>0</li>\n",
       "\t<li>0</li>\n",
       "\t<li>0</li>\n",
       "\t<li>0</li>\n",
       "\t<li>0</li>\n",
       "\t<li>1</li>\n",
       "\t<li>1</li>\n",
       "\t<li>0</li>\n",
       "\t<li>0</li>\n",
       "\t<li>1</li>\n",
       "\t<li>1</li>\n",
       "\t<li>1</li>\n",
       "\t<li>1</li>\n",
       "\t<li>0</li>\n",
       "\t<li>1</li>\n",
       "\t<li>0</li>\n",
       "\t<li>1</li>\n",
       "\t<li>0</li>\n",
       "\t<li>0</li>\n",
       "\t<li>1</li>\n",
       "\t<li>0</li>\n",
       "\t<li>1</li>\n",
       "\t<li>0</li>\n",
       "\t<li>1</li>\n",
       "\t<li>0</li>\n",
       "\t<li>0</li>\n",
       "\t<li>1</li>\n",
       "\t<li>1</li>\n",
       "\t<li>0</li>\n",
       "\t<li>1</li>\n",
       "\t<li>1</li>\n",
       "\t<li>1</li>\n",
       "\t<li>0</li>\n",
       "\t<li>0</li>\n",
       "\t<li>0</li>\n",
       "\t<li>0</li>\n",
       "\t<li>0</li>\n",
       "\t<li>1</li>\n",
       "\t<li>0</li>\n",
       "\t<li>1</li>\n",
       "\t<li>0</li>\n",
       "\t<li>0</li>\n",
       "\t<li>0</li>\n",
       "\t<li>0</li>\n",
       "\t<li>0</li>\n",
       "\t<li>0</li>\n",
       "\t<li>1</li>\n",
       "\t<li>0</li>\n",
       "\t<li>0</li>\n",
       "\t<li>1</li>\n",
       "\t<li>0</li>\n",
       "\t<li>0</li>\n",
       "\t<li>0</li>\n",
       "\t<li>0</li>\n",
       "\t<li>0</li>\n",
       "\t<li>1</li>\n",
       "\t<li>0</li>\n",
       "\t<li>0</li>\n",
       "\t<li>0</li>\n",
       "\t<li>0</li>\n",
       "</ol>\n"
      ],
      "text/latex": [
       "\\begin{enumerate*}\n",
       "\\item 0\n",
       "\\item 0\n",
       "\\item 0\n",
       "\\item 0\n",
       "\\item 0\n",
       "\\item 1\n",
       "\\item 1\n",
       "\\item 0\n",
       "\\item 0\n",
       "\\item 1\n",
       "\\item 1\n",
       "\\item 1\n",
       "\\item 1\n",
       "\\item 0\n",
       "\\item 1\n",
       "\\item 0\n",
       "\\item 1\n",
       "\\item 0\n",
       "\\item 0\n",
       "\\item 1\n",
       "\\item 0\n",
       "\\item 1\n",
       "\\item 0\n",
       "\\item 1\n",
       "\\item 0\n",
       "\\item 0\n",
       "\\item 1\n",
       "\\item 1\n",
       "\\item 0\n",
       "\\item 1\n",
       "\\item 1\n",
       "\\item 1\n",
       "\\item 0\n",
       "\\item 0\n",
       "\\item 0\n",
       "\\item 0\n",
       "\\item 0\n",
       "\\item 1\n",
       "\\item 0\n",
       "\\item 1\n",
       "\\item 0\n",
       "\\item 0\n",
       "\\item 0\n",
       "\\item 0\n",
       "\\item 0\n",
       "\\item 0\n",
       "\\item 1\n",
       "\\item 0\n",
       "\\item 0\n",
       "\\item 1\n",
       "\\item 0\n",
       "\\item 0\n",
       "\\item 0\n",
       "\\item 0\n",
       "\\item 0\n",
       "\\item 1\n",
       "\\item 0\n",
       "\\item 0\n",
       "\\item 0\n",
       "\\item 0\n",
       "\\end{enumerate*}\n"
      ],
      "text/markdown": [
       "1. 0\n",
       "2. 0\n",
       "3. 0\n",
       "4. 0\n",
       "5. 0\n",
       "6. 1\n",
       "7. 1\n",
       "8. 0\n",
       "9. 0\n",
       "10. 1\n",
       "11. 1\n",
       "12. 1\n",
       "13. 1\n",
       "14. 0\n",
       "15. 1\n",
       "16. 0\n",
       "17. 1\n",
       "18. 0\n",
       "19. 0\n",
       "20. 1\n",
       "21. 0\n",
       "22. 1\n",
       "23. 0\n",
       "24. 1\n",
       "25. 0\n",
       "26. 0\n",
       "27. 1\n",
       "28. 1\n",
       "29. 0\n",
       "30. 1\n",
       "31. 1\n",
       "32. 1\n",
       "33. 0\n",
       "34. 0\n",
       "35. 0\n",
       "36. 0\n",
       "37. 0\n",
       "38. 1\n",
       "39. 0\n",
       "40. 1\n",
       "41. 0\n",
       "42. 0\n",
       "43. 0\n",
       "44. 0\n",
       "45. 0\n",
       "46. 0\n",
       "47. 1\n",
       "48. 0\n",
       "49. 0\n",
       "50. 1\n",
       "51. 0\n",
       "52. 0\n",
       "53. 0\n",
       "54. 0\n",
       "55. 0\n",
       "56. 1\n",
       "57. 0\n",
       "58. 0\n",
       "59. 0\n",
       "60. 0\n",
       "\n",
       "\n"
      ],
      "text/plain": [
       " [1] 0 0 0 0 0 1 1 0 0 1 1 1 1 0 1 0 1 0 0 1 0 1 0 1 0 0 1 1 0 1 1 1 0 0 0 0 0 1\n",
       "[39] 0 1 0 0 0 0 0 0 1 0 0 1 0 0 0 0 0 1 0 0 0 0"
      ]
     },
     "metadata": {},
     "output_type": "display_data"
    }
   ],
   "source": [
    "head(final_prediction,60)"
   ]
  },
  {
   "cell_type": "code",
   "execution_count": 61,
   "metadata": {},
   "outputs": [
    {
     "data": {
      "text/html": [
       "<ol class=list-inline>\n",
       "\t<li>0</li>\n",
       "\t<li>0</li>\n",
       "\t<li>0</li>\n",
       "\t<li>0</li>\n",
       "\t<li>1</li>\n",
       "\t<li>0</li>\n",
       "\t<li>0</li>\n",
       "\t<li>0</li>\n",
       "\t<li>0</li>\n",
       "\t<li>0</li>\n",
       "\t<li>0</li>\n",
       "\t<li>0</li>\n",
       "\t<li>0</li>\n",
       "\t<li>1</li>\n",
       "\t<li>0</li>\n",
       "\t<li>0</li>\n",
       "\t<li>0</li>\n",
       "\t<li>0</li>\n",
       "\t<li>0</li>\n",
       "\t<li>0</li>\n",
       "\t<li>0</li>\n",
       "\t<li>0</li>\n",
       "\t<li>1</li>\n",
       "\t<li>0</li>\n",
       "\t<li>1</li>\n",
       "\t<li>0</li>\n",
       "\t<li>0</li>\n",
       "\t<li>0</li>\n",
       "\t<li>0</li>\n",
       "\t<li>0</li>\n",
       "\t<li>0</li>\n",
       "\t<li>1</li>\n",
       "\t<li>0</li>\n",
       "\t<li>0</li>\n",
       "\t<li>0</li>\n",
       "\t<li>0</li>\n",
       "\t<li>1</li>\n",
       "\t<li>1</li>\n",
       "\t<li>1</li>\n",
       "\t<li>0</li>\n",
       "\t<li>0</li>\n",
       "\t<li>0</li>\n",
       "\t<li>0</li>\n",
       "\t<li>1</li>\n",
       "\t<li>0</li>\n",
       "\t<li>1</li>\n",
       "\t<li>0</li>\n",
       "\t<li>0</li>\n",
       "\t<li>0</li>\n",
       "\t<li>0</li>\n",
       "\t<li>0</li>\n",
       "\t<li>0</li>\n",
       "\t<li>0</li>\n",
       "\t<li>0</li>\n",
       "\t<li>1</li>\n",
       "\t<li>0</li>\n",
       "\t<li>1</li>\n",
       "\t<li>1</li>\n",
       "\t<li>0</li>\n",
       "\t<li>0</li>\n",
       "</ol>\n"
      ],
      "text/latex": [
       "\\begin{enumerate*}\n",
       "\\item 0\n",
       "\\item 0\n",
       "\\item 0\n",
       "\\item 0\n",
       "\\item 1\n",
       "\\item 0\n",
       "\\item 0\n",
       "\\item 0\n",
       "\\item 0\n",
       "\\item 0\n",
       "\\item 0\n",
       "\\item 0\n",
       "\\item 0\n",
       "\\item 1\n",
       "\\item 0\n",
       "\\item 0\n",
       "\\item 0\n",
       "\\item 0\n",
       "\\item 0\n",
       "\\item 0\n",
       "\\item 0\n",
       "\\item 0\n",
       "\\item 1\n",
       "\\item 0\n",
       "\\item 1\n",
       "\\item 0\n",
       "\\item 0\n",
       "\\item 0\n",
       "\\item 0\n",
       "\\item 0\n",
       "\\item 0\n",
       "\\item 1\n",
       "\\item 0\n",
       "\\item 0\n",
       "\\item 0\n",
       "\\item 0\n",
       "\\item 1\n",
       "\\item 1\n",
       "\\item 1\n",
       "\\item 0\n",
       "\\item 0\n",
       "\\item 0\n",
       "\\item 0\n",
       "\\item 1\n",
       "\\item 0\n",
       "\\item 1\n",
       "\\item 0\n",
       "\\item 0\n",
       "\\item 0\n",
       "\\item 0\n",
       "\\item 0\n",
       "\\item 0\n",
       "\\item 0\n",
       "\\item 0\n",
       "\\item 1\n",
       "\\item 0\n",
       "\\item 1\n",
       "\\item 1\n",
       "\\item 0\n",
       "\\item 0\n",
       "\\end{enumerate*}\n"
      ],
      "text/markdown": [
       "1. 0\n",
       "2. 0\n",
       "3. 0\n",
       "4. 0\n",
       "5. 1\n",
       "6. 0\n",
       "7. 0\n",
       "8. 0\n",
       "9. 0\n",
       "10. 0\n",
       "11. 0\n",
       "12. 0\n",
       "13. 0\n",
       "14. 1\n",
       "15. 0\n",
       "16. 0\n",
       "17. 0\n",
       "18. 0\n",
       "19. 0\n",
       "20. 0\n",
       "21. 0\n",
       "22. 0\n",
       "23. 1\n",
       "24. 0\n",
       "25. 1\n",
       "26. 0\n",
       "27. 0\n",
       "28. 0\n",
       "29. 0\n",
       "30. 0\n",
       "31. 0\n",
       "32. 1\n",
       "33. 0\n",
       "34. 0\n",
       "35. 0\n",
       "36. 0\n",
       "37. 1\n",
       "38. 1\n",
       "39. 1\n",
       "40. 0\n",
       "41. 0\n",
       "42. 0\n",
       "43. 0\n",
       "44. 1\n",
       "45. 0\n",
       "46. 1\n",
       "47. 0\n",
       "48. 0\n",
       "49. 0\n",
       "50. 0\n",
       "51. 0\n",
       "52. 0\n",
       "53. 0\n",
       "54. 0\n",
       "55. 1\n",
       "56. 0\n",
       "57. 1\n",
       "58. 1\n",
       "59. 0\n",
       "60. 0\n",
       "\n",
       "\n"
      ],
      "text/plain": [
       " [1] 0 0 0 0 1 0 0 0 0 0 0 0 0 1 0 0 0 0 0 0 0 0 1 0 1 0 0 0 0 0 0 1 0 0 0 0 1 1\n",
       "[39] 1 0 0 0 0 1 0 1 0 0 0 0 0 0 0 0 1 0 1 1 0 0"
      ]
     },
     "metadata": {},
     "output_type": "display_data"
    }
   ],
   "source": [
    "head(predictions_rf_final,60)"
   ]
  },
  {
   "cell_type": "markdown",
   "metadata": {},
   "source": [
    "## Test"
   ]
  },
  {
   "cell_type": "code",
   "execution_count": 68,
   "metadata": {},
   "outputs": [
    {
     "data": {
      "text/plain": [
       "                    penalized_tree_fin_nm\n",
       "predictions_rf_final    0    1\n",
       "                   0 1315  396\n",
       "                   1   22  340"
      ]
     },
     "metadata": {},
     "output_type": "display_data"
    }
   ],
   "source": [
    "table(predictions_rf_final,penalized_tree_fin_nm)"
   ]
  },
  {
   "cell_type": "markdown",
   "metadata": {},
   "source": [
    "# Submission"
   ]
  },
  {
   "cell_type": "code",
   "execution_count": 86,
   "metadata": {
    "scrolled": false
   },
   "outputs": [
    {
     "name": "stdout",
     "output_type": "stream",
     "text": [
      "[1] \"Format OK\"\n",
      "$submission\n",
      "[0,0,0,0,1,0,0,0,0,0,0,0,0,1,0,0,0,0,0,0,0,0,1,0,1,0,0,0,0,0,0,1,0,1,1,0,1,1,1,0,0,0,0,1,0,1,0,0,0,0,0,0,0,0,1,1,1,1,0,0,1,0,0,0,0,0,0,0,1,0,1,0,0,1,0,0,1,0,0,0,1,0,0,1,0,0,0,0,1,0,0,0,0,1,0,0,0,0,0,0,1,0,1,0,0,0,0,0,0,0,0,1,0,1,0,0,0,0,0,0,0,0,0,0,0,0,0,0,1,0,0,0,0,0,0,1,0,1,0,1,0,0,0,0,0,0,1,0,0,0,0,0,0,0,0,0,0,0,0,1,0,0,0,0,0,1,0,1,0,0,1,0,0,0,0,0,0,0,0,1,1,1,0,0,1,0,0,0,0,0,0,0,1,0,0,0,0,0,0,1,0,0,0,0,0,0,0,1,0,1,0,0,0,1,0,1,0,0,0,0,0,0,0,1,0,0,0,1,0,0,1,0,0,0,0,0,1,0,1,1,0,0,0,0,0,0,1,1,1,0,0,1,1,0,0,0,1,0,0,0,1,0,0,0,1,0,0,0,0,0,0,0,0,0,0,0,0,0,0,0,0,0,0,0,1,0,0,0,1,0,0,0,0,0,0,1,1,0,0,0,1,0,0,0,0,0,0,0,0,0,0,0,0,0,0,1,0,0,0,1,0,0,0,0,0,0,1,0,0,0,0,0,1,0,1,0,0,1,0,0,0,0,0,0,0,0,0,0,0,0,0,0,0,1,0,0,1,0,0,0,0,0,0,0,0,0,1,0,0,0,1,0,0,0,0,1,0,0,0,0,0,0,0,1,0,0,0,0,0,0,0,0,1,0,0,0,0,0,0,0,0,1,0,1,0,0,0,0,1,0,0,0,0,0,0,0,0,1,1,1,0,1,0,0,0,0,0,0,0,0,0,0,0,0,1,0,0,0,1,0,0,0,0,1,0,1,0,0,1,0,0,0,0,1,0,0,0,0,1,1,0,0,0,1,0,0,0,0,0,0,0,1,0,0,1,0,0,1,0,0,0,0,1,0,0,0,1,0,0,0,1,0,1,1,0,0,1,0,1,0,0,0,0,0,0,0,0,0,0,0,0,0,0,0,0,0,0,0,1,0,0,0,0,0,0,0,0,1,0,0,0,0,0,1,0,0,1,1,0,0,0,1,0,0,0,0,1,1,0,1,0,0,0,1,1,0,0,0,0,0,0,0,0,0,0,0,0,0,1,0,0,0,0,0,0,0,0,0,0,0,0,0,0,0,0,1,0,0,0,0,1,0,0,0,0,1,0,0,0,0,0,0,0,0,0,0,1,0,0,0,0,1,1,0,0,1,0,0,0,1,0,1,1,1,0,0,0,0,0,0,0,0,1,0,0,0,0,0,0,0,0,0,0,0,0,0,0,0,1,0,0,0,0,0,0,0,1,1,0,0,0,0,0,1,0,0,1,0,0,1,0,0,0,1,0,0,0,1,0,0,0,1,0,0,0,1,0,0,0,0,0,0,0,0,0,0,0,0,0,0,0,0,1,0,1,1,1,0,0,0,0,1,0,0,0,0,0,1,1,0,0,0,1,0,0,0,0,0,1,0,0,1,0,0,0,0,0,0,0,0,0,0,1,0,1,0,1,0,0,0,0,0,0,0,0,1,0,0,0,0,0,1,0,0,1,0,0,0,0,0,0,0,1,1,1,0,1,0,0,0,0,0,0,0,0,0,0,0,0,0,0,0,1,0,0,0,0,0,0,0,0,0,0,0,0,0,0,0,0,1,0,0,0,0,0,0,0,0,1,0,0,0,1,0,0,0,1,0,0,1,0,0,1,0,1,0,0,0,0,1,0,1,0,1,1,1,0,0,0,0,0,1,1,0,1,0,0,0,0,0,0,0,0,0,0,0,0,0,0,0,0,0,0,0,0,1,0,0,1,1,1,0,0,0,0,0,0,1,0,0,0,1,0,0,0,0,0,0,0,0,0,1,0,0,1,0,0,0,0,1,0,1,1,0,0,0,1,0,1,0,0,1,1,1,0,0,0,0,0,1,1,0,0,1,0,0,0,0,0,0,0,0,0,0,0,0,0,1,1,1,0,0,0,1,0,0,0,0,1,0,0,0,0,0,0,0,0,0,0,1,0,0,1,0,0,0,1,0,0,1,1,1,0,1,1,0,0,0,0,0,0,0,0,0,0,1,0,0,0,1,0,0,0,0,0,1,1,0,0,0,0,0,0,1,0,1,0,0,0,1,0,0,0,0,0,0,0,0,1,0,0,1,1,0,0,0,0,1,0,0,1,1,1,0,0,0,0,0,1,0,0,0,0,0,0,0,0,0,0,0,0,0,0,0,0,0,0,0,0,1,0,1,1,0,0,0,0,0,0,1,1,0,0,0,1,0,0,0,1,0,1,1,1,0,0,0,0,0,0,1,0,0,0,1,0,0,0,0,0,1,0,0,0,0,0,0,1,0,0,0,0,0,0,1,0,0,0,0,0,0,1,0,0,0,0,0,0,0,0,0,0,0,1,0,0,1,1,0,0,0,0,0,0,0,0,0,0,0,0,1,1,0,1,0,0,1,0,0,0,0,0,1,0,0,0,0,0,0,0,0,0,0,0,1,0,0,0,0,0,0,0,0,0,0,0,0,0,0,0,0,0,0,0,0,0,0,0,0,0,0,0,0,0,0,1,1,1,0,0,0,0,0,0,0,0,0,0,0,0,0,0,1,0,0,0,0,0,1,1,0,0,0,0,1,1,0,0,0,0,0,1,1,0,0,0,1,0,0,0,0,0,0,0,0,0,0,0,0,0,0,0,0,0,0,0,1,0,0,0,0,0,0,0,0,0,0,0,0,1,0,0,1,0,1,0,1,1,0,0,0,0,0,0,1,0,1,0,0,1,0,0,0,0,0,0,0,0,0,0,1,1,0,0,0,0,0,0,0,0,0,0,0,1,0,0,1,0,0,0,0,0,0,0,0,0,0,0,0,0,0,0,0,0,0,0,1,1,0,0,0,0,0,0,0,0,0,0,0,0,0,0,0,0,0,0,0,0,0,1,0,0,0,0,0,0,0,0,0,0,0,0,0,0,0,0,0,0,0,0,0,0,0,0,0,0,1,0,0,0,0,0,1,0,1,0,0,1,1,0,0,1,0,1,0,0,0,0,0,0,1,0,0,0,1,0,0,0,0,0,0,0,0,1,0,0,1,0,0,0,0,0,0,0,0,1,0,0,0,0,0,0,1,0,1,0,1,0,0,0,1,0,0,0,0,0,0,0,0,0,1,0,0,1,0,0,0,0,0,0,0,1,1,0,0,0,0,0,0,0,1,0,0,0,1,0,0,1,1,0,0,0,0,0,0,1,0,0,0,0,0,0,0,0,1,0,0,0,0,1,0,0,1,0,0,1,0,0,1,0,0,0,0,0,1,0,0,0,0,0,0,0,0,0,0,0,0,0,0,0,0,0,0,0,1,0,0,0,1,0,0,1,1,0,1,0,0,1,0,0,0,0,0,0,0,0,0,0,0,0,0,1,0,0,0,0,0,0,0,0,0,0,0,0,0,0,1,0,1,0,1,0,0,0,1,1,0,0,0,0,0,0,1,1,1,0,1,0,1,0,0,0,0,0,0,0,0,0,0,0,0,0,0,1,0,0,0,0,0,0,0,1,0,0,0,0,0,0,0,1,0,0,0,0,0,0,0,0,0,0,0,0,0,0,0,0,1,0,0,0,1,0,0,0,1,0,0,0,0,0,0,0,1,1,0,0,0,0,0,0,0,0,0,0,0,1,0,0,1,1,0,0,0,0,0,0,0,0,0,0,0,0,1,1,0,0,0,0,0,0,1,0,0,0,1,0,0,0,0,0,0,1,0,0,0,0,0,1,0,0,0,0,1,0,1,0,1,1,0,0,0,0,0,1,0,0,0,0,0,0,1,0,0,0,0,0,0,0,0,0,0,1,0,0,0,0,0,0,0,1,0,0,0,1,0,1,0,0,0,1,1,0,1,0,0,1,0,0,1,0,0,0,0,0,0,0,1,0,1,0,1,0,0,1,0,0,0,1,1,0,0,0,0,0,0,0,1,0,0,1,1,0,0,1,0,0,0,0,0,0,0,0,0,0,1,0,0,1,0,1,1,0,0,1,0,0,0,0,0,1,0,0,0,0,0,0,0,1,0,0,0,0,1,0,0,0,0,0,0,0,0,1,0,1,0,0,0,0,0,0,1,1,1,0,0,0,0,1,0,0,1,0,1,1,0,0,0,0,0,0,0,0,0,0,0,1,0,0,0,0,0,0,1,0,0,0,0,0,1,0,0,0,1,0,0,0,0,1,0,0,0,0,0,1,1,1,0,0,0,0,0,1,1,0,0,0,0,0,0,1,1,0,0,0,0,0,0,0,0,0,0,0,1,0,0,0,1,0,0,0,0,0,1,1,1,1,0,0,0,0,1,0,0,0,0,0,0,0,0,0,0,0,0,0,0,0,0,0,1,0,0,0,0,0,0,0,0,0,1,1,0,0,0,1,0,0,0,0,0,0,0,0,0,0,0,0,0,0,0,0,0,0,0,0,0,1,0,1,0,0,0,0,0,0,0,0,1,0,0,0,0,0,0,0] \n",
      "\n",
      "[1] \"Successfully submitted. Below you can see the details of your submission\"\n",
      "$url\n",
      "[1] \"http://46.101.121.83/submission/107/\"\n",
      "\n",
      "$submission\n",
      "[1] \"[0, 0, 0, 0, 1, 0, 0, 0, 0, 0, 0, 0, 0, 1, 0, 0, 0, 0, 0, 0, 0, 0, 1, 0, 1, 0, 0, 0, 0, 0, 0, 1, 0, 1, 1, 0, 1, 1, 1, 0, 0, 0, 0, 1, 0, 1, 0, 0, 0, 0, 0, 0, 0, 0, 1, 1, 1, 1, 0, 0, 1, 0, 0, 0, 0, 0, 0, 0, 1, 0, 1, 0, 0, 1, 0, 0, 1, 0, 0, 0, 1, 0, 0, 1, 0, 0, 0, 0, 1, 0, 0, 0, 0, 1, 0, 0, 0, 0, 0, 0, 1, 0, 1, 0, 0, 0, 0, 0, 0, 0, 0, 1, 0, 1, 0, 0, 0, 0, 0, 0, 0, 0, 0, 0, 0, 0, 0, 0, 1, 0, 0, 0, 0, 0, 0, 1, 0, 1, 0, 1, 0, 0, 0, 0, 0, 0, 1, 0, 0, 0, 0, 0, 0, 0, 0, 0, 0, 0, 0, 1, 0, 0, 0, 0, 0, 1, 0, 1, 0, 0, 1, 0, 0, 0, 0, 0, 0, 0, 0, 1, 1, 1, 0, 0, 1, 0, 0, 0, 0, 0, 0, 0, 1, 0, 0, 0, 0, 0, 0, 1, 0, 0, 0, 0, 0, 0, 0, 1, 0, 1, 0, 0, 0, 1, 0, 1, 0, 0, 0, 0, 0, 0, 0, 1, 0, 0, 0, 1, 0, 0, 1, 0, 0, 0, 0, 0, 1, 0, 1, 1, 0, 0, 0, 0, 0, 0, 1, 1, 1, 0, 0, 1, 1, 0, 0, 0, 1, 0, 0, 0, 1, 0, 0, 0, 1, 0, 0, 0, 0, 0, 0, 0, 0, 0, 0, 0, 0, 0, 0, 0, 0, 0, 0, 0, 1, 0, 0, 0, 1, 0, 0, 0, 0, 0, 0, 1, 1, 0, 0, 0, 1, 0, 0, 0, 0, 0, 0, 0, 0, 0, 0, 0, 0, 0, 0, 1, 0, 0, 0, 1, 0, 0, 0, 0, 0, 0, 1, 0, 0, 0, 0, 0, 1, 0, 1, 0, 0, 1, 0, 0, 0, 0, 0, 0, 0, 0, 0, 0, 0, 0, 0, 0, 0, 1, 0, 0, 1, 0, 0, 0, 0, 0, 0, 0, 0, 0, 1, 0, 0, 0, 1, 0, 0, 0, 0, 1, 0, 0, 0, 0, 0, 0, 0, 1, 0, 0, 0, 0, 0, 0, 0, 0, 1, 0, 0, 0, 0, 0, 0, 0, 0, 1, 0, 1, 0, 0, 0, 0, 1, 0, 0, 0, 0, 0, 0, 0, 0, 1, 1, 1, 0, 1, 0, 0, 0, 0, 0, 0, 0, 0, 0, 0, 0, 0, 1, 0, 0, 0, 1, 0, 0, 0, 0, 1, 0, 1, 0, 0, 1, 0, 0, 0, 0, 1, 0, 0, 0, 0, 1, 1, 0, 0, 0, 1, 0, 0, 0, 0, 0, 0, 0, 1, 0, 0, 1, 0, 0, 1, 0, 0, 0, 0, 1, 0, 0, 0, 1, 0, 0, 0, 1, 0, 1, 1, 0, 0, 1, 0, 1, 0, 0, 0, 0, 0, 0, 0, 0, 0, 0, 0, 0, 0, 0, 0, 0, 0, 0, 0, 1, 0, 0, 0, 0, 0, 0, 0, 0, 1, 0, 0, 0, 0, 0, 1, 0, 0, 1, 1, 0, 0, 0, 1, 0, 0, 0, 0, 1, 1, 0, 1, 0, 0, 0, 1, 1, 0, 0, 0, 0, 0, 0, 0, 0, 0, 0, 0, 0, 0, 1, 0, 0, 0, 0, 0, 0, 0, 0, 0, 0, 0, 0, 0, 0, 0, 0, 1, 0, 0, 0, 0, 1, 0, 0, 0, 0, 1, 0, 0, 0, 0, 0, 0, 0, 0, 0, 0, 1, 0, 0, 0, 0, 1, 1, 0, 0, 1, 0, 0, 0, 1, 0, 1, 1, 1, 0, 0, 0, 0, 0, 0, 0, 0, 1, 0, 0, 0, 0, 0, 0, 0, 0, 0, 0, 0, 0, 0, 0, 0, 1, 0, 0, 0, 0, 0, 0, 0, 1, 1, 0, 0, 0, 0, 0, 1, 0, 0, 1, 0, 0, 1, 0, 0, 0, 1, 0, 0, 0, 1, 0, 0, 0, 1, 0, 0, 0, 1, 0, 0, 0, 0, 0, 0, 0, 0, 0, 0, 0, 0, 0, 0, 0, 0, 1, 0, 1, 1, 1, 0, 0, 0, 0, 1, 0, 0, 0, 0, 0, 1, 1, 0, 0, 0, 1, 0, 0, 0, 0, 0, 1, 0, 0, 1, 0, 0, 0, 0, 0, 0, 0, 0, 0, 0, 1, 0, 1, 0, 1, 0, 0, 0, 0, 0, 0, 0, 0, 1, 0, 0, 0, 0, 0, 1, 0, 0, 1, 0, 0, 0, 0, 0, 0, 0, 1, 1, 1, 0, 1, 0, 0, 0, 0, 0, 0, 0, 0, 0, 0, 0, 0, 0, 0, 0, 1, 0, 0, 0, 0, 0, 0, 0, 0, 0, 0, 0, 0, 0, 0, 0, 0, 1, 0, 0, 0, 0, 0, 0, 0, 0, 1, 0, 0, 0, 1, 0, 0, 0, 1, 0, 0, 1, 0, 0, 1, 0, 1, 0, 0, 0, 0, 1, 0, 1, 0, 1, 1, 1, 0, 0, 0, 0, 0, 1, 1, 0, 1, 0, 0, 0, 0, 0, 0, 0, 0, 0, 0, 0, 0, 0, 0, 0, 0, 0, 0, 0, 0, 1, 0, 0, 1, 1, 1, 0, 0, 0, 0, 0, 0, 1, 0, 0, 0, 1, 0, 0, 0, 0, 0, 0, 0, 0, 0, 1, 0, 0, 1, 0, 0, 0, 0, 1, 0, 1, 1, 0, 0, 0, 1, 0, 1, 0, 0, 1, 1, 1, 0, 0, 0, 0, 0, 1, 1, 0, 0, 1, 0, 0, 0, 0, 0, 0, 0, 0, 0, 0, 0, 0, 0, 1, 1, 1, 0, 0, 0, 1, 0, 0, 0, 0, 1, 0, 0, 0, 0, 0, 0, 0, 0, 0, 0, 1, 0, 0, 1, 0, 0, 0, 1, 0, 0, 1, 1, 1, 0, 1, 1, 0, 0, 0, 0, 0, 0, 0, 0, 0, 0, 1, 0, 0, 0, 1, 0, 0, 0, 0, 0, 1, 1, 0, 0, 0, 0, 0, 0, 1, 0, 1, 0, 0, 0, 1, 0, 0, 0, 0, 0, 0, 0, 0, 1, 0, 0, 1, 1, 0, 0, 0, 0, 1, 0, 0, 1, 1, 1, 0, 0, 0, 0, 0, 1, 0, 0, 0, 0, 0, 0, 0, 0, 0, 0, 0, 0, 0, 0, 0, 0, 0, 0, 0, 0, 1, 0, 1, 1, 0, 0, 0, 0, 0, 0, 1, 1, 0, 0, 0, 1, 0, 0, 0, 1, 0, 1, 1, 1, 0, 0, 0, 0, 0, 0, 1, 0, 0, 0, 1, 0, 0, 0, 0, 0, 1, 0, 0, 0, 0, 0, 0, 1, 0, 0, 0, 0, 0, 0, 1, 0, 0, 0, 0, 0, 0, 1, 0, 0, 0, 0, 0, 0, 0, 0, 0, 0, 0, 1, 0, 0, 1, 1, 0, 0, 0, 0, 0, 0, 0, 0, 0, 0, 0, 0, 1, 1, 0, 1, 0, 0, 1, 0, 0, 0, 0, 0, 1, 0, 0, 0, 0, 0, 0, 0, 0, 0, 0, 0, 1, 0, 0, 0, 0, 0, 0, 0, 0, 0, 0, 0, 0, 0, 0, 0, 0, 0, 0, 0, 0, 0, 0, 0, 0, 0, 0, 0, 0, 0, 0, 1, 1, 1, 0, 0, 0, 0, 0, 0, 0, 0, 0, 0, 0, 0, 0, 0, 1, 0, 0, 0, 0, 0, 1, 1, 0, 0, 0, 0, 1, 1, 0, 0, 0, 0, 0, 1, 1, 0, 0, 0, 1, 0, 0, 0, 0, 0, 0, 0, 0, 0, 0, 0, 0, 0, 0, 0, 0, 0, 0, 0, 1, 0, 0, 0, 0, 0, 0, 0, 0, 0, 0, 0, 0, 1, 0, 0, 1, 0, 1, 0, 1, 1, 0, 0, 0, 0, 0, 0, 1, 0, 1, 0, 0, 1, 0, 0, 0, 0, 0, 0, 0, 0, 0, 0, 1, 1, 0, 0, 0, 0, 0, 0, 0, 0, 0, 0, 0, 1, 0, 0, 1, 0, 0, 0, 0, 0, 0, 0, 0, 0, 0, 0, 0, 0, 0, 0, 0, 0, 0, 0, 1, 1, 0, 0, 0, 0, 0, 0, 0, 0, 0, 0, 0, 0, 0, 0, 0, 0, 0, 0, 0, 0, 0, 1, 0, 0, 0, 0, 0, 0, 0, 0, 0, 0, 0, 0, 0, 0, 0, 0, 0, 0, 0, 0, 0, 0, 0, 0, 0, 0, 1, 0, 0, 0, 0, 0, 1, 0, 1, 0, 0, 1, 1, 0, 0, 1, 0, 1, 0, 0, 0, 0, 0, 0, 1, 0, 0, 0, 1, 0, 0, 0, 0, 0, 0, 0, 0, 1, 0, 0, 1, 0, 0, 0, 0, 0, 0, 0, 0, 1, 0, 0, 0, 0, 0, 0, 1, 0, 1, 0, 1, 0, 0, 0, 1, 0, 0, 0, 0, 0, 0, 0, 0, 0, 1, 0, 0, 1, 0, 0, 0, 0, 0, 0, 0, 1, 1, 0, 0, 0, 0, 0, 0, 0, 1, 0, 0, 0, 1, 0, 0, 1, 1, 0, 0, 0, 0, 0, 0, 1, 0, 0, 0, 0, 0, 0, 0, 0, 1, 0, 0, 0, 0, 1, 0, 0, 1, 0, 0, 1, 0, 0, 1, 0, 0, 0, 0, 0, 1, 0, 0, 0, 0, 0, 0, 0, 0, 0, 0, 0, 0, 0, 0, 0, 0, 0, 0, 0, 1, 0, 0, 0, 1, 0, 0, 1, 1, 0, 1, 0, 0, 1, 0, 0, 0, 0, 0, 0, 0, 0, 0, 0, 0, 0, 0, 1, 0, 0, 0, 0, 0, 0, 0, 0, 0, 0, 0, 0, 0, 0, 1, 0, 1, 0, 1, 0, 0, 0, 1, 1, 0, 0, 0, 0, 0, 0, 1, 1, 1, 0, 1, 0, 1, 0, 0, 0, 0, 0, 0, 0, 0, 0, 0, 0, 0, 0, 0, 1, 0, 0, 0, 0, 0, 0, 0, 1, 0, 0, 0, 0, 0, 0, 0, 1, 0, 0, 0, 0, 0, 0, 0, 0, 0, 0, 0, 0, 0, 0, 0, 0, 1, 0, 0, 0, 1, 0, 0, 0, 1, 0, 0, 0, 0, 0, 0, 0, 1, 1, 0, 0, 0, 0, 0, 0, 0, 0, 0, 0, 0, 1, 0, 0, 1, 1, 0, 0, 0, 0, 0, 0, 0, 0, 0, 0, 0, 0, 1, 1, 0, 0, 0, 0, 0, 0, 1, 0, 0, 0, 1, 0, 0, 0, 0, 0, 0, 1, 0, 0, 0, 0, 0, 1, 0, 0, 0, 0, 1, 0, 1, 0, 1, 1, 0, 0, 0, 0, 0, 1, 0, 0, 0, 0, 0, 0, 1, 0, 0, 0, 0, 0, 0, 0, 0, 0, 0, 1, 0, 0, 0, 0, 0, 0, 0, 1, 0, 0, 0, 1, 0, 1, 0, 0, 0, 1, 1, 0, 1, 0, 0, 1, 0, 0, 1, 0, 0, 0, 0, 0, 0, 0, 1, 0, 1, 0, 1, 0, 0, 1, 0, 0, 0, 1, 1, 0, 0, 0, 0, 0, 0, 0, 1, 0, 0, 1, 1, 0, 0, 1, 0, 0, 0, 0, 0, 0, 0, 0, 0, 0, 1, 0, 0, 1, 0, 1, 1, 0, 0, 1, 0, 0, 0, 0, 0, 1, 0, 0, 0, 0, 0, 0, 0, 1, 0, 0, 0, 0, 1, 0, 0, 0, 0, 0, 0, 0, 0, 1, 0, 1, 0, 0, 0, 0, 0, 0, 1, 1, 1, 0, 0, 0, 0, 1, 0, 0, 1, 0, 1, 1, 0, 0, 0, 0, 0, 0, 0, 0, 0, 0, 0, 1, 0, 0, 0, 0, 0, 0, 1, 0, 0, 0, 0, 0, 1, 0, 0, 0, 1, 0, 0, 0, 0, 1, 0, 0, 0, 0, 0, 1, 1, 1, 0, 0, 0, 0, 0, 1, 1, 0, 0, 0, 0, 0, 0, 1, 1, 0, 0, 0, 0, 0, 0, 0, 0, 0, 0, 0, 1, 0, 0, 0, 1, 0, 0, 0, 0, 0, 1, 1, 1, 1, 0, 0, 0, 0, 1, 0, 0, 0, 0, 0, 0, 0, 0, 0, 0, 0, 0, 0, 0, 0, 0, 0, 1, 0, 0, 0, 0, 0, 0, 0, 0, 0, 1, 1, 0, 0, 0, 1, 0, 0, 0, 0, 0, 0, 0, 0, 0, 0, 0, 0, 0, 0, 0, 0, 0, 0, 0, 0, 0, 1, 0, 1, 0, 0, 0, 0, 0, 0, 0, 0, 1, 0, 0, 0, 0, 0, 0, 0]\"\n",
      "\n",
      "$user\n",
      "$user$url\n",
      "[1] \"http://46.101.121.83/group/12/\"\n",
      "\n",
      "$user$username\n",
      "[1] \"Miners\"\n",
      "\n",
      "$user$best_score\n",
      "[1] 0.8043\n",
      "\n",
      "$user$students\n",
      "[1] \"2016402000;2016402150;2017402060\"\n",
      "\n",
      "\n",
      "$competition\n",
      "[1] \"IE582-Test Data\"\n",
      "\n",
      "$auc\n",
      "[1] 0.8043235\n",
      "\n",
      "$ber\n",
      "[1] 0.8043235\n",
      "\n",
      "$score\n",
      "[1] 0.8043235\n",
      "\n",
      "$date\n",
      "[1] \"2021-01-30T20:14:20.113005+03:00\"\n",
      "\n"
     ]
    }
   ],
   "source": [
    "send_submission(last_num, token, url=subm_url, submit_now= submit_now)"
   ]
  },
  {
   "cell_type": "code",
   "execution_count": null,
   "metadata": {},
   "outputs": [],
   "source": []
  }
 ],
 "metadata": {
  "kernelspec": {
   "display_name": "R",
   "language": "R",
   "name": "ir"
  },
  "language_info": {
   "codemirror_mode": "r",
   "file_extension": ".r",
   "mimetype": "text/x-r-source",
   "name": "R",
   "pygments_lexer": "r",
   "version": "3.6.1"
  }
 },
 "nbformat": 4,
 "nbformat_minor": 4
}
