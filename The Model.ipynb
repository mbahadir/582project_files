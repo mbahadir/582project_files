{
 "cells": [
  {
   "cell_type": "code",
   "execution_count": 1,
   "metadata": {},
   "outputs": [
    {
     "name": "stderr",
     "output_type": "stream",
     "text": [
      "Loading required package: jsonlite\n",
      "Loading required package: httr\n",
      "Warning message:\n",
      "\"package 'httr' was built under R version 3.6.3\"Loading required package: data.table\n"
     ]
    }
   ],
   "source": [
    "# install the required packages first\n",
    "require(jsonlite)\n",
    "require(httr)\n",
    "require(data.table)\n",
    "\n",
    "get_token <- function(username, password, url_site){\n",
    "    \n",
    "    post_body = list(username=username,password=password)\n",
    "    post_url_string = paste0(url_site,'/token/')\n",
    "    result = POST(post_url_string, body = post_body)\n",
    "\n",
    "    # error handling (wrong credentials)\n",
    "    if(result$status_code==400){\n",
    "        print('Check your credentials')\n",
    "        return(0)\n",
    "    }\n",
    "    else if (result$status_code==201){\n",
    "        output = content(result)\n",
    "        token = output$key\n",
    "    }\n",
    "\n",
    "    return(token)\n",
    "}\n",
    "\n",
    "\n",
    "\n",
    "send_submission <- function(predictions, token, url_site, submit_now=F){\n",
    "    \n",
    "    format_check=check_format(predictions)\n",
    "    if(!format_check){\n",
    "        return(FALSE)\n",
    "    }\n",
    "    \n",
    "    post_string=\"list(\"\n",
    "    for(i in 1:length(predictions)){\n",
    "        if(i<length(predictions)){\n",
    "            post_string=sprintf(\"%s%s,\",post_string,predictions[i])\n",
    "        } else {\n",
    "            post_string=sprintf(\"%s%s)\",post_string,predictions[i])\n",
    "        }\n",
    "    }\n",
    "    \n",
    "    submission = eval(parse(text=post_string))\n",
    "    json_body = jsonlite::toJSON(submission, auto_unbox = TRUE)\n",
    "    submission=list(submission=json_body)\n",
    "    print(submission)\n",
    "\n",
    "    if(!submit_now){\n",
    "        print(\"You did not submit.\")\n",
    "        return(FALSE)      \n",
    "    }\n",
    "    \n",
    "\n",
    "    header = add_headers(c(Authorization=paste('Token',token,sep=' ')))\n",
    "    post_url_string = paste0(url_site,'/submission/')\n",
    "    result = POST(post_url_string, header, body=submission)\n",
    "    \n",
    "    if (result$status_code==201){\n",
    "        print(\"Successfully submitted. Below you can see the details of your submission\")\n",
    "    } else {\n",
    "        print(\"Could not submit. Please check the error message below, contact the assistant if needed.\")\n",
    "    }\n",
    "    \n",
    "    print(content(result))\n",
    "    \n",
    "}\n",
    "\n",
    "check_format <- function(predictions){\n",
    "    \n",
    "    if(all(is.numeric(predictions)) & all(predictions<=1)){\n",
    "        print(\"Format OK\")\n",
    "        return(TRUE)\n",
    "    } else {\n",
    "        print(\"Wrong format\")\n",
    "        return(FALSE)\n",
    "    }\n",
    "    \n",
    "}\n",
    "\n",
    "# this part is main code\n",
    "subm_url = 'http://46.101.121.83'\n",
    "\n",
    "u_name = \"Miners\"\n",
    "p_word = \"NsY7hhlU9zjl8DH3\"\n",
    "submit_now = TRUE\n",
    "\n",
    "username = u_name\n",
    "password = p_word\n",
    "\n",
    "token = get_token(username=u_name, password=p_word, url=subm_url)\n",
    "# this part is where you need to provide your prediction method/function or set of R codes\n"
   ]
  },
  {
   "cell_type": "code",
   "execution_count": 2,
   "metadata": {},
   "outputs": [],
   "source": [
    "library(data.table)"
   ]
  },
  {
   "cell_type": "markdown",
   "metadata": {},
   "source": [
    "### Performance Function"
   ]
  },
  {
   "cell_type": "code",
   "execution_count": 3,
   "metadata": {},
   "outputs": [],
   "source": [
    "perf_dt=function(type,actual,forecast){\n",
    "    name=type\n",
    "    n=length(actual)\n",
    "    error=actual-forecast\n",
    "    mean=mean(actual)\n",
    "    sd=sd(actual)\n",
    "    FBias=sum(error)/sum(actual)\n",
    "    MPE=sum(error/actual)/n\n",
    "    MAPE=sum(abs(error/actual))/n\n",
    "    RMSE=sqrt(sum(error^2))/n\n",
    "    MAD=sum(abs(error))/n\n",
    "    WMAPE=MAD/mean\n",
    "    l=data.frame(name,n,mean,sd,FBias,MAPE,RMSE,MAD,WMAPE)\n",
    "    return(l)\n",
    "}"
   ]
  },
  {
   "cell_type": "markdown",
   "metadata": {},
   "source": [
    "# Dataset"
   ]
  },
  {
   "cell_type": "code",
   "execution_count": 4,
   "metadata": {},
   "outputs": [],
   "source": [
    "data_train=fread(\"IE582_Fall20_ProjectTrain.csv\")\n",
    "data_test=fread(\"IE582_Fall20_ProjectTest.csv\")\n",
    "data_train$y=as.factor(data_train$y)\n"
   ]
  },
  {
   "cell_type": "code",
   "execution_count": 5,
   "metadata": {},
   "outputs": [],
   "source": [
    "levels(data_train$y)=c(\"No\",\"Yes\")"
   ]
  },
  {
   "cell_type": "markdown",
   "metadata": {},
   "source": [
    "# Model"
   ]
  },
  {
   "cell_type": "code",
   "execution_count": 6,
   "metadata": {},
   "outputs": [
    {
     "name": "stderr",
     "output_type": "stream",
     "text": [
      "Loading required package: lattice\n",
      "Loading required package: ggplot2\n",
      "Warning message:\n",
      "\"package 'ggplot2' was built under R version 3.6.3\"\n",
      "Attaching package: 'caret'\n",
      "\n",
      "The following object is masked from 'package:httr':\n",
      "\n",
      "    progress\n",
      "\n",
      "Warning message:\n",
      "\"package 'e1071' was built under R version 3.6.3\"Warning message:\n",
      "\"package 'dplyr' was built under R version 3.6.3\"\n",
      "Attaching package: 'dplyr'\n",
      "\n",
      "The following objects are masked from 'package:data.table':\n",
      "\n",
      "    between, first, last\n",
      "\n",
      "The following objects are masked from 'package:stats':\n",
      "\n",
      "    filter, lag\n",
      "\n",
      "The following objects are masked from 'package:base':\n",
      "\n",
      "    intersect, setdiff, setequal, union\n",
      "\n",
      "Registered S3 method overwritten by 'rvest':\n",
      "  method            from\n",
      "  read_xml.response xml2\n",
      "-- Attaching packages ------------------------------------------------------------------------------- tidyverse 1.2.1 --\n",
      "<U+221A> tibble  3.0.4     <U+221A> purrr   0.3.2\n",
      "<U+221A> tidyr   1.1.2     <U+221A> stringr 1.4.0\n",
      "<U+221A> readr   1.3.1     <U+221A> forcats 0.4.0\n",
      "Warning message:\n",
      "\"package 'tibble' was built under R version 3.6.3\"Warning message:\n",
      "\"package 'tidyr' was built under R version 3.6.3\"-- Conflicts ---------------------------------------------------------------------------------- tidyverse_conflicts() --\n",
      "x dplyr::between()   masks data.table::between()\n",
      "x dplyr::filter()    masks stats::filter()\n",
      "x dplyr::first()     masks data.table::first()\n",
      "x purrr::flatten()   masks jsonlite::flatten()\n",
      "x dplyr::lag()       masks stats::lag()\n",
      "x dplyr::last()      masks data.table::last()\n",
      "x purrr::lift()      masks caret::lift()\n",
      "x caret::progress()  masks httr::progress()\n",
      "x purrr::transpose() masks data.table::transpose()\n",
      "Warning message:\n",
      "\"package 'Information' was built under R version 3.6.3\"Warning message:\n",
      "\"package 'FactoMineR' was built under R version 3.6.3\"Loading required package: gplots\n",
      "\n",
      "Attaching package: 'gplots'\n",
      "\n",
      "The following object is masked from 'package:stats':\n",
      "\n",
      "    lowess\n",
      "\n",
      "Warning message:\n",
      "\"package 'pROC' was built under R version 3.6.3\"Type 'citation(\"pROC\")' for a citation.\n",
      "\n",
      "Attaching package: 'pROC'\n",
      "\n",
      "The following objects are masked from 'package:stats':\n",
      "\n",
      "    cov, smooth, var\n",
      "\n"
     ]
    }
   ],
   "source": [
    "library(xlsx)\n",
    "library(caret)\n",
    "library(e1071)\n",
    "library(ggplot2)\n",
    "library(dplyr)\n",
    "library(tidyverse)\n",
    "library(Information)\n",
    "library(FactoMineR)\n",
    "library(caTools)\n",
    "library(ROCR)\n",
    "library(pROC)"
   ]
  },
  {
   "cell_type": "markdown",
   "metadata": {},
   "source": [
    "# Metric Creation"
   ]
  },
  {
   "cell_type": "code",
   "execution_count": 7,
   "metadata": {},
   "outputs": [
    {
     "name": "stderr",
     "output_type": "stream",
     "text": [
      "Warning message:\n",
      "\"package 'yardstick' was built under R version 3.6.3\"For binary classification, the first factor level is assumed to be the event.\n",
      "Use the argument `event_level = \"second\"` to alter this as needed.\n",
      "\n",
      "Attaching package: 'yardstick'\n",
      "\n",
      "The following object is masked from 'package:readr':\n",
      "\n",
      "    spec\n",
      "\n",
      "The following objects are masked from 'package:caret':\n",
      "\n",
      "    precision, recall, sensitivity, specificity\n",
      "\n",
      "Warning message:\n",
      "\"package 'mlbench' was built under R version 3.6.3\"Warning message:\n",
      "\"package 'cvAUC' was built under R version 3.6.3\" \n",
      "cvAUC version: 1.1.0\n",
      "Notice to cvAUC users: Major speed improvements in version 1.1.0\n",
      " \n",
      "Warning message:\n",
      "\"package 'forecast' was built under R version 3.6.2\"Registered S3 method overwritten by 'xts':\n",
      "  method     from\n",
      "  as.zoo.xts zoo \n",
      "Registered S3 method overwritten by 'quantmod':\n",
      "  method            from\n",
      "  as.zoo.data.frame zoo \n",
      "\n",
      "Attaching package: 'forecast'\n",
      "\n",
      "The following object is masked from 'package:yardstick':\n",
      "\n",
      "    accuracy\n",
      "\n"
     ]
    }
   ],
   "source": [
    "library(yardstick)\n",
    "library(mlbench)\n",
    "library(cvAUC)\n",
    "library(forecast)"
   ]
  },
  {
   "cell_type": "markdown",
   "metadata": {},
   "source": [
    "### Custom Metric"
   ]
  },
  {
   "cell_type": "code",
   "execution_count": 8,
   "metadata": {},
   "outputs": [],
   "source": [
    "fourStats <- function (data, lev = levels(data$obs), model = NULL) { \n",
    "      auc_val=AUC(data$Yes, data$obs)\n",
    "      \n",
    "      out <- c(twoClassSummary(data, lev = levels(data$obs), model = NULL))\n",
    "      coords <- matrix(c(1, 1, out[\"Spec\"], out[\"Sens\"]), \n",
    "                   ncol = 2, \n",
    "                   byrow = TRUE)\n",
    "      #print(out)  \n",
    "  #print(BER(data$obs, data$pred))\n",
    "      colnames(coords) <- c(\"Spec\", \"Sens\")\n",
    "      rownames(coords) <- c(\"Best\", \"Current\") \n",
    "      a=as.numeric((auc_val+(coords[2]+coords[4])/2)/2)+coords[2]/10\n",
    "      c(AUC_value=auc_val, Prime=a, Spec=coords[4], Sens=coords[2])\n",
    "}"
   ]
  },
  {
   "cell_type": "markdown",
   "metadata": {},
   "source": [
    "## Grid Types"
   ]
  },
  {
   "cell_type": "markdown",
   "metadata": {},
   "source": [
    "#### Random Forest"
   ]
  },
  {
   "cell_type": "code",
   "execution_count": 9,
   "metadata": {},
   "outputs": [],
   "source": [
    "rf_grid=expand.grid(mtry=c(8,10,12,15,20),\n",
    "                   splitrule = c(\"extratrees\",\"gini\",\"hellinger\"),\n",
    "                   min.node.size= c(5,10,15,20,25))"
   ]
  },
  {
   "cell_type": "markdown",
   "metadata": {},
   "source": [
    "#### SGB"
   ]
  },
  {
   "cell_type": "code",
   "execution_count": 10,
   "metadata": {},
   "outputs": [],
   "source": [
    "gbmGrid=expand.grid(interaction.depth = c(1,3,5,8), \n",
    "                        n.trees = (1:6)*50, \n",
    "                        shrinkage = c(0.1, 0.05, 0.01),\n",
    "                        n.minobsinnode = c(5,10,15))"
   ]
  },
  {
   "cell_type": "markdown",
   "metadata": {},
   "source": [
    "#### XGBoost"
   ]
  },
  {
   "cell_type": "code",
   "execution_count": 11,
   "metadata": {},
   "outputs": [],
   "source": [
    "xgbGrid=expand.grid(max_depth = c(3, 5), \n",
    "                        nrounds = (2:4)*50, \n",
    "                        eta = c(0.1, 0.3),\n",
    "                        min_child_weight=c(1,5),\n",
    "                        gamma=c( 1, 1.5, 2),\n",
    "                        colsample_bytree=c(0.8),\n",
    "                        subsample=c(0.8))"
   ]
  },
  {
   "cell_type": "markdown",
   "metadata": {},
   "source": [
    "### Cross-Validation"
   ]
  },
  {
   "cell_type": "code",
   "execution_count": 12,
   "metadata": {},
   "outputs": [],
   "source": [
    "fitControl_random=trainControl(method = \"repeatedcv\",\n",
    "                               number = 10, repeats=4, summaryFunction = fourStats,\n",
    "                              classProbs = T, \n",
    "                              verboseIter=FALSE)"
   ]
  },
  {
   "cell_type": "markdown",
   "metadata": {},
   "source": [
    "# Random Forest"
   ]
  },
  {
   "cell_type": "code",
   "execution_count": 13,
   "metadata": {
    "scrolled": false
   },
   "outputs": [],
   "source": [
    "random_forest=train(y ~. , data = data_train, \n",
    "                 method = \"ranger\", \n",
    "                 trControl = fitControl_random, num.trees=400,\n",
    "                 metric=\"Prime\",\n",
    "                 maximize=TRUE,\n",
    "                 tuneGrid = rf_grid,\n",
    "                 class.weights  = c(sum(data_train$y==\"No\")/nrow(data_train),sum(data_train$y==\"Yes\")/nrow(data_train)))"
   ]
  },
  {
   "cell_type": "code",
   "execution_count": 14,
   "metadata": {
    "scrolled": false
   },
   "outputs": [
    {
     "data": {
      "text/plain": [
       "Random Forest \n",
       "\n",
       "2074 samples\n",
       "  60 predictor\n",
       "   2 classes: 'No', 'Yes' \n",
       "\n",
       "No pre-processing\n",
       "Resampling: Cross-Validated (10 fold, repeated 4 times) \n",
       "Summary of sample sizes: 1868, 1867, 1866, 1866, 1866, 1867, ... \n",
       "Resampling results across tuning parameters:\n",
       "\n",
       "  mtry  splitrule   min.node.size  AUC_value  Prime      Spec       Sens     \n",
       "   8    extratrees   5             0.8728465  0.8449336  0.9298689  0.5029804\n",
       "   8    extratrees  10             0.8724553  0.8426929  0.9292238  0.4975980\n",
       "   8    extratrees  15             0.8730310  0.8451286  0.9289074  0.5039608\n",
       "   8    extratrees  20             0.8724157  0.8430960  0.9289115  0.4990294\n",
       "   8    extratrees  25             0.8723004  0.8447964  0.9317849  0.5020000\n",
       "   8    gini         5             0.8826954  0.8664499  0.9480871  0.5373725\n",
       "   8    gini        10             0.8838926  0.8665876  0.9490436  0.5353725\n",
       "   8    gini        15             0.8833611  0.8642531  0.9496764  0.5290098\n",
       "   8    gini        20             0.8833474  0.8622644  0.9499980  0.5231176\n",
       "   8    gini        25             0.8837917  0.8643347  0.9498418  0.5285098\n",
       "   8    hellinger    5             0.8867957  0.8703356  0.9458354  0.5442255\n",
       "   8    hellinger   10             0.8870235  0.8669229  0.9461681  0.5339118\n",
       "   8    hellinger   15             0.8871063  0.8669923  0.9469664  0.5334216\n",
       "   8    hellinger   20             0.8873973  0.8677877  0.9468071  0.5353922\n",
       "   8    hellinger   25             0.8876546  0.8667244  0.9482433  0.5309608\n",
       "  10    extratrees   5             0.8729286  0.8497604  0.9290687  0.5172255\n",
       "  10    extratrees  10             0.8730488  0.8503425  0.9284256  0.5191765\n",
       "  10    extratrees  15             0.8735141  0.8495793  0.9285869  0.5162157\n",
       "  10    extratrees  20             0.8735127  0.8471845  0.9285910  0.5093725\n",
       "  10    extratrees  25             0.8734915  0.8483480  0.9292248  0.5122745\n",
       "  10    gini         5             0.8824548  0.8666870  0.9447268  0.5407941\n",
       "  10    gini        10             0.8823066  0.8669541  0.9453638  0.5413137\n",
       "  10    gini        15             0.8832220  0.8681917  0.9471246  0.5422843\n",
       "  10    gini        20             0.8826821  0.8663739  0.9471236  0.5378627\n",
       "  10    gini        25             0.8831536  0.8662584  0.9492048  0.5353725\n",
       "  10    hellinger    5             0.8864157  0.8694062  0.9442502  0.5432451\n",
       "  10    hellinger   10             0.8862779  0.8698152  0.9447207  0.5442745\n",
       "  10    hellinger   15             0.8866465  0.8705098  0.9468030  0.5442451\n",
       "  10    hellinger   20             0.8877755  0.8697264  0.9448840  0.5417647\n",
       "  10    hellinger   25             0.8872882  0.8692947  0.9461630  0.5403137\n",
       "  12    extratrees   5             0.8732903  0.8541780  0.9301905  0.5285294\n",
       "  12    extratrees  10             0.8740239  0.8520930  0.9300323  0.5216373\n",
       "  12    extratrees  15             0.8743983  0.8516983  0.9284317  0.5211176\n",
       "  12    extratrees  20             0.8741073  0.8535700  0.9289105  0.5265392\n",
       "  12    extratrees  25             0.8737601  0.8485947  0.9276294  0.5137353\n",
       "  12    gini         5             0.8815104  0.8673619  0.9416973  0.5462353\n",
       "  12    gini        10             0.8822860  0.8677289  0.9423281  0.5457255\n",
       "  12    gini        15             0.8823709  0.8668167  0.9447268  0.5412843\n",
       "  12    gini        20             0.8818064  0.8669739  0.9444125  0.5427647\n",
       "  12    gini        25             0.8819398  0.8657606  0.9434509  0.5397941\n",
       "  12    hellinger    5             0.8851737  0.8702256  0.9424904  0.5486176\n",
       "  12    hellinger   10             0.8865173  0.8718616  0.9442471  0.5501176\n",
       "  12    hellinger   15             0.8858077  0.8690368  0.9432886  0.5437451\n",
       "  12    hellinger   20             0.8864010  0.8709720  0.9456843  0.5467157\n",
       "  12    hellinger   25             0.8872770  0.8694832  0.9448810  0.5417843\n",
       "  15    extratrees   5             0.8738106  0.8560616  0.9284348  0.5344216\n",
       "  15    extratrees  10             0.8748022  0.8586983  0.9314674  0.5383725\n",
       "  15    extratrees  15             0.8747069  0.8566284  0.9289094  0.5344216\n",
       "  15    extratrees  20             0.8747118  0.8560270  0.9285940  0.5329216\n",
       "  15    extratrees  25             0.8750456  0.8553471  0.9279520  0.5309608\n",
       "  15    gini         5             0.8805098  0.8681316  0.9405735  0.5506667\n",
       "  15    gini        10             0.8802956  0.8697267  0.9412196  0.5550686\n",
       "  15    gini        15             0.8808719  0.8680527  0.9396160  0.5506078\n",
       "  15    gini        20             0.8802931  0.8673230  0.9405724  0.5486667\n",
       "  15    gini        25             0.8813146  0.8683357  0.9405765  0.5500980\n",
       "  15    hellinger    5             0.8843081  0.8702077  0.9413635  0.5506078\n",
       "  15    hellinger   10             0.8850807  0.8690794  0.9421679  0.5457059\n",
       "  15    hellinger   15             0.8863269  0.8722629  0.9434468  0.5521078\n",
       "  15    hellinger   20             0.8867569  0.8731046  0.9445676  0.5530980\n",
       "  15    hellinger   25             0.8865917  0.8705520  0.9429640  0.5471863\n",
       "  20    extratrees   5             0.8741893  0.8592454  0.9293912  0.5422941\n",
       "  20    extratrees  10             0.8752051  0.8584271  0.9289043  0.5388529\n",
       "  20    extratrees  15             0.8751305  0.8581768  0.9287522  0.5383529\n",
       "  20    extratrees  20             0.8756535  0.8588819  0.9284266  0.5398529\n",
       "  20    extratrees  25             0.8751616  0.8590067  0.9285920  0.5407941\n",
       "  20    gini         5             0.8786047  0.8690854  0.9372183  0.5585098\n",
       "  20    gini        10             0.8787035  0.8697657  0.9383421  0.5595098\n",
       "  20    gini        15             0.8791304  0.8679202  0.9370652  0.5545392\n",
       "  20    gini        20             0.8794238  0.8679820  0.9394568  0.5525882\n",
       "  20    gini        25             0.8796782  0.8686716  0.9389750  0.5545392\n",
       "  20    hellinger    5             0.8834486  0.8698980  0.9397711  0.5520882\n",
       "  20    hellinger   10             0.8845519  0.8708898  0.9400906  0.5531176\n",
       "  20    hellinger   15             0.8847130  0.8708264  0.9402560  0.5525882\n",
       "  20    hellinger   20             0.8846493  0.8694682  0.9397681  0.5491471\n",
       "  20    hellinger   25             0.8854671  0.8693813  0.9412165  0.5466961\n",
       "\n",
       "Prime was used to select the optimal model using the largest value.\n",
       "The final values used for the model were mtry = 15, splitrule = hellinger\n",
       " and min.node.size = 20."
      ]
     },
     "metadata": {},
     "output_type": "display_data"
    }
   ],
   "source": [
    "random_forest"
   ]
  },
  {
   "cell_type": "code",
   "execution_count": 32,
   "metadata": {},
   "outputs": [
    {
     "data": {
      "text/plain": [
       "Ranger result\n",
       "\n",
       "Call:\n",
       " ranger::ranger(dependent.variable.name = \".outcome\", data = x,      mtry = min(param$mtry, ncol(x)), min.node.size = param$min.node.size,      splitrule = as.character(param$splitrule), write.forest = TRUE,      probability = classProbs, ...) \n",
       "\n",
       "Type:                             Probability estimation \n",
       "Number of trees:                  400 \n",
       "Sample size:                      2074 \n",
       "Number of independent variables:  60 \n",
       "Mtry:                             15 \n",
       "Target node size:                 20 \n",
       "Variable importance mode:         none \n",
       "Splitrule:                        hellinger \n",
       "OOB prediction error (Brier s.):  0.1112971 "
      ]
     },
     "metadata": {},
     "output_type": "display_data"
    }
   ],
   "source": [
    "random_forest$final"
   ]
  },
  {
   "cell_type": "code",
   "execution_count": 52,
   "metadata": {},
   "outputs": [
    {
     "data": {
      "image/png": "[encoded data removed]",
      "text/plain": [
       "plot without title"
      ]
     },
     "metadata": {},
     "output_type": "display_data"
    }
   ],
   "source": [
    "plot(random_forestforest)"
   ]
  },
  {
   "cell_type": "code",
   "execution_count": 15,
   "metadata": {},
   "outputs": [],
   "source": [
    "pred_rf=predict(random_forest, data_test,type=\"prob\")"
   ]
  },
  {
   "cell_type": "code",
   "execution_count": 16,
   "metadata": {},
   "outputs": [
    {
     "data": {
      "text/html": [
       "0.8205499276411"
      ],
      "text/latex": [
       "0.8205499276411"
      ],
      "text/markdown": [
       "0.8205499276411"
      ],
      "text/plain": [
       "[1] 0.8205499"
      ]
     },
     "metadata": {},
     "output_type": "display_data"
    }
   ],
   "source": [
    "sum(pred_rf$Yes<0.5)/nrow(pred_rf)"
   ]
  },
  {
   "cell_type": "code",
   "execution_count": 17,
   "metadata": {},
   "outputs": [
    {
     "data": {
      "text/html": [
       "0.989511729573746"
      ],
      "text/latex": [
       "0.989511729573746"
      ],
      "text/markdown": [
       "0.989511729573746"
      ],
      "text/plain": [
       "[1] 0.9895117"
      ]
     },
     "metadata": {},
     "output_type": "display_data"
    }
   ],
   "source": [
    "max(pred_rf$Yes)"
   ]
  },
  {
   "cell_type": "code",
   "execution_count": 18,
   "metadata": {},
   "outputs": [],
   "source": [
    "pred_rf[,c(2)]=pred_rf[,c(2)]+(1-max(pred_rf[,c(2)]))"
   ]
  },
  {
   "cell_type": "code",
   "execution_count": 19,
   "metadata": {},
   "outputs": [],
   "source": [
    "pred_rf=pred_rf[,2]"
   ]
  },
  {
   "cell_type": "code",
   "execution_count": 20,
   "metadata": {},
   "outputs": [
    {
     "data": {
      "text/html": [
       "0.81379643029426"
      ],
      "text/latex": [
       "0.81379643029426"
      ],
      "text/markdown": [
       "0.81379643029426"
      ],
      "text/plain": [
       "[1] 0.8137964"
      ]
     },
     "metadata": {},
     "output_type": "display_data"
    }
   ],
   "source": [
    "sum(pred_rf<0.5)/length(pred_rf)"
   ]
  },
  {
   "cell_type": "markdown",
   "metadata": {},
   "source": [
    "# SGM"
   ]
  },
  {
   "cell_type": "code",
   "execution_count": 21,
   "metadata": {},
   "outputs": [],
   "source": [
    "data_train_sgm=as.data.frame(data_train)\n",
    "data_test_sgm=as.data.frame(data_test)"
   ]
  },
  {
   "cell_type": "code",
   "execution_count": 22,
   "metadata": {},
   "outputs": [],
   "source": [
    "data_train_sgm=data_train_sgm[,c(-37,-50,-52)]\n",
    "data_test_sgm=data_test_sgm[,c(-37,-50,-52)]"
   ]
  },
  {
   "cell_type": "code",
   "execution_count": 23,
   "metadata": {
    "scrolled": false
   },
   "outputs": [],
   "source": [
    "gbm_dt=train(y ~ ., data = data_train_sgm, \n",
    "                 method = \"gbm\", \n",
    "                 trControl = fitControl_random,\n",
    "                 metric=\"Prime\",\n",
    "                 tuneGrid = gbmGrid,\n",
    "                 verbose=F)"
   ]
  },
  {
   "cell_type": "code",
   "execution_count": 24,
   "metadata": {
    "scrolled": false
   },
   "outputs": [
    {
     "data": {
      "text/plain": [
       "Stochastic Gradient Boosting \n",
       "\n",
       "2074 samples\n",
       "  57 predictor\n",
       "   2 classes: 'No', 'Yes' \n",
       "\n",
       "No pre-processing\n",
       "Resampling: Cross-Validated (10 fold, repeated 4 times) \n",
       "Summary of sample sizes: 1867, 1867, 1866, 1866, 1868, 1866, ... \n",
       "Resampling results across tuning parameters:\n",
       "\n",
       "  shrinkage  interaction.depth  n.minobsinnode  n.trees  AUC_value  Prime    \n",
       "  0.01       1                   5               50      0.8361434  0.6680717\n",
       "  0.01       1                   5              100      0.8490703  0.7096175\n",
       "  0.01       1                   5              150      0.8628701  0.7312997\n",
       "  0.01       1                   5              200      0.8683852  0.7356049\n",
       "  0.01       1                   5              250      0.8705526  0.7573234\n",
       "  0.01       1                   5              300      0.8734817  0.7842229\n",
       "  0.01       1                  10               50      0.8355829  0.6677915\n",
       "  0.01       1                  10              100      0.8503892  0.7097622\n",
       "  0.01       1                  10              150      0.8628078  0.7312686\n",
       "  0.01       1                  10              200      0.8680579  0.7357843\n",
       "  0.01       1                  10              250      0.8707492  0.7578968\n",
       "  0.01       1                  10              300      0.8734262  0.7858098\n",
       "  0.01       1                  15               50      0.8367778  0.6683889\n",
       "  0.01       1                  15              100      0.8488532  0.7095090\n",
       "  0.01       1                  15              150      0.8630871  0.7310686\n",
       "  0.01       1                  15              200      0.8683165  0.7353989\n",
       "  0.01       1                  15              250      0.8709981  0.7580609\n",
       "  0.01       1                  15              300      0.8730872  0.7858468\n",
       "  0.01       3                   5               50      0.8593197  0.6825765\n",
       "  0.01       3                   5              100      0.8730520  0.7601593\n",
       "  0.01       3                   5              150      0.8769377  0.8177562\n",
       "  0.01       3                   5              200      0.8805317  0.8415822\n",
       "  0.01       3                   5              250      0.8826448  0.8515998\n",
       "  0.01       3                   5              300      0.8840760  0.8577962\n",
       "  0.01       3                  10               50      0.8592960  0.6858313\n",
       "  0.01       3                  10              100      0.8735097  0.7619057\n",
       "  0.01       3                  10              150      0.8770736  0.8139371\n",
       "  0.01       3                  10              200      0.8802933  0.8393463\n",
       "  0.01       3                  10              250      0.8826921  0.8500911\n",
       "  0.01       3                  10              300      0.8840890  0.8556503\n",
       "  0.01       3                  15               50      0.8585442  0.7007834\n",
       "  0.01       3                  15              100      0.8717813  0.7611635\n",
       "  0.01       3                  15              150      0.8761931  0.8096657\n",
       "  0.01       3                  15              200      0.8796563  0.8340443\n",
       "  0.01       3                  15              250      0.8821382  0.8470423\n",
       "  0.01       3                  15              300      0.8833456  0.8533769\n",
       "  0.01       5                   5               50      0.8696597  0.7025632\n",
       "  0.01       5                   5              100      0.8771652  0.7945187\n",
       "  0.01       5                   5              150      0.8811045  0.8401781\n",
       "  0.01       5                   5              200      0.8831998  0.8510534\n",
       "  0.01       5                   5              250      0.8850595  0.8576888\n",
       "  0.01       5                   5              300      0.8863504  0.8627562\n",
       "  0.01       5                  10               50      0.8700125  0.7116646\n",
       "  0.01       5                  10              100      0.8773395  0.7885799\n",
       "  0.01       5                  10              150      0.8818751  0.8353436\n",
       "  0.01       5                  10              200      0.8847822  0.8498116\n",
       "  0.01       5                  10              250      0.8860727  0.8568628\n",
       "  0.01       5                  10              300      0.8869228  0.8619205\n",
       "  0.01       5                  15               50      0.8690630  0.7132590\n",
       "  0.01       5                  15              100      0.8774138  0.7837739\n",
       "  0.01       5                  15              150      0.8818100  0.8326124\n",
       "  0.01       5                  15              200      0.8841220  0.8482339\n",
       "  0.01       5                  15              250      0.8854865  0.8561457\n",
       "  0.01       5                  15              300      0.8863324  0.8604853\n",
       "  0.01       8                   5               50      0.8746436  0.7215532\n",
       "  0.01       8                   5              100      0.8794168  0.8128045\n",
       "  0.01       8                   5              150      0.8836515  0.8423607\n",
       "  0.01       8                   5              200      0.8857050  0.8540532\n",
       "  0.01       8                   5              250      0.8866703  0.8603193\n",
       "  0.01       8                   5              300      0.8874722  0.8642471\n",
       "  0.01       8                  10               50      0.8735945  0.7175870\n",
       "  0.01       8                  10              100      0.8791822  0.8045916\n",
       "  0.01       8                  10              150      0.8823821  0.8414548\n",
       "  0.01       8                  10              200      0.8849411  0.8520019\n",
       "  0.01       8                  10              250      0.8863158  0.8592095\n",
       "  0.01       8                  10              300      0.8870490  0.8631924\n",
       "  0.01       8                  15               50      0.8715440  0.7174230\n",
       "  0.01       8                  15              100      0.8790576  0.8019189\n",
       "  0.01       8                  15              150      0.8823779  0.8368784\n",
       "  0.01       8                  15              200      0.8851026  0.8512314\n",
       "  0.01       8                  15              250      0.8865366  0.8583547\n",
       "  0.01       8                  15              300      0.8869175  0.8639243\n",
       "  0.05       1                   5               50      0.8690288  0.7581964\n",
       "  0.05       1                   5              100      0.8783365  0.8300829\n",
       "  0.05       1                   5              150      0.8823429  0.8474103\n",
       "  0.05       1                   5              200      0.8843869  0.8557022\n",
       "  0.05       1                   5              250      0.8849977  0.8625720\n",
       "  0.05       1                   5              300      0.8850960  0.8657227\n",
       "  0.05       1                  10               50      0.8677509  0.7581296\n",
       "  0.05       1                  10              100      0.8780011  0.8297101\n",
       "  0.05       1                  10              150      0.8811889  0.8473218\n",
       "  0.05       1                  10              200      0.8834908  0.8582740\n",
       "  0.05       1                  10              250      0.8843187  0.8632645\n",
       "  0.05       1                  10              300      0.8845847  0.8671194\n",
       "  0.05       1                  15               50      0.8697820  0.7619773\n",
       "  0.05       1                  15              100      0.8780080  0.8304027\n",
       "  0.05       1                  15              150      0.8819433  0.8511334\n",
       "  0.05       1                  15              200      0.8832359  0.8584052\n",
       "  0.05       1                  15              250      0.8841398  0.8643486\n",
       "  0.05       1                  15              300      0.8848521  0.8685314\n",
       "  0.05       3                   5               50      0.8812282  0.8478445\n",
       "  0.05       3                   5              100      0.8861747  0.8665560\n",
       "  0.05       3                   5              150      0.8860498  0.8704291\n",
       "  0.05       3                   5              200      0.8846936  0.8715394\n",
       "  0.05       3                   5              250      0.8847929  0.8726248\n",
       "  0.05       3                   5              300      0.8838652  0.8724502\n",
       "  0.05       3                  10               50      0.8820205  0.8484946\n",
       "  0.05       3                  10              100      0.8856840  0.8674566\n",
       "  0.05       3                  10              150      0.8872811  0.8720975\n",
       "  0.05       3                  10              200      0.8860977  0.8731678\n",
       "  0.05       3                  10              250      0.8859031  0.8746510\n",
       "  0.05       3                  10              300      0.8854450  0.8750089\n",
       "  0.05       3                  15               50      0.8810208  0.8473817\n",
       "  0.05       3                  15              100      0.8852067  0.8647934\n",
       "  0.05       3                  15              150      0.8859323  0.8697534\n",
       "  0.05       3                  15              200      0.8849365  0.8725528\n",
       "  0.05       3                  15              250      0.8845112  0.8734808\n",
       "  0.05       3                  15              300      0.8832419  0.8723874\n",
       "  0.05       5                   5               50      0.8829648  0.8560992\n",
       "  0.05       5                   5              100      0.8862464  0.8715691\n",
       "  0.05       5                   5              150      0.8850808  0.8752954\n",
       "  0.05       5                   5              200      0.8844564  0.8757836\n",
       "  0.05       5                   5              250      0.8838797  0.8752708\n",
       "  0.05       5                   5              300      0.8826957  0.8753239\n",
       "  0.05       5                  10               50      0.8833013  0.8525905\n",
       "  0.05       5                  10              100      0.8869541  0.8710978\n",
       "  0.05       5                  10              150      0.8860004  0.8726215\n",
       "  0.05       5                  10              200      0.8851586  0.8737807\n",
       "  0.05       5                  10              250      0.8838404  0.8750318\n",
       "  0.05       5                  10              300      0.8834464  0.8755402\n",
       "  0.05       5                  15               50      0.8836614  0.8555997\n",
       "  0.05       5                  15              100      0.8863345  0.8692498\n",
       "  0.05       5                  15              150      0.8852338  0.8745755\n",
       "  0.05       5                  15              200      0.8835766  0.8749601\n",
       "  0.05       5                  15              250      0.8829718  0.8732433\n",
       "  0.05       5                  15              300      0.8819933  0.8739278\n",
       "  0.05       8                   5               50      0.8838664  0.8589132\n",
       "  0.05       8                   5              100      0.8860648  0.8723260\n",
       "  0.05       8                   5              150      0.8860216  0.8735497\n",
       "  0.05       8                   5              200      0.8842212  0.8730530\n",
       "  0.05       8                   5              250      0.8827583  0.8724687\n",
       "  0.05       8                   5              300      0.8818067  0.8727861\n",
       "  0.05       8                  10               50      0.8862142  0.8569660\n",
       "  0.05       8                  10              100      0.8865247  0.8689358\n",
       "  0.05       8                  10              150      0.8850080  0.8714355\n",
       "  0.05       8                  10              200      0.8838629  0.8744222\n",
       "  0.05       8                  10              250      0.8820390  0.8726922\n",
       "  0.05       8                  10              300      0.8815759  0.8730304\n",
       "  0.05       8                  15               50      0.8845257  0.8559283\n",
       "  0.05       8                  15              100      0.8858595  0.8707938\n",
       "  0.05       8                  15              150      0.8845966  0.8736646\n",
       "  0.05       8                  15              200      0.8837782  0.8745327\n",
       "  0.05       8                  15              250      0.8830261  0.8743821\n",
       "  0.05       8                  15              300      0.8807760  0.8725296\n",
       "  0.10       1                   5               50      0.8773643  0.8289711\n",
       "  0.10       1                   5              100      0.8828751  0.8570027\n",
       "  0.10       1                   5              150      0.8833366  0.8642934\n",
       "  0.10       1                   5              200      0.8833249  0.8687169\n",
       "  0.10       1                   5              250      0.8829315  0.8715466\n",
       "  0.10       1                   5              300      0.8819279  0.8712765\n",
       "  0.10       1                  10               50      0.8783779  0.8294209\n",
       "  0.10       1                  10              100      0.8835229  0.8584967\n",
       "  0.10       1                  10              150      0.8849867  0.8658163\n",
       "  0.10       1                  10              200      0.8841355  0.8697751\n",
       "  0.10       1                  10              250      0.8836789  0.8704377\n",
       "  0.10       1                  10              300      0.8831124  0.8716507\n",
       "  0.10       1                  15               50      0.8774606  0.8286545\n",
       "  0.10       1                  15              100      0.8833947  0.8584681\n",
       "  0.10       1                  15              150      0.8836693  0.8640537\n",
       "  0.10       1                  15              200      0.8831605  0.8673580\n",
       "  0.10       1                  15              250      0.8820652  0.8693833\n",
       "  0.10       1                  15              300      0.8819466  0.8693339\n",
       "  0.10       3                   5               50      0.8856386  0.8667391\n",
       "  0.10       3                   5              100      0.8838969  0.8742624\n",
       "  0.10       3                   5              150      0.8821247  0.8711619\n",
       "  0.10       3                   5              200      0.8813860  0.8697868\n",
       "  0.10       3                   5              250      0.8791034  0.8689947\n",
       "  0.10       3                   5              300      0.8776835  0.8668831\n",
       "  0.10       3                  10               50      0.8857477  0.8645744\n",
       "  0.10       3                  10              100      0.8844613  0.8734875\n",
       "  0.10       3                  10              150      0.8831742  0.8750399\n",
       "  0.10       3                  10              200      0.8812069  0.8718217\n",
       "  0.10       3                  10              250      0.8794047  0.8714182\n",
       "  0.10       3                  10              300      0.8788172  0.8704749\n",
       "  0.10       3                  15               50      0.8839877  0.8643802\n",
       "  0.10       3                  15              100      0.8848130  0.8736573\n",
       "  0.10       3                  15              150      0.8828007  0.8724213\n",
       "  0.10       3                  15              200      0.8815143  0.8729393\n",
       "  0.10       3                  15              250      0.8794844  0.8699580\n",
       "  0.10       3                  15              300      0.8781910  0.8676443\n",
       "  0.10       5                   5               50      0.8840228  0.8700193\n",
       "  0.10       5                   5              100      0.8818827  0.8707238\n",
       "  0.10       5                   5              150      0.8793729  0.8680430\n",
       "  0.10       5                   5              200      0.8780938  0.8682960\n",
       "  0.10       5                   5              250      0.8769499  0.8685775\n",
       "  0.10       5                   5              300      0.8753996  0.8676350\n",
       "  0.10       5                  10               50      0.8841189  0.8674073\n",
       "  0.10       5                  10              100      0.8843242  0.8719957\n",
       "  0.10       5                  10              150      0.8822031  0.8741793\n",
       "  0.10       5                  10              200      0.8790987  0.8710382\n",
       "  0.10       5                  10              250      0.8775410  0.8709596\n",
       "  0.10       5                  10              300      0.8755029  0.8683111\n",
       "  0.10       5                  15               50      0.8841023  0.8680123\n",
       "  0.10       5                  15              100      0.8814427  0.8698560\n",
       "  0.10       5                  15              150      0.8798750  0.8722258\n",
       "  0.10       5                  15              200      0.8782041  0.8713181\n",
       "  0.10       5                  15              250      0.8761495  0.8687293\n",
       "  0.10       5                  15              300      0.8737253  0.8674893\n",
       "  0.10       8                   5               50      0.8837791  0.8718355\n",
       "  0.10       8                   5              100      0.8811245  0.8746495\n",
       "  0.10       8                   5              150      0.8783489  0.8706907\n",
       "  0.10       8                   5              200      0.8762831  0.8708598\n",
       "  0.10       8                   5              250      0.8759216  0.8693260\n",
       "  0.10       8                   5              300      0.8750615  0.8663929\n",
       "  0.10       8                  10               50      0.8832553  0.8716642\n",
       "  0.10       8                  10              100      0.8784861  0.8682089\n",
       "  0.10       8                  10              150      0.8750788  0.8678993\n",
       "  0.10       8                  10              200      0.8738819  0.8647308\n",
       "  0.10       8                  10              250      0.8727371  0.8639180\n",
       "  0.10       8                  10              300      0.8720000  0.8629092\n",
       "  0.10       8                  15               50      0.8811284  0.8696400\n",
       "  0.10       8                  15              100      0.8783061  0.8704154\n",
       "  0.10       8                  15              150      0.8751580  0.8670524\n",
       "  0.10       8                  15              200      0.8735169  0.8679875\n",
       "  0.10       8                  15              250      0.8709090  0.8647565\n",
       "  0.10       8                  15              300      0.8701773  0.8623095\n",
       "  Spec       Sens       \n",
       "  1.0000000  0.000000000\n",
       "  1.0000000  0.100235294\n",
       "  1.0000000  0.142470588\n",
       "  1.0000000  0.146892157\n",
       "  0.9979218  0.207333333\n",
       "  0.9897752  0.285823529\n",
       "  1.0000000  0.000000000\n",
       "  1.0000000  0.098764706\n",
       "  1.0000000  0.142470588\n",
       "  1.0000000  0.147872549\n",
       "  0.9977636  0.208803922\n",
       "  0.9872162  0.292264706\n",
       "  1.0000000  0.000000000\n",
       "  1.0000000  0.100235294\n",
       "  1.0000000  0.141500000\n",
       "  1.0000000  0.146401961\n",
       "  0.9979218  0.208803922\n",
       "  0.9894557  0.291254902\n",
       "  1.0000000  0.008333333\n",
       "  0.9974451  0.212205882\n",
       "  0.9725084  0.389029412\n",
       "  0.9602084  0.460754902\n",
       "  0.9547801  0.490235294\n",
       "  0.9525467  0.507490196\n",
       "  1.0000000  0.017666667\n",
       "  0.9972838  0.216656863\n",
       "  0.9720307  0.378264706\n",
       "  0.9586181  0.455843137\n",
       "  0.9541411  0.486313725\n",
       "  0.9522273  0.501568627\n",
       "  1.0000000  0.061460784\n",
       "  0.9971266  0.217117647\n",
       "  0.9725176  0.366970588\n",
       "  0.9613313  0.439666667\n",
       "  0.9554201  0.477480392\n",
       "  0.9528693  0.495676471\n",
       "  1.0000000  0.050666667\n",
       "  0.9849818  0.313401961\n",
       "  0.9637269  0.453411765\n",
       "  0.9582925  0.485372549\n",
       "  0.9549404  0.504068627\n",
       "  0.9506257  0.519784314\n",
       "  1.0000000  0.076166667\n",
       "  0.9849798  0.296186275\n",
       "  0.9648497  0.437696078\n",
       "  0.9590958  0.478990196\n",
       "  0.9565409  0.499117647\n",
       "  0.9530285  0.514862745\n",
       "  1.0000000  0.082078431\n",
       "  0.9868957  0.280980392\n",
       "  0.9664492  0.428843137\n",
       "  0.9589366  0.475539216\n",
       "  0.9541452  0.499617647\n",
       "  0.9519139  0.512401961\n",
       "  1.0000000  0.097803922\n",
       "  0.9779530  0.367450980\n",
       "  0.9611730  0.457833333\n",
       "  0.9570186  0.491274510\n",
       "  0.9512739  0.511901961\n",
       "  0.9474420  0.524715686\n",
       "  1.0000000  0.087970588\n",
       "  0.9785940  0.343862745\n",
       "  0.9621336  0.456372549\n",
       "  0.9565450  0.486843137\n",
       "  0.9509615  0.509460784\n",
       "  0.9482423  0.521735294\n",
       "  1.0000000  0.090431373\n",
       "  0.9798740  0.335490196\n",
       "  0.9630931  0.442617647\n",
       "  0.9565440  0.484411765\n",
       "  0.9519180  0.506019608\n",
       "  0.9472879  0.524696078\n",
       "  0.9969674  0.212686275\n",
       "  0.9653234  0.427382353\n",
       "  0.9557417  0.478009804\n",
       "  0.9511116  0.502088235\n",
       "  0.9498357  0.521754902\n",
       "  0.9477615  0.532098039\n",
       "  0.9964835  0.214666667\n",
       "  0.9638851  0.427823529\n",
       "  0.9543055  0.480431373\n",
       "  0.9514280  0.510490196\n",
       "  0.9498326  0.524705882\n",
       "  0.9461630  0.537960784\n",
       "  0.9968041  0.222529412\n",
       "  0.9672322  0.427401961\n",
       "  0.9555804  0.489333333\n",
       "  0.9504726  0.511911765\n",
       "  0.9490364  0.528627451\n",
       "  0.9477625  0.540470588\n",
       "  0.9555763  0.480960784\n",
       "  0.9475921  0.533058824\n",
       "  0.9399324  0.549774510\n",
       "  0.9361057  0.557617647\n",
       "  0.9313133  0.564000000\n",
       "  0.9297117  0.565970588\n",
       "  0.9552609  0.481911765\n",
       "  0.9459997  0.537470588\n",
       "  0.9392985  0.553235294\n",
       "  0.9356249  0.560607843\n",
       "  0.9316389  0.567970588\n",
       "  0.9319553  0.569421569\n",
       "  0.9555814  0.479931373\n",
       "  0.9472818  0.529627451\n",
       "  0.9408960  0.547323529\n",
       "  0.9369008  0.559598039\n",
       "  0.9332282  0.565480392\n",
       "  0.9306794  0.565990196\n",
       "  0.9520711  0.504568627\n",
       "  0.9392955  0.553205882\n",
       "  0.9345021  0.568941176\n",
       "  0.9308274  0.573852941\n",
       "  0.9292300  0.574352941\n",
       "  0.9269925  0.577794118\n",
       "  0.9525437  0.493725490\n",
       "  0.9394537  0.550735294\n",
       "  0.9337028  0.560558824\n",
       "  0.9303466  0.567470588\n",
       "  0.9290799  0.573833333\n",
       "  0.9257247  0.578245098\n",
       "  0.9528662  0.501578431\n",
       "  0.9394496  0.546343137\n",
       "  0.9333895  0.567460784\n",
       "  0.9300343  0.573323529\n",
       "  0.9257217  0.572362745\n",
       "  0.9249265  0.576284314\n",
       "  0.9491987  0.513372549\n",
       "  0.9357821  0.558137255\n",
       "  0.9290830  0.566480392\n",
       "  0.9285971  0.567980392\n",
       "  0.9250817  0.570911765\n",
       "  0.9241232  0.573862745\n",
       "  0.9490395  0.504568627\n",
       "  0.9357821  0.547794118\n",
       "  0.9316297  0.560068627\n",
       "  0.9279550  0.572862745\n",
       "  0.9281143  0.570411765\n",
       "  0.9228442  0.575803922\n",
       "  0.9496795  0.503558824\n",
       "  0.9356229  0.554166667\n",
       "  0.9303477  0.567941176\n",
       "  0.9285940  0.572843137\n",
       "  0.9274784  0.574284314\n",
       "  0.9252409  0.573803922\n",
       "  0.9635616  0.426852941\n",
       "  0.9490293  0.509450980\n",
       "  0.9421730  0.534519608\n",
       "  0.9420198  0.547284314\n",
       "  0.9368998  0.559588235\n",
       "  0.9337090  0.562529412\n",
       "  0.9626062  0.427372549\n",
       "  0.9515821  0.510970588\n",
       "  0.9463233  0.533549020\n",
       "  0.9418586  0.549264706\n",
       "  0.9357872  0.556147059\n",
       "  0.9335508  0.562019608\n",
       "  0.9648477  0.424892157\n",
       "  0.9511065  0.511411765\n",
       "  0.9459977  0.530627451\n",
       "  0.9396170  0.545352941\n",
       "  0.9381870  0.553725490\n",
       "  0.9327505  0.557637255\n",
       "  0.9439205  0.536970588\n",
       "  0.9368967  0.565970588\n",
       "  0.9287533  0.565460784\n",
       "  0.9233301  0.566460784\n",
       "  0.9226819  0.567921569\n",
       "  0.9204516  0.565509804\n",
       "  0.9453648  0.529598039\n",
       "  0.9340274  0.565000000\n",
       "  0.9290717  0.574813725\n",
       "  0.9269966  0.569911765\n",
       "  0.9241283  0.573382353\n",
       "  0.9215713  0.573352941\n",
       "  0.9453628  0.531558824\n",
       "  0.9340305  0.564980392\n",
       "  0.9276345  0.568892157\n",
       "  0.9254032  0.573803922\n",
       "  0.9230004  0.569901961\n",
       "  0.9183774  0.568441176\n",
       "  0.9389709  0.552186275\n",
       "  0.9301884  0.563529412\n",
       "  0.9252399  0.562990196\n",
       "  0.9239650  0.566450980\n",
       "  0.9218888  0.570372549\n",
       "  0.9212467  0.570352941\n",
       "  0.9386524  0.544813725\n",
       "  0.9269894  0.565960784\n",
       "  0.9261994  0.575794118\n",
       "  0.9218888  0.574333333\n",
       "  0.9205996  0.577254902\n",
       "  0.9167718  0.575333333\n",
       "  0.9383329  0.546794118\n",
       "  0.9276386  0.563500000\n",
       "  0.9244417  0.574794118\n",
       "  0.9213937  0.576764706\n",
       "  0.9172475  0.575264706\n",
       "  0.9170811  0.575303922\n",
       "  0.9329016  0.562058824\n",
       "  0.9247469  0.579715686\n",
       "  0.9247571  0.572362745\n",
       "  0.9226748  0.577284314\n",
       "  0.9234668  0.572852941\n",
       "  0.9210722  0.567411765\n",
       "  0.9333874  0.561970588\n",
       "  0.9228319  0.566450980\n",
       "  0.9215591  0.571343137\n",
       "  0.9194870  0.565480392\n",
       "  0.9212427  0.563539216\n",
       "  0.9201229  0.562509804\n",
       "  0.9349798  0.558088235\n",
       "  0.9237965  0.572323529\n",
       "  0.9180406  0.571323529\n",
       "  0.9161277  0.577705882\n",
       "  0.9132513  0.574254902\n",
       "  0.9138892  0.567852941\n",
       "\n",
       "Prime was used to select the optimal model using the largest value.\n",
       "The final values used for the model were n.trees = 200, interaction.depth =\n",
       " 5, shrinkage = 0.05 and n.minobsinnode = 5."
      ]
     },
     "metadata": {},
     "output_type": "display_data"
    }
   ],
   "source": [
    "gbm_dt"
   ]
  },
  {
   "cell_type": "code",
   "execution_count": 55,
   "metadata": {
    "scrolled": false
   },
   "outputs": [
    {
     "data": {
      "image/png": "[encoded data removed]",
      "text/plain": [
       "plot without title"
      ]
     },
     "metadata": {},
     "output_type": "display_data"
    }
   ],
   "source": [
    "plot(gbm_dt)"
   ]
  },
  {
   "cell_type": "code",
   "execution_count": 56,
   "metadata": {},
   "outputs": [
    {
     "data": {
      "text/plain": [
       "A gradient boosted model with bernoulli loss function.\n",
       "200 iterations were performed.\n",
       "There were 57 predictors of which 44 had non-zero influence."
      ]
     },
     "metadata": {},
     "output_type": "display_data"
    }
   ],
   "source": [
    "gbm_dt$final"
   ]
  },
  {
   "cell_type": "markdown",
   "metadata": {},
   "source": [
    "### Prediction"
   ]
  },
  {
   "cell_type": "code",
   "execution_count": 25,
   "metadata": {},
   "outputs": [],
   "source": [
    "pred_gbm=predict(gbm_dt, data_test_sgm,type=\"prob\")"
   ]
  },
  {
   "cell_type": "code",
   "execution_count": 26,
   "metadata": {},
   "outputs": [],
   "source": [
    "pred_gbm=pred_gbm[,2]"
   ]
  },
  {
   "cell_type": "code",
   "execution_count": 27,
   "metadata": {},
   "outputs": [
    {
     "data": {
      "text/html": [
       "0.808972503617945"
      ],
      "text/latex": [
       "0.808972503617945"
      ],
      "text/markdown": [
       "0.808972503617945"
      ],
      "text/plain": [
       "[1] 0.8089725"
      ]
     },
     "metadata": {},
     "output_type": "display_data"
    }
   ],
   "source": [
    "sum(pred_gbm<0.5)/length(pred_gbm)"
   ]
  },
  {
   "cell_type": "code",
   "execution_count": 28,
   "metadata": {},
   "outputs": [],
   "source": [
    "pred_gbm=pred_gbm+(1-max(pred_gbm))"
   ]
  },
  {
   "cell_type": "code",
   "execution_count": 29,
   "metadata": {},
   "outputs": [
    {
     "data": {
      "text/html": [
       "1"
      ],
      "text/latex": [
       "1"
      ],
      "text/markdown": [
       "1"
      ],
      "text/plain": [
       "[1] 1"
      ]
     },
     "metadata": {},
     "output_type": "display_data"
    }
   ],
   "source": [
    "max(pred_gbm)"
   ]
  },
  {
   "cell_type": "code",
   "execution_count": 30,
   "metadata": {},
   "outputs": [
    {
     "data": {
      "text/html": [
       "0.80414857694163"
      ],
      "text/latex": [
       "0.80414857694163"
      ],
      "text/markdown": [
       "0.80414857694163"
      ],
      "text/plain": [
       "[1] 0.8041486"
      ]
     },
     "metadata": {},
     "output_type": "display_data"
    }
   ],
   "source": [
    "sum(pred_gbm<0.5)/length(pred_gbm)"
   ]
  },
  {
   "cell_type": "markdown",
   "metadata": {},
   "source": [
    "# XGBoost"
   ]
  },
  {
   "cell_type": "code",
   "execution_count": 47,
   "metadata": {},
   "outputs": [],
   "source": [
    "model_weights <- ifelse(data_train$y == \"No\",\n",
    "                        table(data_train$y)[1]/nrow(data_train),\n",
    "                        table(data_train$y)[2]/nrow(data_train))"
   ]
  },
  {
   "cell_type": "code",
   "execution_count": 48,
   "metadata": {
    "scrolled": false
   },
   "outputs": [],
   "source": [
    "xgboost_dt=train(y ~ ., data = data_train, \n",
    "                 method = \"xgbTree\", \n",
    "                 trControl = fitControl_random,\n",
    "                 metric=\"Prime\",  \n",
    "                 tuneGrid = xgbGrid,\n",
    "                 weights =model_weights,\n",
    "                 verbose=F)"
   ]
  },
  {
   "cell_type": "code",
   "execution_count": 59,
   "metadata": {
    "scrolled": false
   },
   "outputs": [
    {
     "data": {
      "text/plain": [
       "eXtreme Gradient Boosting \n",
       "\n",
       "2074 samples\n",
       "  60 predictor\n",
       "   2 classes: 'No', 'Yes' \n",
       "\n",
       "No pre-processing\n",
       "Resampling: Cross-Validated (10 fold, repeated 4 times) \n",
       "Summary of sample sizes: 1866, 1867, 1867, 1868, 1866, 1866, ... \n",
       "Resampling results across tuning parameters:\n",
       "\n",
       "  eta  max_depth  gamma  min_child_weight  nrounds  AUC_value  Prime    \n",
       "  0.1  3          1.0    1                 100      0.8872125  0.8087736\n",
       "  0.1  3          1.0    1                 150      0.8859315  0.8165511\n",
       "  0.1  3          1.0    1                 200      0.8843923  0.8202129\n",
       "  0.1  3          1.0    5                 100      0.8760740  0.7902668\n",
       "  0.1  3          1.0    5                 150      0.8751365  0.7948719\n",
       "  0.1  3          1.0    5                 200      0.8733790  0.7976124\n",
       "  0.1  3          1.5    1                 100      0.8861084  0.8022672\n",
       "  0.1  3          1.5    1                 150      0.8855482  0.8091193\n",
       "  0.1  3          1.5    1                 200      0.8850806  0.8110645\n",
       "  0.1  3          1.5    5                 100      0.8779434  0.7860957\n",
       "  0.1  3          1.5    5                 150      0.8762620  0.7917039\n",
       "  0.1  3          1.5    5                 200      0.8758030  0.7946695\n",
       "  0.1  3          2.0    1                 100      0.8862419  0.7975244\n",
       "  0.1  3          2.0    1                 150      0.8859511  0.8017614\n",
       "  0.1  3          2.0    1                 200      0.8852209  0.8026678\n",
       "  0.1  3          2.0    5                 100      0.8781950  0.7813626\n",
       "  0.1  3          2.0    5                 150      0.8778926  0.7858298\n",
       "  0.1  3          2.0    5                 200      0.8768557  0.7885100\n",
       "  0.1  5          1.0    1                 100      0.8861257  0.8224905\n",
       "  0.1  5          1.0    1                 150      0.8830045  0.8281945\n",
       "  0.1  5          1.0    1                 200      0.8806400  0.8319156\n",
       "  0.1  5          1.0    5                 100      0.8755610  0.7995639\n",
       "  0.1  5          1.0    5                 150      0.8728167  0.8015367\n",
       "  0.1  5          1.0    5                 200      0.8710079  0.8023433\n",
       "  0.1  5          1.5    1                 100      0.8846772  0.8173885\n",
       "  0.1  5          1.5    1                 150      0.8837379  0.8216756\n",
       "  0.1  5          1.5    1                 200      0.8828089  0.8230726\n",
       "  0.1  5          1.5    5                 100      0.8762452  0.7939168\n",
       "  0.1  5          1.5    5                 150      0.8747169  0.7959900\n",
       "  0.1  5          1.5    5                 200      0.8742349  0.7967020\n",
       "  0.1  5          2.0    1                 100      0.8859116  0.8086091\n",
       "  0.1  5          2.0    1                 150      0.8849565  0.8122129\n",
       "  0.1  5          2.0    1                 200      0.8849259  0.8136486\n",
       "  0.1  5          2.0    5                 100      0.8772591  0.7879054\n",
       "  0.1  5          2.0    5                 150      0.8767838  0.7929246\n",
       "  0.1  5          2.0    5                 200      0.8758636  0.7950678\n",
       "  0.3  3          1.0    1                 100      0.8753509  0.8217133\n",
       "  0.3  3          1.0    1                 150      0.8724518  0.8232232\n",
       "  0.3  3          1.0    1                 200      0.8704404  0.8265862\n",
       "  0.3  3          1.0    5                 100      0.8669019  0.7989219\n",
       "  0.3  3          1.0    5                 150      0.8630711  0.8011351\n",
       "  0.3  3          1.0    5                 200      0.8611959  0.8029625\n",
       "  0.3  3          1.5    1                 100      0.8790188  0.8180180\n",
       "  0.3  3          1.5    1                 150      0.8761007  0.8189065\n",
       "  0.3  3          1.5    1                 200      0.8747161  0.8192159\n",
       "  0.3  3          1.5    5                 100      0.8693586  0.7908778\n",
       "  0.3  3          1.5    5                 150      0.8681206  0.7945583\n",
       "  0.3  3          1.5    5                 200      0.8667661  0.7939167\n",
       "  0.3  3          2.0    1                 100      0.8796469  0.8072065\n",
       "  0.3  3          2.0    1                 150      0.8794892  0.8095865\n",
       "  0.3  3          2.0    1                 200      0.8787664  0.8121256\n",
       "  0.3  3          2.0    5                 100      0.8713007  0.7889730\n",
       "  0.3  3          2.0    5                 150      0.8706357  0.7894308\n",
       "  0.3  3          2.0    5                 200      0.8704710  0.7921518\n",
       "  0.3  5          1.0    1                 100      0.8703191  0.8298690\n",
       "  0.3  5          1.0    1                 150      0.8690434  0.8314504\n",
       "  0.3  5          1.0    1                 200      0.8683322  0.8321341\n",
       "  0.3  5          1.0    5                 100      0.8623357  0.8023666\n",
       "  0.3  5          1.0    5                 150      0.8608454  0.8045056\n",
       "  0.3  5          1.0    5                 200      0.8602888  0.8054099\n",
       "  0.3  5          1.5    1                 100      0.8743916  0.8268208\n",
       "  0.3  5          1.5    1                 150      0.8729156  0.8259156\n",
       "  0.3  5          1.5    1                 200      0.8720117  0.8273424\n",
       "  0.3  5          1.5    5                 100      0.8674694  0.7988526\n",
       "  0.3  5          1.5    5                 150      0.8658802  0.8015658\n",
       "  0.3  5          1.5    5                 200      0.8647863  0.8032218\n",
       "  0.3  5          2.0    1                 100      0.8808079  0.8208553\n",
       "  0.3  5          2.0    1                 150      0.8803970  0.8234470\n",
       "  0.3  5          2.0    1                 200      0.8791336  0.8239539\n",
       "  0.3  5          2.0    5                 100      0.8704676  0.7955644\n",
       "  0.3  5          2.0    5                 150      0.8683883  0.7957918\n",
       "  0.3  5          2.0    5                 200      0.8668673  0.7957265\n",
       "  Spec       Sens     \n",
       "  0.9889791  0.3369216\n",
       "  0.9862649  0.3629118\n",
       "  0.9833885  0.3776275\n",
       "  0.9792289  0.3069216\n",
       "  0.9753950  0.3241569\n",
       "  0.9741150  0.3354118\n",
       "  0.9899365  0.3192255\n",
       "  0.9875419  0.3413137\n",
       "  0.9859495  0.3486765\n",
       "  0.9829077  0.2897059\n",
       "  0.9805110  0.3098431\n",
       "  0.9781112  0.3206863\n",
       "  0.9920137  0.3040000\n",
       "  0.9902591  0.3177745\n",
       "  0.9891414  0.3222059\n",
       "  0.9861057  0.2735392\n",
       "  0.9846634  0.2877647\n",
       "  0.9837049  0.2975882\n",
       "  0.9814695  0.3830294\n",
       "  0.9762004  0.4075490\n",
       "  0.9717255  0.4247549\n",
       "  0.9755532  0.3368431\n",
       "  0.9717214  0.3491373\n",
       "  0.9675710  0.3569902\n",
       "  0.9859464  0.3673235\n",
       "  0.9822718  0.3835392\n",
       "  0.9793963  0.3909118\n",
       "  0.9790748  0.3172157\n",
       "  0.9745988  0.3285196\n",
       "  0.9742794  0.3314706\n",
       "  0.9888229  0.3384216\n",
       "  0.9859464  0.3521373\n",
       "  0.9841877  0.3575392\n",
       "  0.9832251  0.2956275\n",
       "  0.9801915  0.3128137\n",
       "  0.9789105  0.3211667\n",
       "  0.9723634  0.4027059\n",
       "  0.9648620  0.4165196\n",
       "  0.9624622  0.4307157\n",
       "  0.9669290  0.3535392\n",
       "  0.9627725  0.3683039\n",
       "  0.9614935  0.3771176\n",
       "  0.9811561  0.3806275\n",
       "  0.9789207  0.3889314\n",
       "  0.9774784  0.3928235\n",
       "  0.9731565  0.3225980\n",
       "  0.9710844  0.3363627\n",
       "  0.9705955  0.3368137\n",
       "  0.9861067  0.3453039\n",
       "  0.9849890  0.3531275\n",
       "  0.9835518  0.3624412\n",
       "  0.9787553  0.3103824\n",
       "  0.9771538  0.3137843\n",
       "  0.9766730  0.3221373\n",
       "  0.9621376  0.4405000\n",
       "  0.9565481  0.4508333\n",
       "  0.9538288  0.4557451\n",
       "  0.9622928  0.3732157\n",
       "  0.9567001  0.3854510\n",
       "  0.9552680  0.3898529\n",
       "  0.9706098  0.4199216\n",
       "  0.9685275  0.4209314\n",
       "  0.9664482  0.4277843\n",
       "  0.9696483  0.3505882\n",
       "  0.9670852  0.3624412\n",
       "  0.9662890  0.3693039\n",
       "  0.9779602  0.3884608\n",
       "  0.9760412  0.3978235\n",
       "  0.9730055  0.4032451\n",
       "  0.9731596  0.3344020\n",
       "  0.9720378  0.3388235\n",
       "  0.9714009  0.3412647\n",
       "\n",
       "Tuning parameter 'colsample_bytree' was held constant at a value of 0.8\n",
       "\n",
       "Tuning parameter 'subsample' was held constant at a value of 0.8\n",
       "Prime was used to select the optimal model using the largest value.\n",
       "The final values used for the model were nrounds = 200, max_depth = 5, eta\n",
       " = 0.3, gamma = 1, colsample_bytree = 0.8, min_child_weight = 1 and subsample\n",
       " = 0.8."
      ]
     },
     "metadata": {},
     "output_type": "display_data"
    }
   ],
   "source": [
    "xgboost_dt"
   ]
  },
  {
   "cell_type": "code",
   "execution_count": 57,
   "metadata": {},
   "outputs": [
    {
     "data": {
      "image/png": "[encoded data removed]",
      "text/plain": [
       "plot without title"
      ]
     },
     "metadata": {},
     "output_type": "display_data"
    },
    {
     "data": {
      "image/png": "[encoded data removed]",
      "text/plain": [
       "plot without title"
      ]
     },
     "metadata": {},
     "output_type": "display_data"
    }
   ],
   "source": [
    "plot(xgboost_dt)"
   ]
  },
  {
   "cell_type": "code",
   "execution_count": 58,
   "metadata": {},
   "outputs": [
    {
     "data": {
      "text/plain": [
       "##### xgb.Booster\n",
       "raw: 441.1 Kb \n",
       "call:\n",
       "  xgboost::xgb.train(params = list(eta = param$eta, max_depth = param$max_depth, \n",
       "    gamma = param$gamma, colsample_bytree = param$colsample_bytree, \n",
       "    min_child_weight = param$min_child_weight, subsample = param$subsample), \n",
       "    data = x, nrounds = param$nrounds, verbose = ..1, objective = \"binary:logistic\")\n",
       "params (as set within xgb.train):\n",
       "  eta = \"0.3\", max_depth = \"5\", gamma = \"1\", colsample_bytree = \"0.8\", min_child_weight = \"1\", subsample = \"0.8\", objective = \"binary:logistic\", validate_parameters = \"TRUE\"\n",
       "xgb.attributes:\n",
       "  niter\n",
       "# of features: 60 \n",
       "niter: 200\n",
       "nfeatures : 60 \n",
       "xNames : x1 x2 x3 x4 x5 x6 x7 x8 x9 x10 x11 x12 x13 x14 x15 x16 x17 x18 x19 x20 x21 x22 x23 x24 x25 x26 x27 x28 x29 x30 x31 x32 x33 x34 x35 x36 x37 x38 x39 x40 x41 x42 x43 x44 x45 x46 x47 x48 x49 x50 x51 x52 x53 x54 x55 x56 x57 x58 x59 x60 \n",
       "problemType : Classification \n",
       "tuneValue :\n",
       "\t   nrounds max_depth eta gamma colsample_bytree min_child_weight subsample\n",
       "57     200         5 0.3     1              0.8                1       0.8\n",
       "obsLevels : No Yes \n",
       "param :\n",
       "\t$verbose\n",
       "[1] FALSE\n"
      ]
     },
     "metadata": {},
     "output_type": "display_data"
    }
   ],
   "source": [
    "xgboost_dt$final"
   ]
  },
  {
   "cell_type": "code",
   "execution_count": 49,
   "metadata": {},
   "outputs": [],
   "source": [
    "pred_xgb=predict(xgboost_dt, data_test, type=\"prob\")"
   ]
  },
  {
   "cell_type": "code",
   "execution_count": 50,
   "metadata": {},
   "outputs": [],
   "source": [
    "pred_xgb=pred_xgb[,2]"
   ]
  },
  {
   "cell_type": "code",
   "execution_count": 64,
   "metadata": {},
   "outputs": [
    {
     "data": {
      "text/html": [
       "0.846599131693198"
      ],
      "text/latex": [
       "0.846599131693198"
      ],
      "text/markdown": [
       "0.846599131693198"
      ],
      "text/plain": [
       "[1] 0.8465991"
      ]
     },
     "metadata": {},
     "output_type": "display_data"
    }
   ],
   "source": [
    "sum(pred_xgb<0.5)/length(pred_xgb)"
   ]
  },
  {
   "cell_type": "code",
   "execution_count": 65,
   "metadata": {},
   "outputs": [],
   "source": [
    "pred_xgb=pred_xgb+(1-max(pred_xgb))"
   ]
  },
  {
   "cell_type": "code",
   "execution_count": 66,
   "metadata": {},
   "outputs": [
    {
     "data": {
      "text/html": [
       "1"
      ],
      "text/latex": [
       "1"
      ],
      "text/markdown": [
       "1"
      ],
      "text/plain": [
       "[1] 1"
      ]
     },
     "metadata": {},
     "output_type": "display_data"
    }
   ],
   "source": [
    "max(pred_xgb)"
   ]
  },
  {
   "cell_type": "code",
   "execution_count": 178,
   "metadata": {},
   "outputs": [],
   "source": [
    "# manys=0\n",
    "# for(i in 1:length(last_num)){\n",
    "#     if(last_num[i]<=0.5){\n",
    "#         count=0\n",
    "#         count1=0\n",
    "#         sum=0\n",
    "#         sum1=0\n",
    "#         if(pred_rf[i]>0.35){\n",
    "#             sum=pred_rf[i]+sum+0.155\n",
    "#             count=count+1\n",
    "#         }\n",
    "#         if(pred_gbm[i]>0.35){\n",
    "#             sum=pred_gbm[i]+sum+0.155\n",
    "#             count=count+1\n",
    "#         }\n",
    "#         if(pred_xgb[i]>0.35){\n",
    "#             sum=pred_xgb[i]+sum+0.155\n",
    "#             count=count+1\n",
    "#         }\n",
    "#         else if(pred_rf[i]>0.24 & pred_gbm[i]>0.24){\n",
    "#             sum1=(pred_rf[i]+pred_gbm[i])/2+sum1+0.265  \n",
    "#             count1=count1+1\n",
    "#         } \n",
    "#         else if(pred_gbm[i]>0.24 & pred_xgb[i]>0.24){\n",
    "#             sum1=(pred_gbm[i]+pred_xgb[i])/2+sum1+0.265 \n",
    "#             count1=count1+1\n",
    "#         } \n",
    "#         else if(pred_rf[i]>0.24 & pred_xgb[i]>0.24){\n",
    "#             sum1=(pred_rf[i]+pred_xgb[i])/2+sum1+0.265    \n",
    "#             count1=count1+1\n",
    "#         } \n",
    "#         else if(pred_rf[i]>0.22 & pred_gbm[i]>0.22 & pred_xgb[i]>0.22){\n",
    "#             last_num[i]=((pred_rf[i]+pred_gbm[i]+pred_xgb[i])/3)+0.285     \n",
    "#         } \n",
    "        \n",
    "#         if(count>0){\n",
    "#             manys=manys+(count/count)\n",
    "#             last_num[i]=sum/count\n",
    "#         }   \n",
    "#         if(count1>0){\n",
    "#             manys=manys+(count1/count1)\n",
    "#             last_num[i]=sum1/count1\n",
    "#         }  \n",
    "#     }\n",
    "# }"
   ]
  },
  {
   "cell_type": "markdown",
   "metadata": {},
   "source": [
    "### Prediction"
   ]
  },
  {
   "cell_type": "code",
   "execution_count": 530,
   "metadata": {},
   "outputs": [],
   "source": [
    "best_score=c(0.0243, 0.1196, 0.5796, 0.0206, 0.7544, 0.0983, 0.5166, 0.5507, 0.0586, 0.0165, 0.1557, 0.1847, 0.0221, 0.982, 0.1493, 0.0211, 0.0138, 0.0753, 0.1147, 0.0192, 0.0431, 0.5192, 0.9907, 0.0152, 0.6471, 0.0383, 0.507, 0.6167, 0.5269, 0.2041, 0.5684, 0.7552, 0.0163, 0.5845, 0.6334, 0.1548, 0.8487, 0.9277, 0.974, 0.0196, 0.0734, 0.1079, 0.0935, 0.7272, 0.1599, 0.7577, 0.1514, 0.018, 0.1296, 0.0409, 0.052, 0.0182, 0.1712, 0.5387, 0.9472, 0.532, 0.6582, 0.5614, 0.0658, 0.5269, 0.9829, 0.0107, 0.0263, 0.1141, 0.0446, 0.0303, 0.0113, 0.017, 0.8018, 0.0949, 0.7306, 0.0138, 0.0227, 0.8138, 0.0217, 0.1187, 0.5215, 0.0444, 0.5181, 0.044, 0.9588, 0.0367, 0.0104, 0.6275, 0.1356, 0.1807, 0.0136, 0.0586, 0.926, 0.205, 0.0403, 0.0323, 0.0699, 0.8609, 0.0983, 0.2023, 0.0546, 0.0485, 0.5135, 0.6137, 0.7175, 0.0233, 0.6119, 0.5313, 0.5327, 0.577, 0.0348, 0.2179, 0.1184, 0.0554, 0.0295, 0.7963, 0.0486, 0.5122, 0.1848, 0.0131, 0.0105, 0.2348, 0.034, 0.0231, 0.0325, 0.0329, 0.0192, 0.061, 0.072, 0.0166, 0.0229, 0.2285, 0.6949, 0.0278, 0.5968, 0.2275, 0.1644, 0.1936, 0.57, 0.501, 0.0401, 0.5029, 0.052, 0.5196, 0.537, 0.1779, 0.5185, 0.5775, 0.5214, 0.1239, 0.6353, 0.133, 0.1265, 0.063, 0.0291, 0.5055, 0.1061, 0.066, 0.0159, 0.1255, 0.018, 0.5801, 0.1738, 0.8824, 0.0665, 0.0589, 0.0263, 0.0916, 0.0204, 0.5521, 0.0423, 0.5106, 0.0165, 0.0895, 0.6923, 0.1828, 0.5294, 0.0217, 0.5378, 0.0154, 0.2063, 0.525, 0.5708, 0.955, 0.7672, 0.6778, 0.5447, 0.0134, 0.8034, 0.0192, 0.0128, 0.0927, 0.1276, 0.1346, 0.015, 0.5881, 0.5963, 0.1309, 0.0169, 0.0154, 0.0446, 0.0363, 0.0201, 0.7582, 0.5721, 0.0511, 0.0505, 0.5134, 0.2181, 0.5797, 0.0294, 0.8992, 0.0406, 0.7363, 0.0604, 0.0129, 0.0681, 0.5638, 0.1385, 0.666, 0.0886, 0.032, 0.0139, 0.0577, 0.0762, 0.017, 0.2504, 0.6716, 0.0557, 0.0313, 0.0921, 0.8503, 0.5432, 0.0153, 0.9164, 0.022, 0.5775, 0.0383, 0.0157, 0.0518, 0.5644, 0.0598, 0.6413, 0.565, 0.0467, 0.0324, 0.0228, 0.0479, 0.0326, 0.0249, 0.7086, 0.6566, 0.7318, 0.0141, 0.0385, 0.8998, 0.6239, 0.5115, 0.0242, 0.5783, 0.8155, 0.1809, 0.0335, 0.0495, 0.5327, 0.1493, 0.0431, 0.5254, 0.6455, 0.5582, 0.0252, 0.0783, 0.0584, 0.077, 0.5005, 0.1341, 0.1593, 0.1352, 0.0249, 0.1487, 0.5688, 0.0368, 0.1742, 0.1291, 0.1999, 0.0572, 0.1794, 0.1083, 0.5034, 0.2107, 0.0568, 0.5825, 0.6373, 0.5471, 0.2483, 0.0522, 0.2308, 0.5373, 0.5033, 0.9815, 0.6955, 0.0662, 0.0149, 0.0208, 0.7184, 0.0241, 0.0264, 0.0111, 0.037, 0.0492, 0.0694, 0.1461, 0.0468, 0.0187, 0.107, 0.525, 0.6463, 0.0391, 0.0241, 0.7871, 0.1357, 0.1248, 0.632, 0.5074, 0.0181, 0.0973, 0.0259, 0.1761, 0.1715, 0.553, 0.6798, 0.5746, 0.042, 0.192, 0.5664, 0.1401, 0.8642, 0.5103, 0.6676, 0.0953, 0.5501, 0.9113, 0.0162, 0.0563, 0.0791, 0.0512, 0.079, 0.1151, 0.5316, 0.0186, 0.0826, 0.1794, 0.036, 0.0557, 0.0529, 0.0222, 0.0776, 0.9399, 0.0525, 0.254, 0.9077, 0.0952, 0.1162, 0.1666, 0.0498, 0.0152, 0.0581, 0.1021, 0.6375, 0.5025, 0.6864, 0.0217, 0.0271, 0.0726, 0.918, 0.0751, 0.0167, 0.068, 0.0837, 0.8178, 0.072, 0.0337, 0.0214, 0.1887, 0.1427, 0.5399, 0.0314, 0.8311, 0.0959, 0.0518, 0.014, 0.5271, 0.0891, 0.2677, 0.0235, 0.0434, 0.6646, 0.0849, 0.0596, 0.2252, 0.0248, 0.0239, 0.0199, 0.0145, 0.0303, 0.9383, 0.0676, 0.7798, 0.0347, 0.5891, 0.0502, 0.16, 0.7304, 0.0528, 0.514, 0.0279, 0.559, 0.0162, 0.5971, 0.5172, 0.1514, 0.924, 0.5127, 0.594, 0.1752, 0.6218, 0.014, 0.0354, 0.1029, 0.5156, 0.0717, 0.5913, 0.0653, 0.6113, 0.6339, 0.0436, 0.5824, 0.1989, 0.6221, 0.1585, 0.0183, 0.1368, 0.6878, 0.5114, 0.1074, 0.0857, 0.0901, 0.9668, 0.0805, 0.5798, 0.0142, 0.016, 0.7798, 0.0174, 0.5887, 0.1543, 0.0348, 0.8741, 0.1104, 0.0121, 0.6252, 0.5837, 0.9462, 0.5949, 0.0479, 0.0797, 0.1046, 0.9129, 0.0369, 0.5294, 0.1159, 0.0272, 0.0279, 0.5886, 0.5032, 0.6311, 0.0514, 0.0524, 0.5, 0.0203, 0.1197, 0.9032, 0.2339, 0.0136, 0.0136, 0.0666, 0.9419, 0.068, 0.0126, 0.0595, 0.6913, 0.0388, 0.6264, 0.0429, 0.6067, 0.5791, 0.6886, 0.7167, 0.0661, 0.0211, 0.8318, 0.0152, 0.8396, 0.0516, 0.049, 0.0728, 0.0144, 0.0122, 0.0652, 0.0127, 0.5358, 0.5705, 0.0886, 0.0256, 0.7219, 0.5081, 0.0372, 0.0218, 0.0154, 0.1925, 0.0213, 0.0623, 0.5402, 0.6038, 0.0174, 0.0316, 0.551, 0.014, 0.1479, 0.4781, 0.0148, 0.7466, 0.1228, 0.0122, 0.1513, 0.0147, 0.5983, 0.5829, 0.6756, 0.0152, 0.9857, 0.5627, 0.2349, 0.1065, 0.1103, 0.9613, 0.0464, 0.0481, 0.1074, 0.0417, 0.6166, 0.6419, 0.0133, 0.6139, 0.0148, 0.0491, 0.0385, 0.8784, 0.5899, 0.5698, 0.047, 0.029, 0.0199, 0.2217, 0.0348, 0.0589, 0.0339, 0.0834, 0.1789, 0.014, 0.1692, 0.0318, 0.5364, 0.2318, 0.0363, 0.2314, 0.1479, 0.2393, 0.1939, 0.5434, 0.623, 0.1285, 0.0538, 0.0327, 0.0181, 0.0183, 0.5164, 0.6012, 0.1534, 0.5922, 0.0136, 0.0666, 0.1236, 0.0296, 0.8026, 0.1096, 0.03, 0.0107, 0.0184, 0.7884, 0.0207, 0.0305, 0.0273, 0.6268, 0.0297, 0.1931, 0.5532, 0.0314, 0.0619, 0.548, 0.9645, 0.083, 0.0664, 0.029, 0.1157, 0.6259, 0.6345, 0.0639, 0.0345, 0.6521, 0.0233, 0.1943, 0.1848, 0.9685, 0.0697, 0.5976, 0.9198, 0.8178, 0.5125, 0.197, 0.1242, 0.0143, 0.1946, 0.0818, 0.0692, 0.1196, 0.5269, 0.1667, 0.1987, 0.0153, 0.567, 0.122, 0.0147, 0.1049, 0.2032, 0.0542, 0.0146, 0.0721, 0.0421, 0.0191, 0.0657, 0.0487, 0.6532, 0.5099, 0.0598, 0.0522, 0.6461, 0.5482, 0.5101, 0.1354, 0.5095, 0.6401, 0.6146, 0.12, 0.5094, 0.0143, 0.0327, 0.5454, 0.1283, 0.1399, 0.5793, 0.0217, 0.0149, 0.7542, 0.6152, 0.1182, 0.0142, 0.7403, 0.517, 0.5305, 0.0207, 0.6253, 0.558, 0.4771, 0.0231, 0.9495, 0.0947, 0.1554, 0.0608, 0.5368, 0.2077, 0.5622, 0.0435, 0.1807, 0.0603, 0.0505, 0.5666, 0.522, 0.0295, 0.5718, 0.0467, 0.0718, 0.0275, 0.1928, 0.0657, 0.1813, 0.604, 0.0689, 0.6295, 0.7604, 0.5508, 0.0288, 0.2408, 0.0299, 0.5287, 0.9855, 0.0252, 0.0181, 0.1747, 0.5599, 0.5328, 0.7288, 0.9562, 0.0219, 0.1199, 0.5218, 0.5514, 0.0868, 0.0221, 0.0262, 0.2601, 0.5219, 0.5486, 0.0269, 0.5274, 0.6255, 0.1035, 0.1153, 0.0115, 0.1447, 0.0179, 0.6478, 0.0171, 0.0301, 0.0125, 0.0828, 0.5823, 0.101, 0.8013, 0.0335, 0.5948, 0.6451, 0.015, 0.0921, 0.0219, 0.048, 0.0665, 0.0901, 0.0405, 0.6387, 0.1021, 0.0333, 0.0254, 0.0124, 0.1289, 0.7065, 0.0959, 0.1665, 0.8604, 0.0846, 0.0133, 0.0205, 0.5773, 0.2177, 0.0268, 0.0342, 0.651, 0.8079, 0.6481, 0.0557, 0.9442, 0.5249, 0.0484, 0.5272, 0.0804, 0.0167, 0.5831, 0.0122, 0.033, 0.5611, 0.6745, 0.5393, 0.0592, 0.5481, 0.0131, 0.1699, 0.7739, 0.0231, 0.1339, 0.0199, 0.0111, 0.0266, 0.0263, 0.1944, 0.0864, 0.0231, 0.1675, 0.1013, 0.1583, 0.0194, 0.6016, 0.041, 0.069, 0.5393, 0.2056, 0.071, 0.0131, 0.0347, 0.567, 0.5548, 0.1106, 0.4907, 0.6548, 0.0334, 0.1119, 0.0309, 0.9086, 0.56, 0.0653, 0.0311, 0.5656, 0.0165, 0.1411, 0.5338, 0.0343, 0.0172, 0.7365, 0.5786, 0.9687, 0.5569, 0.1484, 0.5533, 0.0254, 0.6511, 0.1107, 0.8879, 0.0326, 0.5084, 0.856, 0.6892, 0.0198, 0.0693, 0.03, 0.5558, 0.0441, 0.626, 0.7969, 0.0241, 0.8035, 0.4974, 0.0457, 0.0172, 0.0229, 0.5127, 0.0099, 0.0743, 0.0494, 0.1888, 0.651, 0.0497, 0.1046, 0.5838, 0.6132, 0.0404, 0.0783, 0.0202, 0.0142, 0.1831, 0.222, 0.6151, 0.0651, 0.5323, 0.5002, 0.8216, 0.9977, 0.5206, 0.5679, 0.151, 0.0508, 0.1058, 0.0394, 0.9739, 0.2467, 0.5537, 0.5088, 0.577, 0.1935, 0.178, 0.2317, 0.1169, 0.1173, 0.2228, 0.1138, 0.0991, 0.0807, 0.5414, 0.0214, 0.5331, 0.5708, 0.0438, 0.0449, 0.0192, 0.5542, 0.5107, 0.0229, 0.6549, 0.7729, 0.5372, 0.0253, 0.0218, 0.6, 0.5867, 0.7878, 0.0322, 0.0554, 0.9188, 0.5207, 0.9813, 0.0323, 0.0164, 0.215, 0.141, 0.192, 0.8124, 0.9945, 0.0804, 0.0575, 0.7778, 0.2189, 0.0519, 0.6083, 0.0294, 0.0658, 0.1496, 0.5186, 0.6123, 0.5316, 0.0172, 0.1265, 0.0227, 0.0359, 0.9969, 0.936, 0.716, 0.193, 0.5556, 0.1206, 0.796, 0.1351, 0.5506, 0.0335, 0.0289, 0.829, 0.0674, 0.0214, 0.094, 0.011, 0.0238, 0.0527, 0.5245, 0.0749, 0.0426, 0.5256, 0.5804, 0.0476, 0.5311, 0.8823, 0.5468, 0.2228, 0.0288, 0.9697, 0.2181, 0.1732, 0.6062, 0.8901, 0.6444, 0.5233, 0.5054, 0.7816, 0.5205, 0.1213, 0.6395, 0.5736, 0.0165, 0.0199, 0.0285, 0.0294, 0.2256, 0.0442, 0.9482, 0.5262, 0.028, 0.0134, 0.6517, 0.0253, 0.2114, 0.5694, 0.2212, 0.2314, 0.9323, 0.8882, 0.0221, 0.0129, 0.032, 0.2116, 0.0892, 0.0468, 0.7953, 0.0486, 0.6679, 0.1979, 0.2391, 0.1108, 0.6503, 0.1076, 0.0157, 0.0198, 0.0143, 0.0135, 0.1008, 0.1586, 0.5616, 0.6544, 0.016, 0.0579, 0.619, 0.9659, 0.5116, 0.5451, 0.0566, 0.0437, 0.5757, 0.037, 0.0739, 0.9532, 0.6485, 0.612, 0.0329, 0.0345, 0.0579, 0.1481, 0.034, 0.7687, 0.6198, 0.5603, 0.08, 0.5437, 0.0224, 0.0226, 0.564, 0.0151, 0.0168, 0.2374, 0.0271, 0.0144, 0.0965, 0.5186, 0.1049, 0.5209, 0.0957, 0.5285, 0.0112, 0.5831, 0.9419, 0.2131, 0.5738, 0.6634, 0.0934, 0.0302, 0.0501, 0.5252, 0.0242, 0.6302, 0.5555, 0.6382, 0.0329, 0.0342, 0.6098, 0.6834, 0.0226, 0.519, 0.517, 0.9885, 0.1679, 0.6382, 0.8308, 0.8233, 0.028, 0.1273, 0.1604, 0.5059, 0.6523, 0.0191, 0.9831, 0.1037, 0.0299, 0.0867, 0.574, 0.1182, 0.1094, 0.5461, 0.0732, 0.0425, 0.6496, 0.0112, 0.1089, 0.0775, 0.263, 0.5671, 0.584, 0.8697, 0.0446, 0.5661, 0.0218, 0.1965, 0.1628, 0.0671, 0.7703, 0.5876, 0.1917, 0.0189, 0.0215, 0.0498, 0.0308, 0.9918, 0.5485, 0.1027, 0.1203, 0.0246, 0.109, 0.1096, 0.0437, 0.2381, 0.0732, 0.5383, 0.0137, 0.5745, 0.0282, 0.0142, 0.6287, 0.6163, 0.1027, 0.0577, 0.0269, 0.0498, 0.6083, 0.0366, 0.1906, 0.0899, 0.0183, 0.0581, 0.5886, 0.0946, 0.6321, 0.8425, 0.1268, 0.6641, 0.1484, 0.6401, 0.5292, 0.0532, 0.6204, 0.2101, 0.1065, 0.1248, 0.6777, 0.5054, 0.1181, 0.2391, 0.0132, 0.2079, 0.1672, 0.0459, 0.1902, 0.0376, 0.6083, 0.028, 0.5953, 0.0704, 0.5169, 0.0922, 0.039, 0.0155, 0.0922, 0.1472, 0.5849, 0.1807, 0.028, 0.0218, 0.0314, 0.5661, 0.0588, 0.1281, 0.124, 0.5164, 0.0516, 0.5642, 0.0733, 0.1063, 0.0137, 0.4713, 0.0502, 0.0821, 0.0826, 0.0342, 0.6162, 0.0356, 0.0137, 0.6391, 0.7869, 0.8594, 0.0528, 0.0634, 0.0999, 0.5334, 0.0167, 0.0138, 0.5184, 0.0368, 0.0239, 0.5887, 0.5873, 0.1053, 0.0304, 0.0419, 0.7168, 0.5347, 0.026, 0.0466, 0.1159, 0.174, 0.9626, 0.662, 0.5497, 0.1886, 0.0133, 0.0131, 0.6653, 0.6787, 0.0354, 0.5701, 0.0181, 0.2223, 0.4778, 0.7899, 0.9631, 0.184, 0.5351, 0.1148, 0.9941, 0.026, 0.0335, 0.5211, 0.0219, 0.1722, 0.5337, 0.0393, 0.0241, 0.5925, 0.0476, 0.098, 0.5376, 0.0516, 0.5803, 0.0331, 0.023, 0.6666, 0.0886, 0.2033, 0.8669, 0.1785, 0.5075, 0.0201, 0.0617, 0.0316, 0.5571, 0.0166, 0.0569, 0.0413, 0.0192, 0.5224, 0.0596, 0.7478, 0.0689, 0.1049, 0.948, 0.5386, 0.5923, 0.0428, 0.9149, 0.8789, 0.1428, 0.0343, 0.1772, 0.5825, 0.015, 0.2079, 0.6333, 0.1895, 0.6284, 0.0191, 0.0155, 0.6696, 0.0128, 0.0978, 0.1026, 0.1449, 0.0135, 0.6163, 0.5696, 0.0136, 0.107, 0.6482, 0.583, 0.6614, 0.1238, 0.5163, 0.1894, 0.0198, 0.6666, 0.1305, 0.0226, 0.1554, 0.0878, 0.0332, 0.1641, 0.56, 0.1656, 0.0728, 0.926, 0.56, 0.0309, 0.0156, 0.0765, 0.0455, 0.5257, 0.0169, 0.117, 0.5888, 0.1745, 0.011, 0.5324, 0.0256, 0.0712, 0.199, 0.033, 0.0239, 0.2192, 0.0742, 0.5781, 0.6993, 0.1995, 0.1843, 0.142, 0.0138, 0.6238, 0.532, 0.2249, 0.5867, 0.1468, 0.0115, 0.2397, 0.1171, 0.074, 0.1901, 0.0936, 0.614, 0.088, 0.0569, 0.0794, 0.1154, 0.016, 0.9583, 0.2026, 0.622, 0.1357, 0.5032, 0.5874, 0.1352, 0.5938, 0.5259, 0.5123, 0.604, 0.5349, 0.0934, 0.0257, 0.0165, 0.069, 0.1273, 0.5069, 0.0807, 0.2149, 0.0766, 0.0467, 0.0382, 0.1784, 0.6096, 0.0236, 0.5206, 0.9614, 0.0429, 0.5371, 0.0864, 0.0678, 0.1015, 0.6704, 0.0133, 0.9088, 0.1994, 0.0744, 0.6489, 0.7767, 0.0264, 0.0137, 0.7451, 0.5863, 0.6787, 0.1996, 0.2292, 0.581, 0.6159, 0.5102, 0.0202, 0.7054, 0.0183, 0.5123, 0.0204, 0.8072, 0.0526, 0.2106, 0.1747, 0.0164, 0.1685, 0.5554, 0.1366, 0.0243, 0.6765, 0.1158, 0.1611, 0.5948, 0.0318, 0.1204, 0.5279, 0.0543, 0.0251, 0.1634, 0.5814, 0.1526, 0.6431, 0.2142, 0.157, 0.0146, 0.5123, 0.5427, 0.0139, 0.5117, 0.5467, 0.9042, 0.0418, 0.8291, 0.0552, 0.0369, 0.0117, 0.9509, 0.5744, 0.0127, 0.0822, 0.0104, 0.058, 0.1558, 0.5829, 0.5103, 0.0741, 0.9862, 0.0216, 0.1172, 0.7928, 0.0117, 0.1284, 0.5364, 0.221, 0.1954, 0.1743, 0.5339, 0.6864, 0.6735, 0.5605, 0.1694, 0.1453, 0.0599, 0.0114, 0.0273, 0.0415, 0.7378, 0.1536, 0.2121, 0.0631, 0.6035, 0.0437, 0.0594, 0.8731, 0.6914, 0.6312, 0.5552, 0.1738, 0.0139, 0.1137, 0.0376, 0.9001, 0.017, 0.0449, 0.1959, 0.5821, 0.0226, 0.0101, 0.1215, 0.5696, 0.8116, 0.5386, 0.0531, 0.1516, 0.2398, 0.8172, 0.0368, 0.2231, 0.65, 0.6374, 0.095, 0.9155, 0.0293, 0.0898, 0.8301, 0.1332, 0.0137, 0.5579, 0.106, 0.0283, 0.6046, 0.033, 0.1744, 0.0259, 0.1364, 0.0128, 0.039, 0.0637, 0.0702, 0.054, 0.0451, 0.0412, 0.0644, 0.0418, 0.0156, 0.0357, 0.0412, 0.0199, 0.0112, 0.2395, 0.9802, 0.1508, 0.0182, 0.0124, 0.6495, 0.7105, 0.0818, 0.6681, 0.6722, 0.0724, 0.5752, 0.0658, 0.0137, 0.8188, 0.1487, 0.5662, 0.2161, 0.5339, 0.1646, 0.0249, 0.633, 0.0724, 0.0337, 0.5145, 0.5065, 0.5982, 0.1087, 0.7696, 0.5749, 0.0849, 0.042, 0.102, 0.5342, 0.0334, 0.0136, 0.5651, 0.1733, 0.1782, 0.0134, 0.0737, 0.5549, 0.1656, 0.8457, 0.033, 0.8669, 0.0485, 0.9782, 0.0116, 0.0338, 0.1362, 0.9457, 0.892, 0.0136, 0.0356, 0.018, 0.1414, 0.5496, 0.0125, 0.9888, 0.8104, 0.664, 0.5087, 0.6169, 0.1351, 0.5987, 0.1955, 0.0482, 0.1099, 0.5419, 0.5396, 0.0336, 0.5016, 0.247, 0.0119, 0.0678, 0.0124, 0.6535, 0.5802, 0.0573, 0.6576, 0.0631, 0.1239, 0.5497, 0.0356, 0.5381, 0.0594, 0.0127, 0.7204, 0.0706, 0.0552, 0.1007, 0.5222, 0.5196, 0.0138, 0.1967, 0.6881, 0.0214, 0.5433, 0.0562, 0.0401, 0.211, 0.1428, 0.1555, 0.0123, 0.1474, 0.0369, 0.5233, 0.1273, 0.016, 0.021, 0.242, 0.5852, 0.9503, 0.02, 0.0651, 0.0245, 0.6156, 0.1254, 0.1538, 0.0755, 0.5901, 0.1491, 0.0337, 0.019, 0.5087, 0.1389, 0.0184, 0.0279, 0.5523, 0.6208, 0.1029, 0.0283, 0.0116, 0.5565, 0.1048, 0.2184, 0.0748, 0.5871, 0.0636, 0.2361, 0.0533, 0.5051, 0.0788, 0.0566, 0.6981, 0.9435, 0.0654, 0.5286, 0.1263, 0.0201, 0.0293, 0.2145, 0.1642, 0.5484, 0.5274, 0.5118, 0.0209, 0.1222, 0.7274, 0.985, 0.0851, 0.0739, 0.02, 0.584, 0.0175, 0.0425, 0.8565, 0.0303, 0.1025, 0.5258, 0.7997, 0.0643, 0.018, 0.1146, 0.0391, 0.6013, 0.5544, 0.7231, 0.1652, 0.1547, 0.0221, 0.0971, 0.0118, 0.6952, 0.5085, 0.0236, 0.5069, 0.0657, 0.6455, 0.4933, 0.9246, 0.0387, 0.7207, 0.58, 0.1111, 0.0301, 0.228, 0.0521, 0.1084, 0.7829, 0.0523, 0.0112, 0.1563, 0.2393, 0.0566, 0.0245, 0.6537, 0.234, 0.1, 0.014, 0.2103, 0.0752, 0.6391, 0.574, 0.0485, 0.5716, 0.4907, 0.6016, 0.0162, 0.0995, 0.0332, 0.0183, 0.0207, 0.081, 0.1249, 0.7673, 0.06, 0.0616, 0.0265, 0.931, 0.0441, 0.84, 0.0351, 0.0512, 0.098, 0.7972, 0.5534, 0.5414, 0.9556, 0.032, 0.6205, 0.5237, 0.0901, 0.1094, 0.7968, 0.011, 0.0962, 0.523, 0.0245, 0.5428, 0.1, 0.2499, 0.6342, 0.0206, 0.7064, 0.0315, 0.5673, 0.1692, 0.549, 0.8146, 0.0228, 0.0195, 0.0169, 0.8424, 0.9659, 0.0221, 0.0129, 0.0128, 0.0231, 0.0414, 0.033, 0.0569, 0.6591, 0.0363, 0.0106, 0.7838, 0.875, 0.1165, 0.0504, 0.7635, 0.0207, 0.1585, 0.0192, 0.1149, 0.0144, 0.5532, 0.5742, 0.0795, 0.483, 0.0176, 0.5676, 0.1489, 0.0123, 0.8046, 0.0613, 0.606, 0.5902, 0.188, 0.0679, 0.9249, 0.0606, 0.0597, 0.5909, 0.0279, 0.485, 0.5786, 0.1994, 0.0267, 0.541, 0.018, 0.2665, 0.014, 0.6386, 0.6124, 0.6173, 0.0569, 0.0159, 0.0258, 0.9694, 0.0217, 0.5136, 0.095, 0.0183, 0.128, 0.012, 0.5414, 0.076, 0.7186, 0.6035, 0.6855, 0.0379, 0.0152, 0.1895, 0.0166, 0.5942, 0.0215, 0.9396, 0.6518, 0.9096, 0.0586, 0.1145, 0.1478, 0.1191, 0.8545, 0.022, 0.0113, 0.9931, 0.1091, 0.6809, 0.6287, 0.0232, 0.5443, 0.0358, 0.7583, 0.6289, 0.1608, 0.0831, 0.5261, 0.5552, 0.0352, 0.0182, 0.6287, 0.6142, 0.555, 0.0735, 0.1375, 0.5612, 0.214, 0.725, 0.1504, 0.1697, 0.555, 0.1034, 0.0493, 0.663, 0.0128, 0.0167, 0.6124, 0.5206, 0.0159, 0.0456, 0.1917, 0.041, 0.9815, 0.0259, 0.5678, 0.0143, 0.0667, 0.0401, 0.9014, 0.9149, 0.6192, 0.0233, 0.5595, 0.0198, 0.0896, 0.5614, 0.5429, 0.879, 0.6431, 0.0224, 0.1076, 0.0858, 0.2104, 0.0343, 0.8353, 0.8501, 0.2299, 0.6419, 0.2471, 0.0302, 0.1908, 0.0515, 0.1265, 0.1912, 0.1097, 0.2451, 0.0319, 0.7077, 0.1978, 0.0511, 0.0898, 0.9549, 0.2275, 0.2178, 0.0526, 0.5301, 0.0288, 0.6428, 0.9578, 0.5846, 0.5794, 0.0288, 0.605, 0.0802, 0.0443, 0.7581, 0.1024, 0.5755, 0.0207, 0.0725, 0.6167, 0.1069, 0.0551, 0.106, 0.128, 0.0224, 0.5607, 0.2149, 0.1582, 0.5835, 0.1468, 0.244, 0.0108, 0.7957, 0.1849, 0.2544, 0.0954, 0.5452, 0.1192, 0.505, 0.1164, 0.2024, 0.189, 0.5242, 0.6093, 0.5474, 0.0135, 0.0508, 0.6353, 0.0995, 0.0133, 0.0139, 0.1108, 0.0136, 0.5093, 0.5514, 0.0157, 0.0235, 0.0158, 0.0592, 0.0536, 0.0534, 0.1582, 0.0578, 0.5176, 0.0296, 0.0199, 0.2268, 0.0356, 0.0936, 0.8115, 0.5115, 0.9044, 0.0876, 0.0264, 0.0332, 0.5521, 0.0859, 0.0197, 0.1902, 0.0192, 0.9392, 0.0148, 0.0786, 0.1793, 0.0133, 0.1896, 0.0316, 0.1043)"
   ]
  },
  {
   "cell_type": "code",
   "execution_count": 531,
   "metadata": {},
   "outputs": [],
   "source": [
    "best_auc=c(0.0243, 0.1196, 0.5226, 0.0206, 0.7544, 0.0983, 0.33, 0.3957, 0.0586, 0.0165, 0.1557, 0.1847, 0.0221, 0.982, 0.1493, 0.0211, 0.0138, 0.0753, 0.1147, 0.0192, 0.0431, 0.2642, 0.9907, 0.0152, 0.5426, 0.0383, 0.3203, 0.6167, 0.3511, 0.2041, 0.3708, 0.7552, 0.0163, 0.5078, 0.6334, 0.1548, 0.8487, 0.9277, 0.974, 0.0196, 0.0734, 0.1079, 0.0935, 0.7272, 0.1599, 0.7577, 0.1514, 0.018, 0.1296, 0.0409, 0.052, 0.0182, 0.1712, 0.2837, 0.9472, 0.532, 0.6582, 0.5614, 0.0658, 0.3586, 0.9829, 0.0107, 0.0263, 0.1141, 0.0446, 0.0303, 0.0113, 0.017, 0.8018, 0.0949, 0.7306, 0.0138, 0.0227, 0.8138, 0.0217, 0.1187, 0.5215, 0.0444, 0.3481, 0.044, 0.9588, 0.0367, 0.0104, 0.6275, 0.1356, 0.1807, 0.0136, 0.0586, 0.926, 0.205, 0.0403, 0.0323, 0.0699, 0.8609, 0.0983, 0.2023, 0.0546, 0.0485, 0.3442, 0.6178, 0.7175, 0.0233, 0.5565, 0.2827, 0.3457, 0.5091, 0.0348, 0.2179, 0.1184, 0.0554, 0.0295, 0.7963, 0.0486, 0.5122, 0.1848, 0.0131, 0.0105, 0.2348, 0.034, 0.0231, 0.0325, 0.0329, 0.0192, 0.061, 0.072, 0.0166, 0.0229, 0.2285, 0.6949, 0.0278, 0.5458, 0.2275, 0.1644, 0.1936, 0.315, 0.501, 0.0401, 0.5029, 0.052, 0.5196, 0.282, 0.1779, 0.2635, 0.5808, 0.3069, 0.1239, 0.571, 0.133, 0.1265, 0.063, 0.0291, 0.2505, 0.1061, 0.066, 0.0159, 0.1255, 0.018, 0.5487, 0.1738, 0.8824, 0.0665, 0.0589, 0.0263, 0.0916, 0.0204, 0.5521, 0.0423, 0.5106, 0.0165, 0.0895, 0.6923, 0.1828, 0.3651, 0.0217, 0.3311, 0.0154, 0.2063, 0.27, 0.5023, 0.955, 0.7672, 0.6778, 0.3526, 0.0134, 0.8034, 0.0192, 0.0128, 0.0927, 0.1276, 0.1346, 0.015, 0.5521, 0.5963, 0.1309, 0.0169, 0.0154, 0.0446, 0.0363, 0.0201, 0.7582, 0.5025, 0.0511, 0.0505, 0.5134, 0.2181, 0.5797, 0.0294, 0.8992, 0.0406, 0.7363, 0.0604, 0.0129, 0.0681, 0.5638, 0.1385, 0.666, 0.0886, 0.032, 0.0139, 0.0577, 0.0762, 0.017, 0.2504, 0.5671, 0.0557, 0.0313, 0.0921, 0.8503, 0.2882, 0.0153, 0.9164, 0.022, 0.4968, 0.0383, 0.0157, 0.0518, 0.5644, 0.0598, 0.6004, 0.565, 0.0467, 0.0324, 0.0228, 0.0479, 0.0326, 0.0249, 0.7086, 0.6566, 0.7318, 0.0141, 0.0385, 0.8998, 0.6239, 0.2565, 0.0242, 0.5025, 0.8155, 0.1809, 0.0335, 0.0495, 0.5327, 0.1493, 0.0431, 0.2805, 0.5664, 0.3821, 0.0252, 0.0783, 0.0584, 0.077, 0.2455, 0.1341, 0.1593, 0.1352, 0.0249, 0.1487, 0.5188, 0.0368, 0.1742, 0.1291, 0.1999, 0.0572, 0.1794, 0.1083, 0.5034, 0.2107, 0.0568, 0.3275, 0.5654, 0.2921, 0.2483, 0.0522, 0.2308, 0.2944, 0.2483, 0.9815, 0.6955, 0.0662, 0.0149, 0.0208, 0.7184, 0.0241, 0.0264, 0.0111, 0.037, 0.0492, 0.0694, 0.1461, 0.0468, 0.0187, 0.107, 0.3337, 0.5644, 0.0391, 0.0241, 0.7871, 0.1357, 0.1248, 0.6194, 0.5074, 0.0181, 0.0973, 0.0259, 0.1761, 0.1715, 0.346, 0.6798, 0.5246, 0.042, 0.192, 0.3469, 0.1401, 0.8642, 0.5103, 0.6676, 0.0953, 0.2866, 0.9113, 0.0162, 0.0563, 0.0791, 0.0512, 0.079, 0.1151, 0.2766, 0.0186, 0.0826, 0.1794, 0.036, 0.0557, 0.0529, 0.0222, 0.0776, 0.9399, 0.0525, 0.254, 0.9077, 0.0952, 0.1162, 0.1666, 0.0498, 0.0152, 0.0581, 0.1021, 0.5618, 0.2475, 0.6864, 0.0217, 0.0271, 0.0726, 0.918, 0.0751, 0.0167, 0.068, 0.0837, 0.8178, 0.072, 0.0337, 0.0214, 0.1887, 0.1427, 0.2791, 0.0314, 0.8311, 0.0959, 0.0518, 0.014, 0.32, 0.0891, 0.2677, 0.0235, 0.0434, 0.6646, 0.0849, 0.0596, 0.2252, 0.0248, 0.0239, 0.0199, 0.0145, 0.0303, 0.9383, 0.0676, 0.7798, 0.0347, 0.5177, 0.0502, 0.16, 0.7304, 0.0528, 0.2837, 0.0279, 0.509, 0.0162, 0.5169, 0.5172, 0.1514, 0.924, 0.5127, 0.5871, 0.1752, 0.6218, 0.014, 0.0354, 0.1029, 0.2606, 0.0717, 0.5092, 0.0653, 0.5068, 0.6335, 0.0436, 0.4571, 0.1989, 0.6221, 0.1585, 0.0183, 0.1368, 0.6878, 0.2564, 0.1074, 0.0857, 0.0901, 0.9668, 0.0805, 0.5798, 0.0142, 0.016, 0.7798, 0.0174, 0.5175, 0.1543, 0.0348, 0.8741, 0.1104, 0.0121, 0.5616, 0.327, 0.9462, 0.528, 0.0479, 0.0797, 0.1046, 0.9129, 0.0369, 0.2744, 0.1159, 0.0272, 0.0279, 0.542, 0.2482, 0.6311, 0.0514, 0.0524, 0.5, 0.0203, 0.1197, 0.9032, 0.2339, 0.0136, 0.0136, 0.0666, 0.9419, 0.068, 0.0126, 0.0595, 0.6913, 0.0388, 0.617, 0.0429, 0.6067, 0.3241, 0.6886, 0.7167, 0.0661, 0.0211, 0.8318, 0.0152, 0.8396, 0.0516, 0.049, 0.0728, 0.0144, 0.0122, 0.0652, 0.0127, 0.2808, 0.5302, 0.0886, 0.0256, 0.6174, 0.2531, 0.0372, 0.0218, 0.0154, 0.1925, 0.0213, 0.0623, 0.5402, 0.5794, 0.0174, 0.0316, 0.296, 0.014, 0.1479, 0.2231, 0.0148, 0.7466, 0.1228, 0.0122, 0.1513, 0.0147, 0.5086, 0.5829, 0.5711, 0.0152, 0.9857, 0.5627, 0.2349, 0.1065, 0.1103, 0.9613, 0.0464, 0.0481, 0.1074, 0.0417, 0.6166, 0.6419, 0.0133, 0.5621, 0.0148, 0.0491, 0.0385, 0.8784, 0.5899, 0.4891, 0.047, 0.029, 0.0199, 0.2217, 0.0348, 0.0589, 0.0339, 0.0834, 0.1789, 0.014, 0.1692, 0.0318, 0.5364, 0.2318, 0.0363, 0.2314, 0.1479, 0.2393, 0.1939, 0.3079, 0.6039, 0.1285, 0.0538, 0.0327, 0.0181, 0.0183, 0.2614, 0.2994, 0.1534, 0.5528, 0.0136, 0.0666, 0.1236, 0.0296, 0.8026, 0.1096, 0.03, 0.0107, 0.0184, 0.7884, 0.0207, 0.0305, 0.0273, 0.5433, 0.0297, 0.1931, 0.5532, 0.0314, 0.0619, 0.293, 0.9645, 0.083, 0.0664, 0.029, 0.1157, 0.5214, 0.6345, 0.0639, 0.0345, 0.6521, 0.0233, 0.1943, 0.1848, 0.9685, 0.0697, 0.5976, 0.9198, 0.8178, 0.3113, 0.197, 0.1242, 0.0143, 0.1946, 0.0818, 0.0692, 0.1196, 0.5269, 0.1667, 0.1987, 0.0153, 0.312, 0.122, 0.0147, 0.1049, 0.2032, 0.0542, 0.0146, 0.0721, 0.0421, 0.0191, 0.0657, 0.0487, 0.6532, 0.2549, 0.0598, 0.0522, 0.5792, 0.373, 0.2503, 0.1354, 0.5095, 0.6401, 0.5498, 0.12, 0.5094, 0.0143, 0.0327, 0.5454, 0.1283, 0.1399, 0.5793, 0.0217, 0.0149, 0.7542, 0.5878, 0.1182, 0.0142, 0.7403, 0.2589, 0.5305, 0.0207, 0.6253, 0.3223, 0.2221, 0.0231, 0.9495, 0.0947, 0.1554, 0.0608, 0.5368, 0.2077, 0.3265, 0.0435, 0.1807, 0.0603, 0.0505, 0.508, 0.267, 0.0295, 0.5296, 0.0467, 0.0718, 0.0275, 0.1928, 0.0657, 0.1813, 0.604, 0.0689, 0.5482, 0.7604, 0.5508, 0.0288, 0.2408, 0.0299, 0.3483, 0.9855, 0.0252, 0.0181, 0.1747, 0.3143, 0.3432, 0.7288, 0.9562, 0.0219, 0.1199, 0.3443, 0.5514, 0.0868, 0.0221, 0.0262, 0.2601, 0.5219, 0.5486, 0.0269, 0.2724, 0.5313, 0.1035, 0.1153, 0.0115, 0.1447, 0.0179, 0.6066, 0.0171, 0.0301, 0.0125, 0.0828, 0.5823, 0.101, 0.8013, 0.0335, 0.5948, 0.5406, 0.015, 0.0921, 0.0219, 0.048, 0.0665, 0.0901, 0.0405, 0.6387, 0.1021, 0.0333, 0.0254, 0.0124, 0.1289, 0.7065, 0.0959, 0.1665, 0.8604, 0.0846, 0.0133, 0.0205, 0.5038, 0.2177, 0.0268, 0.0342, 0.5755, 0.8079, 0.5436, 0.0557, 0.9442, 0.2699, 0.0484, 0.3084, 0.0804, 0.0167, 0.5015, 0.0122, 0.033, 0.3442, 0.57, 0.2843, 0.0592, 0.3566, 0.0131, 0.1699, 0.7739, 0.0231, 0.1339, 0.0199, 0.0111, 0.0266, 0.0263, 0.1944, 0.0864, 0.0231, 0.1675, 0.1013, 0.1583, 0.0194, 0.5072, 0.041, 0.069, 0.5393, 0.2056, 0.071, 0.0131, 0.0347, 0.5148, 0.5048, 0.1106, 0.2357, 0.5922, 0.0334, 0.1119, 0.0309, 0.9086, 0.51, 0.0653, 0.0311, 0.5656, 0.0165, 0.1411, 0.5338, 0.0343, 0.0172, 0.7365, 0.4918, 0.9687, 0.5069, 0.1484, 0.2922, 0.0254, 0.6511, 0.1107, 0.8879, 0.0326, 0.5084, 0.856, 0.6892, 0.0198, 0.0693, 0.03, 0.3515, 0.0441, 0.626, 0.7969, 0.0241, 0.8035, 0.2424, 0.0457, 0.0172, 0.0229, 0.5127, 0.0099, 0.0743, 0.0494, 0.1888, 0.5465, 0.0497, 0.1046, 0.305, 0.5778, 0.0404, 0.0783, 0.0202, 0.0142, 0.1831, 0.222, 0.629, 0.0651, 0.2773, 0.5002, 0.8216, 0.9977, 0.341, 0.5179, 0.151, 0.0508, 0.1058, 0.0394, 0.9739, 0.2467, 0.5537, 0.5088, 0.577, 0.1935, 0.178, 0.2317, 0.1169, 0.1173, 0.2228, 0.1138, 0.0991, 0.0807, 0.5414, 0.0214, 0.3585, 0.5708, 0.0438, 0.0449, 0.0192, 0.2992, 0.5107, 0.0229, 0.6549, 0.7729, 0.3582, 0.0253, 0.0218, 0.6, 0.5503, 0.7878, 0.0322, 0.0554, 0.9188, 0.5207, 0.9813, 0.0323, 0.0164, 0.215, 0.141, 0.192, 0.8124, 0.9945, 0.0804, 0.0575, 0.7778, 0.2189, 0.0519, 0.5038, 0.0294, 0.0658, 0.1496, 0.2636, 0.5078, 0.3766, 0.0172, 0.1265, 0.0227, 0.0359, 0.9969, 0.936, 0.716, 0.193, 0.3006, 0.1206, 0.796, 0.1351, 0.3307, 0.0335, 0.0289, 0.829, 0.0674, 0.0214, 0.094, 0.011, 0.0238, 0.0527, 0.331, 0.0749, 0.0426, 0.331, 0.5804, 0.0476, 0.2761, 0.8823, 0.3642, 0.2228, 0.0288, 0.9697, 0.2181, 0.1732, 0.6062, 0.8901, 0.6444, 0.3135, 0.5054, 0.7816, 0.2866, 0.1213, 0.5957, 0.3382, 0.0165, 0.0199, 0.0285, 0.0294, 0.2256, 0.0442, 0.9482, 0.2879, 0.028, 0.0134, 0.6517, 0.0253, 0.2114, 0.3144, 0.2212, 0.2314, 0.9323, 0.8882, 0.0221, 0.0129, 0.032, 0.2116, 0.0892, 0.0468, 0.7953, 0.0486, 0.6679, 0.1979, 0.2391, 0.1108, 0.6503, 0.1076, 0.0157, 0.0198, 0.0143, 0.0135, 0.1008, 0.1586, 0.3066, 0.6142, 0.016, 0.0579, 0.619, 0.9659, 0.2994, 0.3901, 0.0566, 0.0437, 0.5757, 0.037, 0.0739, 0.9532, 0.5761, 0.612, 0.0329, 0.0345, 0.0579, 0.1481, 0.034, 0.7687, 0.5745, 0.5603, 0.08, 0.3047, 0.0224, 0.0226, 0.409, 0.0151, 0.0168, 0.2374, 0.0271, 0.0144, 0.0965, 0.3139, 0.1049, 0.3065, 0.0957, 0.2735, 0.0112, 0.5308, 0.9419, 0.2131, 0.5738, 0.6634, 0.0934, 0.0302, 0.0501, 0.2969, 0.0242, 0.5257, 0.5555, 0.6382, 0.0329, 0.0342, 0.5302, 0.6834, 0.0226, 0.3243, 0.3392, 0.9885, 0.1679, 0.6382, 0.8308, 0.8233, 0.028, 0.1273, 0.1604, 0.2509, 0.5478, 0.0191, 0.9831, 0.1037, 0.0299, 0.0867, 0.574, 0.1182, 0.1094, 0.3247, 0.0732, 0.0425, 0.6496, 0.0112, 0.1089, 0.0775, 0.263, 0.3474, 0.5329, 0.8697, 0.0446, 0.5661, 0.0218, 0.1965, 0.1628, 0.0671, 0.7703, 0.5467, 0.1917, 0.0189, 0.0215, 0.0498, 0.0308, 0.9918, 0.2935, 0.1027, 0.1203, 0.0246, 0.109, 0.1096, 0.0437, 0.2381, 0.0732, 0.3833, 0.0137, 0.5745, 0.0282, 0.0142, 0.6287, 0.6163, 0.1027, 0.0577, 0.0269, 0.0498, 0.5124, 0.0366, 0.1906, 0.0899, 0.0183, 0.0581, 0.5686, 0.0946, 0.6321, 0.8425, 0.1268, 0.6641, 0.1484, 0.5356, 0.5292, 0.0532, 0.545, 0.2101, 0.1065, 0.1248, 0.6777, 0.3067, 0.1181, 0.2391, 0.0132, 0.2079, 0.1672, 0.0459, 0.1902, 0.0376, 0.5539, 0.028, 0.5953, 0.0704, 0.2619, 0.0922, 0.039, 0.0155, 0.0922, 0.1472, 0.5263, 0.1807, 0.028, 0.0218, 0.0314, 0.3111, 0.0588, 0.1281, 0.124, 0.2778, 0.0516, 0.3092, 0.0733, 0.1063, 0.0137, 0.2163, 0.0502, 0.0821, 0.0826, 0.0342, 0.554, 0.0356, 0.0137, 0.6391, 0.7869, 0.8594, 0.0528, 0.0634, 0.0999, 0.3293, 0.0167, 0.0138, 0.297, 0.0368, 0.0239, 0.5185, 0.5038, 0.1053, 0.0304, 0.0419, 0.7168, 0.5347, 0.026, 0.0466, 0.1159, 0.174, 0.9626, 0.662, 0.3117, 0.1886, 0.0133, 0.0131, 0.6653, 0.5742, 0.0354, 0.5239, 0.0181, 0.2223, 0.2228, 0.7899, 0.9631, 0.184, 0.2801, 0.1148, 0.9941, 0.026, 0.0335, 0.2661, 0.0219, 0.1722, 0.3308, 0.0393, 0.0241, 0.5162, 0.0476, 0.098, 0.3019, 0.0516, 0.5695, 0.0331, 0.023, 0.5621, 0.0886, 0.2033, 0.8669, 0.1785, 0.2854, 0.0201, 0.0617, 0.0316, 0.5402, 0.0166, 0.0569, 0.0413, 0.0192, 0.3518, 0.0596, 0.7478, 0.0689, 0.1049, 0.948, 0.3243, 0.5923, 0.0428, 0.9149, 0.8789, 0.1428, 0.0343, 0.1772, 0.5412, 0.015, 0.2079, 0.5288, 0.1895, 0.6284, 0.0191, 0.0155, 0.6696, 0.0128, 0.0978, 0.1026, 0.1449, 0.0135, 0.56, 0.3434, 0.0136, 0.107, 0.5437, 0.583, 0.6614, 0.1238, 0.3104, 0.1894, 0.0198, 0.5621, 0.1305, 0.0226, 0.1554, 0.0878, 0.0332, 0.1641, 0.56, 0.1656, 0.0728, 0.926, 0.2417, 0.0309, 0.0156, 0.0765, 0.0455, 0.2707, 0.0169, 0.117, 0.5262, 0.1745, 0.011, 0.2774, 0.0256, 0.0712, 0.199, 0.033, 0.0239, 0.2192, 0.0742, 0.5781, 0.6993, 0.1995, 0.1843, 0.142, 0.0138, 0.5429, 0.3411, 0.2249, 0.3642, 0.1468, 0.0115, 0.2397, 0.1171, 0.074, 0.1901, 0.0936, 0.5557, 0.088, 0.0569, 0.0794, 0.1154, 0.016, 0.9583, 0.2026, 0.5175, 0.1357, 0.2482, 0.5386, 0.1352, 0.5738, 0.2709, 0.2582, 0.5136, 0.3186, 0.0934, 0.0257, 0.0165, 0.069, 0.1273, 0.2519, 0.0807, 0.2149, 0.0766, 0.0467, 0.0382, 0.1784, 0.5237, 0.0236, 0.5206, 0.9614, 0.0429, 0.3676, 0.0864, 0.0678, 0.1015, 0.6704, 0.0133, 0.9088, 0.1994, 0.0744, 0.5444, 0.7767, 0.0264, 0.0137, 0.6406, 0.3072, 0.6787, 0.1996, 0.2292, 0.5025, 0.545, 0.2552, 0.0202, 0.7054, 0.0183, 0.2573, 0.0204, 0.8072, 0.0526, 0.2106, 0.1747, 0.0164, 0.1685, 0.4004, 0.1366, 0.0243, 0.6765, 0.1158, 0.1611, 0.5948, 0.0318, 0.1204, 0.5279, 0.0543, 0.0251, 0.1634, 0.332, 0.1526, 0.6431, 0.2142, 0.157, 0.0146, 0.2573, 0.2906, 0.0139, 0.5117, 0.2917, 0.9042, 0.0418, 0.8291, 0.0552, 0.0369, 0.0117, 0.9509, 0.4857, 0.0127, 0.0822, 0.0104, 0.058, 0.1558, 0.5151, 0.3261, 0.0741, 0.9862, 0.0216, 0.1172, 0.7928, 0.0117, 0.1284, 0.2814, 0.221, 0.1954, 0.1743, 0.5339, 0.6864, 0.6735, 0.5105, 0.1694, 0.1453, 0.0599, 0.0114, 0.0273, 0.0415, 0.7378, 0.1536, 0.2121, 0.0631, 0.5073, 0.0437, 0.0594, 0.8731, 0.6914, 0.5644, 0.3002, 0.1738, 0.0139, 0.1137, 0.0376, 0.9001, 0.017, 0.0449, 0.1959, 0.5229, 0.0226, 0.0101, 0.1215, 0.383, 0.8116, 0.3481, 0.0531, 0.1516, 0.2398, 0.8172, 0.0368, 0.2231, 0.65, 0.5663, 0.095, 0.9155, 0.0293, 0.0898, 0.8301, 0.1332, 0.0137, 0.3359, 0.106, 0.0283, 0.5738, 0.033, 0.1744, 0.0259, 0.1364, 0.0128, 0.039, 0.0637, 0.0702, 0.054, 0.0451, 0.0412, 0.0644, 0.0418, 0.0156, 0.0357, 0.0412, 0.0199, 0.0112, 0.2395, 0.9802, 0.1508, 0.0182, 0.0124, 0.5677, 0.606, 0.0818, 0.6681, 0.6722, 0.0724, 0.5752, 0.0658, 0.0137, 0.8188, 0.1487, 0.338, 0.2161, 0.3083, 0.1646, 0.0249, 0.5714, 0.0724, 0.0337, 0.2595, 0.5065, 0.5341, 0.1087, 0.7696, 0.5415, 0.0849, 0.042, 0.102, 0.3685, 0.0334, 0.0136, 0.3857, 0.1733, 0.1782, 0.0134, 0.0737, 0.2938, 0.1656, 0.8457, 0.033, 0.8669, 0.0485, 0.9782, 0.0116, 0.0338, 0.1362, 0.9457, 0.892, 0.0136, 0.0356, 0.018, 0.1414, 0.5229, 0.0125, 0.9888, 0.8104, 0.664, 0.2537, 0.6169, 0.1351, 0.5987, 0.1955, 0.0482, 0.1099, 0.2869, 0.2272, 0.0336, 0.2466, 0.247, 0.0119, 0.0678, 0.0124, 0.549, 0.5116, 0.0573, 0.6576, 0.0631, 0.1239, 0.3798, 0.0356, 0.2831, 0.0594, 0.0127, 0.7204, 0.0706, 0.0552, 0.1007, 0.2672, 0.3034, 0.0138, 0.1967, 0.6881, 0.0214, 0.3137, 0.0562, 0.0401, 0.211, 0.1428, 0.1555, 0.0123, 0.1474, 0.0369, 0.2562, 0.1273, 0.016, 0.021, 0.242, 0.5041, 0.9503, 0.02, 0.0651, 0.0245, 0.5259, 0.1254, 0.1538, 0.0755, 0.5901, 0.1491, 0.0337, 0.019, 0.2537, 0.1389, 0.0184, 0.0279, 0.5523, 0.6208, 0.1029, 0.0283, 0.0116, 0.5065, 0.1048, 0.2184, 0.0748, 0.5498, 0.0636, 0.2361, 0.0533, 0.5051, 0.0788, 0.0566, 0.6981, 0.9435, 0.0654, 0.352, 0.1263, 0.0201, 0.0293, 0.2145, 0.1642, 0.3655, 0.2724, 0.5118, 0.0209, 0.1222, 0.7274, 0.985, 0.0851, 0.0739, 0.02, 0.3307, 0.0175, 0.0425, 0.8565, 0.0303, 0.1025, 0.3416, 0.7997, 0.0643, 0.018, 0.1146, 0.0391, 0.3638, 0.5544, 0.7231, 0.1652, 0.1547, 0.0221, 0.0971, 0.0118, 0.6952, 0.2913, 0.0236, 0.3069, 0.0657, 0.6455, 0.2383, 0.9246, 0.0387, 0.7207, 0.58, 0.1111, 0.0301, 0.228, 0.0521, 0.1084, 0.7829, 0.0523, 0.0112, 0.1563, 0.2393, 0.0566, 0.0245, 0.6537, 0.234, 0.1, 0.014, 0.2103, 0.0752, 0.5534, 0.319, 0.0485, 0.3611, 0.2357, 0.6016, 0.0162, 0.0995, 0.0332, 0.0183, 0.0207, 0.081, 0.1249, 0.7673, 0.06, 0.0616, 0.0265, 0.931, 0.0441, 0.84, 0.0351, 0.0512, 0.098, 0.7972, 0.5534, 0.5414, 0.9556, 0.032, 0.6794, 0.5237, 0.0901, 0.1094, 0.7968, 0.011, 0.0962, 0.3124, 0.0245, 0.2676, 0.1, 0.2499, 0.6342, 0.0206, 0.7064, 0.0315, 0.5673, 0.1692, 0.5054, 0.8146, 0.0228, 0.0195, 0.0169, 0.8424, 0.9659, 0.0221, 0.0129, 0.0128, 0.0231, 0.0414, 0.033, 0.0569, 0.6591, 0.0363, 0.0106, 0.7838, 0.875, 0.1165, 0.0504, 0.7635, 0.0207, 0.1585, 0.0192, 0.1149, 0.0144, 0.289, 0.5301, 0.0795, 0.228, 0.0176, 0.5676, 0.1489, 0.0123, 0.8046, 0.0613, 0.606, 0.5902, 0.188, 0.0679, 0.9249, 0.0606, 0.0597, 0.3337, 0.0279, 0.23, 0.5786, 0.1994, 0.0267, 0.286, 0.018, 0.2665, 0.014, 0.5341, 0.6124, 0.5474, 0.0569, 0.0159, 0.0258, 0.9694, 0.0217, 0.3112, 0.095, 0.0183, 0.128, 0.012, 0.3345, 0.076, 0.7186, 0.5047, 0.581, 0.0379, 0.0152, 0.1895, 0.0166, 0.5675, 0.0215, 0.9396, 0.6518, 0.9096, 0.0586, 0.1145, 0.1478, 0.1191, 0.8545, 0.022, 0.0113, 0.9931, 0.1091, 0.6809, 0.5588, 0.0232, 0.2847, 0.0358, 0.6538, 0.6457, 0.1608, 0.0831, 0.288, 0.3002, 0.0352, 0.0182, 0.6287, 0.5097, 0.3425, 0.0735, 0.1375, 0.5112, 0.214, 0.725, 0.1504, 0.1697, 0.3222, 0.1034, 0.0493, 0.663, 0.0128, 0.0167, 0.5382, 0.5206, 0.0159, 0.0456, 0.1917, 0.041, 0.9815, 0.0259, 0.3516, 0.0143, 0.0667, 0.0401, 0.9014, 0.9149, 0.6192, 0.0233, 0.2641, 0.0198, 0.0896, 0.3064, 0.31, 0.879, 0.6266, 0.0224, 0.1076, 0.0858, 0.2104, 0.0343, 0.8353, 0.8501, 0.2299, 0.6517, 0.2471, 0.0302, 0.1908, 0.0515, 0.1265, 0.1912, 0.1097, 0.2451, 0.0319, 0.7077, 0.1978, 0.0511, 0.0898, 0.9549, 0.2275, 0.2178, 0.0526, 0.2751, 0.0288, 0.6428, 0.9578, 0.5846, 0.5794, 0.0288, 0.543, 0.0802, 0.0443, 0.7581, 0.1024, 0.3205, 0.0207, 0.0725, 0.5205, 0.1069, 0.0551, 0.106, 0.128, 0.0224, 0.3057, 0.2149, 0.1582, 0.5028, 0.1468, 0.244, 0.0108, 0.7957, 0.1849, 0.2544, 0.0954, 0.5452, 0.1192, 0.505, 0.1164, 0.2024, 0.189, 0.5242, 0.5848, 0.2924, 0.0135, 0.0508, 0.6353, 0.0995, 0.0133, 0.0139, 0.1108, 0.0136, 0.3254, 0.3655, 0.0157, 0.0235, 0.0158, 0.0592, 0.0536, 0.0534, 0.1582, 0.0578, 0.2626, 0.0296, 0.0199, 0.2268, 0.0356, 0.0936, 0.8115, 0.2477, 0.9044, 0.0876, 0.0264, 0.0332, 0.2559, 0.0859, 0.0197, 0.1902, 0.0192, 0.9392, 0.0148, 0.0786, 0.1793, 0.0133, 0.1896, 0.0316, 0.1043)"
   ]
  },
  {
   "cell_type": "code",
   "execution_count": 532,
   "metadata": {},
   "outputs": [],
   "source": [
    "last_num=(pred_xgb+pred_rf)/2"
   ]
  },
  {
   "cell_type": "code",
   "execution_count": 533,
   "metadata": {},
   "outputs": [],
   "source": [
    "xgb_binary=ifelse(pred_xgb<0.5,0,1)"
   ]
  },
  {
   "cell_type": "code",
   "execution_count": 534,
   "metadata": {},
   "outputs": [],
   "source": [
    "best_score_binary=ifelse(best_score<0.5,0,1)\n",
    "best_auc_binary=ifelse(best_auc<0.5,0,1)\n",
    "last_num_binary=ifelse(last_num<0.5,0,1)"
   ]
  },
  {
   "cell_type": "code",
   "execution_count": 535,
   "metadata": {},
   "outputs": [],
   "source": [
    "all_data=data.table(best_score_num=best_score,\n",
    "                    best_auc_num=best_auc,\n",
    "                    last_num_before=last_num,\n",
    "                    best_score_binary=best_score_binary,\n",
    "                    best_auc_binary=best_auc_binary,\n",
    "                    last_num_binary=last_num_binary)"
   ]
  },
  {
   "cell_type": "code",
   "execution_count": 536,
   "metadata": {},
   "outputs": [
    {
     "data": {
      "text/plain": [
       "                 last_num_binary\n",
       "best_score_binary    0    1\n",
       "                0 1313    0\n",
       "                1  423  337"
      ]
     },
     "metadata": {},
     "output_type": "display_data"
    }
   ],
   "source": [
    "table(best_score_binary,last_num_binary)"
   ]
  },
  {
   "cell_type": "code",
   "execution_count": 537,
   "metadata": {},
   "outputs": [
    {
     "data": {
      "text/plain": [
       "best_score_binary\n",
       "   0    1 \n",
       "1313  760 "
      ]
     },
     "metadata": {},
     "output_type": "display_data"
    }
   ],
   "source": [
    "table(best_score_binary)"
   ]
  },
  {
   "cell_type": "code",
   "execution_count": 538,
   "metadata": {},
   "outputs": [
    {
     "data": {
      "text/plain": [
       "last_num_binary\n",
       "   0    1 \n",
       "1736  337 "
      ]
     },
     "metadata": {},
     "output_type": "display_data"
    }
   ],
   "source": [
    "table(last_num_binary)"
   ]
  },
  {
   "cell_type": "code",
   "execution_count": 539,
   "metadata": {
    "scrolled": true
   },
   "outputs": [
    {
     "data": {
      "text/html": [
       "0.837433671008201"
      ],
      "text/latex": [
       "0.837433671008201"
      ],
      "text/markdown": [
       "0.837433671008201"
      ],
      "text/plain": [
       "[1] 0.8374337"
      ]
     },
     "metadata": {},
     "output_type": "display_data"
    }
   ],
   "source": [
    "sum(last_num<0.5)/length(last_num)"
   ]
  },
  {
   "cell_type": "code",
   "execution_count": 540,
   "metadata": {},
   "outputs": [
    {
     "data": {
      "text/html": [
       "0.633381572600097"
      ],
      "text/latex": [
       "0.633381572600097"
      ],
      "text/markdown": [
       "0.633381572600097"
      ],
      "text/plain": [
       "[1] 0.6333816"
      ]
     },
     "metadata": {},
     "output_type": "display_data"
    }
   ],
   "source": [
    "sum(best_score<0.5)/length(best_score)"
   ]
  },
  {
   "cell_type": "code",
   "execution_count": 541,
   "metadata": {},
   "outputs": [],
   "source": [
    "manys=0\n",
    "for(i in 1:length(last_num)){\n",
    "    if(last_num[i]<=0.5){\n",
    "        count=0\n",
    "        sum=0\n",
    "        if(pred_rf[i]>0.35){\n",
    "            sum=pred_rf[i]+sum+0.155\n",
    "            count=count+1\n",
    "        }\n",
    "        if(pred_gbm[i]>0.35){\n",
    "            sum=pred_gbm[i]+sum+0.155\n",
    "            count=count+1\n",
    "        }\n",
    "        if(pred_xgb[i]>0.35){\n",
    "            sum=pred_xgb[i]+sum+0.155\n",
    "            count=count+1\n",
    "        }\n",
    "        else if((pred_rf[i]>0.24&pred_gbm[i]>0.24)|\n",
    "                (pred_gbm[i]>0.24&pred_xgb[i]>0.24)|\n",
    "                (pred_rf[i]>0.24&pred_xgb[i]>0.24)){\n",
    "            last_num[i]=best_score[i]\n",
    "            manys=manys+1\n",
    "            #count=count+1\n",
    "        }        \n",
    "        \n",
    "        if(count>0){\n",
    "            manys=manys+(count/count)\n",
    "            last_num[i]=sum/count\n",
    "        }    \n",
    "    }\n",
    "}"
   ]
  },
  {
   "cell_type": "code",
   "execution_count": 542,
   "metadata": {},
   "outputs": [
    {
     "data": {
      "text/html": [
       "0.650265315967197"
      ],
      "text/latex": [
       "0.650265315967197"
      ],
      "text/markdown": [
       "0.650265315967197"
      ],
      "text/plain": [
       "[1] 0.6502653"
      ]
     },
     "metadata": {},
     "output_type": "display_data"
    }
   ],
   "source": [
    "sum(last_num<0.5)/length(last_num)"
   ]
  },
  {
   "cell_type": "code",
   "execution_count": 543,
   "metadata": {},
   "outputs": [],
   "source": [
    "best_score_binary=ifelse(best_score<0.5,0,1)\n",
    "best_auc_binary=ifelse(best_auc<0.5,0,1)\n",
    "last_num_binary=ifelse(last_num<0.5,0,1)"
   ]
  },
  {
   "cell_type": "code",
   "execution_count": 544,
   "metadata": {},
   "outputs": [],
   "source": [
    "all_data=data.table(best_score_num=best_score,\n",
    "                    best_auc_num=best_auc,\n",
    "                    last_num_before=last_num,\n",
    "                    best_score_binary=best_score_binary,\n",
    "                    best_auc_binary=best_auc_binary,\n",
    "                    last_num_binary=last_num_binary)"
   ]
  },
  {
   "cell_type": "code",
   "execution_count": 545,
   "metadata": {},
   "outputs": [
    {
     "data": {
      "text/plain": [
       "                 last_num_binary\n",
       "best_score_binary    0    1\n",
       "                0 1304    9\n",
       "                1   44  716"
      ]
     },
     "metadata": {},
     "output_type": "display_data"
    }
   ],
   "source": [
    "table(best_score_binary,last_num_binary)"
   ]
  },
  {
   "cell_type": "code",
   "execution_count": 546,
   "metadata": {},
   "outputs": [],
   "source": [
    "all_data[best_auc_binary==last_num_binary,last_num_before:=best_auc_num]"
   ]
  },
  {
   "cell_type": "code",
   "execution_count": 547,
   "metadata": {},
   "outputs": [],
   "source": [
    "all_data[last_num_binary==0&best_score_binary==1&best_auc_num>0.3,last_num_before:=best_auc_num]\n",
    "all_data[,last_num_binary:=ifelse(last_num_before<0.5,0,1)]"
   ]
  },
  {
   "cell_type": "code",
   "execution_count": 548,
   "metadata": {},
   "outputs": [
    {
     "data": {
      "text/plain": [
       "   \n",
       "       0    1\n",
       "  0 1304    9\n",
       "  1   44  716"
      ]
     },
     "metadata": {},
     "output_type": "display_data"
    }
   ],
   "source": [
    "table(all_data$best_score_binary,all_data$last_num_binary)"
   ]
  },
  {
   "cell_type": "code",
   "execution_count": 554,
   "metadata": {},
   "outputs": [
    {
     "data": {
      "text/html": [
       "7"
      ],
      "text/latex": [
       "7"
      ],
      "text/markdown": [
       "7"
      ],
      "text/plain": [
       "[1] 7"
      ]
     },
     "metadata": {},
     "output_type": "display_data"
    }
   ],
   "source": [
    "all_data[best_score_binary==1&last_num_binary==0&last_num_before>0.31,.N]"
   ]
  },
  {
   "cell_type": "code",
   "execution_count": 555,
   "metadata": {},
   "outputs": [],
   "source": [
    "all_data[best_score_binary==1&last_num_binary==0&last_num_before>0.31,last_num_before:=0.505]\n",
    "all_data[,last_num_binary:=ifelse(last_num_before<0.5,0,1)]"
   ]
  },
  {
   "cell_type": "code",
   "execution_count": 556,
   "metadata": {},
   "outputs": [
    {
     "data": {
      "text/plain": [
       "   \n",
       "       0    1\n",
       "  0 1304    9\n",
       "  1   37  723"
      ]
     },
     "metadata": {},
     "output_type": "display_data"
    }
   ],
   "source": [
    "table(all_data$best_score_binary,all_data$last_num_binary)"
   ]
  },
  {
   "cell_type": "code",
   "execution_count": 557,
   "metadata": {},
   "outputs": [],
   "source": [
    "last_num=all_data$last_num_before"
   ]
  },
  {
   "cell_type": "code",
   "execution_count": 558,
   "metadata": {},
   "outputs": [
    {
     "data": {
      "text/html": [
       "0.646888567293777"
      ],
      "text/latex": [
       "0.646888567293777"
      ],
      "text/markdown": [
       "0.646888567293777"
      ],
      "text/plain": [
       "[1] 0.6468886"
      ]
     },
     "metadata": {},
     "output_type": "display_data"
    }
   ],
   "source": [
    "sum(last_num<0.5)/length(last_num)"
   ]
  },
  {
   "cell_type": "markdown",
   "metadata": {},
   "source": [
    "# Submission"
   ]
  },
  {
   "cell_type": "code",
   "execution_count": 559,
   "metadata": {
    "scrolled": false
   },
   "outputs": [
    {
     "name": "stdout",
     "output_type": "stream",
     "text": [
      "[1] \"Format OK\"\n",
      "$submission\n",
      "[0.0243,0.1196,0.5226,0.0206,0.7544,0.0983,0.5166,0.5515,0.0586,0.0165,0.1557,0.1847,0.0221,0.982,0.1493,0.0211,0.0138,0.0753,0.1147,0.0192,0.0431,0.5192,0.9907,0.0152,0.5426,0.0383,0.5384,0.6167,0.5084,0.2041,0.6141,0.7552,0.0163,0.5078,0.6334,0.1548,0.8487,0.9277,0.974,0.0196,0.0734,0.1079,0.0935,0.7272,0.1599,0.7577,0.1514,0.018,0.1296,0.0409,0.052,0.0182,0.1712,0.5387,0.9472,0.532,0.6582,0.5614,0.0658,0.5153,0.9829,0.0107,0.0263,0.1141,0.0446,0.0303,0.0113,0.017,0.8018,0.0949,0.7306,0.0138,0.0227,0.8138,0.0217,0.1187,0.5215,0.0444,0.615,0.044,0.9588,0.0367,0.0104,0.6275,0.1356,0.1807,0.0136,0.0586,0.926,0.205,0.0403,0.0323,0.0699,0.8609,0.0983,0.2023,0.0546,0.0485,0.5135,0.6178,0.7175,0.0233,0.5565,0.6044,0.5072,0.5091,0.0348,0.6085,0.1184,0.0554,0.0295,0.7963,0.0486,0.5122,0.1848,0.0131,0.0105,0.2348,0.034,0.0231,0.0325,0.0329,0.0192,0.061,0.072,0.0166,0.0229,0.2285,0.6949,0.0278,0.5458,0.2275,0.1644,0.1936,0.505,0.501,0.0401,0.5029,0.052,0.5196,0.282,0.1779,0.5185,0.5808,0.5214,0.1239,0.571,0.133,0.1265,0.063,0.0291,0.2505,0.1061,0.066,0.0159,0.1255,0.018,0.5487,0.1738,0.8824,0.0665,0.0589,0.0263,0.0916,0.0204,0.5521,0.0423,0.5106,0.0165,0.0895,0.6923,0.1828,0.5225,0.0217,0.518,0.0154,0.2063,0.27,0.5023,0.955,0.7672,0.6778,0.5733,0.0134,0.8034,0.0192,0.0128,0.0927,0.1276,0.1346,0.015,0.5521,0.5963,0.1309,0.0169,0.0154,0.0446,0.0363,0.0201,0.7582,0.5025,0.0511,0.0505,0.5134,0.2181,0.5797,0.0294,0.8992,0.0406,0.7363,0.0604,0.0129,0.0681,0.5638,0.1385,0.666,0.0886,0.032,0.0139,0.0577,0.0762,0.017,0.2504,0.5671,0.0557,0.0313,0.0921,0.8503,0.5432,0.0153,0.9164,0.022,0.5252,0.0383,0.0157,0.0518,0.5644,0.0598,0.6004,0.565,0.0467,0.0324,0.0228,0.0479,0.0326,0.0249,0.7086,0.6566,0.7318,0.0141,0.0385,0.8998,0.6239,0.2565,0.0242,0.5025,0.8155,0.1809,0.0335,0.0495,0.5327,0.1493,0.0431,0.2805,0.5664,0.505,0.0252,0.0783,0.0584,0.077,0.2455,0.1341,0.1593,0.1352,0.0249,0.1487,0.5188,0.0368,0.1742,0.1291,0.1999,0.0572,0.1794,0.1083,0.5034,0.2107,0.0568,0.5558,0.5654,0.5233,0.2483,0.0522,0.2308,0.5494,0.5033,0.9815,0.6955,0.0662,0.0149,0.0208,0.7184,0.0241,0.0264,0.0111,0.037,0.0492,0.0694,0.1461,0.0468,0.0187,0.107,0.5526,0.5644,0.0391,0.0241,0.7871,0.1357,0.1248,0.6194,0.5074,0.0181,0.0973,0.0259,0.1761,0.1715,0.5816,0.6798,0.5246,0.042,0.192,0.5669,0.1401,0.8642,0.5103,0.6676,0.0953,0.5795,0.9113,0.0162,0.0563,0.0791,0.0512,0.079,0.1151,0.5316,0.0186,0.0826,0.1794,0.036,0.0557,0.0529,0.0222,0.0776,0.9399,0.0525,0.254,0.9077,0.0952,0.1162,0.1666,0.0498,0.0152,0.0581,0.1021,0.5618,0.2475,0.6864,0.0217,0.0271,0.0726,0.918,0.0751,0.0167,0.068,0.0837,0.8178,0.072,0.0337,0.0214,0.1887,0.1427,0.5548,0.0314,0.8311,0.0959,0.0518,0.014,0.505,0.0891,0.5334,0.0235,0.0434,0.6646,0.0849,0.0596,0.2252,0.0248,0.0239,0.0199,0.0145,0.0303,0.9383,0.0676,0.7798,0.0347,0.5177,0.0502,0.16,0.7304,0.0528,0.2837,0.0279,0.509,0.0162,0.5169,0.5172,0.1514,0.924,0.5127,0.5871,0.1752,0.6218,0.014,0.0354,0.1029,0.2606,0.0717,0.5092,0.0653,0.5068,0.6335,0.0436,0.505,0.1989,0.6221,0.1585,0.0183,0.1368,0.6878,0.2564,0.1074,0.0857,0.0901,0.9668,0.0805,0.5798,0.0142,0.016,0.7798,0.0174,0.5175,0.1543,0.0348,0.8741,0.1104,0.0121,0.5616,0.672,0.9462,0.528,0.0479,0.0797,0.1046,0.9129,0.0369,0.5294,0.1159,0.0272,0.0279,0.542,0.2482,0.6311,0.0514,0.0524,0.5,0.0203,0.1197,0.9032,0.2339,0.0136,0.0136,0.0666,0.9419,0.068,0.0126,0.0595,0.6913,0.0388,0.617,0.0429,0.6067,0.5791,0.6886,0.7167,0.0661,0.0211,0.8318,0.0152,0.8396,0.0516,0.049,0.0728,0.0144,0.0122,0.0652,0.0127,0.5358,0.5302,0.0886,0.0256,0.6174,0.2531,0.0372,0.0218,0.0154,0.1925,0.0213,0.0623,0.5402,0.5794,0.0174,0.0316,0.551,0.014,0.1479,0.2231,0.0148,0.7466,0.1228,0.0122,0.1513,0.0147,0.5086,0.5829,0.5711,0.0152,0.9857,0.5627,0.2349,0.1065,0.1103,0.9613,0.0464,0.0481,0.1074,0.0417,0.6166,0.6419,0.0133,0.5621,0.0148,0.0491,0.0385,0.8784,0.5899,0.559,0.047,0.029,0.0199,0.2217,0.0348,0.0589,0.0339,0.0834,0.1789,0.014,0.1692,0.0318,0.5364,0.2318,0.0363,0.2314,0.1479,0.2393,0.1939,0.532,0.6039,0.1285,0.0538,0.0327,0.0181,0.0183,0.5164,0.6099,0.1534,0.5528,0.0136,0.0666,0.1236,0.0296,0.8026,0.1096,0.03,0.0107,0.0184,0.7884,0.0207,0.0305,0.0273,0.5433,0.0297,0.1931,0.5532,0.0314,0.0619,0.293,0.9645,0.083,0.0664,0.029,0.1157,0.5214,0.6345,0.0639,0.0345,0.6521,0.0233,0.1943,0.1848,0.9685,0.0697,0.5976,0.9198,0.8178,0.5236,0.197,0.1242,0.0143,0.1946,0.0818,0.0692,0.1196,0.5269,0.1667,0.1987,0.0153,0.567,0.122,0.0147,0.1049,0.2032,0.0542,0.0146,0.0721,0.0421,0.0191,0.0657,0.0487,0.6532,0.2549,0.0598,0.0522,0.5792,0.5482,0.2503,0.1354,0.5095,0.6401,0.5498,0.12,0.5094,0.0143,0.0327,0.5454,0.1283,0.1399,0.5793,0.0217,0.0149,0.7542,0.5878,0.1182,0.0142,0.7403,0.5141,0.5305,0.0207,0.6253,0.5142,0.5411,0.0231,0.9495,0.0947,0.1554,0.0608,0.5368,0.2077,0.5148,0.0435,0.1807,0.0603,0.0505,0.508,0.522,0.0295,0.5296,0.0467,0.0718,0.0275,0.1928,0.0657,0.1813,0.604,0.0689,0.5482,0.7604,0.5508,0.0288,0.2408,0.0299,0.5446,0.9855,0.0252,0.0181,0.1747,0.5539,0.5511,0.7288,0.9562,0.0219,0.1199,0.5288,0.5514,0.0868,0.0221,0.0262,0.5331,0.5219,0.5486,0.0269,0.5324,0.5313,0.1035,0.1153,0.0115,0.1447,0.0179,0.6066,0.0171,0.0301,0.0125,0.0828,0.5823,0.101,0.8013,0.0335,0.5948,0.5406,0.015,0.0921,0.0219,0.048,0.0665,0.0901,0.0405,0.6387,0.1021,0.0333,0.0254,0.0124,0.1289,0.7065,0.0959,0.1665,0.8604,0.0846,0.0133,0.0205,0.5038,0.2177,0.0268,0.0342,0.5755,0.8079,0.5436,0.0557,0.9442,0.2699,0.0484,0.5262,0.0804,0.0167,0.5015,0.0122,0.033,0.5251,0.57,0.5393,0.0592,0.522,0.0131,0.1699,0.7739,0.0231,0.1339,0.0199,0.0111,0.0266,0.0263,0.1944,0.0864,0.0231,0.1675,0.1013,0.1583,0.0194,0.5072,0.041,0.069,0.5393,0.2056,0.071,0.0131,0.0347,0.5148,0.5048,0.1106,0.2357,0.5922,0.0334,0.1119,0.0309,0.9086,0.51,0.0653,0.0311,0.5656,0.0165,0.1411,0.5338,0.0343,0.0172,0.7365,0.5648,0.9687,0.5069,0.1484,0.5812,0.0254,0.6511,0.1107,0.8879,0.0326,0.5084,0.856,0.6892,0.0198,0.0693,0.03,0.6516,0.0441,0.626,0.7969,0.0241,0.8035,0.2424,0.0457,0.0172,0.0229,0.5127,0.0099,0.0743,0.0494,0.1888,0.5465,0.0497,0.1046,0.5297,0.5778,0.0404,0.0783,0.0202,0.0142,0.1831,0.222,0.629,0.0651,0.5323,0.5002,0.8216,0.9977,0.5188,0.5179,0.151,0.0508,0.1058,0.0394,0.9739,0.2467,0.5537,0.5088,0.577,0.5625,0.178,0.2317,0.1169,0.1173,0.2228,0.1138,0.0991,0.0807,0.5414,0.0214,0.548,0.5708,0.0438,0.0449,0.0192,0.5146,0.5107,0.0229,0.6549,0.7729,0.5245,0.0253,0.0218,0.6,0.5503,0.7878,0.0322,0.0554,0.9188,0.5207,0.9813,0.0323,0.0164,0.215,0.141,0.192,0.8124,0.9945,0.0804,0.0575,0.7778,0.2189,0.0519,0.5038,0.0294,0.0658,0.1496,0.2636,0.5078,0.552,0.0172,0.1265,0.0227,0.0359,0.9969,0.936,0.716,0.193,0.5556,0.1206,0.796,0.1351,0.5506,0.0335,0.0289,0.829,0.0674,0.0214,0.094,0.011,0.0238,0.0527,0.6318,0.0749,0.0426,0.5309,0.5804,0.0476,0.2761,0.8823,0.5301,0.2228,0.0288,0.9697,0.2181,0.1732,0.6062,0.8901,0.6444,0.5233,0.5054,0.7816,0.5057,0.1213,0.5957,0.539,0.0165,0.0199,0.0285,0.0294,0.2256,0.0442,0.9482,0.5301,0.028,0.0134,0.6517,0.0253,0.5309,0.5694,0.2212,0.2314,0.9323,0.8882,0.0221,0.0129,0.032,0.2116,0.0892,0.0468,0.7953,0.0486,0.6679,0.1979,0.2391,0.1108,0.6503,0.1076,0.0157,0.0198,0.0143,0.0135,0.1008,0.1586,0.5616,0.6142,0.016,0.0579,0.619,0.9659,0.5116,0.5954,0.0566,0.0437,0.5757,0.037,0.0739,0.9532,0.5761,0.612,0.0329,0.0345,0.0579,0.1481,0.034,0.7687,0.5745,0.5603,0.08,0.5437,0.0224,0.0226,0.5117,0.0151,0.0168,0.2374,0.0271,0.0144,0.0965,0.6868,0.1049,0.5209,0.0957,0.2735,0.0112,0.5308,0.9419,0.2131,0.5738,0.6634,0.0934,0.0302,0.0501,0.5252,0.0242,0.5257,0.5555,0.6382,0.0329,0.0342,0.5302,0.6834,0.0226,0.519,0.517,0.9885,0.1679,0.6382,0.8308,0.8233,0.028,0.1273,0.1604,0.2509,0.5478,0.0191,0.9831,0.1037,0.0299,0.0867,0.574,0.1182,0.1094,0.5728,0.0732,0.0425,0.6496,0.0112,0.1089,0.0775,0.263,0.5376,0.5329,0.8697,0.0446,0.5661,0.0218,0.1965,0.1628,0.0671,0.7703,0.5467,0.1917,0.0189,0.0215,0.0498,0.0308,0.9918,0.5485,0.1027,0.1203,0.0246,0.109,0.1096,0.0437,0.2381,0.0732,0.6142,0.0137,0.5745,0.0282,0.0142,0.6287,0.6163,0.1027,0.0577,0.0269,0.0498,0.5124,0.0366,0.1906,0.0899,0.0183,0.0581,0.5686,0.0946,0.6321,0.8425,0.1268,0.6641,0.1484,0.5356,0.5292,0.0532,0.545,0.2101,0.1065,0.1248,0.6777,0.5386,0.1181,0.2391,0.0132,0.2079,0.1672,0.0459,0.1902,0.0376,0.5539,0.028,0.5953,0.0704,0.2619,0.0922,0.039,0.0155,0.0922,0.1472,0.5263,0.1807,0.028,0.0218,0.0314,0.5661,0.0588,0.1281,0.124,0.2778,0.0516,0.5642,0.0733,0.1063,0.0137,0.2163,0.0502,0.0821,0.0826,0.0342,0.554,0.0356,0.0137,0.6391,0.7869,0.8594,0.0528,0.0634,0.0999,0.5334,0.0167,0.0138,0.5184,0.0368,0.0239,0.5185,0.5038,0.1053,0.0304,0.0419,0.7168,0.5347,0.026,0.0466,0.1159,0.174,0.9626,0.662,0.5497,0.5055,0.0133,0.0131,0.6653,0.5742,0.0354,0.5239,0.0181,0.2223,0.2228,0.7899,0.9631,0.184,0.2801,0.1148,0.9941,0.026,0.0335,0.5211,0.0219,0.1722,0.5337,0.0393,0.0241,0.5162,0.0476,0.098,0.5354,0.0516,0.5695,0.0331,0.023,0.5621,0.0886,0.2033,0.8669,0.1785,0.5261,0.0201,0.0617,0.0316,0.5402,0.0166,0.0569,0.0413,0.0192,0.5763,0.0596,0.7478,0.0689,0.1049,0.948,0.5272,0.5923,0.0428,0.9149,0.8789,0.1428,0.0343,0.1772,0.5412,0.015,0.2079,0.5288,0.1895,0.6284,0.0191,0.0155,0.6696,0.0128,0.0978,0.1026,0.1449,0.0135,0.56,0.5853,0.0136,0.107,0.5437,0.583,0.6614,0.1238,0.5503,0.1894,0.0198,0.5621,0.1305,0.0226,0.1554,0.0878,0.0332,0.1641,0.56,0.1656,0.0728,0.926,0.5273,0.0309,0.0156,0.0765,0.0455,0.5257,0.0169,0.117,0.5262,0.1745,0.011,0.5926,0.0256,0.0712,0.199,0.033,0.0239,0.2192,0.0742,0.5781,0.6993,0.1995,0.1843,0.142,0.0138,0.5429,0.5702,0.2249,0.559,0.1468,0.0115,0.2397,0.1171,0.074,0.1901,0.0936,0.5557,0.088,0.0569,0.0794,0.1154,0.016,0.9583,0.2026,0.5175,0.1357,0.5032,0.5386,0.1352,0.5738,0.5218,0.5245,0.5136,0.505,0.0934,0.0257,0.0165,0.069,0.1273,0.5069,0.0807,0.2149,0.0766,0.0467,0.0382,0.1784,0.5237,0.0236,0.5206,0.9614,0.0429,0.6149,0.0864,0.0678,0.1015,0.6704,0.0133,0.9088,0.1994,0.0744,0.5444,0.7767,0.0264,0.0137,0.6406,0.3072,0.6787,0.1996,0.5338,0.5025,0.545,0.2552,0.0202,0.7054,0.0183,0.5123,0.0204,0.8072,0.0526,0.2106,0.1747,0.0164,0.1685,0.5656,0.1366,0.0243,0.6765,0.1158,0.1611,0.5948,0.0318,0.1204,0.5279,0.0543,0.0251,0.1634,0.5358,0.1526,0.6431,0.5855,0.157,0.0146,0.2573,0.53,0.0139,0.5117,0.2917,0.9042,0.0418,0.8291,0.0552,0.0369,0.0117,0.9509,0.7157,0.0127,0.0822,0.0104,0.058,0.1558,0.5151,0.5201,0.0741,0.9862,0.0216,0.1172,0.7928,0.0117,0.1284,0.5364,0.221,0.1954,0.1743,0.5339,0.6864,0.6735,0.5105,0.1694,0.1453,0.0599,0.0114,0.0273,0.0415,0.7378,0.1536,0.2121,0.0631,0.5073,0.0437,0.0594,0.8731,0.6914,0.5644,0.5552,0.1738,0.0139,0.1137,0.0376,0.9001,0.017,0.0449,0.1959,0.5229,0.0226,0.0101,0.1215,0.5628,0.8116,0.6006,0.0531,0.1516,0.2398,0.8172,0.0368,0.2231,0.65,0.5663,0.095,0.9155,0.0293,0.0898,0.8301,0.1332,0.0137,0.5541,0.106,0.0283,0.5738,0.033,0.1744,0.0259,0.1364,0.0128,0.039,0.0637,0.0702,0.054,0.0451,0.0412,0.0644,0.0418,0.0156,0.0357,0.0412,0.0199,0.0112,0.2395,0.9802,0.1508,0.0182,0.0124,0.5677,0.606,0.0818,0.6681,0.6722,0.0724,0.5752,0.0658,0.0137,0.8188,0.1487,0.5594,0.2161,0.3083,0.1646,0.0249,0.5714,0.0724,0.0337,0.2595,0.5065,0.5341,0.1087,0.7696,0.5415,0.0849,0.042,0.102,0.5384,0.0334,0.0136,0.5502,0.1733,0.1782,0.0134,0.0737,0.6172,0.1656,0.8457,0.033,0.8669,0.0485,0.9782,0.0116,0.0338,0.1362,0.9457,0.892,0.0136,0.0356,0.018,0.1414,0.5229,0.0125,0.9888,0.8104,0.664,0.5087,0.6169,0.1351,0.5987,0.1955,0.0482,0.1099,0.5084,0.5714,0.0336,0.5016,0.247,0.0119,0.0678,0.0124,0.549,0.5116,0.0573,0.6576,0.0631,0.1239,0.5401,0.0356,0.5381,0.0594,0.0127,0.7204,0.0706,0.0552,0.1007,0.2672,0.3034,0.0138,0.1967,0.6881,0.0214,0.5954,0.0562,0.0401,0.211,0.1428,0.1555,0.0123,0.1474,0.0369,0.5942,0.1273,0.016,0.021,0.242,0.5041,0.9503,0.02,0.0651,0.0245,0.5259,0.1254,0.1538,0.0755,0.5901,0.1491,0.0337,0.019,0.5538,0.1389,0.0184,0.0279,0.5523,0.6208,0.1029,0.0283,0.0116,0.5065,0.1048,0.2184,0.0748,0.5498,0.0636,0.2361,0.0533,0.5051,0.0788,0.0566,0.6981,0.9435,0.0654,0.5238,0.1263,0.0201,0.0293,0.2145,0.1642,0.555,0.2724,0.5118,0.0209,0.1222,0.7274,0.985,0.0851,0.0739,0.02,0.5516,0.0175,0.0425,0.8565,0.0303,0.1025,0.5254,0.7997,0.0643,0.018,0.1146,0.0391,0.6351,0.5544,0.7231,0.1652,0.1547,0.0221,0.0971,0.0118,0.6952,0.5085,0.0236,0.3069,0.0657,0.6455,0.2383,0.9246,0.0387,0.7207,0.58,0.1111,0.0301,0.228,0.0521,0.1084,0.7829,0.0523,0.0112,0.1563,0.2393,0.0566,0.0245,0.6537,0.234,0.1,0.014,0.2103,0.0752,0.5534,0.505,0.0485,0.6848,0.2357,0.6016,0.0162,0.0995,0.0332,0.0183,0.0207,0.081,0.1249,0.7673,0.06,0.0616,0.0265,0.931,0.0441,0.84,0.0351,0.0512,0.098,0.7972,0.5534,0.5414,0.9556,0.032,0.6794,0.5237,0.0901,0.1094,0.7968,0.011,0.0962,0.505,0.0245,0.5114,0.1,0.2499,0.6342,0.0206,0.7064,0.0315,0.5673,0.1692,0.5054,0.8146,0.0228,0.0195,0.0169,0.8424,0.9659,0.0221,0.0129,0.0128,0.0231,0.0414,0.033,0.0569,0.6591,0.0363,0.0106,0.7838,0.875,0.1165,0.0504,0.7635,0.0207,0.1585,0.0192,0.1149,0.0144,0.5532,0.5301,0.0795,0.228,0.0176,0.5676,0.1489,0.0123,0.8046,0.0613,0.606,0.5902,0.188,0.0679,0.9249,0.0606,0.0597,0.5204,0.0279,0.23,0.5786,0.1994,0.0267,0.541,0.018,0.2665,0.014,0.5341,0.6124,0.5474,0.0569,0.0159,0.0258,0.9694,0.0217,0.5487,0.095,0.0183,0.128,0.012,0.5414,0.076,0.7186,0.5047,0.581,0.0379,0.0152,0.1895,0.0166,0.5675,0.0215,0.9396,0.6518,0.9096,0.0586,0.1145,0.1478,0.1191,0.8545,0.022,0.0113,0.9931,0.1091,0.6809,0.5588,0.0232,0.5833,0.0358,0.6538,0.6457,0.1608,0.0831,0.5222,0.5552,0.0352,0.0182,0.6287,0.5097,0.5516,0.0735,0.1375,0.5112,0.214,0.725,0.1504,0.1697,0.5072,0.1034,0.0493,0.663,0.0128,0.0167,0.5382,0.5206,0.0159,0.0456,0.1917,0.041,0.9815,0.0259,0.6032,0.0143,0.0667,0.0401,0.9014,0.9149,0.6192,0.0233,0.5579,0.0198,0.0896,0.3064,0.6805,0.879,0.6266,0.0224,0.1076,0.0858,0.2104,0.0343,0.8353,0.8501,0.2299,0.6517,0.2471,0.0302,0.1908,0.0515,0.1265,0.1912,0.1097,0.2451,0.0319,0.7077,0.1978,0.0511,0.0898,0.9549,0.2275,0.2178,0.0526,0.5473,0.0288,0.6428,0.9578,0.5846,0.5794,0.0288,0.543,0.0802,0.0443,0.7581,0.1024,0.5755,0.0207,0.0725,0.5205,0.1069,0.0551,0.106,0.128,0.0224,0.5607,0.2149,0.1582,0.5028,0.1468,0.244,0.0108,0.7957,0.1849,0.2544,0.0954,0.5452,0.1192,0.505,0.1164,0.2024,0.189,0.5242,0.5848,0.5474,0.0135,0.0508,0.6353,0.0995,0.0133,0.0139,0.1108,0.0136,0.547,0.5514,0.0157,0.0235,0.0158,0.0592,0.0536,0.0534,0.1582,0.0578,0.2626,0.0296,0.0199,0.2268,0.0356,0.0936,0.8115,0.2477,0.9044,0.0876,0.0264,0.0332,0.2559,0.0859,0.0197,0.1902,0.0192,0.9392,0.0148,0.0786,0.1793,0.0133,0.1896,0.0316,0.1043] \n",
      "\n",
      "[1] \"Successfully submitted. Below you can see the details of your submission\"\n",
      "$url\n",
      "[1] \"http://46.101.121.83/submission/612/\"\n",
      "\n",
      "$submission\n",
      "[1] \"[0.0243, 0.1196, 0.5226, 0.0206, 0.7544, 0.0983, 0.5166, 0.5515, 0.0586, 0.0165, 0.1557, 0.1847, 0.0221, 0.982, 0.1493, 0.0211, 0.0138, 0.0753, 0.1147, 0.0192, 0.0431, 0.5192, 0.9907, 0.0152, 0.5426, 0.0383, 0.5384, 0.6167, 0.5084, 0.2041, 0.6141, 0.7552, 0.0163, 0.5078, 0.6334, 0.1548, 0.8487, 0.9277, 0.974, 0.0196, 0.0734, 0.1079, 0.0935, 0.7272, 0.1599, 0.7577, 0.1514, 0.018, 0.1296, 0.0409, 0.052, 0.0182, 0.1712, 0.5387, 0.9472, 0.532, 0.6582, 0.5614, 0.0658, 0.5153, 0.9829, 0.0107, 0.0263, 0.1141, 0.0446, 0.0303, 0.0113, 0.017, 0.8018, 0.0949, 0.7306, 0.0138, 0.0227, 0.8138, 0.0217, 0.1187, 0.5215, 0.0444, 0.615, 0.044, 0.9588, 0.0367, 0.0104, 0.6275, 0.1356, 0.1807, 0.0136, 0.0586, 0.926, 0.205, 0.0403, 0.0323, 0.0699, 0.8609, 0.0983, 0.2023, 0.0546, 0.0485, 0.5135, 0.6178, 0.7175, 0.0233, 0.5565, 0.6044, 0.5072, 0.5091, 0.0348, 0.6085, 0.1184, 0.0554, 0.0295, 0.7963, 0.0486, 0.5122, 0.1848, 0.0131, 0.0105, 0.2348, 0.034, 0.0231, 0.0325, 0.0329, 0.0192, 0.061, 0.072, 0.0166, 0.0229, 0.2285, 0.6949, 0.0278, 0.5458, 0.2275, 0.1644, 0.1936, 0.505, 0.501, 0.0401, 0.5029, 0.052, 0.5196, 0.282, 0.1779, 0.5185, 0.5808, 0.5214, 0.1239, 0.571, 0.133, 0.1265, 0.063, 0.0291, 0.2505, 0.1061, 0.066, 0.0159, 0.1255, 0.018, 0.5487, 0.1738, 0.8824, 0.0665, 0.0589, 0.0263, 0.0916, 0.0204, 0.5521, 0.0423, 0.5106, 0.0165, 0.0895, 0.6923, 0.1828, 0.5225, 0.0217, 0.518, 0.0154, 0.2063, 0.27, 0.5023, 0.955, 0.7672, 0.6778, 0.5733, 0.0134, 0.8034, 0.0192, 0.0128, 0.0927, 0.1276, 0.1346, 0.015, 0.5521, 0.5963, 0.1309, 0.0169, 0.0154, 0.0446, 0.0363, 0.0201, 0.7582, 0.5025, 0.0511, 0.0505, 0.5134, 0.2181, 0.5797, 0.0294, 0.8992, 0.0406, 0.7363, 0.0604, 0.0129, 0.0681, 0.5638, 0.1385, 0.666, 0.0886, 0.032, 0.0139, 0.0577, 0.0762, 0.017, 0.2504, 0.5671, 0.0557, 0.0313, 0.0921, 0.8503, 0.5432, 0.0153, 0.9164, 0.022, 0.5252, 0.0383, 0.0157, 0.0518, 0.5644, 0.0598, 0.6004, 0.565, 0.0467, 0.0324, 0.0228, 0.0479, 0.0326, 0.0249, 0.7086, 0.6566, 0.7318, 0.0141, 0.0385, 0.8998, 0.6239, 0.2565, 0.0242, 0.5025, 0.8155, 0.1809, 0.0335, 0.0495, 0.5327, 0.1493, 0.0431, 0.2805, 0.5664, 0.505, 0.0252, 0.0783, 0.0584, 0.077, 0.2455, 0.1341, 0.1593, 0.1352, 0.0249, 0.1487, 0.5188, 0.0368, 0.1742, 0.1291, 0.1999, 0.0572, 0.1794, 0.1083, 0.5034, 0.2107, 0.0568, 0.5558, 0.5654, 0.5233, 0.2483, 0.0522, 0.2308, 0.5494, 0.5033, 0.9815, 0.6955, 0.0662, 0.0149, 0.0208, 0.7184, 0.0241, 0.0264, 0.0111, 0.037, 0.0492, 0.0694, 0.1461, 0.0468, 0.0187, 0.107, 0.5526, 0.5644, 0.0391, 0.0241, 0.7871, 0.1357, 0.1248, 0.6194, 0.5074, 0.0181, 0.0973, 0.0259, 0.1761, 0.1715, 0.5816, 0.6798, 0.5246, 0.042, 0.192, 0.5669, 0.1401, 0.8642, 0.5103, 0.6676, 0.0953, 0.5795, 0.9113, 0.0162, 0.0563, 0.0791, 0.0512, 0.079, 0.1151, 0.5316, 0.0186, 0.0826, 0.1794, 0.036, 0.0557, 0.0529, 0.0222, 0.0776, 0.9399, 0.0525, 0.254, 0.9077, 0.0952, 0.1162, 0.1666, 0.0498, 0.0152, 0.0581, 0.1021, 0.5618, 0.2475, 0.6864, 0.0217, 0.0271, 0.0726, 0.918, 0.0751, 0.0167, 0.068, 0.0837, 0.8178, 0.072, 0.0337, 0.0214, 0.1887, 0.1427, 0.5548, 0.0314, 0.8311, 0.0959, 0.0518, 0.014, 0.505, 0.0891, 0.5334, 0.0235, 0.0434, 0.6646, 0.0849, 0.0596, 0.2252, 0.0248, 0.0239, 0.0199, 0.0145, 0.0303, 0.9383, 0.0676, 0.7798, 0.0347, 0.5177, 0.0502, 0.16, 0.7304, 0.0528, 0.2837, 0.0279, 0.509, 0.0162, 0.5169, 0.5172, 0.1514, 0.924, 0.5127, 0.5871, 0.1752, 0.6218, 0.014, 0.0354, 0.1029, 0.2606, 0.0717, 0.5092, 0.0653, 0.5068, 0.6335, 0.0436, 0.505, 0.1989, 0.6221, 0.1585, 0.0183, 0.1368, 0.6878, 0.2564, 0.1074, 0.0857, 0.0901, 0.9668, 0.0805, 0.5798, 0.0142, 0.016, 0.7798, 0.0174, 0.5175, 0.1543, 0.0348, 0.8741, 0.1104, 0.0121, 0.5616, 0.672, 0.9462, 0.528, 0.0479, 0.0797, 0.1046, 0.9129, 0.0369, 0.5294, 0.1159, 0.0272, 0.0279, 0.542, 0.2482, 0.6311, 0.0514, 0.0524, 0.5, 0.0203, 0.1197, 0.9032, 0.2339, 0.0136, 0.0136, 0.0666, 0.9419, 0.068, 0.0126, 0.0595, 0.6913, 0.0388, 0.617, 0.0429, 0.6067, 0.5791, 0.6886, 0.7167, 0.0661, 0.0211, 0.8318, 0.0152, 0.8396, 0.0516, 0.049, 0.0728, 0.0144, 0.0122, 0.0652, 0.0127, 0.5358, 0.5302, 0.0886, 0.0256, 0.6174, 0.2531, 0.0372, 0.0218, 0.0154, 0.1925, 0.0213, 0.0623, 0.5402, 0.5794, 0.0174, 0.0316, 0.551, 0.014, 0.1479, 0.2231, 0.0148, 0.7466, 0.1228, 0.0122, 0.1513, 0.0147, 0.5086, 0.5829, 0.5711, 0.0152, 0.9857, 0.5627, 0.2349, 0.1065, 0.1103, 0.9613, 0.0464, 0.0481, 0.1074, 0.0417, 0.6166, 0.6419, 0.0133, 0.5621, 0.0148, 0.0491, 0.0385, 0.8784, 0.5899, 0.559, 0.047, 0.029, 0.0199, 0.2217, 0.0348, 0.0589, 0.0339, 0.0834, 0.1789, 0.014, 0.1692, 0.0318, 0.5364, 0.2318, 0.0363, 0.2314, 0.1479, 0.2393, 0.1939, 0.532, 0.6039, 0.1285, 0.0538, 0.0327, 0.0181, 0.0183, 0.5164, 0.6099, 0.1534, 0.5528, 0.0136, 0.0666, 0.1236, 0.0296, 0.8026, 0.1096, 0.03, 0.0107, 0.0184, 0.7884, 0.0207, 0.0305, 0.0273, 0.5433, 0.0297, 0.1931, 0.5532, 0.0314, 0.0619, 0.293, 0.9645, 0.083, 0.0664, 0.029, 0.1157, 0.5214, 0.6345, 0.0639, 0.0345, 0.6521, 0.0233, 0.1943, 0.1848, 0.9685, 0.0697, 0.5976, 0.9198, 0.8178, 0.5236, 0.197, 0.1242, 0.0143, 0.1946, 0.0818, 0.0692, 0.1196, 0.5269, 0.1667, 0.1987, 0.0153, 0.567, 0.122, 0.0147, 0.1049, 0.2032, 0.0542, 0.0146, 0.0721, 0.0421, 0.0191, 0.0657, 0.0487, 0.6532, 0.2549, 0.0598, 0.0522, 0.5792, 0.5482, 0.2503, 0.1354, 0.5095, 0.6401, 0.5498, 0.12, 0.5094, 0.0143, 0.0327, 0.5454, 0.1283, 0.1399, 0.5793, 0.0217, 0.0149, 0.7542, 0.5878, 0.1182, 0.0142, 0.7403, 0.5141, 0.5305, 0.0207, 0.6253, 0.5142, 0.5411, 0.0231, 0.9495, 0.0947, 0.1554, 0.0608, 0.5368, 0.2077, 0.5148, 0.0435, 0.1807, 0.0603, 0.0505, 0.508, 0.522, 0.0295, 0.5296, 0.0467, 0.0718, 0.0275, 0.1928, 0.0657, 0.1813, 0.604, 0.0689, 0.5482, 0.7604, 0.5508, 0.0288, 0.2408, 0.0299, 0.5446, 0.9855, 0.0252, 0.0181, 0.1747, 0.5539, 0.5511, 0.7288, 0.9562, 0.0219, 0.1199, 0.5288, 0.5514, 0.0868, 0.0221, 0.0262, 0.5331, 0.5219, 0.5486, 0.0269, 0.5324, 0.5313, 0.1035, 0.1153, 0.0115, 0.1447, 0.0179, 0.6066, 0.0171, 0.0301, 0.0125, 0.0828, 0.5823, 0.101, 0.8013, 0.0335, 0.5948, 0.5406, 0.015, 0.0921, 0.0219, 0.048, 0.0665, 0.0901, 0.0405, 0.6387, 0.1021, 0.0333, 0.0254, 0.0124, 0.1289, 0.7065, 0.0959, 0.1665, 0.8604, 0.0846, 0.0133, 0.0205, 0.5038, 0.2177, 0.0268, 0.0342, 0.5755, 0.8079, 0.5436, 0.0557, 0.9442, 0.2699, 0.0484, 0.5262, 0.0804, 0.0167, 0.5015, 0.0122, 0.033, 0.5251, 0.57, 0.5393, 0.0592, 0.522, 0.0131, 0.1699, 0.7739, 0.0231, 0.1339, 0.0199, 0.0111, 0.0266, 0.0263, 0.1944, 0.0864, 0.0231, 0.1675, 0.1013, 0.1583, 0.0194, 0.5072, 0.041, 0.069, 0.5393, 0.2056, 0.071, 0.0131, 0.0347, 0.5148, 0.5048, 0.1106, 0.2357, 0.5922, 0.0334, 0.1119, 0.0309, 0.9086, 0.51, 0.0653, 0.0311, 0.5656, 0.0165, 0.1411, 0.5338, 0.0343, 0.0172, 0.7365, 0.5648, 0.9687, 0.5069, 0.1484, 0.5812, 0.0254, 0.6511, 0.1107, 0.8879, 0.0326, 0.5084, 0.856, 0.6892, 0.0198, 0.0693, 0.03, 0.6516, 0.0441, 0.626, 0.7969, 0.0241, 0.8035, 0.2424, 0.0457, 0.0172, 0.0229, 0.5127, 0.0099, 0.0743, 0.0494, 0.1888, 0.5465, 0.0497, 0.1046, 0.5297, 0.5778, 0.0404, 0.0783, 0.0202, 0.0142, 0.1831, 0.222, 0.629, 0.0651, 0.5323, 0.5002, 0.8216, 0.9977, 0.5188, 0.5179, 0.151, 0.0508, 0.1058, 0.0394, 0.9739, 0.2467, 0.5537, 0.5088, 0.577, 0.5625, 0.178, 0.2317, 0.1169, 0.1173, 0.2228, 0.1138, 0.0991, 0.0807, 0.5414, 0.0214, 0.548, 0.5708, 0.0438, 0.0449, 0.0192, 0.5146, 0.5107, 0.0229, 0.6549, 0.7729, 0.5245, 0.0253, 0.0218, 0.6, 0.5503, 0.7878, 0.0322, 0.0554, 0.9188, 0.5207, 0.9813, 0.0323, 0.0164, 0.215, 0.141, 0.192, 0.8124, 0.9945, 0.0804, 0.0575, 0.7778, 0.2189, 0.0519, 0.5038, 0.0294, 0.0658, 0.1496, 0.2636, 0.5078, 0.552, 0.0172, 0.1265, 0.0227, 0.0359, 0.9969, 0.936, 0.716, 0.193, 0.5556, 0.1206, 0.796, 0.1351, 0.5506, 0.0335, 0.0289, 0.829, 0.0674, 0.0214, 0.094, 0.011, 0.0238, 0.0527, 0.6318, 0.0749, 0.0426, 0.5309, 0.5804, 0.0476, 0.2761, 0.8823, 0.5301, 0.2228, 0.0288, 0.9697, 0.2181, 0.1732, 0.6062, 0.8901, 0.6444, 0.5233, 0.5054, 0.7816, 0.5057, 0.1213, 0.5957, 0.539, 0.0165, 0.0199, 0.0285, 0.0294, 0.2256, 0.0442, 0.9482, 0.5301, 0.028, 0.0134, 0.6517, 0.0253, 0.5309, 0.5694, 0.2212, 0.2314, 0.9323, 0.8882, 0.0221, 0.0129, 0.032, 0.2116, 0.0892, 0.0468, 0.7953, 0.0486, 0.6679, 0.1979, 0.2391, 0.1108, 0.6503, 0.1076, 0.0157, 0.0198, 0.0143, 0.0135, 0.1008, 0.1586, 0.5616, 0.6142, 0.016, 0.0579, 0.619, 0.9659, 0.5116, 0.5954, 0.0566, 0.0437, 0.5757, 0.037, 0.0739, 0.9532, 0.5761, 0.612, 0.0329, 0.0345, 0.0579, 0.1481, 0.034, 0.7687, 0.5745, 0.5603, 0.08, 0.5437, 0.0224, 0.0226, 0.5117, 0.0151, 0.0168, 0.2374, 0.0271, 0.0144, 0.0965, 0.6868, 0.1049, 0.5209, 0.0957, 0.2735, 0.0112, 0.5308, 0.9419, 0.2131, 0.5738, 0.6634, 0.0934, 0.0302, 0.0501, 0.5252, 0.0242, 0.5257, 0.5555, 0.6382, 0.0329, 0.0342, 0.5302, 0.6834, 0.0226, 0.519, 0.517, 0.9885, 0.1679, 0.6382, 0.8308, 0.8233, 0.028, 0.1273, 0.1604, 0.2509, 0.5478, 0.0191, 0.9831, 0.1037, 0.0299, 0.0867, 0.574, 0.1182, 0.1094, 0.5728, 0.0732, 0.0425, 0.6496, 0.0112, 0.1089, 0.0775, 0.263, 0.5376, 0.5329, 0.8697, 0.0446, 0.5661, 0.0218, 0.1965, 0.1628, 0.0671, 0.7703, 0.5467, 0.1917, 0.0189, 0.0215, 0.0498, 0.0308, 0.9918, 0.5485, 0.1027, 0.1203, 0.0246, 0.109, 0.1096, 0.0437, 0.2381, 0.0732, 0.6142, 0.0137, 0.5745, 0.0282, 0.0142, 0.6287, 0.6163, 0.1027, 0.0577, 0.0269, 0.0498, 0.5124, 0.0366, 0.1906, 0.0899, 0.0183, 0.0581, 0.5686, 0.0946, 0.6321, 0.8425, 0.1268, 0.6641, 0.1484, 0.5356, 0.5292, 0.0532, 0.545, 0.2101, 0.1065, 0.1248, 0.6777, 0.5386, 0.1181, 0.2391, 0.0132, 0.2079, 0.1672, 0.0459, 0.1902, 0.0376, 0.5539, 0.028, 0.5953, 0.0704, 0.2619, 0.0922, 0.039, 0.0155, 0.0922, 0.1472, 0.5263, 0.1807, 0.028, 0.0218, 0.0314, 0.5661, 0.0588, 0.1281, 0.124, 0.2778, 0.0516, 0.5642, 0.0733, 0.1063, 0.0137, 0.2163, 0.0502, 0.0821, 0.0826, 0.0342, 0.554, 0.0356, 0.0137, 0.6391, 0.7869, 0.8594, 0.0528, 0.0634, 0.0999, 0.5334, 0.0167, 0.0138, 0.5184, 0.0368, 0.0239, 0.5185, 0.5038, 0.1053, 0.0304, 0.0419, 0.7168, 0.5347, 0.026, 0.0466, 0.1159, 0.174, 0.9626, 0.662, 0.5497, 0.5055, 0.0133, 0.0131, 0.6653, 0.5742, 0.0354, 0.5239, 0.0181, 0.2223, 0.2228, 0.7899, 0.9631, 0.184, 0.2801, 0.1148, 0.9941, 0.026, 0.0335, 0.5211, 0.0219, 0.1722, 0.5337, 0.0393, 0.0241, 0.5162, 0.0476, 0.098, 0.5354, 0.0516, 0.5695, 0.0331, 0.023, 0.5621, 0.0886, 0.2033, 0.8669, 0.1785, 0.5261, 0.0201, 0.0617, 0.0316, 0.5402, 0.0166, 0.0569, 0.0413, 0.0192, 0.5763, 0.0596, 0.7478, 0.0689, 0.1049, 0.948, 0.5272, 0.5923, 0.0428, 0.9149, 0.8789, 0.1428, 0.0343, 0.1772, 0.5412, 0.015, 0.2079, 0.5288, 0.1895, 0.6284, 0.0191, 0.0155, 0.6696, 0.0128, 0.0978, 0.1026, 0.1449, 0.0135, 0.56, 0.5853, 0.0136, 0.107, 0.5437, 0.583, 0.6614, 0.1238, 0.5503, 0.1894, 0.0198, 0.5621, 0.1305, 0.0226, 0.1554, 0.0878, 0.0332, 0.1641, 0.56, 0.1656, 0.0728, 0.926, 0.5273, 0.0309, 0.0156, 0.0765, 0.0455, 0.5257, 0.0169, 0.117, 0.5262, 0.1745, 0.011, 0.5926, 0.0256, 0.0712, 0.199, 0.033, 0.0239, 0.2192, 0.0742, 0.5781, 0.6993, 0.1995, 0.1843, 0.142, 0.0138, 0.5429, 0.5702, 0.2249, 0.559, 0.1468, 0.0115, 0.2397, 0.1171, 0.074, 0.1901, 0.0936, 0.5557, 0.088, 0.0569, 0.0794, 0.1154, 0.016, 0.9583, 0.2026, 0.5175, 0.1357, 0.5032, 0.5386, 0.1352, 0.5738, 0.5218, 0.5245, 0.5136, 0.505, 0.0934, 0.0257, 0.0165, 0.069, 0.1273, 0.5069, 0.0807, 0.2149, 0.0766, 0.0467, 0.0382, 0.1784, 0.5237, 0.0236, 0.5206, 0.9614, 0.0429, 0.6149, 0.0864, 0.0678, 0.1015, 0.6704, 0.0133, 0.9088, 0.1994, 0.0744, 0.5444, 0.7767, 0.0264, 0.0137, 0.6406, 0.3072, 0.6787, 0.1996, 0.5338, 0.5025, 0.545, 0.2552, 0.0202, 0.7054, 0.0183, 0.5123, 0.0204, 0.8072, 0.0526, 0.2106, 0.1747, 0.0164, 0.1685, 0.5656, 0.1366, 0.0243, 0.6765, 0.1158, 0.1611, 0.5948, 0.0318, 0.1204, 0.5279, 0.0543, 0.0251, 0.1634, 0.5358, 0.1526, 0.6431, 0.5855, 0.157, 0.0146, 0.2573, 0.53, 0.0139, 0.5117, 0.2917, 0.9042, 0.0418, 0.8291, 0.0552, 0.0369, 0.0117, 0.9509, 0.7157, 0.0127, 0.0822, 0.0104, 0.058, 0.1558, 0.5151, 0.5201, 0.0741, 0.9862, 0.0216, 0.1172, 0.7928, 0.0117, 0.1284, 0.5364, 0.221, 0.1954, 0.1743, 0.5339, 0.6864, 0.6735, 0.5105, 0.1694, 0.1453, 0.0599, 0.0114, 0.0273, 0.0415, 0.7378, 0.1536, 0.2121, 0.0631, 0.5073, 0.0437, 0.0594, 0.8731, 0.6914, 0.5644, 0.5552, 0.1738, 0.0139, 0.1137, 0.0376, 0.9001, 0.017, 0.0449, 0.1959, 0.5229, 0.0226, 0.0101, 0.1215, 0.5628, 0.8116, 0.6006, 0.0531, 0.1516, 0.2398, 0.8172, 0.0368, 0.2231, 0.65, 0.5663, 0.095, 0.9155, 0.0293, 0.0898, 0.8301, 0.1332, 0.0137, 0.5541, 0.106, 0.0283, 0.5738, 0.033, 0.1744, 0.0259, 0.1364, 0.0128, 0.039, 0.0637, 0.0702, 0.054, 0.0451, 0.0412, 0.0644, 0.0418, 0.0156, 0.0357, 0.0412, 0.0199, 0.0112, 0.2395, 0.9802, 0.1508, 0.0182, 0.0124, 0.5677, 0.606, 0.0818, 0.6681, 0.6722, 0.0724, 0.5752, 0.0658, 0.0137, 0.8188, 0.1487, 0.5594, 0.2161, 0.3083, 0.1646, 0.0249, 0.5714, 0.0724, 0.0337, 0.2595, 0.5065, 0.5341, 0.1087, 0.7696, 0.5415, 0.0849, 0.042, 0.102, 0.5384, 0.0334, 0.0136, 0.5502, 0.1733, 0.1782, 0.0134, 0.0737, 0.6172, 0.1656, 0.8457, 0.033, 0.8669, 0.0485, 0.9782, 0.0116, 0.0338, 0.1362, 0.9457, 0.892, 0.0136, 0.0356, 0.018, 0.1414, 0.5229, 0.0125, 0.9888, 0.8104, 0.664, 0.5087, 0.6169, 0.1351, 0.5987, 0.1955, 0.0482, 0.1099, 0.5084, 0.5714, 0.0336, 0.5016, 0.247, 0.0119, 0.0678, 0.0124, 0.549, 0.5116, 0.0573, 0.6576, 0.0631, 0.1239, 0.5401, 0.0356, 0.5381, 0.0594, 0.0127, 0.7204, 0.0706, 0.0552, 0.1007, 0.2672, 0.3034, 0.0138, 0.1967, 0.6881, 0.0214, 0.5954, 0.0562, 0.0401, 0.211, 0.1428, 0.1555, 0.0123, 0.1474, 0.0369, 0.5942, 0.1273, 0.016, 0.021, 0.242, 0.5041, 0.9503, 0.02, 0.0651, 0.0245, 0.5259, 0.1254, 0.1538, 0.0755, 0.5901, 0.1491, 0.0337, 0.019, 0.5538, 0.1389, 0.0184, 0.0279, 0.5523, 0.6208, 0.1029, 0.0283, 0.0116, 0.5065, 0.1048, 0.2184, 0.0748, 0.5498, 0.0636, 0.2361, 0.0533, 0.5051, 0.0788, 0.0566, 0.6981, 0.9435, 0.0654, 0.5238, 0.1263, 0.0201, 0.0293, 0.2145, 0.1642, 0.555, 0.2724, 0.5118, 0.0209, 0.1222, 0.7274, 0.985, 0.0851, 0.0739, 0.02, 0.5516, 0.0175, 0.0425, 0.8565, 0.0303, 0.1025, 0.5254, 0.7997, 0.0643, 0.018, 0.1146, 0.0391, 0.6351, 0.5544, 0.7231, 0.1652, 0.1547, 0.0221, 0.0971, 0.0118, 0.6952, 0.5085, 0.0236, 0.3069, 0.0657, 0.6455, 0.2383, 0.9246, 0.0387, 0.7207, 0.58, 0.1111, 0.0301, 0.228, 0.0521, 0.1084, 0.7829, 0.0523, 0.0112, 0.1563, 0.2393, 0.0566, 0.0245, 0.6537, 0.234, 0.1, 0.014, 0.2103, 0.0752, 0.5534, 0.505, 0.0485, 0.6848, 0.2357, 0.6016, 0.0162, 0.0995, 0.0332, 0.0183, 0.0207, 0.081, 0.1249, 0.7673, 0.06, 0.0616, 0.0265, 0.931, 0.0441, 0.84, 0.0351, 0.0512, 0.098, 0.7972, 0.5534, 0.5414, 0.9556, 0.032, 0.6794, 0.5237, 0.0901, 0.1094, 0.7968, 0.011, 0.0962, 0.505, 0.0245, 0.5114, 0.1, 0.2499, 0.6342, 0.0206, 0.7064, 0.0315, 0.5673, 0.1692, 0.5054, 0.8146, 0.0228, 0.0195, 0.0169, 0.8424, 0.9659, 0.0221, 0.0129, 0.0128, 0.0231, 0.0414, 0.033, 0.0569, 0.6591, 0.0363, 0.0106, 0.7838, 0.875, 0.1165, 0.0504, 0.7635, 0.0207, 0.1585, 0.0192, 0.1149, 0.0144, 0.5532, 0.5301, 0.0795, 0.228, 0.0176, 0.5676, 0.1489, 0.0123, 0.8046, 0.0613, 0.606, 0.5902, 0.188, 0.0679, 0.9249, 0.0606, 0.0597, 0.5204, 0.0279, 0.23, 0.5786, 0.1994, 0.0267, 0.541, 0.018, 0.2665, 0.014, 0.5341, 0.6124, 0.5474, 0.0569, 0.0159, 0.0258, 0.9694, 0.0217, 0.5487, 0.095, 0.0183, 0.128, 0.012, 0.5414, 0.076, 0.7186, 0.5047, 0.581, 0.0379, 0.0152, 0.1895, 0.0166, 0.5675, 0.0215, 0.9396, 0.6518, 0.9096, 0.0586, 0.1145, 0.1478, 0.1191, 0.8545, 0.022, 0.0113, 0.9931, 0.1091, 0.6809, 0.5588, 0.0232, 0.5833, 0.0358, 0.6538, 0.6457, 0.1608, 0.0831, 0.5222, 0.5552, 0.0352, 0.0182, 0.6287, 0.5097, 0.5516, 0.0735, 0.1375, 0.5112, 0.214, 0.725, 0.1504, 0.1697, 0.5072, 0.1034, 0.0493, 0.663, 0.0128, 0.0167, 0.5382, 0.5206, 0.0159, 0.0456, 0.1917, 0.041, 0.9815, 0.0259, 0.6032, 0.0143, 0.0667, 0.0401, 0.9014, 0.9149, 0.6192, 0.0233, 0.5579, 0.0198, 0.0896, 0.3064, 0.6805, 0.879, 0.6266, 0.0224, 0.1076, 0.0858, 0.2104, 0.0343, 0.8353, 0.8501, 0.2299, 0.6517, 0.2471, 0.0302, 0.1908, 0.0515, 0.1265, 0.1912, 0.1097, 0.2451, 0.0319, 0.7077, 0.1978, 0.0511, 0.0898, 0.9549, 0.2275, 0.2178, 0.0526, 0.5473, 0.0288, 0.6428, 0.9578, 0.5846, 0.5794, 0.0288, 0.543, 0.0802, 0.0443, 0.7581, 0.1024, 0.5755, 0.0207, 0.0725, 0.5205, 0.1069, 0.0551, 0.106, 0.128, 0.0224, 0.5607, 0.2149, 0.1582, 0.5028, 0.1468, 0.244, 0.0108, 0.7957, 0.1849, 0.2544, 0.0954, 0.5452, 0.1192, 0.505, 0.1164, 0.2024, 0.189, 0.5242, 0.5848, 0.5474, 0.0135, 0.0508, 0.6353, 0.0995, 0.0133, 0.0139, 0.1108, 0.0136, 0.547, 0.5514, 0.0157, 0.0235, 0.0158, 0.0592, 0.0536, 0.0534, 0.1582, 0.0578, 0.2626, 0.0296, 0.0199, 0.2268, 0.0356, 0.0936, 0.8115, 0.2477, 0.9044, 0.0876, 0.0264, 0.0332, 0.2559, 0.0859, 0.0197, 0.1902, 0.0192, 0.9392, 0.0148, 0.0786, 0.1793, 0.0133, 0.1896, 0.0316, 0.1043]\"\n",
      "\n",
      "$user\n",
      "$user$url\n",
      "[1] \"http://46.101.121.83/group/12/\"\n",
      "\n",
      "$user$username\n",
      "[1] \"Miners\"\n",
      "\n",
      "$user$best_score\n",
      "[1] 0.8936\n",
      "\n",
      "$user$students\n",
      "[1] \"2016402000;2016402150;2017402060\"\n",
      "\n",
      "\n",
      "$competition\n",
      "[1] \"IE582-Test Data\"\n",
      "\n",
      "$auc\n",
      "[1] 0.9260965\n",
      "\n",
      "$ber\n",
      "[1] 0.8590132\n",
      "\n",
      "$score\n",
      "[1] 0.8925549\n",
      "\n",
      "$date\n",
      "[1] \"2021-02-14T17:31:22.527299+03:00\"\n",
      "\n"
     ]
    }
   ],
   "source": [
    "send_submission(last_num, token, url=subm_url, submit_now= submit_now)"
   ]
  },
  {
   "cell_type": "code",
   "execution_count": null,
   "metadata": {},
   "outputs": [],
   "source": []
  }
 ],
 "metadata": {
  "kernelspec": {
   "display_name": "R",
   "language": "R",
   "name": "ir"
  },
  "language_info": {
   "codemirror_mode": "r",
   "file_extension": ".r",
   "mimetype": "text/x-r-source",
   "name": "R",
   "pygments_lexer": "r",
   "version": "3.6.1"
  }
 },
 "nbformat": 4,
 "nbformat_minor": 4
}
